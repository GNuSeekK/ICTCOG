{
  "nbformat": 4,
  "nbformat_minor": 0,
  "metadata": {
    "colab": {
      "name": "4 - 05 [딥러닝] 출력층 설계하기.ipynb",
      "provenance": [],
      "collapsed_sections": [],
      "mount_file_id": "1bTEHTVkej6o6ZE85IJ5AHAlckF2wEhhg",
      "authorship_tag": "ABX9TyMvpWsMNjTP+ZwI4mYjb5pS",
      "include_colab_link": true
    },
    "kernelspec": {
      "name": "python3",
      "display_name": "Python 3"
    },
    "language_info": {
      "name": "python"
    }
  },
  "cells": [
    {
      "cell_type": "markdown",
      "metadata": {
        "id": "view-in-github",
        "colab_type": "text"
      },
      "source": [
        "<a href=\"https://colab.research.google.com/github/GNuSeekK/ICTCOG/blob/main/4_05_%5B%EB%94%A5%EB%9F%AC%EB%8B%9D%5D_%EC%B6%9C%EB%A0%A5%EC%B8%B5_%EC%84%A4%EA%B3%84%ED%95%98%EA%B8%B0.ipynb\" target=\"_parent\"><img src=\"https://colab.research.google.com/assets/colab-badge.svg\" alt=\"Open In Colab\"/></a>"
      ]
    },
    {
      "cell_type": "markdown",
      "metadata": {
        "id": "sLhG7y7yS7Ln"
      },
      "source": [
        "# 신경망의 사용처\n",
        "**출력층의 활성화 함수에 따라서 신경망의 성질이 변화된다.**\n",
        "* 분류를 할지 / 회귀를 할지에 대한 결정을 출력층의 활성화 함수가 결정 지어 준다."
      ]
    },
    {
      "cell_type": "markdown",
      "metadata": {
        "id": "P-NCc50yTEX5"
      },
      "source": [
        "## 신경망의 분류와 회귀\n",
        "* 회귀\n",
        "    * 출력층의 뉴런이 1개만 있어야 한다\n",
        "    * **항등 함수**를 사용하면 회귀가 된다.\n",
        "* 분류\n",
        "    * 출력층의 뉴런의 개수는 분류할 클래스의 개수와 같으면 된다.\n",
        "        * 강아지, 고양이, 말을 분류하는 신경망 => 뉴런 3개\n",
        "        * MNIST 손글씨 데이터 세트를 분류하려면 : 10\n",
        "    * 시그모이드 함수\n",
        "        * 출력층의 뉴런이 1개일 때만 사용\n",
        "        * 결괏값을 확률로 표현하고 싶을 때 사용\n",
        "    * **소프트맥스 함수**\n",
        "        * 분류 문제를 해결할 때 메인이 되는 출력층의 활성화 함수"
      ]
    },
    {
      "cell_type": "markdown",
      "metadata": {
        "id": "9uDi3gXaT6E4"
      },
      "source": [
        "# 소프트맥스 함수\n",
        "$$\n",
        "y_k = \\frac{e^{z_k}}{\\sum_{i=1}^{k} e^{z_i}}\n",
        "$$\n",
        "\n",
        "* $k$ : $k$번째 출력 ( 클래스 번호 ) 0, 1, 2 ....\n",
        "* $z$ : 출력층에 있는 뉴런의 $WX+b$ 연산\n",
        "* $n$ : 전체 클래스의 개수"
      ]
    },
    {
      "cell_type": "code",
      "metadata": {
        "colab": {
          "base_uri": "https://localhost:8080/"
        },
        "id": "RL0xX5BhZh0w",
        "outputId": "4feac32f-15b1-4a0a-8369-9c073f96fc2d"
      },
      "source": [
        "import numpy as np\n",
        "\n",
        "z = np.array([0.3, 2.9, 4.0])\n",
        "\n",
        "# 분자 부분 계산\n",
        "exp_z = np.exp(z)\n",
        "\n",
        "# 분모 부분 계산\n",
        "sum_exp_z = np.sum(exp_z)\n",
        "\n",
        "# 나누기\n",
        "y = exp_z / sum_exp_z\n",
        "###############\n",
        "print(f'softmax의 결과 : {y}')"
      ],
      "execution_count": null,
      "outputs": [
        {
          "output_type": "stream",
          "text": [
            "softmax의 결과 : [0.01821127 0.24519181 0.73659691]\n"
          ],
          "name": "stdout"
        }
      ]
    },
    {
      "cell_type": "code",
      "metadata": {
        "colab": {
          "base_uri": "https://localhost:8080/"
        },
        "id": "wRy7-ERGb1bm",
        "outputId": "a24542d5-aff4-4d22-f118-a17bb473984a"
      },
      "source": [
        "print(f'softmax 결과의 총합 : {np.sum(y)}')"
      ],
      "execution_count": null,
      "outputs": [
        {
          "output_type": "stream",
          "text": [
            "softmax 결과의 총합 : 1.0\n"
          ],
          "name": "stdout"
        }
      ]
    },
    {
      "cell_type": "markdown",
      "metadata": {
        "id": "sxNjDLH-cWUJ"
      },
      "source": [
        "## softmax의 특징\n",
        "1. 어떠한 실수 배열이 osftmax를 지나게 되면 그 배열의 총합은 언제나 1.0이 된다.\n",
        "2. 총 합이 1.0이라는 것의 특징 : 각각의 클래스로 분류될 **확률**로 해석이 가능하다.\n",
        "-----\n",
        "$\\sigma$함수, softmax함수의 가장 큰 차이\n",
        "> $\\sigma$ 함수는 이진 분류(binary classification)의 확률 <br/>softmax함수는 다중 분류(multiclass classification)의 확률\n",
        "\n",
        "**softmax 함수는 단조함수이다**\n",
        "\n",
        "데이터 a,b,c가 있고, $a < c < b$ 이고, 함수 $f(x)$가 있을 때 $f(a) < f(c) < f(b)$를 만족하면 함수 f는 단조함수 이다."
      ]
    },
    {
      "cell_type": "markdown",
      "metadata": {
        "id": "qcqYnfg-duoa"
      },
      "source": [
        "softmax는 단조함수 이기 때문에, **추론과정(predict)에서는 softmax를 넣지 않기도 한다.** 왜냐하면 어차피 뉴런의 계산($WX+b$)의 값이 제일 큰 뉴런으로 분류가 결정 될 것이 때문에.\n",
        "\n",
        "**학습**시에는 softmax가 필수적으로 사용 되어야 한다. 이유는? **손실값(Loss)**을 구해야 하기 때문에...."
      ]
    },
    {
      "cell_type": "code",
      "metadata": {
        "id": "lXZ0m89SeFj2"
      },
      "source": [
        "def softmax(z):\n",
        "  exp_z = np.exp(z) # 분자\n",
        "  sum_exp_z = np.sum(exp_z) # 분모\n",
        "  y = exp_z / sum_exp_z\n",
        "\n",
        "  return y"
      ],
      "execution_count": null,
      "outputs": []
    },
    {
      "cell_type": "code",
      "metadata": {
        "colab": {
          "base_uri": "https://localhost:8080/"
        },
        "id": "FAKej6Uxezwp",
        "outputId": "b69152c0-6cf6-4036-8b91-b2e83e577093"
      },
      "source": [
        "z = np.array([0.3, 2.9, 4.0])\n",
        "softmax(z)"
      ],
      "execution_count": null,
      "outputs": [
        {
          "output_type": "execute_result",
          "data": {
            "text/plain": [
              "array([0.01821127, 0.24519181, 0.73659691])"
            ]
          },
          "metadata": {
            "tags": []
          },
          "execution_count": 4
        }
      ]
    },
    {
      "cell_type": "markdown",
      "metadata": {
        "id": "FLqMFsqAe4uM"
      },
      "source": [
        "# 소프트맥스 함수의 튜닝\n",
        "* 소프트맥스 함수는 자연상수 $e$의 지수 함수\n",
        "* 입력값이 약간만 커져도 굉장히 큰 값을 연산 한다.\n",
        "* 예시\n",
        "  * $e^{10}$만 되어도 20000이 넘는 수\n",
        "  * $e^{100}$은 0이 40개가 넘는 큰 숫자\n",
        "  * $e^{1000}$은 무한대를 의미하는 `inf`\n"
      ]
    },
    {
      "cell_type": "code",
      "metadata": {
        "colab": {
          "base_uri": "https://localhost:8080/"
        },
        "id": "sLV9kFoKfE6F",
        "outputId": "03981648-d5e1-4ce7-c65f-37901e96b7ba"
      },
      "source": [
        "big_z = [1000, 900, 1100]\n",
        "softmax(big_z)"
      ],
      "execution_count": null,
      "outputs": [
        {
          "output_type": "stream",
          "text": [
            "/usr/local/lib/python3.7/dist-packages/ipykernel_launcher.py:2: RuntimeWarning: overflow encountered in exp\n",
            "  \n",
            "/usr/local/lib/python3.7/dist-packages/ipykernel_launcher.py:4: RuntimeWarning: invalid value encountered in true_divide\n",
            "  after removing the cwd from sys.path.\n"
          ],
          "name": "stderr"
        },
        {
          "output_type": "execute_result",
          "data": {
            "text/plain": [
              "array([nan, nan, nan])"
            ]
          },
          "metadata": {
            "tags": []
          },
          "execution_count": 5
        }
      ]
    },
    {
      "cell_type": "markdown",
      "metadata": {
        "id": "XXY3aPw3fLmv"
      },
      "source": [
        "제일 큰 수를 기준으로 나머지 원소들을 빼준 값으로 소프트맥스를 구해주면 된다."
      ]
    },
    {
      "cell_type": "code",
      "metadata": {
        "colab": {
          "base_uri": "https://localhost:8080/"
        },
        "id": "yae0_J2dcfFS",
        "outputId": "52f0d4ec-bb65-40b8-b122-90360fff4410"
      },
      "source": [
        "# 제일 큰 수 구하기 (상수 c로 명칭)\n",
        "c = np.max(big_z)\n",
        "print(big_z -c)"
      ],
      "execution_count": null,
      "outputs": [
        {
          "output_type": "stream",
          "text": [
            "[-100 -200    0]\n"
          ],
          "name": "stdout"
        }
      ]
    },
    {
      "cell_type": "code",
      "metadata": {
        "colab": {
          "base_uri": "https://localhost:8080/"
        },
        "id": "CGHaOCSHfrzL",
        "outputId": "6818a278-6329-47a5-f375-4c471a364ef1"
      },
      "source": [
        "# 튜닝된 소프트맥스 함수\n",
        "def softmax(z):\n",
        "    c = np.max(z) # 상수로 결정되는 C는 원소들 중 제일 큰 값을 기준으로 한다.\n",
        "\n",
        "    exp_z = np.exp(z-c)\n",
        "    sum_exp_z = np.sum(exp_z)\n",
        "\n",
        "    y = exp_z / sum_exp_z\n",
        "    \n",
        "    return y\n",
        "\n",
        "softmax(big_z)"
      ],
      "execution_count": null,
      "outputs": [
        {
          "output_type": "execute_result",
          "data": {
            "text/plain": [
              "array([3.72007598e-44, 1.38389653e-87, 1.00000000e+00])"
            ]
          },
          "metadata": {
            "tags": []
          },
          "execution_count": 7
        }
      ]
    },
    {
      "cell_type": "markdown",
      "metadata": {
        "id": "5NaqRUKnSNro"
      },
      "source": [
        "# 출력층의 뉴런 수 정하기\n",
        "* 출력층의 뉴런 개수는 **분류하고 싶은 클래스의 개수대로 설정**\n",
        "  * `고양이, 강아지, 말`을 분류하는 모델을 만들려면 : 3개\n",
        "  * `강아지, 고양이`를 분류하는 모델을 만들려면? : 2개 일 수도 있고, 1개 일 수도 있다.\n",
        "    * 2개를 놓을 때는 softmax 함수를 출력 함수로 사용\n",
        "    * 1개를 놓을 때는 sigmoid 함수를 출력 함수로 사용"
      ]
    },
    {
      "cell_type": "markdown",
      "metadata": {
        "id": "UWBLGRg35QMh"
      },
      "source": [
        "# MNIST 손글씨 데이터셋 추론 모델 만들기\n",
        "* `sample_weight.pkl` 파일에 이미 학습된 가중치 / 편향이 들어있다.\n",
        "* 신경망의 학습은 최적의 가중치와 편향을 학습하는 것"
      ]
    },
    {
      "cell_type": "markdown",
      "metadata": {
        "id": "72IhOhlQf2VZ"
      },
      "source": [
        "Tensorflow MNIST 데이터 가져오기"
      ]
    },
    {
      "cell_type": "code",
      "metadata": {
        "id": "MS_r6fcH526H"
      },
      "source": [
        "from tensorflow.keras import datasets\n",
        "import matplotlib.pyplot as plt"
      ],
      "execution_count": null,
      "outputs": []
    },
    {
      "cell_type": "code",
      "metadata": {
        "colab": {
          "base_uri": "https://localhost:8080/"
        },
        "id": "IE_HI5r46bKQ",
        "outputId": "dba38598-9699-4033-c124-8a012ad5790e"
      },
      "source": [
        "mnist = datasets.mnist\n",
        "(X_train, y_train), (X_test, y_test) = mnist.load_data()"
      ],
      "execution_count": null,
      "outputs": [
        {
          "output_type": "stream",
          "text": [
            "Downloading data from https://storage.googleapis.com/tensorflow/tf-keras-datasets/mnist.npz\n",
            "11493376/11490434 [==============================] - 0s 0us/step\n"
          ],
          "name": "stdout"
        }
      ]
    },
    {
      "cell_type": "markdown",
      "metadata": {
        "id": "XVWGrEnD6bUv"
      },
      "source": [
        "⭐⭐⭐데이터의 형상(`shape`) 부터 확인하기⭐⭐⭐"
      ]
    },
    {
      "cell_type": "code",
      "metadata": {
        "colab": {
          "base_uri": "https://localhost:8080/"
        },
        "id": "jhxPaNwJ6nTN",
        "outputId": "5a90bd2d-d4f4-4f74-eb41-6ad2abd4f509"
      },
      "source": [
        "X_train.shape, y_train.shape"
      ],
      "execution_count": null,
      "outputs": [
        {
          "output_type": "execute_result",
          "data": {
            "text/plain": [
              "((60000, 28, 28), (60000,))"
            ]
          },
          "metadata": {
            "tags": []
          },
          "execution_count": 10
        }
      ]
    },
    {
      "cell_type": "markdown",
      "metadata": {
        "id": "GVVbvL6V6ouU"
      },
      "source": [
        "`(60000, 28, 28)` : `(이미지 개수, 세로크기, 가로크기)`"
      ]
    },
    {
      "cell_type": "code",
      "metadata": {
        "colab": {
          "base_uri": "https://localhost:8080/"
        },
        "id": "Q3jWwWGf6uYM",
        "outputId": "570efc01-4349-4019-ffd6-a7a592554995"
      },
      "source": [
        "image = X_train[0]\n",
        "image.shape"
      ],
      "execution_count": null,
      "outputs": [
        {
          "output_type": "execute_result",
          "data": {
            "text/plain": [
              "(28, 28)"
            ]
          },
          "metadata": {
            "tags": []
          },
          "execution_count": 13
        }
      ]
    },
    {
      "cell_type": "code",
      "metadata": {
        "colab": {
          "base_uri": "https://localhost:8080/",
          "height": 299
        },
        "id": "YOVRXQ707Bgf",
        "outputId": "97caf274-fe31-4aa6-a4f2-72b422bf33eb"
      },
      "source": [
        "# matplotlib 이미지 시각화\n",
        "plt.imshow(image, 'gray')\n",
        "plt.title(y_train[0])"
      ],
      "execution_count": null,
      "outputs": [
        {
          "output_type": "execute_result",
          "data": {
            "text/plain": [
              "Text(0.5, 1.0, '5')"
            ]
          },
          "metadata": {
            "tags": []
          },
          "execution_count": 14
        },
        {
          "output_type": "display_data",
          "data": {
            "image/png": "[encoded data removed]",
            "text/plain": [
              "<Figure size 432x288 with 1 Axes>"
            ]
          },
          "metadata": {
            "tags": [],
            "needs_background": "light"
          }
        }
      ]
    },
    {
      "cell_type": "markdown",
      "metadata": {
        "id": "qi80IRbZ7HiS"
      },
      "source": [
        "**데이터를 신경망에 넣을 준비**\n",
        "* 훈련, 테스트 모두 동일한 데이터의 **feature의 개수**를 가져야 한다.\n",
        "    * `X_train.shape : (60000,28,28)`, `X_test.shape : (10000,28,28)`\n",
        "    * `(이미지개수, 세로크기, 가로크기)` : `X_train`과 `X_test`의 세로 크기와 가로 크기의 개수가 일치해야 한다.\n",
        "* 우리가 사용하고 있는 신경망은 평평하게 펴진 1차원 배열을 입력으로 받고 있다.\n",
        "    * **평탄화(Flatten)** : 평평하게 하는 과정\n",
        "* 평평하게 펴진 데이터를 입력으로 받아서 예측을 수행하는 레이어\n",
        "    * 신경망 프레임워크(Tensorflow, Pytorch) - `Dense Layer`\n",
        "    * 기하학(행렬 내적에 관련..) - `Affine Layer`\n",
        "    * 논문이나 통합적으로 이야기 할 때 - `F.C layer` (Fully Connected Layer) 전결합(완전연결)계층"
      ]
    },
    {
      "cell_type": "markdown",
      "metadata": {
        "id": "7iEVZiWH72UI"
      },
      "source": [
        "**신경망에 들어가는 형태로 배열 편집**"
      ]
    },
    {
      "cell_type": "code",
      "metadata": {
        "colab": {
          "base_uri": "https://localhost:8080/"
        },
        "id": "eDvZ3X_B767z",
        "outputId": "28f2670b-293c-4547-810e-1b9cf1d84d72"
      },
      "source": [
        "# 1. numpy의 flatten을 이용한 평탄화\n",
        "image = X_train[0].flatten()\n",
        "image.shape"
      ],
      "execution_count": null,
      "outputs": [
        {
          "output_type": "execute_result",
          "data": {
            "text/plain": [
              "(784,)"
            ]
          },
          "metadata": {
            "tags": []
          },
          "execution_count": 15
        }
      ]
    },
    {
      "cell_type": "code",
      "metadata": {
        "colab": {
          "base_uri": "https://localhost:8080/"
        },
        "id": "Z544v98fDjIK",
        "outputId": "0023d00a-bbc8-4258-aab0-71de6d936e03"
      },
      "source": [
        "# 2. ravel을 활용한 평탄화 (잘 사용 안됨 ∵ 원본 이미지가 훼손될 우려)\n",
        "image = np.ravel(X_train[0])\n",
        "image.shape"
      ],
      "execution_count": null,
      "outputs": [
        {
          "output_type": "execute_result",
          "data": {
            "text/plain": [
              "(784,)"
            ]
          },
          "metadata": {
            "tags": []
          },
          "execution_count": 16
        }
      ]
    },
    {
      "cell_type": "code",
      "metadata": {
        "colab": {
          "base_uri": "https://localhost:8080/"
        },
        "id": "xQd7HgLbDzs7",
        "outputId": "1fa4f258-a48a-45ec-99ec-bae6e495da64"
      },
      "source": [
        "# 3. reshape를 이용한 평탄화 : 제일 많이 쓰임. 데이터의 개수를 의미하는 '배치'를 고려하여 평탄화 가능\n",
        "image = X_train[0].reshape(-1)\n",
        "image.shape"
      ],
      "execution_count": null,
      "outputs": [
        {
          "output_type": "execute_result",
          "data": {
            "text/plain": [
              "(784,)"
            ]
          },
          "metadata": {
            "tags": []
          },
          "execution_count": 17
        }
      ]
    },
    {
      "cell_type": "markdown",
      "metadata": {
        "id": "2lakyQr5EFOS"
      },
      "source": [
        "MNIST 손글씨 데이터세트를 위한 신경망 만들기 - Fully Connected Layer 방식\n",
        "* 학습 없이 추론만 가능"
      ]
    },
    {
      "cell_type": "code",
      "metadata": {
        "id": "sXHa0LkMEpgy"
      },
      "source": [
        "# 활성화 함수로 시그모이드\n",
        "def sigmoid(x):\n",
        "    return 1 / (1 + np.exp(-x))\n",
        "\n",
        "def get_test_data():\n",
        "    _, (X_test, y_test) = mnist.load_data()\n",
        "\n",
        "    # 단순히 X_test로 리턴하면 안된다.( 10000, 28, 28 )이기 때문에..\n",
        "\n",
        "    # 이미지 전체 개수\n",
        "    IMAGE_COUNT = X_test.shape[0] # shape의 0번째가 의미하는 것은 항상 전체 데이터의 개수\n",
        "\n",
        "    X_test_reshaped = X_test.reshape(IMAGE_COUNT, -1)\n",
        "\n",
        "    return X_test_reshaped, y_test\n",
        "    \n",
        "\n",
        "def init_network():\n",
        "    import pickle\n",
        "    with open('/content/drive/MyDrive/ICTCOG 인공지능과정/Data/sample_weight.pkl', 'rb') as f:\n",
        "        network = pickle.load(f)\n",
        "\n",
        "    return network\n",
        "\n",
        "def predict(network, x):\n",
        "    # 네트워크에 저장된 가중치와 편향\n",
        "    W1, W2, W3 = network['W1'], network['W2'], network['W3']\n",
        "    b1, b2, b3 = network['b1'], network['b2'], network['b3']\n",
        "\n",
        "    # 각 층은 입력되는 값과 해당층의 가중치와의 내적을 구하고 편향을 더한다\n",
        "    # 계산된 결과에 각 층의 활성화 함수를 씌워주고 다음층으로 넘겨준다.\n",
        "\n",
        "    # Layer 1 계산 ( input : x , 가중치 : W1 , 편향 : b1, 활성화 함수 : sigmoid, 출력 : A1 )\n",
        "    z1 = x @ W1 + b1\n",
        "    A1 = sigmoid(z1)\n",
        "\n",
        "    # Layer 2 계산 ( input : A1 , 가중치 : W2 , 편향 : b2, 활성화 함수 : sigmoid, 출력 : A2 )\n",
        "    z2 = A1 @ W2 + b2\n",
        "    A2 = sigmoid(z2)\n",
        "\n",
        "    # Layer 3 계산 ( input : A2 , 가중치 : W3 , 편향 : b3, 활성화 함수 : softmax, 출력 : y )\n",
        "    z3 = A2 @ W3 + b3\n",
        "    y = softmax(z3)\n",
        "\n",
        "    return y"
      ],
      "execution_count": null,
      "outputs": []
    },
    {
      "cell_type": "markdown",
      "metadata": {
        "id": "faEsAngWE0Af"
      },
      "source": [
        "## 데스트 데이터는 어떻게 가져와야 하는가?"
      ]
    },
    {
      "cell_type": "markdown",
      "metadata": {
        "id": "0xNl6d2aFIyP"
      },
      "source": [
        "\n",
        "### 신경망에 입력될 수 있는 형태로 가져와야 한다\n",
        "\n",
        "-----\n",
        "신경망에 이미지 데이터를 입력할 수 있는 경우 확인\n",
        "* 장수에 대한 정보 (데이터의 개수) 없이 세로(H), 가로(W) 픽셀의 정보만 있는 상황 : `(28,28)` - 입력이 불가(2차원 배열이라 못 들어간다)\n",
        "* 장수에 대한 정보 없이 2차원 이미지 배열을 **평탄화**시킨 상황 : `(784,)` - 입력을 일단 허용\n",
        "    * Tensorflow, PyTorch, Scikit-Learn 같은 머신러닝 라이브러리에서는 허용 하지 않는다.\n",
        "    * 1장만 넣더라도 `(1, 784)`로 만들어 줘야 정상적으로 작동\n",
        "-----\n",
        "Fully Connected Layer에 `60000`장의 `(28,28)`형식의 이미지 데이터를 넣고 싶은 경우, 즉 `(60000,28,28)` 데이터를 넣는 경우\n",
        "* 장수 데이터가 있는 상황에서 가로 세로 픽셀에 대한 정보만 있는 상황 : `(60000,28,28)` - 입력 불가\n",
        "* 장수 데이터가 있는 상황에서 **평탄화**시킨 상황 : `(60000,784)` : 입력 가능\n",
        "-----\n",
        "입력 되는 데이터의 차원이 `(N,M)` 이면 전결합 계층(F.C Layer)에 집어 넣을 수 있다.\n",
        "* `N` : BATCH_SIZE(데이터의 개수)\n",
        "* `M` : 데이터 스칼라의 개수\n",
        "    * 배치를 이야기 하지 않은 경우 : `(M,)`\n",
        "    * 배치를 이야기 한 경우 : `(N,M)`⭐⭐"
      ]
    },
    {
      "cell_type": "code",
      "metadata": {
        "colab": {
          "base_uri": "https://localhost:8080/"
        },
        "id": "Qryw7u9ZFlO-",
        "outputId": "8120889b-bcb3-4b8b-fa05-7c17e1692b6d"
      },
      "source": [
        "# 테스트 데이터를 신경망에 집어 넣을 수 있는 형식으로 작성\n",
        "X_test = X_test.reshape(10000,-1)\n",
        "X_test.shape"
      ],
      "execution_count": null,
      "outputs": [
        {
          "output_type": "execute_result",
          "data": {
            "text/plain": [
              "(10000, 784)"
            ]
          },
          "metadata": {
            "tags": []
          },
          "execution_count": 19
        }
      ]
    },
    {
      "cell_type": "code",
      "metadata": {
        "colab": {
          "base_uri": "https://localhost:8080/"
        },
        "id": "2hd3W8d6KJa5",
        "outputId": "e9c6dc78-3391-4554-bb53-bcda2dad1e28"
      },
      "source": [
        "network = init_network()\n",
        "\n",
        "W1, W2, W3 = network['W1'], network['W2'], network['W3']\n",
        "b1, b2, b3 = network['b1'], network['b2'], network['b3']\n",
        "\n",
        "print(W1.shape, W2.shape, W3.shape, end = '\\n\\n')\n",
        "print(b1.shape, b2.shape, b3.shape)"
      ],
      "execution_count": null,
      "outputs": [
        {
          "output_type": "stream",
          "text": [
            "(784, 50) (50, 100) (100, 10)\n",
            "\n",
            "(50,) (100,) (10,)\n"
          ],
          "name": "stdout"
        }
      ]
    },
    {
      "cell_type": "markdown",
      "metadata": {
        "id": "0HlT1V3hQfWG"
      },
      "source": [
        "* 1층\n",
        "    * input : 784\n",
        "    * output : 50 (neuron)\n",
        "* 2층\n",
        "    * input : 50\n",
        "    * output : 100 (neuron)\n",
        "* 3층\n",
        "    * input : 100\n",
        "    * output : 10 (neuron)\n"
      ]
    },
    {
      "cell_type": "markdown",
      "metadata": {
        "id": "RvL-yqRoUH6j"
      },
      "source": [
        "# 완성된 네트워크 확인하기\n",
        "\n",
        "1. 예측(predict)만 해보기"
      ]
    },
    {
      "cell_type": "code",
      "metadata": {
        "colab": {
          "base_uri": "https://localhost:8080/"
        },
        "id": "KtV2iKt8UK7B",
        "outputId": "562ad695-f65c-4bd3-f2f2-4937d8c7436d"
      },
      "source": [
        "# 네트워크 가져오기\n",
        "net = init_network()\n",
        "\n",
        "# 테스트 데이터 가져오기\n",
        "X, t = get_test_data()\n",
        "\n",
        "# 한장씩만 가져오기\n",
        "IMAGE_IDX = 0\n",
        "\n",
        "test_img, test_lbl = X[IMAGE_IDX], t[IMAGE_IDX]\n",
        "\n",
        "test_img.shape, test_lbl"
      ],
      "execution_count": null,
      "outputs": [
        {
          "output_type": "execute_result",
          "data": {
            "text/plain": [
              "((784,), 7)"
            ]
          },
          "metadata": {
            "tags": []
          },
          "execution_count": 34
        }
      ]
    },
    {
      "cell_type": "code",
      "metadata": {
        "colab": {
          "base_uri": "https://localhost:8080/"
        },
        "id": "9TC2dMn4USX_",
        "outputId": "f183b320-73bc-4aa8-c7b0-3237b7a80b35"
      },
      "source": [
        "# 테스트 이미지 시각화 해보기\n",
        "img_bokgu = test_img.reshape(28,28)\n",
        "img_bokgu.shape"
      ],
      "execution_count": null,
      "outputs": [
        {
          "output_type": "execute_result",
          "data": {
            "text/plain": [
              "(28, 28)"
            ]
          },
          "metadata": {
            "tags": []
          },
          "execution_count": 35
        }
      ]
    },
    {
      "cell_type": "code",
      "metadata": {
        "colab": {
          "base_uri": "https://localhost:8080/",
          "height": 281
        },
        "id": "hUyKWq8wUyyI",
        "outputId": "19e4e480-5a58-4e57-e3a3-8fc619404808"
      },
      "source": [
        "plt.imshow(img_bokgu, cmap = 'gray')\n",
        "plt.title(test_lbl)\n",
        "plt.show()"
      ],
      "execution_count": null,
      "outputs": [
        {
          "output_type": "display_data",
          "data": {
            "image/png": "[encoded data removed]",
            "text/plain": [
              "<Figure size 432x288 with 1 Axes>"
            ]
          },
          "metadata": {
            "tags": [],
            "needs_background": "light"
          }
        }
      ]
    },
    {
      "cell_type": "code",
      "metadata": {
        "colab": {
          "base_uri": "https://localhost:8080/"
        },
        "id": "LDUMvZNzU5bp",
        "outputId": "a400e341-2aa5-4430-c6d3-6153b0b0a850"
      },
      "source": [
        "test_result = predict(net, test_img)\n",
        "\n",
        "# test_result에는 softmax의 결과물이 들어있음\n",
        "#  test_result에 대한 10개 숫자의 각각의 확률이 들어있다!\n",
        "#  [0번클래스의확률, 1번클래스의확률, 2번클래스의확률, ... ,9번클래스의확률]\n",
        "\n",
        "print(\"예측된 softmax의 결과 : \\n{}\".format(test_result))\n",
        "print(\"예측된 label 확인 : {}\".format(np.argmax(test_result))) # argmax : 배열에서 가장 값이 큰 곳의 인덱스를 반환\n",
        "print(\"정답 : {}\".format(test_lbl))"
      ],
      "execution_count": null,
      "outputs": [
        {
          "output_type": "stream",
          "text": [
            "예측된 softmax의 결과 : \n",
            "[4.2879005e-06 4.5729317e-07 1.8486280e-04 8.3605024e-05 1.5084674e-07\n",
            " 6.3182205e-07 4.5782045e-10 9.9919468e-01 3.8066935e-07 5.3083024e-04]\n",
            "예측된 label 확인 : 7\n",
            "정답 : 7\n"
          ],
          "name": "stdout"
        },
        {
          "output_type": "stream",
          "text": [
            "/usr/local/lib/python3.7/dist-packages/ipykernel_launcher.py:3: RuntimeWarning: overflow encountered in exp\n",
            "  This is separate from the ipykernel package so we can avoid doing imports until\n"
          ],
          "name": "stderr"
        }
      ]
    },
    {
      "cell_type": "markdown",
      "metadata": {
        "id": "eBvCzfF9VYYy"
      },
      "source": [
        "# 신경망의 정확도 측정"
      ]
    },
    {
      "cell_type": "code",
      "metadata": {
        "colab": {
          "base_uri": "https://localhost:8080/"
        },
        "id": "6Mo3P7xVVgk-",
        "outputId": "bbae2258-9f72-4629-e7df-9aa96acbb8b0"
      },
      "source": [
        "X, t = get_test_data()\n",
        "\n",
        "net = init_network()\n",
        "acc_count = 0 # 정답을 맞춘 개수를 저장. 정답을 맞추면 카운트가 1씩 증가\n",
        "\n",
        "# X에서 사진을 한장씩 꺼내서 테스트\n",
        "\n",
        "for i in range(len(X)):\n",
        "  pred = predict(net, X[i]) # pred의 shape : (10, )\n",
        "  pred_result = np.argmax(pred) # 확률이 가장 높은 원소의 인덱스\n",
        "\n",
        "  acc_count += (pred_result == t[i]) # 정답이면 1씩 acc_count를 증가\n",
        "\n",
        "print(float(acc_count / len(X)))"
      ],
      "execution_count": null,
      "outputs": [
        {
          "output_type": "stream",
          "text": [
            "/usr/local/lib/python3.7/dist-packages/ipykernel_launcher.py:3: RuntimeWarning: overflow encountered in exp\n",
            "  This is separate from the ipykernel package so we can avoid doing imports until\n"
          ],
          "name": "stderr"
        },
        {
          "output_type": "stream",
          "text": [
            "0.9207\n"
          ],
          "name": "stdout"
        }
      ]
    },
    {
      "cell_type": "markdown",
      "metadata": {
        "id": "7EBVGCxysTUW"
      },
      "source": [
        "위 코드의 단점\n",
        "* 10,000장의 이미지를 한 장씩 예측하고 있다.\n",
        "* 시간이 오래 걸린다. 어떻게 해결이 가능 할까?\n",
        "    * **BATCH**를 사용해서 한 장씩이 아닌 **데이터의 묶음**으로 예측\n",
        "    * 배치 : 데이터의 뭉터기\n",
        "    * 배치로 설정한 데이터의 개수 만큼 **병렬**로 처리 되기 떄문에 빠르다."
      ]
    },
    {
      "cell_type": "code",
      "metadata": {
        "colab": {
          "base_uri": "https://localhost:8080/"
        },
        "id": "pZNZG0aRw407",
        "outputId": "be299798-19c1-4623-d88f-1df15c9418d0"
      },
      "source": [
        "# 배치를 이용한 예측\n",
        "X, t = get_test_data()\n",
        "\n",
        "net = init_network()\n",
        "\n",
        "# 배치란? 데이터의 묶음\n",
        "# batch_size : 1 배치당 들어있어야 하는 데이터의 개수\n",
        "# 60,000개의 데이터를 batch_size 100으로 묶으면 몇 개의 배치가 만들어 질까? => 600개\n",
        "\n",
        "batch_size = 100\n",
        "acc_count = 0\n",
        "\n",
        "for i in range(0, len(X), batch_size):\n",
        "    X_batch = X[i : i + batch_size] # X_batch의 shape은 항상 (100, 784)\n",
        "\n",
        "    pred_batch = predict(net,X_batch) # pred_batch의 shape : (100, 10) - 100장씩 예측한 10개의 결과물\n",
        "    pred_batch_result = np.argmax(pred_batch, axis = 1)\n",
        "\n",
        "    acc_count += np.sum(pred_batch_result == t[i : i+batch_size])\n",
        "\n",
        "print(float(acc_count/len(X)))"
      ],
      "execution_count": null,
      "outputs": [
        {
          "output_type": "stream",
          "text": [
            "0.9207\n"
          ],
          "name": "stdout"
        },
        {
          "output_type": "stream",
          "text": [
            "/usr/local/lib/python3.7/dist-packages/ipykernel_launcher.py:3: RuntimeWarning: overflow encountered in exp\n",
            "  This is separate from the ipykernel package so we can avoid doing imports until\n"
          ],
          "name": "stderr"
        }
      ]
    },
    {
      "cell_type": "code",
      "metadata": {
        "id": "OL6rVC3Xzn4W"
      },
      "source": [
        ""
      ],
      "execution_count": null,
      "outputs": []
    }
  ]
}
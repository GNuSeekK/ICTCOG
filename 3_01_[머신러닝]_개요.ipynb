{
  "nbformat": 4,
  "nbformat_minor": 0,
  "metadata": {
    "colab": {
      "name": "3 - 1 [머신러닝] 개요.ipynb",
      "provenance": [],
      "collapsed_sections": [],
      "authorship_tag": "ABX9TyMDyVNk3dAkIggOJOk/YDvC",
      "include_colab_link": true
    },
    "kernelspec": {
      "name": "python3",
      "display_name": "Python 3"
    },
    "language_info": {
      "name": "python"
    }
  },
  "cells": [
    {
      "cell_type": "markdown",
      "metadata": {
        "id": "view-in-github",
        "colab_type": "text"
      },
      "source": [
        "<a href=\"https://colab.research.google.com/github/GNuSeekK/ICTCOG/blob/main/3_1_%5B%EB%A8%B8%EC%8B%A0%EB%9F%AC%EB%8B%9D%5D_%EA%B0%9C%EC%9A%94.ipynb\" target=\"_parent\"><img src=\"https://colab.research.google.com/assets/colab-badge.svg\" alt=\"Open In Colab\"/></a>"
      ]
    },
    {
      "cell_type": "markdown",
      "metadata": {
        "id": "fLMHUUo70yAh"
      },
      "source": [
        "# 머신러닝이란?\n",
        "* Machine(기계)이 Learning(배우는) 하는 것\n",
        "* 많은 양의 데이터를 머신(컴퓨터)에 집어 넣어서 데이터의 패턴을 파악 하는 것"
      ]
    },
    {
      "cell_type": "markdown",
      "metadata": {
        "id": "4Jikd0EG1Q5T"
      },
      "source": [
        "## 스팸 메일 분석하기\n",
        "- 머신러닝을 사용하지 않고, 사람이 직접 스팸 메일을 구분하는 프로그램을 만든다?"
      ]
    },
    {
      "cell_type": "code",
      "metadata": {
        "colab": {
          "base_uri": "https://localhost:8080/"
        },
        "id": "BIWpVVhz08O6",
        "outputId": "1ec88367-6ecd-45a8-d9ee-c2fd03253488"
      },
      "source": [
        "# mail_title = \"앗! 타이어 신발보다 싸다!\"\n",
        "mail_title = \"12시 까지만 특별 할인!\", \"오늘까지만 특별 세일!\"\n",
        "\n",
        "if \"광고\" in mail_title:\n",
        "  print(\"스팸 메일\")\n",
        "elif \"싸다!\" in mail_title:\n",
        "  print(\"스팸 메일\")\n",
        "  \n",
        "else:\n",
        "  print(\"일반 메일\")"
      ],
      "execution_count": 2,
      "outputs": [
        {
          "output_type": "stream",
          "text": [
            "일반 메일\n"
          ],
          "name": "stdout"
        }
      ]
    },
    {
      "cell_type": "markdown",
      "metadata": {
        "id": "BSEfiSvQ1y0q"
      },
      "source": [
        "새롭게 등장하는 스팸 메일의 **패턴**을 거의 수십만개를 파악해서 직접 조건문으로 넣어야 한다.\n",
        "\n",
        "* 새롭게 등장하는 스팸 메일은 어떻게 구분할 것인가?\n",
        "* 다시 프로그램을 짜야 한다"
      ]
    },
    {
      "cell_type": "markdown",
      "metadata": {
        "id": "QBpbA9At2bPN"
      },
      "source": [
        "## 스팸 메일 걸러내는 작업을 머신러닝으로 한다면..?\n",
        "\n",
        "1. 스팸 메일 데이터를 대량으로 준비만 하면 된다.\n",
        "2. 모아낸 스팸 메일 데이터를 **머신러닝 알고리즘에 학습**\n",
        "  * 학습 하는 것 자체가 알고리즘마다 달라진다!\n",
        "3. 검증(평가)과정\n",
        "4. 평가 과정이 안좋으면 재 훈련 / 사용자들에게 서비스 해도 될것 같으면 최종 테스트(evaulate)를 진행 한 후 서비스 런칭"
      ]
    }
  ]
}

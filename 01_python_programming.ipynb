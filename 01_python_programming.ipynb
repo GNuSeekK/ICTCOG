{
  "nbformat": 4,
  "nbformat_minor": 0,
  "metadata": {
    "colab": {
      "name": "01 python programming.ipynb",
      "provenance": [],
      "collapsed_sections": [],
      "authorship_tag": "ABX9TyOS87f4hyYDl2kTBIOobL4z",
      "include_colab_link": true
    },
    "kernelspec": {
      "name": "python3",
      "display_name": "Python 3"
    },
    "language_info": {
      "name": "python"
    }
  },
  "cells": [
    {
      "cell_type": "markdown",
      "metadata": {
        "id": "view-in-github",
        "colab_type": "text"
      },
      "source": [
        "<a href=\"https://colab.research.google.com/github/GNuSeekK/ICTCOG/blob/main/01_python_programming.ipynb\" target=\"_parent\"><img src=\"https://colab.research.google.com/assets/colab-badge.svg\" alt=\"Open In Colab\"/></a>"
      ]
    },
    {
      "cell_type": "markdown",
      "metadata": {
        "id": "eRCmlSIhyoBV"
      },
      "source": [
        "# 0. 시작하기"
      ]
    },
    {
      "cell_type": "code",
      "metadata": {
        "colab": {
          "base_uri": "https://localhost:8080/"
        },
        "id": "T5kweFYVzFma",
        "outputId": "17c52b1d-bf88-46f5-d332-0ce402a378be"
      },
      "source": [
        "print('Hello World!')"
      ],
      "execution_count": null,
      "outputs": [
        {
          "output_type": "stream",
          "text": [
            "Hello World!\n"
          ],
          "name": "stdout"
        }
      ]
    },
    {
      "cell_type": "markdown",
      "metadata": {
        "id": "bLUfn6cDzran"
      },
      "source": [
        "# 1. Colab 익혀보기\n",
        "구글에서 제공하는 브라우저에서 파이썬을 이용한 다양한 개발을 할 수 이게 해주는 플랫폼 입니다. mardown 문법을 활용합니다.\n",
        "\n",
        "* Code Cell을 활용하여 코드를 작성 후 바로 실행 및 확인을 할 수 있습니다.\n",
        "단축키는 ctrl+M+Y 입니다.\n",
        "* Markdown Cell을 활용하여 코드에 대한 설명을 예쁘게 적을 수 있습니다. 단축키는 ctrl+M+M 입니다."
      ]
    },
    {
      "cell_type": "markdown",
      "metadata": {
        "id": "VdyjMLJB0Cuj"
      },
      "source": [
        "## 1-1. 단축키 알아보기\n",
        "* ctrl+M+A : 현재 셀 위쪽에 새로운 셀을 삽입\n",
        "* ctrl+M+B : 현재 셀 아래쪽에 새로운 셀을 삽입\n",
        "* ctrl+M+D : 현재 셀을 삭제\n",
        "* ctrl+M+Z : 셀 단위 실행 취소"
      ]
    },
    {
      "cell_type": "markdown",
      "metadata": {
        "id": "zdZkSdL71T-j"
      },
      "source": [
        "# 2. 코드작성"
      ]
    },
    {
      "cell_type": "code",
      "metadata": {
        "colab": {
          "base_uri": "https://localhost:8080/",
          "height": 265
        },
        "id": "QEx0NO5T1YAT",
        "outputId": "b23153fe-8cc3-433b-dd33-19f2bef7c090"
      },
      "source": [
        "import matplotlib.pyplot as plt\n",
        "\n",
        "plt.plot([1,4,12,34])\n",
        "plt.show()"
      ],
      "execution_count": null,
      "outputs": [
        {
          "output_type": "display_data",
          "data": {
            "image/png": "[encoded data removed]",
            "text/plain": [
              "<Figure size 432x288 with 1 Axes>"
            ]
          },
          "metadata": {
            "tags": [],
            "needs_background": "light"
          }
        }
      ]
    }
  ]
}
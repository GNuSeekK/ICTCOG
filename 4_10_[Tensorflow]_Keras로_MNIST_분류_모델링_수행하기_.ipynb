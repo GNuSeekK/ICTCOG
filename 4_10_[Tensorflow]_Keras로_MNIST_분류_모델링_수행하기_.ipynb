{
  "nbformat": 4,
  "nbformat_minor": 0,
  "metadata": {
    "colab": {
      "name": "4 - 10 [Tensorflow] Keras로 MNIST 분류 모델링 수행하기 .ipynb",
      "provenance": [],
      "collapsed_sections": [],
      "authorship_tag": "ABX9TyOBePd1an8iQzgtfhGzx3zI",
      "include_colab_link": true
    },
    "kernelspec": {
      "name": "python3",
      "display_name": "Python 3"
    },
    "language_info": {
      "name": "python"
    }
  },
  "cells": [
    {
      "cell_type": "markdown",
      "metadata": {
        "id": "view-in-github",
        "colab_type": "text"
      },
      "source": [
        "<a href=\"https://colab.research.google.com/github/GNuSeekK/ICTCOG/blob/main/4_10_%5BTensorflow%5D_Keras%EB%A1%9C_MNIST_%EB%B6%84%EB%A5%98_%EB%AA%A8%EB%8D%B8%EB%A7%81_%EC%88%98%ED%96%89%ED%95%98%EA%B8%B0_.ipynb\" target=\"_parent\"><img src=\"https://colab.research.google.com/assets/colab-badge.svg\" alt=\"Open In Colab\"/></a>"
      ]
    },
    {
      "cell_type": "markdown",
      "metadata": {
        "id": "bNnNVy_M6cAe"
      },
      "source": [
        "# Keras\n",
        "텐서플로우 프레임워크를 기반으로 자주 사용하는 딥러닝 레이어들을 모아놓은 패키지"
      ]
    },
    {
      "cell_type": "markdown",
      "metadata": {
        "id": "Gm7OjoWDXq5Z"
      },
      "source": [
        "# Tensorflow Framework의 특징\n",
        "* *Tensor*(배열)이 *Flow*(흐른다)\n",
        "* 미리 계산 그래프를 만들어 놓고 그 그래프에 데이터들(*Tensor*)을 흘려 보낸다"
      ]
    },
    {
      "cell_type": "code",
      "metadata": {
        "id": "umPyoCUGX56B"
      },
      "source": [
        "import tensorflow as tf\n",
        "from tensorflow.keras import datasets\n",
        "\n",
        "import matplotlib.pyplot as plt"
      ],
      "execution_count": null,
      "outputs": []
    },
    {
      "cell_type": "code",
      "metadata": {
        "colab": {
          "base_uri": "https://localhost:8080/"
        },
        "id": "gvqHPpptYUru",
        "outputId": "24016344-f528-452b-e0d7-0979d743dc94"
      },
      "source": [
        "(X_train, y_train), (x_test, y_test) = datasets.mnist.load_data()"
      ],
      "execution_count": null,
      "outputs": [
        {
          "output_type": "stream",
          "text": [
            "Downloading data from https://storage.googleapis.com/tensorflow/tf-keras-datasets/mnist.npz\n",
            "11493376/11490434 [==============================] - 0s 0us/step\n"
          ],
          "name": "stdout"
        }
      ]
    },
    {
      "cell_type": "code",
      "metadata": {
        "colab": {
          "base_uri": "https://localhost:8080/"
        },
        "id": "YasHi783YaYO",
        "outputId": "8b8a74fd-d791-4117-f28a-c8297e1c2687"
      },
      "source": [
        "# 이미지를 가져왔으니 시각화 해보고, 형상(shape) 확인하기\n",
        "image = X_train[0]\n",
        "image.shape"
      ],
      "execution_count": null,
      "outputs": [
        {
          "output_type": "execute_result",
          "data": {
            "text/plain": [
              "(28, 28)"
            ]
          },
          "metadata": {
            "tags": []
          },
          "execution_count": 12
        }
      ]
    },
    {
      "cell_type": "code",
      "metadata": {
        "colab": {
          "base_uri": "https://localhost:8080/",
          "height": 265
        },
        "id": "IbyGzlo6YgUJ",
        "outputId": "61153f3f-226d-4426-ceee-ffdbee9c7805"
      },
      "source": [
        "plt.imshow(image, cmap = 'gray')\n",
        "plt.show()"
      ],
      "execution_count": null,
      "outputs": [
        {
          "output_type": "display_data",
          "data": {
            "image/png": "[encoded data removed]",
            "text/plain": [
              "<Figure size 432x288 with 1 Axes>"
            ]
          },
          "metadata": {
            "tags": [],
            "needs_background": "light"
          }
        }
      ]
    },
    {
      "cell_type": "code",
      "metadata": {
        "colab": {
          "base_uri": "https://localhost:8080/"
        },
        "id": "9CYWrhGfYna_",
        "outputId": "d1e98638-ae4f-4525-f7b0-b76a784a1e8d"
      },
      "source": [
        "# 이미지를 CNN 레이어에 집어 넣기 위해서는 4차원 형태를 유지\n",
        "# (N,H,W,C) -> (데이터 개수, 높이, 가로, 채널)\n",
        "# MNIST 손글씨 이미지 : 높이 - 28px, 가로 - 28px, 채널 - 1 -> (N, 28, 28, 1)\n",
        "\n",
        "# tf.newaxis == np.newaxis\n",
        "image = image[tf.newaxis, ..., tf.newaxis]\n",
        "image.shape"
      ],
      "execution_count": null,
      "outputs": [
        {
          "output_type": "execute_result",
          "data": {
            "text/plain": [
              "(1, 28, 28, 1)"
            ]
          },
          "metadata": {
            "tags": []
          },
          "execution_count": 14
        }
      ]
    },
    {
      "cell_type": "markdown",
      "metadata": {
        "id": "g1RJjgDGZGuu"
      },
      "source": [
        "# Conv2D 레이어 사용\n",
        "\n",
        "* *filters* : 필터의 개수 ($C_{out}$)\n",
        "* *kernel_size* : 필터의 크기 ($k_{H}, k_{W}$)\n",
        "* *strides* : 몇 개의 픽셀을 스킵 하면서 필터가 훑게 할지 결정 (기본 1)\n",
        "* *padding* : `0`으로 쌓여진 패딩을 만들 것인가에 대한 결정\n",
        "    * `VALID` : 패딩 생성 X\n",
        "    * `SAME` : 패딩 생성 O ( 1줄의 패딩 추가)\n",
        "* `activation` : 활성화 함수 지정하기, 따로 설정하지 않고 추후 레이어로 추가 가능\n"
      ]
    },
    {
      "cell_type": "code",
      "metadata": {
        "colab": {
          "base_uri": "https://localhost:8080/"
        },
        "id": "TdvOR61zZz0X",
        "outputId": "f2ad4df6-7f95-46ae-ab9c-9312a8a19ed7"
      },
      "source": [
        "# 케라스를 이용해서 합성곱 레이어를 직접 만들어 보기\n",
        "# from tensorflow.keras.layers import Conv2D\n",
        "tf.keras.layers.Conv2D(\n",
        "    filters=3, # 필터 개수\n",
        "    # kernel_size = (3,3) # 필터의 세로, 필터의 가로, 필터의 가로 세로 크기가 똑같다면 스칼라로 넣어도 된다.\n",
        "    kernel_size = 3,\n",
        "    # strides = (1,1), # 가로 이동방향, 세로 이동방향의 크기 스칼라로 넣어주면 가로, 세로가 똑같이 설정 된다.\n",
        "    strides = 1,\n",
        "    # padding = 'VALID' # 패딩 사용하지 않기\n",
        "    padding = 'SAME', # 패딩 사용하기\n",
        "    activation = 'relu' #활성화 함수 사용 (레이어로 추가해도 된다.)\n",
        ")"
      ],
      "execution_count": null,
      "outputs": [
        {
          "output_type": "execute_result",
          "data": {
            "text/plain": [
              "<tensorflow.python.keras.layers.convolutional.Conv2D at 0x7f4f6cdb2c50>"
            ]
          },
          "metadata": {
            "tags": []
          },
          "execution_count": 18
        }
      ]
    },
    {
      "cell_type": "markdown",
      "metadata": {
        "id": "FuHa1IhSgEjS"
      },
      "source": [
        "Conv2D 레이어에 데이터를 집어 넣을 때는 (N, H, W, C)의 형식으로 넣어줘야 한다."
      ]
    },
    {
      "cell_type": "code",
      "metadata": {
        "id": "wbAZI73PgfGY"
      },
      "source": [
        "image = tf.cast(image, dtype=tf.float32) # numpy 배열을 텐서플로우 배열화\n",
        "\n",
        "layer = tf.keras.layers.Conv2D(\n",
        "    filters = 5,\n",
        "    kernel_size = 3,\n",
        "    strides = 1,\n",
        "    padding = 'SAME'\n",
        "\n",
        ")"
      ],
      "execution_count": null,
      "outputs": []
    },
    {
      "cell_type": "code",
      "metadata": {
        "colab": {
          "base_uri": "https://localhost:8080/"
        },
        "id": "hb2_yWXmgrzq",
        "outputId": "187984ac-1c20-467a-9917-cbc7cb7dc6ae"
      },
      "source": [
        "# 텐서플로우의 레이어에 데이터를 전달할 때는 객체를 함수처럼 사용하면 된다!\n",
        "output = layer(image)\n",
        "# 1채널 데이터가 5채널이 된다. [1, 28, 28, 5]\n",
        "output.shape"
      ],
      "execution_count": null,
      "outputs": [
        {
          "output_type": "execute_result",
          "data": {
            "text/plain": [
              "TensorShape([1, 28, 28, 5])"
            ]
          },
          "metadata": {
            "tags": []
          },
          "execution_count": 24
        }
      ]
    },
    {
      "cell_type": "code",
      "metadata": {
        "colab": {
          "base_uri": "https://localhost:8080/",
          "height": 223
        },
        "id": "OzT3Ps8GijPK",
        "outputId": "069d3875-7b6e-43b4-b468-a30df2f23f2d"
      },
      "source": [
        "# MNIST 이미지 5에 대한 Conv2D 레이어 통과 후 시각화\n",
        "\n",
        "_, axes = plt.subplots(nrows=1, ncols=6, figsize=(20,10))\n",
        "axes[0].imshow(image[0,...,0], cmap='gray')\n",
        "axes[0].set_title('Original Image')\n",
        "\n",
        "for idx, ax in enumerate(axes[1:]):\n",
        "    ax.set_title(f'Output : {idx + 1}')\n",
        "    ax.imshow(output[0,...,idx], cmap='gray')\n",
        "\n",
        "plt.show()"
      ],
      "execution_count": null,
      "outputs": [
        {
          "output_type": "display_data",
          "data": {
            "image/png": "[encoded data removed]",
            "text/plain": [
              "<Figure size 1440x720 with 6 Axes>"
            ]
          },
          "metadata": {
            "tags": [],
            "needs_background": "light"
          }
        }
      ]
    },
    {
      "cell_type": "markdown",
      "metadata": {
        "id": "FINnSBiNiILH"
      },
      "source": [
        "# Filter 시각화 하기\n",
        "\n",
        "* CNN에서 Filter의 역할은 실제 CNN 레이어가 이미지의 무엇을 보고 있는가를 이야기 한다.\n",
        "* keras의 레이어들은 get_weight() 함수를 이용해서 편향과 가중치를 볼 수 있다.\n",
        "* 필터의 모양 : ($k_{h}, k_{W}, C_{in}, C_{out}$)"
      ]
    },
    {
      "cell_type": "code",
      "metadata": {
        "id": "U3f272IQitQP"
      },
      "source": [
        "# 계산 가능한 레이어에서 매개변수 뽑아내기(가중치, 편향)\n",
        "# layer - Conv2D 레이어 필터 모양 : (3, 3, 1, 5) - (필터 세로, 필터 가로, 채널 수, 필터 개수)\n",
        "weights = layer.get_weights()"
      ],
      "execution_count": null,
      "outputs": []
    },
    {
      "cell_type": "code",
      "metadata": {
        "colab": {
          "base_uri": "https://localhost:8080/"
        },
        "id": "2yjbeRm7jM2j",
        "outputId": "ca634ef8-54c9-42ea-b239-378f790d9285"
      },
      "source": [
        "print(f'가중치의 형상 : {weights[0].shape}')\n",
        "print(f'편향의 형상 : {weights[1].shape}')"
      ],
      "execution_count": null,
      "outputs": [
        {
          "output_type": "stream",
          "text": [
            "가중치의 형상 : (3, 3, 1, 5)\n",
            "편향의 형상 : (5,)\n"
          ],
          "name": "stdout"
        }
      ]
    },
    {
      "cell_type": "code",
      "metadata": {
        "colab": {
          "base_uri": "https://localhost:8080/",
          "height": 256
        },
        "id": "JfUtQTAvjJcI",
        "outputId": "538046d7-1ac2-411d-ac4f-497d54c90772"
      },
      "source": [
        "# 시각화\n",
        "_, axes = plt.subplots(nrows=1, ncols=5, figsize=(20, 10))\n",
        "\n",
        "for idx, ax in enumerate(axes):\n",
        "  ax.set_title(\"Filter : {}\".format(idx + 1))\n",
        "  ax.imshow(weights[0][..., 0, idx], cmap='gray')\n",
        "\n",
        "plt.show()"
      ],
      "execution_count": null,
      "outputs": [
        {
          "output_type": "display_data",
          "data": {
            "image/png": "[encoded data removed]",
            "text/plain": [
              "<Figure size 1440x720 with 5 Axes>"
            ]
          },
          "metadata": {
            "tags": [],
            "needs_background": "light"
          }
        }
      ]
    },
    {
      "cell_type": "markdown",
      "metadata": {
        "id": "0YgXDYOUjnrV"
      },
      "source": [
        "CNN 레이어의 학습은 필터를 학습시키는 것"
      ]
    },
    {
      "cell_type": "markdown",
      "metadata": {
        "id": "nKGhoU6KkATw"
      },
      "source": [
        "# ReLU 레이어 시각화\n",
        "* 이미지 분석에서 `ReLU`가 자주 사용된다.\n",
        "* 이미지 데이터에서 음수 데이터는 필요가 없는 데이터이다.\n",
        "  * 필요 없는 음수 데이터는 제거하고, 의미 있는 양수 데이터만 강조하기 위해서 `ReLU`가 일반적으로 사용된다."
      ]
    },
    {
      "cell_type": "code",
      "metadata": {
        "colab": {
          "base_uri": "https://localhost:8080/"
        },
        "id": "hqsMMTDgkRNR",
        "outputId": "627c3e8e-d827-4de7-f590-3a71eb573295"
      },
      "source": [
        "import numpy as np\n",
        "np.min(output), np.max(output)"
      ],
      "execution_count": null,
      "outputs": [
        {
          "output_type": "execute_result",
          "data": {
            "text/plain": [
              "(-126.7792, 260.0071)"
            ]
          },
          "metadata": {
            "tags": []
          },
          "execution_count": 36
        }
      ]
    },
    {
      "cell_type": "code",
      "metadata": {
        "colab": {
          "base_uri": "https://localhost:8080/"
        },
        "id": "Z3E2HfN5kYty",
        "outputId": "06cdc9db-ee19-44fb-dfc2-b2d85ce69c0c"
      },
      "source": [
        "act_layer = tf.keras.layers.ReLU()\n",
        "act_output = act_layer(output) # 출력 특징 맵이 활성화 레이어로 들어간다.\n",
        "act_output.shape # output의 형상과 똑같다."
      ],
      "execution_count": null,
      "outputs": [
        {
          "output_type": "execute_result",
          "data": {
            "text/plain": [
              "TensorShape([1, 28, 28, 5])"
            ]
          },
          "metadata": {
            "tags": []
          },
          "execution_count": 37
        }
      ]
    },
    {
      "cell_type": "code",
      "metadata": {
        "colab": {
          "base_uri": "https://localhost:8080/"
        },
        "id": "0_i_bKnjkfFQ",
        "outputId": "ead24fb8-1fea-4508-851d-8200d5f02da3"
      },
      "source": [
        "np.min(act_output), np.max(act_output)"
      ],
      "execution_count": null,
      "outputs": [
        {
          "output_type": "execute_result",
          "data": {
            "text/plain": [
              "(0.0, 260.0071)"
            ]
          },
          "metadata": {
            "tags": []
          },
          "execution_count": 38
        }
      ]
    },
    {
      "cell_type": "code",
      "metadata": {
        "colab": {
          "base_uri": "https://localhost:8080/",
          "height": 223
        },
        "id": "UNr3I2XDkz_N",
        "outputId": "8cb84e15-4caa-4342-990b-73a94a61ff0c"
      },
      "source": [
        "# ReLU 레이어를 통과 시키고 나서의 결과\n",
        "_, axes = plt.subplots(nrows=1, ncols=6, figsize=(20, 10))\n",
        "\n",
        "axes[0].imshow(image[0, ..., 0], cmap='gray')\n",
        "axes[0].set_title(\"Original Image\")\n",
        "\n",
        "for idx, ax in enumerate(axes[1: ]):\n",
        "  ax.set_title(\"ReLU Output : {}\".format(idx + 1))\n",
        "  ax.imshow(act_output[0, ..., idx], cmap='gray')\n",
        "\n",
        "plt.show()"
      ],
      "execution_count": null,
      "outputs": [
        {
          "output_type": "display_data",
          "data": {
            "image/png": "[encoded data removed]",
            "text/plain": [
              "<Figure size 1440x720 with 6 Axes>"
            ]
          },
          "metadata": {
            "tags": [],
            "needs_background": "light"
          }
        }
      ]
    },
    {
      "cell_type": "markdown",
      "metadata": {
        "id": "iUXcuUrllLWt"
      },
      "source": [
        "# MaxPooling 레이어 확인하기\n"
      ]
    },
    {
      "cell_type": "code",
      "metadata": {
        "colab": {
          "base_uri": "https://localhost:8080/"
        },
        "id": "08Ux73M_lmBX",
        "outputId": "a7ae47f3-b22b-4dc6-adcf-0f015ccac9b3"
      },
      "source": [
        "# strides 1 일 때 padding='same'이면 입력 데이터의 크기와 출력 데이터의 크기가 똑같아 진다.\n",
        "# strides 2 이상이면 모서리 부분에 일부분의 데이터만 있을 경우 padding='valid'이면 해당 데이터는 버려지지만,\n",
        "#'same'인 경우에는 데이터가 없는 부분에만 padding이 생겨 데이터의 손실을 막는다.\n",
        "\n",
        "pool_layer = tf.keras.layers.MaxPool2D(\n",
        "    pool_size=(2, 2), # 필터의 개념과 같다.\n",
        "    strides=(2, 2),\n",
        "    padding='SAME'\n",
        ")\n",
        "\n",
        "pool_output = pool_layer(act_output)\n",
        "pool_output.shape"
      ],
      "execution_count": null,
      "outputs": [
        {
          "output_type": "execute_result",
          "data": {
            "text/plain": [
              "TensorShape([1, 14, 14, 5])"
            ]
          },
          "metadata": {
            "tags": []
          },
          "execution_count": 40
        }
      ]
    },
    {
      "cell_type": "code",
      "metadata": {
        "colab": {
          "base_uri": "https://localhost:8080/",
          "height": 223
        },
        "id": "QXN38A_imiCP",
        "outputId": "86bd0254-7fb2-46ec-9f97-e4e28114eb72"
      },
      "source": [
        "_, axes = plt.subplots(nrows=1, ncols=6, figsize=(20, 10))\n",
        "\n",
        "axes[0].imshow(image[0, ..., 0], cmap='gray')\n",
        "axes[0].set_title(\"Original Image\")\n",
        "\n",
        "for idx, ax in enumerate(axes[1: ]):\n",
        "  ax.set_title(\"MaxPool Output : {}\".format(idx + 1))\n",
        "  ax.imshow(pool_output[0, ..., idx], cmap='gray')\n",
        "\n",
        "plt.show()"
      ],
      "execution_count": null,
      "outputs": [
        {
          "output_type": "display_data",
          "data": {
            "image/png": "[encoded data removed]",
            "text/plain": [
              "<Figure size 1440x720 with 6 Axes>"
            ]
          },
          "metadata": {
            "tags": [],
            "needs_background": "light"
          }
        }
      ]
    },
    {
      "cell_type": "code",
      "metadata": {
        "id": "T6fkCDF7vz9k"
      },
      "source": [
        ""
      ],
      "execution_count": null,
      "outputs": []
    }
  ]
}
{
  "nbformat": 4,
  "nbformat_minor": 0,
  "metadata": {
    "colab": {
      "name": "4. Python 기초 문법 - Iteration Statement.ipynb",
      "provenance": [],
      "collapsed_sections": [],
      "authorship_tag": "ABX9TyPTdRzptooO7uBD4Guxo8lh",
      "include_colab_link": true
    },
    "kernelspec": {
      "name": "python3",
      "display_name": "Python 3"
    },
    "language_info": {
      "name": "python"
    }
  },
  "cells": [
    {
      "cell_type": "markdown",
      "metadata": {
        "id": "view-in-github",
        "colab_type": "text"
      },
      "source": [
        "<a href=\"https://colab.research.google.com/github/GNuSeekK/ICTCOG/blob/main/4_Python_%EA%B8%B0%EC%B4%88_%EB%AC%B8%EB%B2%95_Iteration_Statement.ipynb\" target=\"_parent\"><img src=\"https://colab.research.google.com/assets/colab-badge.svg\" alt=\"Open In Colab\"/></a>"
      ]
    },
    {
      "cell_type": "markdown",
      "metadata": {
        "id": "AtDIgcd35dJk"
      },
      "source": [
        "# Control Statement : Iteration Statement (While, For)"
      ]
    },
    {
      "cell_type": "markdown",
      "metadata": {
        "id": "JyJRckvV5qqH"
      },
      "source": [
        "## 반복문이 중요한 이유\n",
        "* 컴퓨터는 반복적인 작업을 잘 한다.\n",
        "* 단순 반복적인 작업에 최적화 되어있다.\n",
        "* 비슷하 작업(코드)들을 조건에 맞춰 반복적으로 수행하기 위해 사용"
      ]
    },
    {
      "cell_type": "markdown",
      "metadata": {
        "id": "RJR0sCKs5x_q"
      },
      "source": [
        "## while statement\n",
        "* while문은 조건을 만족할 때 까지 반복\n",
        "    * 조건을 만족하면 반복 중단\n",
        "\n",
        "```python\n",
        "while(condition : 조건):\n",
        "    <statement1>\n",
        "    <statement2>\n",
        "    <statement3>\n",
        "```"
      ]
    },
    {
      "cell_type": "code",
      "metadata": {
        "colab": {
          "base_uri": "https://localhost:8080/"
        },
        "id": "CWek52mS6UTF",
        "outputId": "c59c80e9-82ce-414e-9480-dc42cf4af60f"
      },
      "source": [
        "a = 1\n",
        "\n",
        "while a < 10: # a가 10보다 작으면 반복\n",
        "    print('hello',a)\n",
        "    print('hi')\n",
        "    a += 1"
      ],
      "execution_count": 3,
      "outputs": [
        {
          "output_type": "stream",
          "text": [
            "hello 1\n",
            "hi\n",
            "hello 2\n",
            "hi\n",
            "hello 3\n",
            "hi\n",
            "hello 4\n",
            "hi\n",
            "hello 5\n",
            "hi\n",
            "hello 6\n",
            "hi\n",
            "hello 7\n",
            "hi\n",
            "hello 8\n",
            "hi\n",
            "hello 9\n",
            "hi\n"
          ],
          "name": "stdout"
        }
      ]
    },
    {
      "cell_type": "code",
      "metadata": {
        "colab": {
          "base_uri": "https://localhost:8080/"
        },
        "id": "wyj3ISSS6Zpe",
        "outputId": "808e604c-9e3a-427a-e99c-fa79a487b6c6"
      },
      "source": [
        "# 구구단 2단 만들기\n",
        "\n",
        "num = 1\n",
        "\n",
        "while num <= 9:\n",
        "    print(f'2 × {num} = {2*num}')\n",
        "    num += 1"
      ],
      "execution_count": 5,
      "outputs": [
        {
          "output_type": "stream",
          "text": [
            "2 × 1 = 2\n",
            "2 × 2 = 4\n",
            "2 × 3 = 6\n",
            "2 × 4 = 8\n",
            "2 × 5 = 10\n",
            "2 × 6 = 12\n",
            "2 × 7 = 14\n",
            "2 × 8 = 16\n",
            "2 × 9 = 18\n"
          ],
          "name": "stdout"
        }
      ]
    },
    {
      "cell_type": "markdown",
      "metadata": {
        "id": "kME7DTfq8GTA"
      },
      "source": [
        "## for statement\n",
        "\n",
        "* while문은 조건제 반복\n",
        "* for 문은 횟수제 반복(순환 반복)\n",
        "    * iterable object를 이용한 반복이 가능하다.\n",
        "    * 연속형 데이터 타입 변수들을 `iterable object`라고 한다.\n",
        "    * `tuple, list, str 등`이 대표적인 연속형 데이터 타입\n",
        "\n",
        "```python\n",
        "for 변수명 in `iterable_object`:\n",
        "    <statement1>\n",
        "    <statement2>\n",
        "    <statement3>\n",
        "```"
      ]
    },
    {
      "cell_type": "code",
      "metadata": {
        "colab": {
          "base_uri": "https://localhost:8080/"
        },
        "id": "W9bvgLcT9CeB",
        "outputId": "14a4b387-cdd8-408e-e0f7-486694009a01"
      },
      "source": [
        "for i in [10,20,30]:\n",
        "    print('hello', i)"
      ],
      "execution_count": 7,
      "outputs": [
        {
          "output_type": "stream",
          "text": [
            "hello 10\n",
            "hello 20\n",
            "hello 30\n"
          ],
          "name": "stdout"
        }
      ]
    },
    {
      "cell_type": "markdown",
      "metadata": {
        "id": "Di3Bt7du-LeU"
      },
      "source": [
        "## while vs for\n",
        "답은 따로 없다.\n",
        "\n",
        "* 조건에 의한 반복 - while\n",
        "* 꺼내가면서 반복 - for"
      ]
    },
    {
      "cell_type": "markdown",
      "metadata": {
        "id": "4AhT5McW-1vc"
      },
      "source": [
        "## for의 단짝 range() 함수\n",
        "* for는 원소를 꺼내서 반복하는 역할\n",
        "* 숫자를 순서대로 꺼내서 사용하고 싶으면? range() 함수를 사용\n",
        "* range()는 slice 기법과 비슷하게 사용이 된다.\n",
        "    * range(start, end, step)처럼 사용이 가능!"
      ]
    },
    {
      "cell_type": "code",
      "metadata": {
        "colab": {
          "base_uri": "https://localhost:8080/"
        },
        "id": "HQujoIcs_Ajc",
        "outputId": "b1b76ace-d786-4d12-85c0-d32ea9636ccc"
      },
      "source": [
        "for i in range(1,8):\n",
        "    print(i)"
      ],
      "execution_count": 8,
      "outputs": [
        {
          "output_type": "stream",
          "text": [
            "1\n",
            "2\n",
            "3\n",
            "4\n",
            "5\n",
            "6\n",
            "7\n"
          ],
          "name": "stdout"
        }
      ]
    },
    {
      "cell_type": "code",
      "metadata": {
        "colab": {
          "base_uri": "https://localhost:8080/"
        },
        "id": "T4S0t7lp_DLU",
        "outputId": "d25aa76f-a264-4091-93e5-3b758e7bba9f"
      },
      "source": [
        "for i in range(1,10,2):\n",
        "    print(i)"
      ],
      "execution_count": 9,
      "outputs": [
        {
          "output_type": "stream",
          "text": [
            "1\n",
            "3\n",
            "5\n",
            "7\n",
            "9\n"
          ],
          "name": "stdout"
        }
      ]
    },
    {
      "cell_type": "markdown",
      "metadata": {
        "id": "ScuKg8_U_OLx"
      },
      "source": [
        "# 문제\n",
        "``` python\n",
        "coffees = ['아메리카노', '카페라떼', '카페모카', '바닐라라떼', '핸드드립', '콜드브루']\n",
        "prices = [4100,4600,4600,5100,6000,5000]\n",
        "\n",
        "일 때, 5000원으로 주문할 수 있는 커피를 모두 출력\n",
        "```"
      ]
    },
    {
      "cell_type": "code",
      "metadata": {
        "colab": {
          "base_uri": "https://localhost:8080/"
        },
        "id": "nMMcZopd_1wq",
        "outputId": "62c0886d-7a24-4198-e6ef-8139af800e00"
      },
      "source": [
        "# 나의 풀이\n",
        "coffees = ['아메리카노', '카페라떼', '카페모카', '바닐라라떼', '핸드드립', '콜드브루']\n",
        "prices = [4100,4600,4600,5100,6000,5000]\n",
        "\n",
        "for index, coffee in enumerate(coffees):\n",
        "    if prices[index] <= 5000:\n",
        "        print(coffee)\n",
        "\n",
        "# 강사님의 풀이\n",
        "\n",
        "coffees = ['아메리카노', '카페라떼', '카페모카', '바닐라라떼', '핸드드립', '콜드브루']\n",
        "prices = [4100,4600,4600,5100,6000,5000]\n",
        "\n",
        "for coffee in range(len(coffees)):\n",
        "    if prices[coffee] <= 5000:\n",
        "        print(coffees[coffee])"
      ],
      "execution_count": 16,
      "outputs": [
        {
          "output_type": "stream",
          "text": [
            "아메리카노\n",
            "카페라떼\n",
            "카페모카\n",
            "콜드브루\n",
            "아메리카노\n",
            "카페라떼\n",
            "카페모카\n",
            "콜드브루\n"
          ],
          "name": "stdout"
        }
      ]
    },
    {
      "cell_type": "markdown",
      "metadata": {
        "id": "fKTLjxGo_94B"
      },
      "source": [
        "## 여러개의 연속형 자료형을 반복하게 해주는 zip()"
      ]
    },
    {
      "cell_type": "code",
      "metadata": {
        "colab": {
          "base_uri": "https://localhost:8080/"
        },
        "id": "PUIT9D_uGFpC",
        "outputId": "72af9984-da3a-4c17-d8ee-aabac1df8eae"
      },
      "source": [
        "a = [1,2,3]\n",
        "b = [4,5,6]\n",
        "for item1, item2 in zip(a,b):\n",
        "    print(item1, item2)"
      ],
      "execution_count": 17,
      "outputs": [
        {
          "output_type": "stream",
          "text": [
            "1 4\n",
            "2 5\n",
            "3 6\n"
          ],
          "name": "stdout"
        }
      ]
    },
    {
      "cell_type": "code",
      "metadata": {
        "colab": {
          "base_uri": "https://localhost:8080/"
        },
        "id": "grDN7JwzGMZZ",
        "outputId": "15094e17-3924-415e-ffd6-a699623b8c9b"
      },
      "source": [
        "c = [7,8]\n",
        "\n",
        "for item1, item2 in zip(a,c): #zip에 들어가는 리스트의 길이가 다를 경우, 짧은 것 기준\n",
        "    print(item1, item2)"
      ],
      "execution_count": 18,
      "outputs": [
        {
          "output_type": "stream",
          "text": [
            "1 7\n",
            "2 8\n"
          ],
          "name": "stdout"
        }
      ]
    },
    {
      "cell_type": "markdown",
      "metadata": {
        "id": "C_HXcjYCGVek"
      },
      "source": [
        "## 인덱스와 같이 표현하기 - enumerate"
      ]
    },
    {
      "cell_type": "code",
      "metadata": {
        "colab": {
          "base_uri": "https://localhost:8080/"
        },
        "id": "osKcHumxGlsX",
        "outputId": "7b1866f3-7067-4161-df3f-5c851e7f3555"
      },
      "source": [
        "a = [10,20,30]\n",
        "\n",
        "# 인덱스와 원소를 같이 표현\n",
        "for index, item in enumerate(a):\n",
        "    print(index, item)"
      ],
      "execution_count": 20,
      "outputs": [
        {
          "output_type": "stream",
          "text": [
            "0 10\n",
            "1 20\n",
            "2 30\n"
          ],
          "name": "stdout"
        }
      ]
    },
    {
      "cell_type": "code",
      "metadata": {
        "id": "OQJKxzFPGuyW"
      },
      "source": [
        "# 언패킹 기법\n",
        "t1 = (10,20,30)\n",
        "item1, item2, item3 = t1"
      ],
      "execution_count": 24,
      "outputs": []
    },
    {
      "cell_type": "markdown",
      "metadata": {
        "id": "qLMolx_1G4u6"
      },
      "source": [
        "# continue와 break\n",
        "* **continue** : 해당 반복만 멈추고 이어서 반복을 진행\n",
        "* **break** : 반복문을 탈출한다."
      ]
    },
    {
      "cell_type": "code",
      "metadata": {
        "colab": {
          "base_uri": "https://localhost:8080/"
        },
        "id": "qTpO_eSFHwFm",
        "outputId": "a90d21e8-e9e4-4aa4-f4b0-505c48fc521f"
      },
      "source": [
        "for i in range(10):\n",
        "    if i == 4:\n",
        "        print('i가 4입니다.')\n",
        "        continue\n",
        "    print(i)"
      ],
      "execution_count": 26,
      "outputs": [
        {
          "output_type": "stream",
          "text": [
            "0\n",
            "1\n",
            "2\n",
            "3\n",
            "i가 4입니다.\n",
            "5\n",
            "6\n",
            "7\n",
            "8\n",
            "9\n"
          ],
          "name": "stdout"
        }
      ]
    },
    {
      "cell_type": "code",
      "metadata": {
        "colab": {
          "base_uri": "https://localhost:8080/"
        },
        "id": "9Gb67a3hICi9",
        "outputId": "b1bf7225-185c-4212-b6c7-acfab2ac420a"
      },
      "source": [
        "for i in range(10):\n",
        "    if i == 4:\n",
        "        print('i가 4입니다.')\n",
        "        break\n",
        "    print(i)"
      ],
      "execution_count": 27,
      "outputs": [
        {
          "output_type": "stream",
          "text": [
            "0\n",
            "1\n",
            "2\n",
            "3\n",
            "i가 4입니다.\n"
          ],
          "name": "stdout"
        }
      ]
    },
    {
      "cell_type": "markdown",
      "metadata": {
        "id": "01HIJMJBIIaf"
      },
      "source": [
        "# 컴프리헨션 사용하기\n",
        "* **list, set, dict**를 파이써닉(파이썬 답게) 만들어주는 기법\n",
        "* 코드 한줄을 이용해서 원하는 시퀀스 자료를 만들 수 있게 해준다.\n",
        "\n",
        "* 리스트 컴프리헨션\n",
        "    * `[expression for item in iterable_object if 조건]`\n",
        "        * **iterable_object** : 시퀀스 자료형태\n",
        "        * **item** : 데이터를 하나씩 받을 변수\n",
        "        * **expression** : item을 편집할 표현식(코드)\n",
        "        * **조건** : 조건에 부합하는 아이템만 리스트에 집어 넣기"
      ]
    },
    {
      "cell_type": "code",
      "metadata": {
        "colab": {
          "base_uri": "https://localhost:8080/"
        },
        "id": "F2-RnPkEJM2P",
        "outputId": "e2944c3e-04a2-4795-e223-1f29fa3300e8"
      },
      "source": [
        "number_list = [number for number in range(1,6)]\n",
        "number_list"
      ],
      "execution_count": 28,
      "outputs": [
        {
          "output_type": "execute_result",
          "data": {
            "text/plain": [
              "[1, 2, 3, 4, 5]"
            ]
          },
          "metadata": {
            "tags": []
          },
          "execution_count": 28
        }
      ]
    },
    {
      "cell_type": "code",
      "metadata": {
        "colab": {
          "base_uri": "https://localhost:8080/"
        },
        "id": "pRAxbJbyJvyQ",
        "outputId": "cda1049d-70bc-4353-d966-7ae13bba1a0e"
      },
      "source": [
        "list(range(1,6))"
      ],
      "execution_count": 29,
      "outputs": [
        {
          "output_type": "execute_result",
          "data": {
            "text/plain": [
              "[1, 2, 3, 4, 5]"
            ]
          },
          "metadata": {
            "tags": []
          },
          "execution_count": 29
        }
      ]
    },
    {
      "cell_type": "code",
      "metadata": {
        "colab": {
          "base_uri": "https://localhost:8080/"
        },
        "id": "0Ezj0juJJzQF",
        "outputId": "fa8c822d-5641-4c5d-a189-8ae7b0ca7f25"
      },
      "source": [
        "import datetime as dt\n",
        "# 컴프리헨션 쓰지 않고\n",
        "start_time = dt.datetime.now()\n",
        "divisor_three = [] # 3의 배수를 집어 넣을 리스트\n",
        "\n",
        "for x in range(1,101):\n",
        "    if x % 3 == 0:\n",
        "        divisor_three.append(x)\n",
        "print(dt.datetime.now() - start_time)\n",
        "print(divisor_three)\n",
        "\n",
        "# 컴프리헨션 사용\n",
        "\n",
        "start_time = dt.datetime.now()\n",
        "divior_three = [x for x in range(1,101) if x % 3 == 0]\n",
        "print(dt.datetime.now() - start_time)\n",
        "print(divisor_three)"
      ],
      "execution_count": 40,
      "outputs": [
        {
          "output_type": "stream",
          "text": [
            "0:00:00.000094\n",
            "[3, 6, 9, 12, 15, 18, 21, 24, 27, 30, 33, 36, 39, 42, 45, 48, 51, 54, 57, 60, 63, 66, 69, 72, 75, 78, 81, 84, 87, 90, 93, 96, 99]\n",
            "0:00:00.000085\n",
            "[3, 6, 9, 12, 15, 18, 21, 24, 27, 30, 33, 36, 39, 42, 45, 48, 51, 54, 57, 60, 63, 66, 69, 72, 75, 78, 81, 84, 87, 90, 93, 96, 99]\n"
          ],
          "name": "stdout"
        }
      ]
    }
  ]
}

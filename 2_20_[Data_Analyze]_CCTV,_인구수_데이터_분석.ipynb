{
  "nbformat": 4,
  "nbformat_minor": 0,
  "metadata": {
    "colab": {
      "name": "2 - 20 [Data Analyze] CCTV, 인구수 데이터 분석.ipynb",
      "provenance": [],
      "mount_file_id": "1366TZCQjuevTG9efHgyCCpYQ3Nw2xHPU",
      "authorship_tag": "ABX9TyNTgu7FfjniHnlQDYMI/yTN",
      "include_colab_link": true
    },
    "kernelspec": {
      "name": "python3",
      "display_name": "Python 3"
    },
    "language_info": {
      "name": "python"
    }
  },
  "cells": [
    {
      "cell_type": "markdown",
      "metadata": {
        "id": "view-in-github",
        "colab_type": "text"
      },
      "source": [
        "<a href=\"https://colab.research.google.com/github/GNuSeekK/ICTCOG/blob/main/2_20_%5BData_Analyze%5D_CCTV%2C_%EC%9D%B8%EA%B5%AC%EC%88%98_%EB%8D%B0%EC%9D%B4%ED%84%B0_%EB%B6%84%EC%84%9D.ipynb\" target=\"_parent\"><img src=\"https://colab.research.google.com/assets/colab-badge.svg\" alt=\"Open In Colab\"/></a>"
      ]
    },
    {
      "cell_type": "markdown",
      "metadata": {
        "id": "pMWhmd3j3Lxw"
      },
      "source": [
        "# 구글 드라이브 마운트"
      ]
    },
    {
      "cell_type": "code",
      "metadata": {
        "id": "sHRrDHAH3ZIv"
      },
      "source": [
        "cctv_file = \"/content/drive/MyDrive/ICTCOG 인공지능과정/Data/01. CCTV_in_Seoul.csv\"\n",
        "pop_file  = \"/content/drive/MyDrive/ICTCOG 인공지능과정/Data/01. population_in_Seoul.xls\""
      ],
      "execution_count": 1,
      "outputs": []
    },
    {
      "cell_type": "markdown",
      "metadata": {
        "id": "CHkjAy7E3tRO"
      },
      "source": [
        "# 1. 데이터 불러오기"
      ]
    },
    {
      "cell_type": "code",
      "metadata": {
        "id": "etyTLeuD3-eT"
      },
      "source": [
        "import pandas as pd"
      ],
      "execution_count": 2,
      "outputs": []
    },
    {
      "cell_type": "code",
      "metadata": {
        "colab": {
          "base_uri": "https://localhost:8080/",
          "height": 204
        },
        "id": "Qu-SGmNr4Ajs",
        "outputId": "8d92365e-1ab6-4f4b-b3ed-30b6661e1c9a"
      },
      "source": [
        "df_cctv = pd.read_csv(cctv_file)\n",
        "df_cctv.head()"
      ],
      "execution_count": 3,
      "outputs": [
        {
          "output_type": "execute_result",
          "data": {
            "text/html": [
              "<div>\n",
              "<style scoped>\n",
              "    .dataframe tbody tr th:only-of-type {\n",
              "        vertical-align: middle;\n",
              "    }\n",
              "\n",
              "    .dataframe tbody tr th {\n",
              "        vertical-align: top;\n",
              "    }\n",
              "\n",
              "    .dataframe thead th {\n",
              "        text-align: right;\n",
              "    }\n",
              "</style>\n",
              "<table border=\"1\" class=\"dataframe\">\n",
              "  <thead>\n",
              "    <tr style=\"text-align: right;\">\n",
              "      <th></th>\n",
              "      <th>기관명</th>\n",
              "      <th>소계</th>\n",
              "      <th>2013년도 이전</th>\n",
              "      <th>2014년</th>\n",
              "      <th>2015년</th>\n",
              "      <th>2016년</th>\n",
              "    </tr>\n",
              "  </thead>\n",
              "  <tbody>\n",
              "    <tr>\n",
              "      <th>0</th>\n",
              "      <td>강남구</td>\n",
              "      <td>2780</td>\n",
              "      <td>1292</td>\n",
              "      <td>430</td>\n",
              "      <td>584</td>\n",
              "      <td>932</td>\n",
              "    </tr>\n",
              "    <tr>\n",
              "      <th>1</th>\n",
              "      <td>강동구</td>\n",
              "      <td>773</td>\n",
              "      <td>379</td>\n",
              "      <td>99</td>\n",
              "      <td>155</td>\n",
              "      <td>377</td>\n",
              "    </tr>\n",
              "    <tr>\n",
              "      <th>2</th>\n",
              "      <td>강북구</td>\n",
              "      <td>748</td>\n",
              "      <td>369</td>\n",
              "      <td>120</td>\n",
              "      <td>138</td>\n",
              "      <td>204</td>\n",
              "    </tr>\n",
              "    <tr>\n",
              "      <th>3</th>\n",
              "      <td>강서구</td>\n",
              "      <td>884</td>\n",
              "      <td>388</td>\n",
              "      <td>258</td>\n",
              "      <td>184</td>\n",
              "      <td>81</td>\n",
              "    </tr>\n",
              "    <tr>\n",
              "      <th>4</th>\n",
              "      <td>관악구</td>\n",
              "      <td>1496</td>\n",
              "      <td>846</td>\n",
              "      <td>260</td>\n",
              "      <td>390</td>\n",
              "      <td>613</td>\n",
              "    </tr>\n",
              "  </tbody>\n",
              "</table>\n",
              "</div>"
            ],
            "text/plain": [
              "   기관명    소계  2013년도 이전  2014년  2015년  2016년\n",
              "0  강남구  2780       1292    430    584    932\n",
              "1  강동구   773        379     99    155    377\n",
              "2  강북구   748        369    120    138    204\n",
              "3  강서구   884        388    258    184     81\n",
              "4  관악구  1496        846    260    390    613"
            ]
          },
          "metadata": {
            "tags": []
          },
          "execution_count": 3
        }
      ]
    },
    {
      "cell_type": "markdown",
      "metadata": {
        "id": "1EgHt1qX4HQh"
      },
      "source": [
        "## 1-1. info() 확인"
      ]
    },
    {
      "cell_type": "code",
      "metadata": {
        "colab": {
          "base_uri": "https://localhost:8080/"
        },
        "id": "whjFe5hI4Qoh",
        "outputId": "e782e3e0-3775-488e-b8b3-24b828421a9d"
      },
      "source": [
        "df_cctv.info()"
      ],
      "execution_count": 4,
      "outputs": [
        {
          "output_type": "stream",
          "text": [
            "<class 'pandas.core.frame.DataFrame'>\n",
            "RangeIndex: 25 entries, 0 to 24\n",
            "Data columns (total 6 columns):\n",
            " #   Column     Non-Null Count  Dtype \n",
            "---  ------     --------------  ----- \n",
            " 0   기관명        25 non-null     object\n",
            " 1   소계         25 non-null     int64 \n",
            " 2   2013년도 이전  25 non-null     int64 \n",
            " 3   2014년      25 non-null     int64 \n",
            " 4   2015년      25 non-null     int64 \n",
            " 5   2016년      25 non-null     int64 \n",
            "dtypes: int64(5), object(1)\n",
            "memory usage: 1.3+ KB\n"
          ],
          "name": "stdout"
        }
      ]
    },
    {
      "cell_type": "markdown",
      "metadata": {
        "id": "IE4bPhhh4T4F"
      },
      "source": [
        "# 2. 컬럼명 변경\n",
        "* rename 활용"
      ]
    },
    {
      "cell_type": "code",
      "metadata": {
        "colab": {
          "base_uri": "https://localhost:8080/",
          "height": 204
        },
        "id": "aAGWeqNE4hRG",
        "outputId": "ae6842e9-7ece-4915-e294-a429605b3263"
      },
      "source": [
        "df_cctv = df_cctv.rename(columns={ \"기관명\": \"구별\" })\n",
        "df_cctv.head()"
      ],
      "execution_count": 5,
      "outputs": [
        {
          "output_type": "execute_result",
          "data": {
            "text/html": [
              "<div>\n",
              "<style scoped>\n",
              "    .dataframe tbody tr th:only-of-type {\n",
              "        vertical-align: middle;\n",
              "    }\n",
              "\n",
              "    .dataframe tbody tr th {\n",
              "        vertical-align: top;\n",
              "    }\n",
              "\n",
              "    .dataframe thead th {\n",
              "        text-align: right;\n",
              "    }\n",
              "</style>\n",
              "<table border=\"1\" class=\"dataframe\">\n",
              "  <thead>\n",
              "    <tr style=\"text-align: right;\">\n",
              "      <th></th>\n",
              "      <th>구별</th>\n",
              "      <th>소계</th>\n",
              "      <th>2013년도 이전</th>\n",
              "      <th>2014년</th>\n",
              "      <th>2015년</th>\n",
              "      <th>2016년</th>\n",
              "    </tr>\n",
              "  </thead>\n",
              "  <tbody>\n",
              "    <tr>\n",
              "      <th>0</th>\n",
              "      <td>강남구</td>\n",
              "      <td>2780</td>\n",
              "      <td>1292</td>\n",
              "      <td>430</td>\n",
              "      <td>584</td>\n",
              "      <td>932</td>\n",
              "    </tr>\n",
              "    <tr>\n",
              "      <th>1</th>\n",
              "      <td>강동구</td>\n",
              "      <td>773</td>\n",
              "      <td>379</td>\n",
              "      <td>99</td>\n",
              "      <td>155</td>\n",
              "      <td>377</td>\n",
              "    </tr>\n",
              "    <tr>\n",
              "      <th>2</th>\n",
              "      <td>강북구</td>\n",
              "      <td>748</td>\n",
              "      <td>369</td>\n",
              "      <td>120</td>\n",
              "      <td>138</td>\n",
              "      <td>204</td>\n",
              "    </tr>\n",
              "    <tr>\n",
              "      <th>3</th>\n",
              "      <td>강서구</td>\n",
              "      <td>884</td>\n",
              "      <td>388</td>\n",
              "      <td>258</td>\n",
              "      <td>184</td>\n",
              "      <td>81</td>\n",
              "    </tr>\n",
              "    <tr>\n",
              "      <th>4</th>\n",
              "      <td>관악구</td>\n",
              "      <td>1496</td>\n",
              "      <td>846</td>\n",
              "      <td>260</td>\n",
              "      <td>390</td>\n",
              "      <td>613</td>\n",
              "    </tr>\n",
              "  </tbody>\n",
              "</table>\n",
              "</div>"
            ],
            "text/plain": [
              "    구별    소계  2013년도 이전  2014년  2015년  2016년\n",
              "0  강남구  2780       1292    430    584    932\n",
              "1  강동구   773        379     99    155    377\n",
              "2  강북구   748        369    120    138    204\n",
              "3  강서구   884        388    258    184     81\n",
              "4  관악구  1496        846    260    390    613"
            ]
          },
          "metadata": {
            "tags": []
          },
          "execution_count": 5
        }
      ]
    },
    {
      "cell_type": "markdown",
      "metadata": {
        "id": "46gdpP6q495O"
      },
      "source": [
        "# 3. 엑셀파일 불러오기\n",
        "* read_excel 함수 사용"
      ]
    },
    {
      "cell_type": "code",
      "metadata": {
        "colab": {
          "base_uri": "https://localhost:8080/",
          "height": 204
        },
        "id": "XRElvJzQ5PPD",
        "outputId": "3b12dec3-b674-4c95-809d-978d3f3e6d20"
      },
      "source": [
        "df_pop_seoul = pd.read_excel(pop_file)\n",
        "df_pop_seoul.head()"
      ],
      "execution_count": 6,
      "outputs": [
        {
          "output_type": "execute_result",
          "data": {
            "text/html": [
              "<div>\n",
              "<style scoped>\n",
              "    .dataframe tbody tr th:only-of-type {\n",
              "        vertical-align: middle;\n",
              "    }\n",
              "\n",
              "    .dataframe tbody tr th {\n",
              "        vertical-align: top;\n",
              "    }\n",
              "\n",
              "    .dataframe thead th {\n",
              "        text-align: right;\n",
              "    }\n",
              "</style>\n",
              "<table border=\"1\" class=\"dataframe\">\n",
              "  <thead>\n",
              "    <tr style=\"text-align: right;\">\n",
              "      <th></th>\n",
              "      <th>기간</th>\n",
              "      <th>자치구</th>\n",
              "      <th>세대</th>\n",
              "      <th>인구</th>\n",
              "      <th>인구.1</th>\n",
              "      <th>인구.2</th>\n",
              "      <th>인구.3</th>\n",
              "      <th>인구.4</th>\n",
              "      <th>인구.5</th>\n",
              "      <th>인구.6</th>\n",
              "      <th>인구.7</th>\n",
              "      <th>인구.8</th>\n",
              "      <th>세대당인구</th>\n",
              "      <th>65세이상고령자</th>\n",
              "    </tr>\n",
              "  </thead>\n",
              "  <tbody>\n",
              "    <tr>\n",
              "      <th>0</th>\n",
              "      <td>기간</td>\n",
              "      <td>자치구</td>\n",
              "      <td>세대</td>\n",
              "      <td>합계</td>\n",
              "      <td>합계</td>\n",
              "      <td>합계</td>\n",
              "      <td>한국인</td>\n",
              "      <td>한국인</td>\n",
              "      <td>한국인</td>\n",
              "      <td>등록외국인</td>\n",
              "      <td>등록외국인</td>\n",
              "      <td>등록외국인</td>\n",
              "      <td>세대당인구</td>\n",
              "      <td>65세이상고령자</td>\n",
              "    </tr>\n",
              "    <tr>\n",
              "      <th>1</th>\n",
              "      <td>기간</td>\n",
              "      <td>자치구</td>\n",
              "      <td>세대</td>\n",
              "      <td>계</td>\n",
              "      <td>남자</td>\n",
              "      <td>여자</td>\n",
              "      <td>계</td>\n",
              "      <td>남자</td>\n",
              "      <td>여자</td>\n",
              "      <td>계</td>\n",
              "      <td>남자</td>\n",
              "      <td>여자</td>\n",
              "      <td>세대당인구</td>\n",
              "      <td>65세이상고령자</td>\n",
              "    </tr>\n",
              "    <tr>\n",
              "      <th>2</th>\n",
              "      <td>2017.1/4</td>\n",
              "      <td>합계</td>\n",
              "      <td>4202888</td>\n",
              "      <td>10197604</td>\n",
              "      <td>5000005</td>\n",
              "      <td>5197599</td>\n",
              "      <td>9926968</td>\n",
              "      <td>4871560</td>\n",
              "      <td>5055408</td>\n",
              "      <td>270636</td>\n",
              "      <td>128445</td>\n",
              "      <td>142191</td>\n",
              "      <td>2.36</td>\n",
              "      <td>1321458</td>\n",
              "    </tr>\n",
              "    <tr>\n",
              "      <th>3</th>\n",
              "      <td>2017.1/4</td>\n",
              "      <td>종로구</td>\n",
              "      <td>72654</td>\n",
              "      <td>162820</td>\n",
              "      <td>79675</td>\n",
              "      <td>83145</td>\n",
              "      <td>153589</td>\n",
              "      <td>75611</td>\n",
              "      <td>77978</td>\n",
              "      <td>9231</td>\n",
              "      <td>4064</td>\n",
              "      <td>5167</td>\n",
              "      <td>2.11</td>\n",
              "      <td>25425</td>\n",
              "    </tr>\n",
              "    <tr>\n",
              "      <th>4</th>\n",
              "      <td>2017.1/4</td>\n",
              "      <td>중구</td>\n",
              "      <td>59481</td>\n",
              "      <td>133240</td>\n",
              "      <td>65790</td>\n",
              "      <td>67450</td>\n",
              "      <td>124312</td>\n",
              "      <td>61656</td>\n",
              "      <td>62656</td>\n",
              "      <td>8928</td>\n",
              "      <td>4134</td>\n",
              "      <td>4794</td>\n",
              "      <td>2.09</td>\n",
              "      <td>20764</td>\n",
              "    </tr>\n",
              "  </tbody>\n",
              "</table>\n",
              "</div>"
            ],
            "text/plain": [
              "         기간  자치구       세대        인구  ...    인구.7    인구.8  세대당인구  65세이상고령자\n",
              "0        기간  자치구       세대        합계  ...   등록외국인   등록외국인  세대당인구  65세이상고령자\n",
              "1        기간  자치구       세대         계  ...      남자      여자  세대당인구  65세이상고령자\n",
              "2  2017.1/4   합계  4202888  10197604  ...  128445  142191   2.36   1321458\n",
              "3  2017.1/4  종로구    72654    162820  ...    4064    5167   2.11     25425\n",
              "4  2017.1/4   중구    59481    133240  ...    4134    4794   2.09     20764\n",
              "\n",
              "[5 rows x 14 columns]"
            ]
          },
          "metadata": {
            "tags": []
          },
          "execution_count": 6
        }
      ]
    },
    {
      "cell_type": "markdown",
      "metadata": {
        "id": "h8q19_cu5Vau"
      },
      "source": [
        "데이터를 불러오면서 엑셀의 컬럼, 행을 선택"
      ]
    },
    {
      "cell_type": "code",
      "metadata": {
        "colab": {
          "base_uri": "https://localhost:8080/",
          "height": 204
        },
        "id": "DzrrBUvh5jef",
        "outputId": "609ff99e-0d95-4108-bf74-c93ef546a363"
      },
      "source": [
        "df_pop_seoul = pd.read_excel(pop_file,\n",
        "                             header=2,  # 인덱스 2번째 데이터 부터 읽어 오기 위해 설정 - 3번째 행부터 읽어오기\n",
        "                             usecols='B, D, G, J, N') # 사용할 컬럼의 알파벳 지정\n",
        "\n",
        "df_pop_seoul.head()"
      ],
      "execution_count": 7,
      "outputs": [
        {
          "output_type": "execute_result",
          "data": {
            "text/html": [
              "<div>\n",
              "<style scoped>\n",
              "    .dataframe tbody tr th:only-of-type {\n",
              "        vertical-align: middle;\n",
              "    }\n",
              "\n",
              "    .dataframe tbody tr th {\n",
              "        vertical-align: top;\n",
              "    }\n",
              "\n",
              "    .dataframe thead th {\n",
              "        text-align: right;\n",
              "    }\n",
              "</style>\n",
              "<table border=\"1\" class=\"dataframe\">\n",
              "  <thead>\n",
              "    <tr style=\"text-align: right;\">\n",
              "      <th></th>\n",
              "      <th>자치구</th>\n",
              "      <th>계</th>\n",
              "      <th>계.1</th>\n",
              "      <th>계.2</th>\n",
              "      <th>65세이상고령자</th>\n",
              "    </tr>\n",
              "  </thead>\n",
              "  <tbody>\n",
              "    <tr>\n",
              "      <th>0</th>\n",
              "      <td>합계</td>\n",
              "      <td>10197604.0</td>\n",
              "      <td>9926968.0</td>\n",
              "      <td>270636.0</td>\n",
              "      <td>1321458.0</td>\n",
              "    </tr>\n",
              "    <tr>\n",
              "      <th>1</th>\n",
              "      <td>종로구</td>\n",
              "      <td>162820.0</td>\n",
              "      <td>153589.0</td>\n",
              "      <td>9231.0</td>\n",
              "      <td>25425.0</td>\n",
              "    </tr>\n",
              "    <tr>\n",
              "      <th>2</th>\n",
              "      <td>중구</td>\n",
              "      <td>133240.0</td>\n",
              "      <td>124312.0</td>\n",
              "      <td>8928.0</td>\n",
              "      <td>20764.0</td>\n",
              "    </tr>\n",
              "    <tr>\n",
              "      <th>3</th>\n",
              "      <td>용산구</td>\n",
              "      <td>244203.0</td>\n",
              "      <td>229456.0</td>\n",
              "      <td>14747.0</td>\n",
              "      <td>36231.0</td>\n",
              "    </tr>\n",
              "    <tr>\n",
              "      <th>4</th>\n",
              "      <td>성동구</td>\n",
              "      <td>311244.0</td>\n",
              "      <td>303380.0</td>\n",
              "      <td>7864.0</td>\n",
              "      <td>39997.0</td>\n",
              "    </tr>\n",
              "  </tbody>\n",
              "</table>\n",
              "</div>"
            ],
            "text/plain": [
              "   자치구           계        계.1       계.2   65세이상고령자\n",
              "0   합계  10197604.0  9926968.0  270636.0  1321458.0\n",
              "1  종로구    162820.0   153589.0    9231.0    25425.0\n",
              "2   중구    133240.0   124312.0    8928.0    20764.0\n",
              "3  용산구    244203.0   229456.0   14747.0    36231.0\n",
              "4  성동구    311244.0   303380.0    7864.0    39997.0"
            ]
          },
          "metadata": {
            "tags": []
          },
          "execution_count": 7
        }
      ]
    },
    {
      "cell_type": "markdown",
      "metadata": {
        "id": "EeolCTIp-0Oh"
      },
      "source": [
        "컬럼의 이름 수정"
      ]
    },
    {
      "cell_type": "code",
      "metadata": {
        "colab": {
          "base_uri": "https://localhost:8080/",
          "height": 204
        },
        "id": "fu2ZdMMG-49_",
        "outputId": "8b80557c-09ec-4421-dd40-7252dc263968"
      },
      "source": [
        "df_pop_seoul.columns = [\"구별\", \"인구수\", \"한국인\", \"외국인\", \"고령자\"]\n",
        "df_pop_seoul.head()"
      ],
      "execution_count": 8,
      "outputs": [
        {
          "output_type": "execute_result",
          "data": {
            "text/html": [
              "<div>\n",
              "<style scoped>\n",
              "    .dataframe tbody tr th:only-of-type {\n",
              "        vertical-align: middle;\n",
              "    }\n",
              "\n",
              "    .dataframe tbody tr th {\n",
              "        vertical-align: top;\n",
              "    }\n",
              "\n",
              "    .dataframe thead th {\n",
              "        text-align: right;\n",
              "    }\n",
              "</style>\n",
              "<table border=\"1\" class=\"dataframe\">\n",
              "  <thead>\n",
              "    <tr style=\"text-align: right;\">\n",
              "      <th></th>\n",
              "      <th>구별</th>\n",
              "      <th>인구수</th>\n",
              "      <th>한국인</th>\n",
              "      <th>외국인</th>\n",
              "      <th>고령자</th>\n",
              "    </tr>\n",
              "  </thead>\n",
              "  <tbody>\n",
              "    <tr>\n",
              "      <th>0</th>\n",
              "      <td>합계</td>\n",
              "      <td>10197604.0</td>\n",
              "      <td>9926968.0</td>\n",
              "      <td>270636.0</td>\n",
              "      <td>1321458.0</td>\n",
              "    </tr>\n",
              "    <tr>\n",
              "      <th>1</th>\n",
              "      <td>종로구</td>\n",
              "      <td>162820.0</td>\n",
              "      <td>153589.0</td>\n",
              "      <td>9231.0</td>\n",
              "      <td>25425.0</td>\n",
              "    </tr>\n",
              "    <tr>\n",
              "      <th>2</th>\n",
              "      <td>중구</td>\n",
              "      <td>133240.0</td>\n",
              "      <td>124312.0</td>\n",
              "      <td>8928.0</td>\n",
              "      <td>20764.0</td>\n",
              "    </tr>\n",
              "    <tr>\n",
              "      <th>3</th>\n",
              "      <td>용산구</td>\n",
              "      <td>244203.0</td>\n",
              "      <td>229456.0</td>\n",
              "      <td>14747.0</td>\n",
              "      <td>36231.0</td>\n",
              "    </tr>\n",
              "    <tr>\n",
              "      <th>4</th>\n",
              "      <td>성동구</td>\n",
              "      <td>311244.0</td>\n",
              "      <td>303380.0</td>\n",
              "      <td>7864.0</td>\n",
              "      <td>39997.0</td>\n",
              "    </tr>\n",
              "  </tbody>\n",
              "</table>\n",
              "</div>"
            ],
            "text/plain": [
              "    구별         인구수        한국인       외국인        고령자\n",
              "0   합계  10197604.0  9926968.0  270636.0  1321458.0\n",
              "1  종로구    162820.0   153589.0    9231.0    25425.0\n",
              "2   중구    133240.0   124312.0    8928.0    20764.0\n",
              "3  용산구    244203.0   229456.0   14747.0    36231.0\n",
              "4  성동구    311244.0   303380.0    7864.0    39997.0"
            ]
          },
          "metadata": {
            "tags": []
          },
          "execution_count": 8
        }
      ]
    },
    {
      "cell_type": "markdown",
      "metadata": {
        "id": "uClCAKdh_GEX"
      },
      "source": [
        "# 4. 간단하게 데이터 살펴보기"
      ]
    },
    {
      "cell_type": "markdown",
      "metadata": {
        "id": "Pf5kQt2mCYog"
      },
      "source": [
        "## 4-1. CCTV 데이터 살펴보기"
      ]
    },
    {
      "cell_type": "code",
      "metadata": {
        "colab": {
          "base_uri": "https://localhost:8080/",
          "height": 204
        },
        "id": "GqDBNYZZ_qxU",
        "outputId": "6adc614a-39a9-4674-9eaa-1c355e060137"
      },
      "source": [
        "# CCTV가 많은 순으로 정렬하기\n",
        "df_cctv.sort_values(by=\"소계\", ascending=False).head()"
      ],
      "execution_count": 9,
      "outputs": [
        {
          "output_type": "execute_result",
          "data": {
            "text/html": [
              "<div>\n",
              "<style scoped>\n",
              "    .dataframe tbody tr th:only-of-type {\n",
              "        vertical-align: middle;\n",
              "    }\n",
              "\n",
              "    .dataframe tbody tr th {\n",
              "        vertical-align: top;\n",
              "    }\n",
              "\n",
              "    .dataframe thead th {\n",
              "        text-align: right;\n",
              "    }\n",
              "</style>\n",
              "<table border=\"1\" class=\"dataframe\">\n",
              "  <thead>\n",
              "    <tr style=\"text-align: right;\">\n",
              "      <th></th>\n",
              "      <th>구별</th>\n",
              "      <th>소계</th>\n",
              "      <th>2013년도 이전</th>\n",
              "      <th>2014년</th>\n",
              "      <th>2015년</th>\n",
              "      <th>2016년</th>\n",
              "    </tr>\n",
              "  </thead>\n",
              "  <tbody>\n",
              "    <tr>\n",
              "      <th>0</th>\n",
              "      <td>강남구</td>\n",
              "      <td>2780</td>\n",
              "      <td>1292</td>\n",
              "      <td>430</td>\n",
              "      <td>584</td>\n",
              "      <td>932</td>\n",
              "    </tr>\n",
              "    <tr>\n",
              "      <th>18</th>\n",
              "      <td>양천구</td>\n",
              "      <td>2034</td>\n",
              "      <td>1843</td>\n",
              "      <td>142</td>\n",
              "      <td>30</td>\n",
              "      <td>467</td>\n",
              "    </tr>\n",
              "    <tr>\n",
              "      <th>14</th>\n",
              "      <td>서초구</td>\n",
              "      <td>1930</td>\n",
              "      <td>1406</td>\n",
              "      <td>157</td>\n",
              "      <td>336</td>\n",
              "      <td>398</td>\n",
              "    </tr>\n",
              "    <tr>\n",
              "      <th>21</th>\n",
              "      <td>은평구</td>\n",
              "      <td>1873</td>\n",
              "      <td>1138</td>\n",
              "      <td>224</td>\n",
              "      <td>278</td>\n",
              "      <td>468</td>\n",
              "    </tr>\n",
              "    <tr>\n",
              "      <th>20</th>\n",
              "      <td>용산구</td>\n",
              "      <td>1624</td>\n",
              "      <td>1368</td>\n",
              "      <td>218</td>\n",
              "      <td>112</td>\n",
              "      <td>398</td>\n",
              "    </tr>\n",
              "  </tbody>\n",
              "</table>\n",
              "</div>"
            ],
            "text/plain": [
              "     구별    소계  2013년도 이전  2014년  2015년  2016년\n",
              "0   강남구  2780       1292    430    584    932\n",
              "18  양천구  2034       1843    142     30    467\n",
              "14  서초구  1930       1406    157    336    398\n",
              "21  은평구  1873       1138    224    278    468\n",
              "20  용산구  1624       1368    218    112    398"
            ]
          },
          "metadata": {
            "tags": []
          },
          "execution_count": 9
        }
      ]
    },
    {
      "cell_type": "code",
      "metadata": {
        "colab": {
          "base_uri": "https://localhost:8080/",
          "height": 204
        },
        "id": "ujVeqdXrCUQi",
        "outputId": "e483c1d8-d97e-43c6-d652-a6b72a8ae189"
      },
      "source": [
        "# CCTV가 적은 순으로 정렬하기 - 오름차순으로 정렬\n",
        "df_cctv.sort_values(by=\"소계\", ascending=True).head()"
      ],
      "execution_count": 10,
      "outputs": [
        {
          "output_type": "execute_result",
          "data": {
            "text/html": [
              "<div>\n",
              "<style scoped>\n",
              "    .dataframe tbody tr th:only-of-type {\n",
              "        vertical-align: middle;\n",
              "    }\n",
              "\n",
              "    .dataframe tbody tr th {\n",
              "        vertical-align: top;\n",
              "    }\n",
              "\n",
              "    .dataframe thead th {\n",
              "        text-align: right;\n",
              "    }\n",
              "</style>\n",
              "<table border=\"1\" class=\"dataframe\">\n",
              "  <thead>\n",
              "    <tr style=\"text-align: right;\">\n",
              "      <th></th>\n",
              "      <th>구별</th>\n",
              "      <th>소계</th>\n",
              "      <th>2013년도 이전</th>\n",
              "      <th>2014년</th>\n",
              "      <th>2015년</th>\n",
              "      <th>2016년</th>\n",
              "    </tr>\n",
              "  </thead>\n",
              "  <tbody>\n",
              "    <tr>\n",
              "      <th>9</th>\n",
              "      <td>도봉구</td>\n",
              "      <td>485</td>\n",
              "      <td>238</td>\n",
              "      <td>159</td>\n",
              "      <td>42</td>\n",
              "      <td>386</td>\n",
              "    </tr>\n",
              "    <tr>\n",
              "      <th>12</th>\n",
              "      <td>마포구</td>\n",
              "      <td>574</td>\n",
              "      <td>314</td>\n",
              "      <td>118</td>\n",
              "      <td>169</td>\n",
              "      <td>379</td>\n",
              "    </tr>\n",
              "    <tr>\n",
              "      <th>17</th>\n",
              "      <td>송파구</td>\n",
              "      <td>618</td>\n",
              "      <td>529</td>\n",
              "      <td>21</td>\n",
              "      <td>68</td>\n",
              "      <td>463</td>\n",
              "    </tr>\n",
              "    <tr>\n",
              "      <th>24</th>\n",
              "      <td>중랑구</td>\n",
              "      <td>660</td>\n",
              "      <td>509</td>\n",
              "      <td>121</td>\n",
              "      <td>177</td>\n",
              "      <td>109</td>\n",
              "    </tr>\n",
              "    <tr>\n",
              "      <th>23</th>\n",
              "      <td>중구</td>\n",
              "      <td>671</td>\n",
              "      <td>413</td>\n",
              "      <td>190</td>\n",
              "      <td>72</td>\n",
              "      <td>348</td>\n",
              "    </tr>\n",
              "  </tbody>\n",
              "</table>\n",
              "</div>"
            ],
            "text/plain": [
              "     구별   소계  2013년도 이전  2014년  2015년  2016년\n",
              "9   도봉구  485        238    159     42    386\n",
              "12  마포구  574        314    118    169    379\n",
              "17  송파구  618        529     21     68    463\n",
              "24  중랑구  660        509    121    177    109\n",
              "23   중구  671        413    190     72    348"
            ]
          },
          "metadata": {
            "tags": []
          },
          "execution_count": 10
        }
      ]
    },
    {
      "cell_type": "markdown",
      "metadata": {
        "id": "epZps40M_-Dn"
      },
      "source": [
        "CCTV 설치량은 매해 달라질 수가 있다.\n",
        "* 단순한 개수만 세어진 데이터를 활용하는 것 보다, 각종 **비율정보**를 활용하는 것이 더 도움이 된다."
      ]
    },
    {
      "cell_type": "code",
      "metadata": {
        "colab": {
          "base_uri": "https://localhost:8080/",
          "height": 204
        },
        "id": "fvuBMgtrAeor",
        "outputId": "0d87aef4-98a0-43a3-dbf5-d47dd7dcf9e3"
      },
      "source": [
        "# 최근 3년치 CCTV대수가 증가한 \"최근증가율\"을 구해보기 - (2014+2015+2016) / 2013\n",
        "df_cctv[\"최근증가율\"] = ( df_cctv['2014년'] + df_cctv['2015년'] + df_cctv['2016년'] ) / df_cctv['2013년도 이전'] * 100\n",
        "df_cctv.head()"
      ],
      "execution_count": 11,
      "outputs": [
        {
          "output_type": "execute_result",
          "data": {
            "text/html": [
              "<div>\n",
              "<style scoped>\n",
              "    .dataframe tbody tr th:only-of-type {\n",
              "        vertical-align: middle;\n",
              "    }\n",
              "\n",
              "    .dataframe tbody tr th {\n",
              "        vertical-align: top;\n",
              "    }\n",
              "\n",
              "    .dataframe thead th {\n",
              "        text-align: right;\n",
              "    }\n",
              "</style>\n",
              "<table border=\"1\" class=\"dataframe\">\n",
              "  <thead>\n",
              "    <tr style=\"text-align: right;\">\n",
              "      <th></th>\n",
              "      <th>구별</th>\n",
              "      <th>소계</th>\n",
              "      <th>2013년도 이전</th>\n",
              "      <th>2014년</th>\n",
              "      <th>2015년</th>\n",
              "      <th>2016년</th>\n",
              "      <th>최근증가율</th>\n",
              "    </tr>\n",
              "  </thead>\n",
              "  <tbody>\n",
              "    <tr>\n",
              "      <th>0</th>\n",
              "      <td>강남구</td>\n",
              "      <td>2780</td>\n",
              "      <td>1292</td>\n",
              "      <td>430</td>\n",
              "      <td>584</td>\n",
              "      <td>932</td>\n",
              "      <td>150.619195</td>\n",
              "    </tr>\n",
              "    <tr>\n",
              "      <th>1</th>\n",
              "      <td>강동구</td>\n",
              "      <td>773</td>\n",
              "      <td>379</td>\n",
              "      <td>99</td>\n",
              "      <td>155</td>\n",
              "      <td>377</td>\n",
              "      <td>166.490765</td>\n",
              "    </tr>\n",
              "    <tr>\n",
              "      <th>2</th>\n",
              "      <td>강북구</td>\n",
              "      <td>748</td>\n",
              "      <td>369</td>\n",
              "      <td>120</td>\n",
              "      <td>138</td>\n",
              "      <td>204</td>\n",
              "      <td>125.203252</td>\n",
              "    </tr>\n",
              "    <tr>\n",
              "      <th>3</th>\n",
              "      <td>강서구</td>\n",
              "      <td>884</td>\n",
              "      <td>388</td>\n",
              "      <td>258</td>\n",
              "      <td>184</td>\n",
              "      <td>81</td>\n",
              "      <td>134.793814</td>\n",
              "    </tr>\n",
              "    <tr>\n",
              "      <th>4</th>\n",
              "      <td>관악구</td>\n",
              "      <td>1496</td>\n",
              "      <td>846</td>\n",
              "      <td>260</td>\n",
              "      <td>390</td>\n",
              "      <td>613</td>\n",
              "      <td>149.290780</td>\n",
              "    </tr>\n",
              "  </tbody>\n",
              "</table>\n",
              "</div>"
            ],
            "text/plain": [
              "    구별    소계  2013년도 이전  2014년  2015년  2016년       최근증가율\n",
              "0  강남구  2780       1292    430    584    932  150.619195\n",
              "1  강동구   773        379     99    155    377  166.490765\n",
              "2  강북구   748        369    120    138    204  125.203252\n",
              "3  강서구   884        388    258    184     81  134.793814\n",
              "4  관악구  1496        846    260    390    613  149.290780"
            ]
          },
          "metadata": {
            "tags": []
          },
          "execution_count": 11
        }
      ]
    },
    {
      "cell_type": "markdown",
      "metadata": {
        "id": "ZievDv2JBX2-"
      },
      "source": [
        "CCTV 증가율이 제일 높은 순으로 정렬"
      ]
    },
    {
      "cell_type": "code",
      "metadata": {
        "colab": {
          "base_uri": "https://localhost:8080/",
          "height": 204
        },
        "id": "24Tc4fRCCAZ6",
        "outputId": "9427a8d9-e749-43c4-a2d1-babe89b09664"
      },
      "source": [
        "df_cctv.sort_values(by='최근증가율', ascending=False).head()"
      ],
      "execution_count": 12,
      "outputs": [
        {
          "output_type": "execute_result",
          "data": {
            "text/html": [
              "<div>\n",
              "<style scoped>\n",
              "    .dataframe tbody tr th:only-of-type {\n",
              "        vertical-align: middle;\n",
              "    }\n",
              "\n",
              "    .dataframe tbody tr th {\n",
              "        vertical-align: top;\n",
              "    }\n",
              "\n",
              "    .dataframe thead th {\n",
              "        text-align: right;\n",
              "    }\n",
              "</style>\n",
              "<table border=\"1\" class=\"dataframe\">\n",
              "  <thead>\n",
              "    <tr style=\"text-align: right;\">\n",
              "      <th></th>\n",
              "      <th>구별</th>\n",
              "      <th>소계</th>\n",
              "      <th>2013년도 이전</th>\n",
              "      <th>2014년</th>\n",
              "      <th>2015년</th>\n",
              "      <th>2016년</th>\n",
              "      <th>최근증가율</th>\n",
              "    </tr>\n",
              "  </thead>\n",
              "  <tbody>\n",
              "    <tr>\n",
              "      <th>22</th>\n",
              "      <td>종로구</td>\n",
              "      <td>1002</td>\n",
              "      <td>464</td>\n",
              "      <td>314</td>\n",
              "      <td>211</td>\n",
              "      <td>630</td>\n",
              "      <td>248.922414</td>\n",
              "    </tr>\n",
              "    <tr>\n",
              "      <th>9</th>\n",
              "      <td>도봉구</td>\n",
              "      <td>485</td>\n",
              "      <td>238</td>\n",
              "      <td>159</td>\n",
              "      <td>42</td>\n",
              "      <td>386</td>\n",
              "      <td>246.638655</td>\n",
              "    </tr>\n",
              "    <tr>\n",
              "      <th>12</th>\n",
              "      <td>마포구</td>\n",
              "      <td>574</td>\n",
              "      <td>314</td>\n",
              "      <td>118</td>\n",
              "      <td>169</td>\n",
              "      <td>379</td>\n",
              "      <td>212.101911</td>\n",
              "    </tr>\n",
              "    <tr>\n",
              "      <th>8</th>\n",
              "      <td>노원구</td>\n",
              "      <td>1265</td>\n",
              "      <td>542</td>\n",
              "      <td>57</td>\n",
              "      <td>451</td>\n",
              "      <td>516</td>\n",
              "      <td>188.929889</td>\n",
              "    </tr>\n",
              "    <tr>\n",
              "      <th>1</th>\n",
              "      <td>강동구</td>\n",
              "      <td>773</td>\n",
              "      <td>379</td>\n",
              "      <td>99</td>\n",
              "      <td>155</td>\n",
              "      <td>377</td>\n",
              "      <td>166.490765</td>\n",
              "    </tr>\n",
              "  </tbody>\n",
              "</table>\n",
              "</div>"
            ],
            "text/plain": [
              "     구별    소계  2013년도 이전  2014년  2015년  2016년       최근증가율\n",
              "22  종로구  1002        464    314    211    630  248.922414\n",
              "9   도봉구   485        238    159     42    386  246.638655\n",
              "12  마포구   574        314    118    169    379  212.101911\n",
              "8   노원구  1265        542     57    451    516  188.929889\n",
              "1   강동구   773        379     99    155    377  166.490765"
            ]
          },
          "metadata": {
            "tags": []
          },
          "execution_count": 12
        }
      ]
    },
    {
      "cell_type": "markdown",
      "metadata": {
        "id": "vxqpPDY-CEmp"
      },
      "source": [
        "## 4-2. 인구데이터 살펴보기"
      ]
    },
    {
      "cell_type": "code",
      "metadata": {
        "colab": {
          "base_uri": "https://localhost:8080/",
          "height": 204
        },
        "id": "REr-BWrJCcrZ",
        "outputId": "980f6aa4-982e-4058-9d40-de461a506fc5"
      },
      "source": [
        "df_pop_seoul.head()"
      ],
      "execution_count": 13,
      "outputs": [
        {
          "output_type": "execute_result",
          "data": {
            "text/html": [
              "<div>\n",
              "<style scoped>\n",
              "    .dataframe tbody tr th:only-of-type {\n",
              "        vertical-align: middle;\n",
              "    }\n",
              "\n",
              "    .dataframe tbody tr th {\n",
              "        vertical-align: top;\n",
              "    }\n",
              "\n",
              "    .dataframe thead th {\n",
              "        text-align: right;\n",
              "    }\n",
              "</style>\n",
              "<table border=\"1\" class=\"dataframe\">\n",
              "  <thead>\n",
              "    <tr style=\"text-align: right;\">\n",
              "      <th></th>\n",
              "      <th>구별</th>\n",
              "      <th>인구수</th>\n",
              "      <th>한국인</th>\n",
              "      <th>외국인</th>\n",
              "      <th>고령자</th>\n",
              "    </tr>\n",
              "  </thead>\n",
              "  <tbody>\n",
              "    <tr>\n",
              "      <th>0</th>\n",
              "      <td>합계</td>\n",
              "      <td>10197604.0</td>\n",
              "      <td>9926968.0</td>\n",
              "      <td>270636.0</td>\n",
              "      <td>1321458.0</td>\n",
              "    </tr>\n",
              "    <tr>\n",
              "      <th>1</th>\n",
              "      <td>종로구</td>\n",
              "      <td>162820.0</td>\n",
              "      <td>153589.0</td>\n",
              "      <td>9231.0</td>\n",
              "      <td>25425.0</td>\n",
              "    </tr>\n",
              "    <tr>\n",
              "      <th>2</th>\n",
              "      <td>중구</td>\n",
              "      <td>133240.0</td>\n",
              "      <td>124312.0</td>\n",
              "      <td>8928.0</td>\n",
              "      <td>20764.0</td>\n",
              "    </tr>\n",
              "    <tr>\n",
              "      <th>3</th>\n",
              "      <td>용산구</td>\n",
              "      <td>244203.0</td>\n",
              "      <td>229456.0</td>\n",
              "      <td>14747.0</td>\n",
              "      <td>36231.0</td>\n",
              "    </tr>\n",
              "    <tr>\n",
              "      <th>4</th>\n",
              "      <td>성동구</td>\n",
              "      <td>311244.0</td>\n",
              "      <td>303380.0</td>\n",
              "      <td>7864.0</td>\n",
              "      <td>39997.0</td>\n",
              "    </tr>\n",
              "  </tbody>\n",
              "</table>\n",
              "</div>"
            ],
            "text/plain": [
              "    구별         인구수        한국인       외국인        고령자\n",
              "0   합계  10197604.0  9926968.0  270636.0  1321458.0\n",
              "1  종로구    162820.0   153589.0    9231.0    25425.0\n",
              "2   중구    133240.0   124312.0    8928.0    20764.0\n",
              "3  용산구    244203.0   229456.0   14747.0    36231.0\n",
              "4  성동구    311244.0   303380.0    7864.0    39997.0"
            ]
          },
          "metadata": {
            "tags": []
          },
          "execution_count": 13
        }
      ]
    },
    {
      "cell_type": "markdown",
      "metadata": {
        "id": "U4jTkj3bCfk2"
      },
      "source": [
        "구별로 확인을 해볼 것이기 때문에 \"합계\" 데이터는 별로 중요하지 않다."
      ]
    },
    {
      "cell_type": "code",
      "metadata": {
        "colab": {
          "base_uri": "https://localhost:8080/",
          "height": 204
        },
        "id": "GRyZ_ugBCoMq",
        "outputId": "44c99a0e-4900-4abe-b571-39aa697f6c3b"
      },
      "source": [
        "df_pop_seoul = df_pop_seoul.drop([0]) # 0번 인덱스 데이터 삭제하기\n",
        "df_pop_seoul.head()"
      ],
      "execution_count": 14,
      "outputs": [
        {
          "output_type": "execute_result",
          "data": {
            "text/html": [
              "<div>\n",
              "<style scoped>\n",
              "    .dataframe tbody tr th:only-of-type {\n",
              "        vertical-align: middle;\n",
              "    }\n",
              "\n",
              "    .dataframe tbody tr th {\n",
              "        vertical-align: top;\n",
              "    }\n",
              "\n",
              "    .dataframe thead th {\n",
              "        text-align: right;\n",
              "    }\n",
              "</style>\n",
              "<table border=\"1\" class=\"dataframe\">\n",
              "  <thead>\n",
              "    <tr style=\"text-align: right;\">\n",
              "      <th></th>\n",
              "      <th>구별</th>\n",
              "      <th>인구수</th>\n",
              "      <th>한국인</th>\n",
              "      <th>외국인</th>\n",
              "      <th>고령자</th>\n",
              "    </tr>\n",
              "  </thead>\n",
              "  <tbody>\n",
              "    <tr>\n",
              "      <th>1</th>\n",
              "      <td>종로구</td>\n",
              "      <td>162820.0</td>\n",
              "      <td>153589.0</td>\n",
              "      <td>9231.0</td>\n",
              "      <td>25425.0</td>\n",
              "    </tr>\n",
              "    <tr>\n",
              "      <th>2</th>\n",
              "      <td>중구</td>\n",
              "      <td>133240.0</td>\n",
              "      <td>124312.0</td>\n",
              "      <td>8928.0</td>\n",
              "      <td>20764.0</td>\n",
              "    </tr>\n",
              "    <tr>\n",
              "      <th>3</th>\n",
              "      <td>용산구</td>\n",
              "      <td>244203.0</td>\n",
              "      <td>229456.0</td>\n",
              "      <td>14747.0</td>\n",
              "      <td>36231.0</td>\n",
              "    </tr>\n",
              "    <tr>\n",
              "      <th>4</th>\n",
              "      <td>성동구</td>\n",
              "      <td>311244.0</td>\n",
              "      <td>303380.0</td>\n",
              "      <td>7864.0</td>\n",
              "      <td>39997.0</td>\n",
              "    </tr>\n",
              "    <tr>\n",
              "      <th>5</th>\n",
              "      <td>광진구</td>\n",
              "      <td>372164.0</td>\n",
              "      <td>357211.0</td>\n",
              "      <td>14953.0</td>\n",
              "      <td>42214.0</td>\n",
              "    </tr>\n",
              "  </tbody>\n",
              "</table>\n",
              "</div>"
            ],
            "text/plain": [
              "    구별       인구수       한국인      외국인      고령자\n",
              "1  종로구  162820.0  153589.0   9231.0  25425.0\n",
              "2   중구  133240.0  124312.0   8928.0  20764.0\n",
              "3  용산구  244203.0  229456.0  14747.0  36231.0\n",
              "4  성동구  311244.0  303380.0   7864.0  39997.0\n",
              "5  광진구  372164.0  357211.0  14953.0  42214.0"
            ]
          },
          "metadata": {
            "tags": []
          },
          "execution_count": 14
        }
      ]
    },
    {
      "cell_type": "markdown",
      "metadata": {
        "id": "TRLHR4uFC30Z"
      },
      "source": [
        "info()로 다시한번 확인"
      ]
    },
    {
      "cell_type": "code",
      "metadata": {
        "colab": {
          "base_uri": "https://localhost:8080/"
        },
        "id": "AswO0YkEDH3O",
        "outputId": "c3847eac-aba2-42e7-9e5e-a06af3d9af81"
      },
      "source": [
        "df_pop_seoul.info()"
      ],
      "execution_count": 15,
      "outputs": [
        {
          "output_type": "stream",
          "text": [
            "<class 'pandas.core.frame.DataFrame'>\n",
            "Int64Index: 26 entries, 1 to 26\n",
            "Data columns (total 5 columns):\n",
            " #   Column  Non-Null Count  Dtype  \n",
            "---  ------  --------------  -----  \n",
            " 0   구별      25 non-null     object \n",
            " 1   인구수     25 non-null     float64\n",
            " 2   한국인     25 non-null     float64\n",
            " 3   외국인     25 non-null     float64\n",
            " 4   고령자     25 non-null     float64\n",
            "dtypes: float64(4), object(1)\n",
            "memory usage: 1.2+ KB\n"
          ],
          "name": "stdout"
        }
      ]
    },
    {
      "cell_type": "markdown",
      "metadata": {
        "id": "OygeY5iiDJCo"
      },
      "source": [
        "26개의 데이터가 있다 `26 entries` <br/>\n",
        "**But** 실제 데이터의 개수는 25개(`25 non-null`)"
      ]
    },
    {
      "cell_type": "code",
      "metadata": {
        "colab": {
          "base_uri": "https://localhost:8080/"
        },
        "id": "esHRa-pmDScH",
        "outputId": "95816799-4efa-4f9f-db70-b5ea507f9c5c"
      },
      "source": [
        "# 1. 구별 컬럼에 어떠한 데이터의 종류가 있는지를 파악\n",
        "#  nan값이 있는지 파악해봐야 한다.\n",
        "df_pop_seoul[\"구별\"].unique()"
      ],
      "execution_count": 16,
      "outputs": [
        {
          "output_type": "execute_result",
          "data": {
            "text/plain": [
              "array(['종로구', '중구', '용산구', '성동구', '광진구', '동대문구', '중랑구', '성북구', '강북구',\n",
              "       '도봉구', '노원구', '은평구', '서대문구', '마포구', '양천구', '강서구', '구로구', '금천구',\n",
              "       '영등포구', '동작구', '관악구', '서초구', '강남구', '송파구', '강동구', nan],\n",
              "      dtype=object)"
            ]
          },
          "metadata": {
            "tags": []
          },
          "execution_count": 16
        }
      ]
    },
    {
      "cell_type": "markdown",
      "metadata": {
        "id": "4n2U33DMDkSI"
      },
      "source": [
        "`isnull()`을 활용해서 구별 데이터가 NaN값인 행을 찾기"
      ]
    },
    {
      "cell_type": "code",
      "metadata": {
        "colab": {
          "base_uri": "https://localhost:8080/",
          "height": 80
        },
        "id": "5YOglM-ADyLr",
        "outputId": "c927ec48-63d6-4198-b85d-2d0d8a420ef7"
      },
      "source": [
        "df_pop_seoul[ df_pop_seoul[\"구별\"].isnull() ]"
      ],
      "execution_count": 17,
      "outputs": [
        {
          "output_type": "execute_result",
          "data": {
            "text/html": [
              "<div>\n",
              "<style scoped>\n",
              "    .dataframe tbody tr th:only-of-type {\n",
              "        vertical-align: middle;\n",
              "    }\n",
              "\n",
              "    .dataframe tbody tr th {\n",
              "        vertical-align: top;\n",
              "    }\n",
              "\n",
              "    .dataframe thead th {\n",
              "        text-align: right;\n",
              "    }\n",
              "</style>\n",
              "<table border=\"1\" class=\"dataframe\">\n",
              "  <thead>\n",
              "    <tr style=\"text-align: right;\">\n",
              "      <th></th>\n",
              "      <th>구별</th>\n",
              "      <th>인구수</th>\n",
              "      <th>한국인</th>\n",
              "      <th>외국인</th>\n",
              "      <th>고령자</th>\n",
              "    </tr>\n",
              "  </thead>\n",
              "  <tbody>\n",
              "    <tr>\n",
              "      <th>26</th>\n",
              "      <td>NaN</td>\n",
              "      <td>NaN</td>\n",
              "      <td>NaN</td>\n",
              "      <td>NaN</td>\n",
              "      <td>NaN</td>\n",
              "    </tr>\n",
              "  </tbody>\n",
              "</table>\n",
              "</div>"
            ],
            "text/plain": [
              "     구별  인구수  한국인  외국인  고령자\n",
              "26  NaN  NaN  NaN  NaN  NaN"
            ]
          },
          "metadata": {
            "tags": []
          },
          "execution_count": 17
        }
      ]
    },
    {
      "cell_type": "code",
      "metadata": {
        "colab": {
          "base_uri": "https://localhost:8080/",
          "height": 49
        },
        "id": "TQHyJod7D3st",
        "outputId": "21855370-fe5e-4bbf-cc56-f62b9e342f2a"
      },
      "source": [
        "# NaN값이 들어있는 행 제거\n",
        "df_pop_seoul = df_pop_seoul.drop([26])\n",
        "df_pop_seoul[df_pop_seoul[\"구별\"].isnull()]"
      ],
      "execution_count": 18,
      "outputs": [
        {
          "output_type": "execute_result",
          "data": {
            "text/html": [
              "<div>\n",
              "<style scoped>\n",
              "    .dataframe tbody tr th:only-of-type {\n",
              "        vertical-align: middle;\n",
              "    }\n",
              "\n",
              "    .dataframe tbody tr th {\n",
              "        vertical-align: top;\n",
              "    }\n",
              "\n",
              "    .dataframe thead th {\n",
              "        text-align: right;\n",
              "    }\n",
              "</style>\n",
              "<table border=\"1\" class=\"dataframe\">\n",
              "  <thead>\n",
              "    <tr style=\"text-align: right;\">\n",
              "      <th></th>\n",
              "      <th>구별</th>\n",
              "      <th>인구수</th>\n",
              "      <th>한국인</th>\n",
              "      <th>외국인</th>\n",
              "      <th>고령자</th>\n",
              "    </tr>\n",
              "  </thead>\n",
              "  <tbody>\n",
              "  </tbody>\n",
              "</table>\n",
              "</div>"
            ],
            "text/plain": [
              "Empty DataFrame\n",
              "Columns: [구별, 인구수, 한국인, 외국인, 고령자]\n",
              "Index: []"
            ]
          },
          "metadata": {
            "tags": []
          },
          "execution_count": 18
        }
      ]
    },
    {
      "cell_type": "code",
      "metadata": {
        "colab": {
          "base_uri": "https://localhost:8080/"
        },
        "id": "bXyQoieMEAJV",
        "outputId": "7f4ff685-e418-4697-f810-8b04f45c4b12"
      },
      "source": [
        "df_pop_seoul.info()"
      ],
      "execution_count": 19,
      "outputs": [
        {
          "output_type": "stream",
          "text": [
            "<class 'pandas.core.frame.DataFrame'>\n",
            "Int64Index: 25 entries, 1 to 25\n",
            "Data columns (total 5 columns):\n",
            " #   Column  Non-Null Count  Dtype  \n",
            "---  ------  --------------  -----  \n",
            " 0   구별      25 non-null     object \n",
            " 1   인구수     25 non-null     float64\n",
            " 2   한국인     25 non-null     float64\n",
            " 3   외국인     25 non-null     float64\n",
            " 4   고령자     25 non-null     float64\n",
            "dtypes: float64(4), object(1)\n",
            "memory usage: 1.2+ KB\n"
          ],
          "name": "stdout"
        }
      ]
    },
    {
      "cell_type": "markdown",
      "metadata": {
        "id": "fQD6gyQgEf4F"
      },
      "source": [
        "# 5. 인구수 데이터에 추가적인 데이터 생성하기"
      ]
    },
    {
      "cell_type": "code",
      "metadata": {
        "colab": {
          "base_uri": "https://localhost:8080/",
          "height": 204
        },
        "id": "SQNbSHNLEnPl",
        "outputId": "590257ed-9039-4e06-fd0b-baccc0efce5d"
      },
      "source": [
        "# 외국인 비율 & 고령자 비율 구하기\n",
        "# 구별 CCTV의 설치 대수가 적절한지를 볼 것임 -> CCTV가 많이 설치 되었으면 동네가 안전한지를 확인하는게 우리의 최종 목적이니까.\n",
        "\n",
        "# CCTV가 어떤 기준으로 많이 설치가 되었는지가 궁금\n",
        "# 인구수 데이터를 통해서 알아 볼 것\n",
        "\n",
        "# 1. 인구수 대비해서 CCTV가 많아질까요? - 당연한 이야기\n",
        "# 2. 한국인 대비해서 CCTV가 많아질까요? - 당연한 이야기\n",
        "\n",
        "# 3. 비교적 숫자가 적은 외국인과 고령자에 대비해서 CCTV가 많아질까요?\n",
        "\n",
        "df_pop_seoul[\"외국인비율\"] = df_pop_seoul[\"외국인\"] / df_pop_seoul[\"인구수\"] * 100\n",
        "df_pop_seoul[\"고령자비율\"] = df_pop_seoul[\"고령자\"] / df_pop_seoul[\"인구수\"] * 100\n",
        "\n",
        "df_pop_seoul.head()"
      ],
      "execution_count": 20,
      "outputs": [
        {
          "output_type": "execute_result",
          "data": {
            "text/html": [
              "<div>\n",
              "<style scoped>\n",
              "    .dataframe tbody tr th:only-of-type {\n",
              "        vertical-align: middle;\n",
              "    }\n",
              "\n",
              "    .dataframe tbody tr th {\n",
              "        vertical-align: top;\n",
              "    }\n",
              "\n",
              "    .dataframe thead th {\n",
              "        text-align: right;\n",
              "    }\n",
              "</style>\n",
              "<table border=\"1\" class=\"dataframe\">\n",
              "  <thead>\n",
              "    <tr style=\"text-align: right;\">\n",
              "      <th></th>\n",
              "      <th>구별</th>\n",
              "      <th>인구수</th>\n",
              "      <th>한국인</th>\n",
              "      <th>외국인</th>\n",
              "      <th>고령자</th>\n",
              "      <th>외국인비율</th>\n",
              "      <th>고령자비율</th>\n",
              "    </tr>\n",
              "  </thead>\n",
              "  <tbody>\n",
              "    <tr>\n",
              "      <th>1</th>\n",
              "      <td>종로구</td>\n",
              "      <td>162820.0</td>\n",
              "      <td>153589.0</td>\n",
              "      <td>9231.0</td>\n",
              "      <td>25425.0</td>\n",
              "      <td>5.669451</td>\n",
              "      <td>15.615404</td>\n",
              "    </tr>\n",
              "    <tr>\n",
              "      <th>2</th>\n",
              "      <td>중구</td>\n",
              "      <td>133240.0</td>\n",
              "      <td>124312.0</td>\n",
              "      <td>8928.0</td>\n",
              "      <td>20764.0</td>\n",
              "      <td>6.700690</td>\n",
              "      <td>15.583909</td>\n",
              "    </tr>\n",
              "    <tr>\n",
              "      <th>3</th>\n",
              "      <td>용산구</td>\n",
              "      <td>244203.0</td>\n",
              "      <td>229456.0</td>\n",
              "      <td>14747.0</td>\n",
              "      <td>36231.0</td>\n",
              "      <td>6.038828</td>\n",
              "      <td>14.836427</td>\n",
              "    </tr>\n",
              "    <tr>\n",
              "      <th>4</th>\n",
              "      <td>성동구</td>\n",
              "      <td>311244.0</td>\n",
              "      <td>303380.0</td>\n",
              "      <td>7864.0</td>\n",
              "      <td>39997.0</td>\n",
              "      <td>2.526635</td>\n",
              "      <td>12.850689</td>\n",
              "    </tr>\n",
              "    <tr>\n",
              "      <th>5</th>\n",
              "      <td>광진구</td>\n",
              "      <td>372164.0</td>\n",
              "      <td>357211.0</td>\n",
              "      <td>14953.0</td>\n",
              "      <td>42214.0</td>\n",
              "      <td>4.017852</td>\n",
              "      <td>11.342849</td>\n",
              "    </tr>\n",
              "  </tbody>\n",
              "</table>\n",
              "</div>"
            ],
            "text/plain": [
              "    구별       인구수       한국인      외국인      고령자     외국인비율      고령자비율\n",
              "1  종로구  162820.0  153589.0   9231.0  25425.0  5.669451  15.615404\n",
              "2   중구  133240.0  124312.0   8928.0  20764.0  6.700690  15.583909\n",
              "3  용산구  244203.0  229456.0  14747.0  36231.0  6.038828  14.836427\n",
              "4  성동구  311244.0  303380.0   7864.0  39997.0  2.526635  12.850689\n",
              "5  광진구  372164.0  357211.0  14953.0  42214.0  4.017852  11.342849"
            ]
          },
          "metadata": {
            "tags": []
          },
          "execution_count": 20
        }
      ]
    },
    {
      "cell_type": "markdown",
      "metadata": {
        "id": "dLxL6ToHFw3U"
      },
      "source": [
        "외국인 수를 기준으로 정렬"
      ]
    },
    {
      "cell_type": "code",
      "metadata": {
        "colab": {
          "base_uri": "https://localhost:8080/",
          "height": 204
        },
        "id": "k58FobiPGpXj",
        "outputId": "aa053dc7-85df-477f-8aa3-abb9e4fbc32b"
      },
      "source": [
        "df_pop_seoul.sort_values(by=\"외국인\", ascending=False).head()"
      ],
      "execution_count": 21,
      "outputs": [
        {
          "output_type": "execute_result",
          "data": {
            "text/html": [
              "<div>\n",
              "<style scoped>\n",
              "    .dataframe tbody tr th:only-of-type {\n",
              "        vertical-align: middle;\n",
              "    }\n",
              "\n",
              "    .dataframe tbody tr th {\n",
              "        vertical-align: top;\n",
              "    }\n",
              "\n",
              "    .dataframe thead th {\n",
              "        text-align: right;\n",
              "    }\n",
              "</style>\n",
              "<table border=\"1\" class=\"dataframe\">\n",
              "  <thead>\n",
              "    <tr style=\"text-align: right;\">\n",
              "      <th></th>\n",
              "      <th>구별</th>\n",
              "      <th>인구수</th>\n",
              "      <th>한국인</th>\n",
              "      <th>외국인</th>\n",
              "      <th>고령자</th>\n",
              "      <th>외국인비율</th>\n",
              "      <th>고령자비율</th>\n",
              "    </tr>\n",
              "  </thead>\n",
              "  <tbody>\n",
              "    <tr>\n",
              "      <th>19</th>\n",
              "      <td>영등포구</td>\n",
              "      <td>402985.0</td>\n",
              "      <td>368072.0</td>\n",
              "      <td>34913.0</td>\n",
              "      <td>52413.0</td>\n",
              "      <td>8.663598</td>\n",
              "      <td>13.006191</td>\n",
              "    </tr>\n",
              "    <tr>\n",
              "      <th>17</th>\n",
              "      <td>구로구</td>\n",
              "      <td>447874.0</td>\n",
              "      <td>416487.0</td>\n",
              "      <td>31387.0</td>\n",
              "      <td>56833.0</td>\n",
              "      <td>7.007998</td>\n",
              "      <td>12.689506</td>\n",
              "    </tr>\n",
              "    <tr>\n",
              "      <th>18</th>\n",
              "      <td>금천구</td>\n",
              "      <td>255082.0</td>\n",
              "      <td>236353.0</td>\n",
              "      <td>18729.0</td>\n",
              "      <td>32970.0</td>\n",
              "      <td>7.342345</td>\n",
              "      <td>12.925255</td>\n",
              "    </tr>\n",
              "    <tr>\n",
              "      <th>21</th>\n",
              "      <td>관악구</td>\n",
              "      <td>525515.0</td>\n",
              "      <td>507203.0</td>\n",
              "      <td>18312.0</td>\n",
              "      <td>68082.0</td>\n",
              "      <td>3.484582</td>\n",
              "      <td>12.955291</td>\n",
              "    </tr>\n",
              "    <tr>\n",
              "      <th>6</th>\n",
              "      <td>동대문구</td>\n",
              "      <td>369496.0</td>\n",
              "      <td>354079.0</td>\n",
              "      <td>15417.0</td>\n",
              "      <td>54173.0</td>\n",
              "      <td>4.172440</td>\n",
              "      <td>14.661322</td>\n",
              "    </tr>\n",
              "  </tbody>\n",
              "</table>\n",
              "</div>"
            ],
            "text/plain": [
              "      구별       인구수       한국인      외국인      고령자     외국인비율      고령자비율\n",
              "19  영등포구  402985.0  368072.0  34913.0  52413.0  8.663598  13.006191\n",
              "17   구로구  447874.0  416487.0  31387.0  56833.0  7.007998  12.689506\n",
              "18   금천구  255082.0  236353.0  18729.0  32970.0  7.342345  12.925255\n",
              "21   관악구  525515.0  507203.0  18312.0  68082.0  3.484582  12.955291\n",
              "6   동대문구  369496.0  354079.0  15417.0  54173.0  4.172440  14.661322"
            ]
          },
          "metadata": {
            "tags": []
          },
          "execution_count": 21
        }
      ]
    },
    {
      "cell_type": "markdown",
      "metadata": {
        "id": "VARgBjETGtvK"
      },
      "source": [
        "외국인 비율로 정렬하면?"
      ]
    },
    {
      "cell_type": "code",
      "metadata": {
        "colab": {
          "base_uri": "https://localhost:8080/",
          "height": 204
        },
        "id": "XwSJeT89GyrA",
        "outputId": "ae896606-625c-4dbb-dff8-6717195126f9"
      },
      "source": [
        "df_pop_seoul.sort_values(by=\"외국인비율\", ascending=False).head()"
      ],
      "execution_count": 22,
      "outputs": [
        {
          "output_type": "execute_result",
          "data": {
            "text/html": [
              "<div>\n",
              "<style scoped>\n",
              "    .dataframe tbody tr th:only-of-type {\n",
              "        vertical-align: middle;\n",
              "    }\n",
              "\n",
              "    .dataframe tbody tr th {\n",
              "        vertical-align: top;\n",
              "    }\n",
              "\n",
              "    .dataframe thead th {\n",
              "        text-align: right;\n",
              "    }\n",
              "</style>\n",
              "<table border=\"1\" class=\"dataframe\">\n",
              "  <thead>\n",
              "    <tr style=\"text-align: right;\">\n",
              "      <th></th>\n",
              "      <th>구별</th>\n",
              "      <th>인구수</th>\n",
              "      <th>한국인</th>\n",
              "      <th>외국인</th>\n",
              "      <th>고령자</th>\n",
              "      <th>외국인비율</th>\n",
              "      <th>고령자비율</th>\n",
              "    </tr>\n",
              "  </thead>\n",
              "  <tbody>\n",
              "    <tr>\n",
              "      <th>19</th>\n",
              "      <td>영등포구</td>\n",
              "      <td>402985.0</td>\n",
              "      <td>368072.0</td>\n",
              "      <td>34913.0</td>\n",
              "      <td>52413.0</td>\n",
              "      <td>8.663598</td>\n",
              "      <td>13.006191</td>\n",
              "    </tr>\n",
              "    <tr>\n",
              "      <th>18</th>\n",
              "      <td>금천구</td>\n",
              "      <td>255082.0</td>\n",
              "      <td>236353.0</td>\n",
              "      <td>18729.0</td>\n",
              "      <td>32970.0</td>\n",
              "      <td>7.342345</td>\n",
              "      <td>12.925255</td>\n",
              "    </tr>\n",
              "    <tr>\n",
              "      <th>17</th>\n",
              "      <td>구로구</td>\n",
              "      <td>447874.0</td>\n",
              "      <td>416487.0</td>\n",
              "      <td>31387.0</td>\n",
              "      <td>56833.0</td>\n",
              "      <td>7.007998</td>\n",
              "      <td>12.689506</td>\n",
              "    </tr>\n",
              "    <tr>\n",
              "      <th>2</th>\n",
              "      <td>중구</td>\n",
              "      <td>133240.0</td>\n",
              "      <td>124312.0</td>\n",
              "      <td>8928.0</td>\n",
              "      <td>20764.0</td>\n",
              "      <td>6.700690</td>\n",
              "      <td>15.583909</td>\n",
              "    </tr>\n",
              "    <tr>\n",
              "      <th>3</th>\n",
              "      <td>용산구</td>\n",
              "      <td>244203.0</td>\n",
              "      <td>229456.0</td>\n",
              "      <td>14747.0</td>\n",
              "      <td>36231.0</td>\n",
              "      <td>6.038828</td>\n",
              "      <td>14.836427</td>\n",
              "    </tr>\n",
              "  </tbody>\n",
              "</table>\n",
              "</div>"
            ],
            "text/plain": [
              "      구별       인구수       한국인      외국인      고령자     외국인비율      고령자비율\n",
              "19  영등포구  402985.0  368072.0  34913.0  52413.0  8.663598  13.006191\n",
              "18   금천구  255082.0  236353.0  18729.0  32970.0  7.342345  12.925255\n",
              "17   구로구  447874.0  416487.0  31387.0  56833.0  7.007998  12.689506\n",
              "2     중구  133240.0  124312.0   8928.0  20764.0  6.700690  15.583909\n",
              "3    용산구  244203.0  229456.0  14747.0  36231.0  6.038828  14.836427"
            ]
          },
          "metadata": {
            "tags": []
          },
          "execution_count": 22
        }
      ]
    },
    {
      "cell_type": "markdown",
      "metadata": {
        "id": "9tpVCNJ9G2yB"
      },
      "source": [
        "CCTV와 인구수를 동시에 확인할 것이기 때문에, 두 데이터 프레임을 병합해서 확인"
      ]
    },
    {
      "cell_type": "markdown",
      "metadata": {
        "id": "99RsPe2THMx-"
      },
      "source": [
        "# 6. CCTV 데이터와 인구 현황 데이터를 합쳐서 분석"
      ]
    },
    {
      "cell_type": "code",
      "metadata": {
        "colab": {
          "base_uri": "https://localhost:8080/",
          "height": 204
        },
        "id": "cWB-YlRjMN3L",
        "outputId": "fd0b2535-a5bf-40fc-adeb-a9ae5ec100a0"
      },
      "source": [
        "data_result = pd.merge(df_cctv, df_pop_seoul, on='구별')\n",
        "data_result.head()"
      ],
      "execution_count": 23,
      "outputs": [
        {
          "output_type": "execute_result",
          "data": {
            "text/html": [
              "<div>\n",
              "<style scoped>\n",
              "    .dataframe tbody tr th:only-of-type {\n",
              "        vertical-align: middle;\n",
              "    }\n",
              "\n",
              "    .dataframe tbody tr th {\n",
              "        vertical-align: top;\n",
              "    }\n",
              "\n",
              "    .dataframe thead th {\n",
              "        text-align: right;\n",
              "    }\n",
              "</style>\n",
              "<table border=\"1\" class=\"dataframe\">\n",
              "  <thead>\n",
              "    <tr style=\"text-align: right;\">\n",
              "      <th></th>\n",
              "      <th>구별</th>\n",
              "      <th>소계</th>\n",
              "      <th>2013년도 이전</th>\n",
              "      <th>2014년</th>\n",
              "      <th>2015년</th>\n",
              "      <th>2016년</th>\n",
              "      <th>최근증가율</th>\n",
              "      <th>인구수</th>\n",
              "      <th>한국인</th>\n",
              "      <th>외국인</th>\n",
              "      <th>고령자</th>\n",
              "      <th>외국인비율</th>\n",
              "      <th>고령자비율</th>\n",
              "    </tr>\n",
              "  </thead>\n",
              "  <tbody>\n",
              "    <tr>\n",
              "      <th>0</th>\n",
              "      <td>강남구</td>\n",
              "      <td>2780</td>\n",
              "      <td>1292</td>\n",
              "      <td>430</td>\n",
              "      <td>584</td>\n",
              "      <td>932</td>\n",
              "      <td>150.619195</td>\n",
              "      <td>570500.0</td>\n",
              "      <td>565550.0</td>\n",
              "      <td>4950.0</td>\n",
              "      <td>63167.0</td>\n",
              "      <td>0.867660</td>\n",
              "      <td>11.072217</td>\n",
              "    </tr>\n",
              "    <tr>\n",
              "      <th>1</th>\n",
              "      <td>강동구</td>\n",
              "      <td>773</td>\n",
              "      <td>379</td>\n",
              "      <td>99</td>\n",
              "      <td>155</td>\n",
              "      <td>377</td>\n",
              "      <td>166.490765</td>\n",
              "      <td>453233.0</td>\n",
              "      <td>449019.0</td>\n",
              "      <td>4214.0</td>\n",
              "      <td>54622.0</td>\n",
              "      <td>0.929765</td>\n",
              "      <td>12.051638</td>\n",
              "    </tr>\n",
              "    <tr>\n",
              "      <th>2</th>\n",
              "      <td>강북구</td>\n",
              "      <td>748</td>\n",
              "      <td>369</td>\n",
              "      <td>120</td>\n",
              "      <td>138</td>\n",
              "      <td>204</td>\n",
              "      <td>125.203252</td>\n",
              "      <td>330192.0</td>\n",
              "      <td>326686.0</td>\n",
              "      <td>3506.0</td>\n",
              "      <td>54813.0</td>\n",
              "      <td>1.061806</td>\n",
              "      <td>16.600342</td>\n",
              "    </tr>\n",
              "    <tr>\n",
              "      <th>3</th>\n",
              "      <td>강서구</td>\n",
              "      <td>884</td>\n",
              "      <td>388</td>\n",
              "      <td>258</td>\n",
              "      <td>184</td>\n",
              "      <td>81</td>\n",
              "      <td>134.793814</td>\n",
              "      <td>603772.0</td>\n",
              "      <td>597248.0</td>\n",
              "      <td>6524.0</td>\n",
              "      <td>72548.0</td>\n",
              "      <td>1.080540</td>\n",
              "      <td>12.015794</td>\n",
              "    </tr>\n",
              "    <tr>\n",
              "      <th>4</th>\n",
              "      <td>관악구</td>\n",
              "      <td>1496</td>\n",
              "      <td>846</td>\n",
              "      <td>260</td>\n",
              "      <td>390</td>\n",
              "      <td>613</td>\n",
              "      <td>149.290780</td>\n",
              "      <td>525515.0</td>\n",
              "      <td>507203.0</td>\n",
              "      <td>18312.0</td>\n",
              "      <td>68082.0</td>\n",
              "      <td>3.484582</td>\n",
              "      <td>12.955291</td>\n",
              "    </tr>\n",
              "  </tbody>\n",
              "</table>\n",
              "</div>"
            ],
            "text/plain": [
              "    구별    소계  2013년도 이전  2014년  ...      외국인      고령자     외국인비율      고령자비율\n",
              "0  강남구  2780       1292    430  ...   4950.0  63167.0  0.867660  11.072217\n",
              "1  강동구   773        379     99  ...   4214.0  54622.0  0.929765  12.051638\n",
              "2  강북구   748        369    120  ...   3506.0  54813.0  1.061806  16.600342\n",
              "3  강서구   884        388    258  ...   6524.0  72548.0  1.080540  12.015794\n",
              "4  관악구  1496        846    260  ...  18312.0  68082.0  3.484582  12.955291\n",
              "\n",
              "[5 rows x 13 columns]"
            ]
          },
          "metadata": {
            "tags": []
          },
          "execution_count": 23
        }
      ]
    },
    {
      "cell_type": "markdown",
      "metadata": {
        "id": "kIsqdi7zMp6a"
      },
      "source": [
        "# 7. 필요 없는 컬럼 삭제\n",
        "각 년도별로 얼마나 설치가 되었느냐는 중요하지 않다.\n",
        "* 우리가 필요한 정보는 구별 CCTV의 **소계**가 중요하기 때문에,\n",
        "* 2013, 2014, 2015, 2016 년도의 CCTV 대수를 통해 **최근증가율**을 구해냈기 때문에"
      ]
    },
    {
      "cell_type": "code",
      "metadata": {
        "colab": {
          "base_uri": "https://localhost:8080/",
          "height": 204
        },
        "id": "e23Leg_XNmN2",
        "outputId": "bf6d9f10-f272-4d4c-ead6-e912725ea228"
      },
      "source": [
        "del data_result[\"2013년도 이전\"]\n",
        "del data_result[\"2014년\"]\n",
        "del data_result[\"2015년\"]\n",
        "del data_result[\"2016년\"]\n",
        "\n",
        "data_result.head()"
      ],
      "execution_count": 24,
      "outputs": [
        {
          "output_type": "execute_result",
          "data": {
            "text/html": [
              "<div>\n",
              "<style scoped>\n",
              "    .dataframe tbody tr th:only-of-type {\n",
              "        vertical-align: middle;\n",
              "    }\n",
              "\n",
              "    .dataframe tbody tr th {\n",
              "        vertical-align: top;\n",
              "    }\n",
              "\n",
              "    .dataframe thead th {\n",
              "        text-align: right;\n",
              "    }\n",
              "</style>\n",
              "<table border=\"1\" class=\"dataframe\">\n",
              "  <thead>\n",
              "    <tr style=\"text-align: right;\">\n",
              "      <th></th>\n",
              "      <th>구별</th>\n",
              "      <th>소계</th>\n",
              "      <th>최근증가율</th>\n",
              "      <th>인구수</th>\n",
              "      <th>한국인</th>\n",
              "      <th>외국인</th>\n",
              "      <th>고령자</th>\n",
              "      <th>외국인비율</th>\n",
              "      <th>고령자비율</th>\n",
              "    </tr>\n",
              "  </thead>\n",
              "  <tbody>\n",
              "    <tr>\n",
              "      <th>0</th>\n",
              "      <td>강남구</td>\n",
              "      <td>2780</td>\n",
              "      <td>150.619195</td>\n",
              "      <td>570500.0</td>\n",
              "      <td>565550.0</td>\n",
              "      <td>4950.0</td>\n",
              "      <td>63167.0</td>\n",
              "      <td>0.867660</td>\n",
              "      <td>11.072217</td>\n",
              "    </tr>\n",
              "    <tr>\n",
              "      <th>1</th>\n",
              "      <td>강동구</td>\n",
              "      <td>773</td>\n",
              "      <td>166.490765</td>\n",
              "      <td>453233.0</td>\n",
              "      <td>449019.0</td>\n",
              "      <td>4214.0</td>\n",
              "      <td>54622.0</td>\n",
              "      <td>0.929765</td>\n",
              "      <td>12.051638</td>\n",
              "    </tr>\n",
              "    <tr>\n",
              "      <th>2</th>\n",
              "      <td>강북구</td>\n",
              "      <td>748</td>\n",
              "      <td>125.203252</td>\n",
              "      <td>330192.0</td>\n",
              "      <td>326686.0</td>\n",
              "      <td>3506.0</td>\n",
              "      <td>54813.0</td>\n",
              "      <td>1.061806</td>\n",
              "      <td>16.600342</td>\n",
              "    </tr>\n",
              "    <tr>\n",
              "      <th>3</th>\n",
              "      <td>강서구</td>\n",
              "      <td>884</td>\n",
              "      <td>134.793814</td>\n",
              "      <td>603772.0</td>\n",
              "      <td>597248.0</td>\n",
              "      <td>6524.0</td>\n",
              "      <td>72548.0</td>\n",
              "      <td>1.080540</td>\n",
              "      <td>12.015794</td>\n",
              "    </tr>\n",
              "    <tr>\n",
              "      <th>4</th>\n",
              "      <td>관악구</td>\n",
              "      <td>1496</td>\n",
              "      <td>149.290780</td>\n",
              "      <td>525515.0</td>\n",
              "      <td>507203.0</td>\n",
              "      <td>18312.0</td>\n",
              "      <td>68082.0</td>\n",
              "      <td>3.484582</td>\n",
              "      <td>12.955291</td>\n",
              "    </tr>\n",
              "  </tbody>\n",
              "</table>\n",
              "</div>"
            ],
            "text/plain": [
              "    구별    소계       최근증가율       인구수  ...      외국인      고령자     외국인비율      고령자비율\n",
              "0  강남구  2780  150.619195  570500.0  ...   4950.0  63167.0  0.867660  11.072217\n",
              "1  강동구   773  166.490765  453233.0  ...   4214.0  54622.0  0.929765  12.051638\n",
              "2  강북구   748  125.203252  330192.0  ...   3506.0  54813.0  1.061806  16.600342\n",
              "3  강서구   884  134.793814  603772.0  ...   6524.0  72548.0  1.080540  12.015794\n",
              "4  관악구  1496  149.290780  525515.0  ...  18312.0  68082.0  3.484582  12.955291\n",
              "\n",
              "[5 rows x 9 columns]"
            ]
          },
          "metadata": {
            "tags": []
          },
          "execution_count": 24
        }
      ]
    },
    {
      "cell_type": "markdown",
      "metadata": {
        "id": "xSyKbm39Nx6u"
      },
      "source": [
        "# 8. CCTV 소계의 상관관계 이야기 하기\n",
        "* 어떠한 요건에 의해서(x) CCTV의 소계(y)가 결정이 되었는지를 확인\n",
        "* 어떠한 데이터를 CCTV의 소계와 비교할지를 결정해 볼 것\n",
        "  * 이러한 수치를 **상관관계**라고 합니다.\n",
        "* 상관계수\n",
        "  * 상관계수의 절대값이 0.1이하면 무시해도 되는 상관관계\n",
        "  * 상관계수의 절대값이 0.1 ~ 0.3 정도면 약한 상관관계\n",
        "  * 상관계수의 절대값이 0.3 ~ 0.7 정도면 뚜렷한 상관관계\n",
        "  * 상관계수의 절대값이 0.7 ~ 1.0 정도면 강한 상관관계"
      ]
    },
    {
      "cell_type": "code",
      "metadata": {
        "id": "AaQecTerOiza"
      },
      "source": [
        "import numpy as np"
      ],
      "execution_count": 25,
      "outputs": []
    },
    {
      "cell_type": "code",
      "metadata": {
        "id": "wnUL_39icTop",
        "colab": {
          "base_uri": "https://localhost:8080/"
        },
        "outputId": "295ec798-b71b-45ed-edd1-bd08e35215c2"
      },
      "source": [
        "data_result[\"고령자비율\"].shape, data_result[\"소계\"].shape, "
      ],
      "execution_count": 26,
      "outputs": [
        {
          "output_type": "execute_result",
          "data": {
            "text/plain": [
              "((25,), (25,))"
            ]
          },
          "metadata": {
            "tags": []
          },
          "execution_count": 26
        }
      ]
    },
    {
      "cell_type": "markdown",
      "metadata": {
        "id": "EFe5sIm1Qps5"
      },
      "source": [
        "고령자 비율과 CCTV 소계를 확인한 결과 음의 상관관계<br/>\n",
        "외국인비율도 고령자비율과 비슷하게 음의 상관관계를 가지지만, 고령자 비율의 상관계수가 더 높다."
      ]
    },
    {
      "cell_type": "markdown",
      "metadata": {
        "id": "BY_WrmOLQ8qi"
      },
      "source": [
        ""
      ]
    },
    {
      "cell_type": "code",
      "metadata": {
        "colab": {
          "base_uri": "https://localhost:8080/",
          "height": 369
        },
        "id": "Pt9BdSemQbFP",
        "outputId": "c35e5fa0-4c58-477e-9adb-a28bdb310913"
      },
      "source": [
        "# 상관계수를 numpy로 구해보기\n",
        "# 고령자 비율에 대한 소계의 상관관계 - 고령자 비율이 커지면, CCTV의 대수도 많아질까?\n",
        "print(np.corrcoef(data_result[\"고령자비율\"], data_result[\"소계\"]))\n",
        "print(np.corrcoef(data_result[\"인구수\"], data_result[\"소계\"]))\n",
        "\n",
        "data_result.corr()"
      ],
      "execution_count": 27,
      "outputs": [
        {
          "output_type": "stream",
          "text": [
            "[[ 1.         -0.28078554]\n",
            " [-0.28078554  1.        ]]\n",
            "[[1.         0.30634228]\n",
            " [0.30634228 1.        ]]\n"
          ],
          "name": "stdout"
        },
        {
          "output_type": "execute_result",
          "data": {
            "text/html": [
              "<div>\n",
              "<style scoped>\n",
              "    .dataframe tbody tr th:only-of-type {\n",
              "        vertical-align: middle;\n",
              "    }\n",
              "\n",
              "    .dataframe tbody tr th {\n",
              "        vertical-align: top;\n",
              "    }\n",
              "\n",
              "    .dataframe thead th {\n",
              "        text-align: right;\n",
              "    }\n",
              "</style>\n",
              "<table border=\"1\" class=\"dataframe\">\n",
              "  <thead>\n",
              "    <tr style=\"text-align: right;\">\n",
              "      <th></th>\n",
              "      <th>소계</th>\n",
              "      <th>최근증가율</th>\n",
              "      <th>인구수</th>\n",
              "      <th>한국인</th>\n",
              "      <th>외국인</th>\n",
              "      <th>고령자</th>\n",
              "      <th>외국인비율</th>\n",
              "      <th>고령자비율</th>\n",
              "    </tr>\n",
              "  </thead>\n",
              "  <tbody>\n",
              "    <tr>\n",
              "      <th>소계</th>\n",
              "      <td>1.000000</td>\n",
              "      <td>-0.343016</td>\n",
              "      <td>0.306342</td>\n",
              "      <td>0.304287</td>\n",
              "      <td>-0.023786</td>\n",
              "      <td>0.255196</td>\n",
              "      <td>-0.136074</td>\n",
              "      <td>-0.280786</td>\n",
              "    </tr>\n",
              "    <tr>\n",
              "      <th>최근증가율</th>\n",
              "      <td>-0.343016</td>\n",
              "      <td>1.000000</td>\n",
              "      <td>-0.093068</td>\n",
              "      <td>-0.082511</td>\n",
              "      <td>-0.150463</td>\n",
              "      <td>-0.070969</td>\n",
              "      <td>-0.044042</td>\n",
              "      <td>0.185089</td>\n",
              "    </tr>\n",
              "    <tr>\n",
              "      <th>인구수</th>\n",
              "      <td>0.306342</td>\n",
              "      <td>-0.093068</td>\n",
              "      <td>1.000000</td>\n",
              "      <td>0.998061</td>\n",
              "      <td>-0.153371</td>\n",
              "      <td>0.932667</td>\n",
              "      <td>-0.591939</td>\n",
              "      <td>-0.669462</td>\n",
              "    </tr>\n",
              "    <tr>\n",
              "      <th>한국인</th>\n",
              "      <td>0.304287</td>\n",
              "      <td>-0.082511</td>\n",
              "      <td>0.998061</td>\n",
              "      <td>1.000000</td>\n",
              "      <td>-0.214576</td>\n",
              "      <td>0.931636</td>\n",
              "      <td>-0.637911</td>\n",
              "      <td>-0.660812</td>\n",
              "    </tr>\n",
              "    <tr>\n",
              "      <th>외국인</th>\n",
              "      <td>-0.023786</td>\n",
              "      <td>-0.150463</td>\n",
              "      <td>-0.153371</td>\n",
              "      <td>-0.214576</td>\n",
              "      <td>1.000000</td>\n",
              "      <td>-0.155381</td>\n",
              "      <td>0.838904</td>\n",
              "      <td>-0.014055</td>\n",
              "    </tr>\n",
              "    <tr>\n",
              "      <th>고령자</th>\n",
              "      <td>0.255196</td>\n",
              "      <td>-0.070969</td>\n",
              "      <td>0.932667</td>\n",
              "      <td>0.931636</td>\n",
              "      <td>-0.155381</td>\n",
              "      <td>1.000000</td>\n",
              "      <td>-0.606088</td>\n",
              "      <td>-0.380468</td>\n",
              "    </tr>\n",
              "    <tr>\n",
              "      <th>외국인비율</th>\n",
              "      <td>-0.136074</td>\n",
              "      <td>-0.044042</td>\n",
              "      <td>-0.591939</td>\n",
              "      <td>-0.637911</td>\n",
              "      <td>0.838904</td>\n",
              "      <td>-0.606088</td>\n",
              "      <td>1.000000</td>\n",
              "      <td>0.267348</td>\n",
              "    </tr>\n",
              "    <tr>\n",
              "      <th>고령자비율</th>\n",
              "      <td>-0.280786</td>\n",
              "      <td>0.185089</td>\n",
              "      <td>-0.669462</td>\n",
              "      <td>-0.660812</td>\n",
              "      <td>-0.014055</td>\n",
              "      <td>-0.380468</td>\n",
              "      <td>0.267348</td>\n",
              "      <td>1.000000</td>\n",
              "    </tr>\n",
              "  </tbody>\n",
              "</table>\n",
              "</div>"
            ],
            "text/plain": [
              "             소계     최근증가율       인구수  ...       고령자     외국인비율     고령자비율\n",
              "소계     1.000000 -0.343016  0.306342  ...  0.255196 -0.136074 -0.280786\n",
              "최근증가율 -0.343016  1.000000 -0.093068  ... -0.070969 -0.044042  0.185089\n",
              "인구수    0.306342 -0.093068  1.000000  ...  0.932667 -0.591939 -0.669462\n",
              "한국인    0.304287 -0.082511  0.998061  ...  0.931636 -0.637911 -0.660812\n",
              "외국인   -0.023786 -0.150463 -0.153371  ... -0.155381  0.838904 -0.014055\n",
              "고령자    0.255196 -0.070969  0.932667  ...  1.000000 -0.606088 -0.380468\n",
              "외국인비율 -0.136074 -0.044042 -0.591939  ... -0.606088  1.000000  0.267348\n",
              "고령자비율 -0.280786  0.185089 -0.669462  ... -0.380468  0.267348  1.000000\n",
              "\n",
              "[8 rows x 8 columns]"
            ]
          },
          "metadata": {
            "tags": []
          },
          "execution_count": 27
        }
      ]
    },
    {
      "cell_type": "markdown",
      "metadata": {
        "id": "FFFHmwP-RKV6"
      },
      "source": [
        "# 9. 시각화로 알아보기"
      ]
    },
    {
      "cell_type": "code",
      "metadata": {
        "id": "JYUWtNmURl7U",
        "colab": {
          "base_uri": "https://localhost:8080/"
        },
        "outputId": "b454c7bd-04e3-4a68-e3ff-6efba177d926"
      },
      "source": [
        "!sudo apt-get install -y fonts-nanum\n",
        "!sudo fc-cache -fv\n",
        "!rm ~/.cache/matplotlib -rf"
      ],
      "execution_count": 28,
      "outputs": [
        {
          "output_type": "stream",
          "text": [
            "Reading package lists... Done\n",
            "Building dependency tree       \n",
            "Reading state information... Done\n",
            "fonts-nanum is already the newest version (20170925-1).\n",
            "0 upgraded, 0 newly installed, 0 to remove and 39 not upgraded.\n",
            "/usr/share/fonts: caching, new cache contents: 0 fonts, 1 dirs\n",
            "/usr/share/fonts/truetype: caching, new cache contents: 0 fonts, 3 dirs\n",
            "/usr/share/fonts/truetype/humor-sans: caching, new cache contents: 1 fonts, 0 dirs\n",
            "/usr/share/fonts/truetype/liberation: caching, new cache contents: 16 fonts, 0 dirs\n",
            "/usr/share/fonts/truetype/nanum: caching, new cache contents: 10 fonts, 0 dirs\n",
            "/usr/local/share/fonts: caching, new cache contents: 0 fonts, 0 dirs\n",
            "/root/.local/share/fonts: skipping, no such directory\n",
            "/root/.fonts: skipping, no such directory\n",
            "/var/cache/fontconfig: cleaning cache directory\n",
            "/root/.cache/fontconfig: not cleaning non-existent cache directory\n",
            "/root/.fontconfig: not cleaning non-existent cache directory\n",
            "fc-cache: succeeded\n"
          ],
          "name": "stdout"
        }
      ]
    },
    {
      "cell_type": "markdown",
      "metadata": {
        "id": "fyz7DXb3RsQa"
      },
      "source": [
        "위 코드 실행해서 한글 폰트 다운이 완료 됐으면 상단 메뉴의 런타임 - 런타임 다시 시작 - 런타임 - 모두 실행"
      ]
    },
    {
      "cell_type": "code",
      "metadata": {
        "id": "bEIPQoeSR1yU",
        "colab": {
          "base_uri": "https://localhost:8080/"
        },
        "outputId": "9e72d36f-28fe-4a89-8d9f-3fffd0a58583"
      },
      "source": [
        "!sudo apt-get install -y fonts-nanum\n",
        "!sudo fc-cache -fv\n",
        "!rm ~/.cache/matplotlib -rf\n",
        "\n",
        "import matplotlib.pyplot as plt\n",
        "plt.rc('font', family='NanumBarunGothic')"
      ],
      "execution_count": 29,
      "outputs": [
        {
          "output_type": "stream",
          "text": [
            "Reading package lists... Done\n",
            "Building dependency tree       \n",
            "Reading state information... Done\n",
            "fonts-nanum is already the newest version (20170925-1).\n",
            "0 upgraded, 0 newly installed, 0 to remove and 39 not upgraded.\n",
            "/usr/share/fonts: caching, new cache contents: 0 fonts, 1 dirs\n",
            "/usr/share/fonts/truetype: caching, new cache contents: 0 fonts, 3 dirs\n",
            "/usr/share/fonts/truetype/humor-sans: caching, new cache contents: 1 fonts, 0 dirs\n",
            "/usr/share/fonts/truetype/liberation: caching, new cache contents: 16 fonts, 0 dirs\n",
            "/usr/share/fonts/truetype/nanum: caching, new cache contents: 10 fonts, 0 dirs\n",
            "/usr/local/share/fonts: caching, new cache contents: 0 fonts, 0 dirs\n",
            "/root/.local/share/fonts: skipping, no such directory\n",
            "/root/.fonts: skipping, no such directory\n",
            "/var/cache/fontconfig: cleaning cache directory\n",
            "/root/.cache/fontconfig: not cleaning non-existent cache directory\n",
            "/root/.fontconfig: not cleaning non-existent cache directory\n",
            "fc-cache: succeeded\n"
          ],
          "name": "stdout"
        }
      ]
    },
    {
      "cell_type": "code",
      "metadata": {
        "colab": {
          "base_uri": "https://localhost:8080/",
          "height": 235
        },
        "id": "8TBlY3taSE71",
        "outputId": "e50014c3-97d1-4562-ba01-49c970972222"
      },
      "source": [
        "data_result = data_result.set_index(\"구별\")\n",
        "data_result.head()"
      ],
      "execution_count": 30,
      "outputs": [
        {
          "output_type": "execute_result",
          "data": {
            "text/html": [
              "<div>\n",
              "<style scoped>\n",
              "    .dataframe tbody tr th:only-of-type {\n",
              "        vertical-align: middle;\n",
              "    }\n",
              "\n",
              "    .dataframe tbody tr th {\n",
              "        vertical-align: top;\n",
              "    }\n",
              "\n",
              "    .dataframe thead th {\n",
              "        text-align: right;\n",
              "    }\n",
              "</style>\n",
              "<table border=\"1\" class=\"dataframe\">\n",
              "  <thead>\n",
              "    <tr style=\"text-align: right;\">\n",
              "      <th></th>\n",
              "      <th>소계</th>\n",
              "      <th>최근증가율</th>\n",
              "      <th>인구수</th>\n",
              "      <th>한국인</th>\n",
              "      <th>외국인</th>\n",
              "      <th>고령자</th>\n",
              "      <th>외국인비율</th>\n",
              "      <th>고령자비율</th>\n",
              "    </tr>\n",
              "    <tr>\n",
              "      <th>구별</th>\n",
              "      <th></th>\n",
              "      <th></th>\n",
              "      <th></th>\n",
              "      <th></th>\n",
              "      <th></th>\n",
              "      <th></th>\n",
              "      <th></th>\n",
              "      <th></th>\n",
              "    </tr>\n",
              "  </thead>\n",
              "  <tbody>\n",
              "    <tr>\n",
              "      <th>강남구</th>\n",
              "      <td>2780</td>\n",
              "      <td>150.619195</td>\n",
              "      <td>570500.0</td>\n",
              "      <td>565550.0</td>\n",
              "      <td>4950.0</td>\n",
              "      <td>63167.0</td>\n",
              "      <td>0.867660</td>\n",
              "      <td>11.072217</td>\n",
              "    </tr>\n",
              "    <tr>\n",
              "      <th>강동구</th>\n",
              "      <td>773</td>\n",
              "      <td>166.490765</td>\n",
              "      <td>453233.0</td>\n",
              "      <td>449019.0</td>\n",
              "      <td>4214.0</td>\n",
              "      <td>54622.0</td>\n",
              "      <td>0.929765</td>\n",
              "      <td>12.051638</td>\n",
              "    </tr>\n",
              "    <tr>\n",
              "      <th>강북구</th>\n",
              "      <td>748</td>\n",
              "      <td>125.203252</td>\n",
              "      <td>330192.0</td>\n",
              "      <td>326686.0</td>\n",
              "      <td>3506.0</td>\n",
              "      <td>54813.0</td>\n",
              "      <td>1.061806</td>\n",
              "      <td>16.600342</td>\n",
              "    </tr>\n",
              "    <tr>\n",
              "      <th>강서구</th>\n",
              "      <td>884</td>\n",
              "      <td>134.793814</td>\n",
              "      <td>603772.0</td>\n",
              "      <td>597248.0</td>\n",
              "      <td>6524.0</td>\n",
              "      <td>72548.0</td>\n",
              "      <td>1.080540</td>\n",
              "      <td>12.015794</td>\n",
              "    </tr>\n",
              "    <tr>\n",
              "      <th>관악구</th>\n",
              "      <td>1496</td>\n",
              "      <td>149.290780</td>\n",
              "      <td>525515.0</td>\n",
              "      <td>507203.0</td>\n",
              "      <td>18312.0</td>\n",
              "      <td>68082.0</td>\n",
              "      <td>3.484582</td>\n",
              "      <td>12.955291</td>\n",
              "    </tr>\n",
              "  </tbody>\n",
              "</table>\n",
              "</div>"
            ],
            "text/plain": [
              "       소계       최근증가율       인구수  ...      고령자     외국인비율      고령자비율\n",
              "구별                               ...                              \n",
              "강남구  2780  150.619195  570500.0  ...  63167.0  0.867660  11.072217\n",
              "강동구   773  166.490765  453233.0  ...  54622.0  0.929765  12.051638\n",
              "강북구   748  125.203252  330192.0  ...  54813.0  1.061806  16.600342\n",
              "강서구   884  134.793814  603772.0  ...  72548.0  1.080540  12.015794\n",
              "관악구  1496  149.290780  525515.0  ...  68082.0  3.484582  12.955291\n",
              "\n",
              "[5 rows x 8 columns]"
            ]
          },
          "metadata": {
            "tags": []
          },
          "execution_count": 30
        }
      ]
    },
    {
      "cell_type": "code",
      "metadata": {
        "colab": {
          "base_uri": "https://localhost:8080/",
          "height": 963
        },
        "id": "P_YK9ed2SW-T",
        "outputId": "5ced46f2-ec4f-40d5-86d0-355f59b39baa"
      },
      "source": [
        "# bar 그래프로 소계 보기\n",
        "plt.figure(figsize=(12, 8))\n",
        "plt.barh(data_result.index, data_result['소계'])\n",
        "plt.show()\n",
        "\n",
        "# 수업 외 자습\n",
        "# seaborn을 이용하면 어떻게 그려질까?\n",
        "import seaborn as sns\n",
        "plt.figure(figsize=(12,8))\n",
        "sns.barplot(x = data_result['소계'], y = data_result.index)\n",
        "plt.show()"
      ],
      "execution_count": 48,
      "outputs": [
        {
          "output_type": "display_data",
          "data": {
            "image/png": "[encoded data removed]",
            "text/plain": [
              "<Figure size 864x576 with 1 Axes>"
            ]
          },
          "metadata": {
            "tags": [],
            "needs_background": "light"
          }
        },
        {
          "output_type": "display_data",
          "data": {
            "image/png": "[encoded data removed]",
            "text/plain": [
              "<Figure size 864x576 with 1 Axes>"
            ]
          },
          "metadata": {
            "tags": [],
            "needs_background": "light"
          }
        }
      ]
    },
    {
      "cell_type": "code",
      "metadata": {
        "colab": {
          "base_uri": "https://localhost:8080/",
          "height": 963
        },
        "id": "R_kBcde9SpmC",
        "outputId": "3e45ae8b-9288-4d65-f9f7-c36213bb842b"
      },
      "source": [
        "# 소계 순으로 정렬해서 확인\n",
        "data_result_sorted = data_result.sort_values(by=\"소계\", ascending=False)\n",
        "\n",
        "plt.figure(figsize=(12, 8))\n",
        "plt.barh(data_result_sorted.index, data_result_sorted['소계'])\n",
        "plt.show()\n",
        "\n",
        "# 수업 외 자습\n",
        "plt.figure(figsize=(12,8))\n",
        "sns.barplot(x = data_result_sorted['소계'], y = data_result_sorted.index)\n",
        "plt.show()"
      ],
      "execution_count": 49,
      "outputs": [
        {
          "output_type": "display_data",
          "data": {
            "image/png": "[encoded data removed]",
            "text/plain": [
              "<Figure size 864x576 with 1 Axes>"
            ]
          },
          "metadata": {
            "tags": [],
            "needs_background": "light"
          }
        },
        {
          "output_type": "display_data",
          "data": {
            "image/png": "[encoded data removed]",
            "text/plain": [
              "<Figure size 864x576 with 1 Axes>"
            ]
          },
          "metadata": {
            "tags": [],
            "needs_background": "light"
          }
        }
      ]
    },
    {
      "cell_type": "code",
      "metadata": {
        "id": "Njc06pT8S9-8",
        "colab": {
          "base_uri": "https://localhost:8080/",
          "height": 1000
        },
        "outputId": "ed3ecbe6-c6d0-46c3-ea33-0a82c7cdd43c"
      },
      "source": [
        "# 산점도 scatter로 확인하기\n",
        "plt.figure(figsize=(10, 10))\n",
        "plt.scatter(data_result[\"인구수\"], data_result[\"소계\"], s=50)\n",
        "plt.xlabel(\"인구수\")\n",
        "plt.ylabel(\"CCTV 소계\")\n",
        "plt.grid()\n",
        "plt.show()\n",
        "\n",
        "# 개인 자습\n",
        "# seaborn replot 이용하면?\n",
        "plt.figure(figsize=(10, 10))\n",
        "sns.relplot(x='인구수', y='소계', hue = data_result.index, data=data_result)\n",
        "plt.grid()\n",
        "plt.show()"
      ],
      "execution_count": 58,
      "outputs": [
        {
          "output_type": "display_data",
          "data": {
            "image/png": "[encoded data removed]",
            "text/plain": [
              "<Figure size 720x720 with 1 Axes>"
            ]
          },
          "metadata": {
            "tags": [],
            "needs_background": "light"
          }
        },
        {
          "output_type": "display_data",
          "data": {
            "text/plain": [
              "<Figure size 720x720 with 0 Axes>"
            ]
          },
          "metadata": {
            "tags": []
          }
        },
        {
          "output_type": "display_data",
          "data": {
            "image/png": "[encoded data removed]",
            "text/plain": [
              "<Figure size 431.5x360 with 1 Axes>"
            ]
          },
          "metadata": {
            "tags": [],
            "needs_background": "light"
          }
        }
      ]
    },
    {
      "cell_type": "markdown",
      "metadata": {
        "id": "nrAc36t-TjKE"
      },
      "source": [
        "## seaborn 의 lmplot 활용하기"
      ]
    },
    {
      "cell_type": "code",
      "metadata": {
        "id": "I036_EK9UfA0",
        "colab": {
          "base_uri": "https://localhost:8080/",
          "height": 599
        },
        "outputId": "965ba7be-6070-4adb-90b9-d0378b5e4a6d"
      },
      "source": [
        "import seaborn as sns\n",
        "sns.lmplot(x=\"인구수\", y=\"소계\", height=8, data=data_result)\n",
        "plt.show()"
      ],
      "execution_count": 67,
      "outputs": [
        {
          "output_type": "display_data",
          "data": {
            "image/png": "[encoded data removed]",
            "text/plain": [
              "<Figure size 576x576 with 1 Axes>"
            ]
          },
          "metadata": {
            "tags": [],
            "needs_background": "light"
          }
        }
      ]
    },
    {
      "cell_type": "markdown",
      "metadata": {
        "id": "tsnbxJaykDyC"
      },
      "source": [
        "\n",
        "`np.polyfit(x, y, 1)`은 따로 공부하거나 걱정하지 말것\n",
        "\n",
        "* `x` : x축에 들어갈 데이터 $y=f(x)$에서 x를 의미\n",
        "* `y` : x의 기울기와 절편을 구할 기준 데이터(x의 결과물)\n",
        "* `1` : 1차식으로 만들겠다."
      ]
    },
    {
      "cell_type": "code",
      "metadata": {
        "id": "JHXq5oTyUo7Y",
        "colab": {
          "base_uri": "https://localhost:8080/"
        },
        "outputId": "40d415a9-4229-44c1-b5ca-e02916224110"
      },
      "source": [
        "fp1 = np.polyfit(data_result['인구수'], data_result['소계'], 1) # 인구수와 소계에 대한 1차식을 생성\n",
        "fp1"
      ],
      "execution_count": 68,
      "outputs": [
        {
          "output_type": "execute_result",
          "data": {
            "text/plain": [
              "array([1.30916415e-03, 6.45066497e+02])"
            ]
          },
          "metadata": {
            "tags": []
          },
          "execution_count": 68
        }
      ]
    },
    {
      "cell_type": "code",
      "metadata": {
        "colab": {
          "base_uri": "https://localhost:8080/",
          "height": 497
        },
        "id": "4YvUbeSujcjF",
        "outputId": "44906984-2681-49a6-ad4e-641154c6677d"
      },
      "source": [
        "# 구해진 기울기와 절편을 이용해서 1차 함수를 만든다.\n",
        "f1 = np.poly1d(fp1) # y 축 데이터 만들기 -> 결과로써 y = fp1[0]*x + fp1[1]\n",
        "fx = np.linspace(100000, 700000, 100) # 100000만 부터 700000까지 100을 띄워가면서 숫자 생성\n",
        "\n",
        "# 그래프 사이즈 조절하기\n",
        "plt.figure(figsize=(8, 8))\n",
        "\n",
        "# 산점도\n",
        "plt.scatter(data_result['인구수'], data_result['소계'], s=50)\n",
        "\n",
        "# polyfit, poly1d로 구한 직선 (f1) 그리기 y = f1(fx) -> y = f(x)\n",
        "y = f1(fx)\n",
        "plt.plot(fx, y, color='g', linestyle='dashed')\n",
        "\n",
        "plt.xlabel(\"인구수\")\n",
        "plt.ylabel(\"CCTV\")\n",
        "\n",
        "plt.grid()\n",
        "plt.show()"
      ],
      "execution_count": 69,
      "outputs": [
        {
          "output_type": "display_data",
          "data": {
            "image/png": "[encoded data removed]",
            "text/plain": [
              "<Figure size 576x576 with 1 Axes>"
            ]
          },
          "metadata": {
            "tags": [],
            "needs_background": "light"
          }
        }
      ]
    },
    {
      "cell_type": "markdown",
      "metadata": {
        "id": "vp9tfPwfmHXb"
      },
      "source": [
        "인구수와 적정 CCTV가 가장 차이가 많이나는 구 순으로 정렬하기"
      ]
    },
    {
      "cell_type": "code",
      "metadata": {
        "colab": {
          "base_uri": "https://localhost:8080/",
          "height": 390
        },
        "id": "3NZo0u9Fmyf-",
        "outputId": "d6624c92-08f2-46ec-edb3-e12486e74ac6"
      },
      "source": [
        "fp1 = np.polyfit(data_result['인구수'], data_result['소계'], 1)\n",
        "f1 = np.poly1d(fp1) # CCTV 기준치 구하기\n",
        "fx = np.linspace(100000, 700000, 100)\n",
        "\n",
        "# np.abs : 절대값 np.abs(1) : 1 / np.abs(-1) : 1\n",
        "data_result['오차'] = np.abs(data_result['소계'] - f1(data_result['인구수'])) # 그냥 인구수를 빼는게 아닌, 인구수 데이터가 실제로 들어 갔을 때\n",
        "                                                                              # 적절하게 설치 되어 있어야 할 CCTV 대수를 빼준다. ( 직선 위의 점 )\n",
        "\n",
        "\n",
        "# 오차 내림차순으로 정렬\n",
        "df_sort = data_result.sort_values(by=\"오차\", ascending=False)\n",
        "df_sort.head(10)"
      ],
      "execution_count": 73,
      "outputs": [
        {
          "output_type": "execute_result",
          "data": {
            "text/html": [
              "<div>\n",
              "<style scoped>\n",
              "    .dataframe tbody tr th:only-of-type {\n",
              "        vertical-align: middle;\n",
              "    }\n",
              "\n",
              "    .dataframe tbody tr th {\n",
              "        vertical-align: top;\n",
              "    }\n",
              "\n",
              "    .dataframe thead th {\n",
              "        text-align: right;\n",
              "    }\n",
              "</style>\n",
              "<table border=\"1\" class=\"dataframe\">\n",
              "  <thead>\n",
              "    <tr style=\"text-align: right;\">\n",
              "      <th></th>\n",
              "      <th>소계</th>\n",
              "      <th>최근증가율</th>\n",
              "      <th>인구수</th>\n",
              "      <th>한국인</th>\n",
              "      <th>외국인</th>\n",
              "      <th>고령자</th>\n",
              "      <th>외국인비율</th>\n",
              "      <th>고령자비율</th>\n",
              "      <th>오차</th>\n",
              "    </tr>\n",
              "    <tr>\n",
              "      <th>구별</th>\n",
              "      <th></th>\n",
              "      <th></th>\n",
              "      <th></th>\n",
              "      <th></th>\n",
              "      <th></th>\n",
              "      <th></th>\n",
              "      <th></th>\n",
              "      <th></th>\n",
              "      <th></th>\n",
              "    </tr>\n",
              "  </thead>\n",
              "  <tbody>\n",
              "    <tr>\n",
              "      <th>강남구</th>\n",
              "      <td>2780</td>\n",
              "      <td>150.619195</td>\n",
              "      <td>570500.0</td>\n",
              "      <td>565550.0</td>\n",
              "      <td>4950.0</td>\n",
              "      <td>63167.0</td>\n",
              "      <td>0.867660</td>\n",
              "      <td>11.072217</td>\n",
              "      <td>1388.055355</td>\n",
              "    </tr>\n",
              "    <tr>\n",
              "      <th>송파구</th>\n",
              "      <td>618</td>\n",
              "      <td>104.347826</td>\n",
              "      <td>667483.0</td>\n",
              "      <td>660584.0</td>\n",
              "      <td>6899.0</td>\n",
              "      <td>72506.0</td>\n",
              "      <td>1.033584</td>\n",
              "      <td>10.862599</td>\n",
              "      <td>900.911312</td>\n",
              "    </tr>\n",
              "    <tr>\n",
              "      <th>양천구</th>\n",
              "      <td>2034</td>\n",
              "      <td>34.671731</td>\n",
              "      <td>479978.0</td>\n",
              "      <td>475949.0</td>\n",
              "      <td>4029.0</td>\n",
              "      <td>52975.0</td>\n",
              "      <td>0.839413</td>\n",
              "      <td>11.036964</td>\n",
              "      <td>760.563512</td>\n",
              "    </tr>\n",
              "    <tr>\n",
              "      <th>서초구</th>\n",
              "      <td>1930</td>\n",
              "      <td>63.371266</td>\n",
              "      <td>450310.0</td>\n",
              "      <td>445994.0</td>\n",
              "      <td>4316.0</td>\n",
              "      <td>51733.0</td>\n",
              "      <td>0.958451</td>\n",
              "      <td>11.488308</td>\n",
              "      <td>695.403794</td>\n",
              "    </tr>\n",
              "    <tr>\n",
              "      <th>용산구</th>\n",
              "      <td>1624</td>\n",
              "      <td>53.216374</td>\n",
              "      <td>244203.0</td>\n",
              "      <td>229456.0</td>\n",
              "      <td>14747.0</td>\n",
              "      <td>36231.0</td>\n",
              "      <td>6.038828</td>\n",
              "      <td>14.836427</td>\n",
              "      <td>659.231690</td>\n",
              "    </tr>\n",
              "    <tr>\n",
              "      <th>도봉구</th>\n",
              "      <td>485</td>\n",
              "      <td>246.638655</td>\n",
              "      <td>348646.0</td>\n",
              "      <td>346629.0</td>\n",
              "      <td>2017.0</td>\n",
              "      <td>51312.0</td>\n",
              "      <td>0.578524</td>\n",
              "      <td>14.717507</td>\n",
              "      <td>616.501341</td>\n",
              "    </tr>\n",
              "    <tr>\n",
              "      <th>마포구</th>\n",
              "      <td>574</td>\n",
              "      <td>212.101911</td>\n",
              "      <td>389649.0</td>\n",
              "      <td>378566.0</td>\n",
              "      <td>11083.0</td>\n",
              "      <td>48765.0</td>\n",
              "      <td>2.844355</td>\n",
              "      <td>12.515110</td>\n",
              "      <td>581.180999</td>\n",
              "    </tr>\n",
              "    <tr>\n",
              "      <th>은평구</th>\n",
              "      <td>1873</td>\n",
              "      <td>85.237258</td>\n",
              "      <td>494388.0</td>\n",
              "      <td>489943.0</td>\n",
              "      <td>4445.0</td>\n",
              "      <td>72334.0</td>\n",
              "      <td>0.899091</td>\n",
              "      <td>14.631019</td>\n",
              "      <td>580.698457</td>\n",
              "    </tr>\n",
              "    <tr>\n",
              "      <th>강서구</th>\n",
              "      <td>884</td>\n",
              "      <td>134.793814</td>\n",
              "      <td>603772.0</td>\n",
              "      <td>597248.0</td>\n",
              "      <td>6524.0</td>\n",
              "      <td>72548.0</td>\n",
              "      <td>1.080540</td>\n",
              "      <td>12.015794</td>\n",
              "      <td>551.503155</td>\n",
              "    </tr>\n",
              "    <tr>\n",
              "      <th>중랑구</th>\n",
              "      <td>660</td>\n",
              "      <td>79.960707</td>\n",
              "      <td>414503.0</td>\n",
              "      <td>409882.0</td>\n",
              "      <td>4621.0</td>\n",
              "      <td>56774.0</td>\n",
              "      <td>1.114829</td>\n",
              "      <td>13.696885</td>\n",
              "      <td>527.718965</td>\n",
              "    </tr>\n",
              "  </tbody>\n",
              "</table>\n",
              "</div>"
            ],
            "text/plain": [
              "       소계       최근증가율       인구수  ...     외국인비율      고령자비율           오차\n",
              "구별                               ...                                  \n",
              "강남구  2780  150.619195  570500.0  ...  0.867660  11.072217  1388.055355\n",
              "송파구   618  104.347826  667483.0  ...  1.033584  10.862599   900.911312\n",
              "양천구  2034   34.671731  479978.0  ...  0.839413  11.036964   760.563512\n",
              "서초구  1930   63.371266  450310.0  ...  0.958451  11.488308   695.403794\n",
              "용산구  1624   53.216374  244203.0  ...  6.038828  14.836427   659.231690\n",
              "도봉구   485  246.638655  348646.0  ...  0.578524  14.717507   616.501341\n",
              "마포구   574  212.101911  389649.0  ...  2.844355  12.515110   581.180999\n",
              "은평구  1873   85.237258  494388.0  ...  0.899091  14.631019   580.698457\n",
              "강서구   884  134.793814  603772.0  ...  1.080540  12.015794   551.503155\n",
              "중랑구   660   79.960707  414503.0  ...  1.114829  13.696885   527.718965\n",
              "\n",
              "[10 rows x 9 columns]"
            ]
          },
          "metadata": {
            "tags": []
          },
          "execution_count": 73
        }
      ]
    },
    {
      "cell_type": "code",
      "metadata": {
        "colab": {
          "base_uri": "https://localhost:8080/",
          "height": 497
        },
        "id": "PyHWsXGLoal9",
        "outputId": "b0f203f1-5761-48c0-f69e-d4147c36c1ed"
      },
      "source": [
        "# 텍스트와 컬러맵 입히기\n",
        "plt.figure(figsize=(9, 8))\n",
        "plt.scatter(df_sort['인구수'], df_sort['소계'], c=df_sort['오차'], s=50)\n",
        "plt.plot(fx, f1(fx), ls='dashed', lw=3, color='g')\n",
        "\n",
        "# 오차가 가장 큰 10개의 구에 대해서 텍스트를 부여\n",
        "for n in range(10):\n",
        "  # scatter가 찍힌 좌표를 기준으로 약간 오른쪽( 인구수보다 약간 큼 ) 아래 ( 소계 보다 약간 작음 )\n",
        "  plt.text(df_sort['인구수'][n]*1.02, df_sort['소계'][n]*0.98, df_sort.index[n], fontsize=15)\n",
        "\n",
        "plt.xlabel(\"인구수\")\n",
        "plt.ylabel(\"소계\")\n",
        "\n",
        "plt.colorbar()\n",
        "plt.grid()\n",
        "plt.show()"
      ],
      "execution_count": 74,
      "outputs": [
        {
          "output_type": "display_data",
          "data": {
            "image/png": "[encoded data removed]",
            "text/plain": [
              "<Figure size 648x576 with 2 Axes>"
            ]
          },
          "metadata": {
            "tags": [],
            "needs_background": "light"
          }
        }
      ]
    },
    {
      "cell_type": "markdown",
      "metadata": {
        "id": "1YYp_88-o_l0"
      },
      "source": [
        "최종 파일 저장"
      ]
    },
    {
      "cell_type": "code",
      "metadata": {
        "id": "EDENEN6lvP7a"
      },
      "source": [
        "data_result.to_csv(\"./pop_cctv_result.csv\", encoding='utf-8')"
      ],
      "execution_count": 75,
      "outputs": []
    }
  ]
}
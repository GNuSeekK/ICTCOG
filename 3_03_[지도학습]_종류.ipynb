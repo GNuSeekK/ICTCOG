{
  "nbformat": 4,
  "nbformat_minor": 0,
  "metadata": {
    "colab": {
      "name": "3 - 03 [지도학습] 종류.ipynb",
      "provenance": [],
      "collapsed_sections": [],
      "authorship_tag": "ABX9TyPbekgD3QMJmHCzyV9nHZQ5",
      "include_colab_link": true
    },
    "kernelspec": {
      "name": "python3",
      "display_name": "Python 3"
    },
    "language_info": {
      "name": "python"
    }
  },
  "cells": [
    {
      "cell_type": "markdown",
      "metadata": {
        "id": "view-in-github",
        "colab_type": "text"
      },
      "source": [
        "<a href=\"https://colab.research.google.com/github/GNuSeekK/ICTCOG/blob/main/3_03_%5B%EC%A7%80%EB%8F%84%ED%95%99%EC%8A%B5%5D_%EC%A2%85%EB%A5%98.ipynb\" target=\"_parent\"><img src=\"https://colab.research.google.com/assets/colab-badge.svg\" alt=\"Open In Colab\"/></a>"
      ]
    },
    {
      "cell_type": "markdown",
      "metadata": {
        "id": "e8YQXDFRb_1N"
      },
      "source": [
        "# 학습이란?\n",
        "머신러닝 알고리즘에 데이터를 대입해서 머신러닝 모델이 데이터를 이해하게 하는 것"
      ]
    },
    {
      "cell_type": "markdown",
      "metadata": {
        "id": "6CqauqAecYts"
      },
      "source": [
        "## 지도학습을 위해 필요한 것\n",
        "* `feature` : 학습해야 할 데이터\n",
        "* `label` : 정답 ( 다른 말로 target )"
      ]
    },
    {
      "cell_type": "markdown",
      "metadata": {
        "id": "JRAz2Ru1ceyo"
      },
      "source": [
        "# 분류(Classification), 회귀(Regression)"
      ]
    },
    {
      "cell_type": "markdown",
      "metadata": {
        "id": "9LvJFygMcql_"
      },
      "source": [
        "## 분류\n",
        "카테고리를 예측하는 과정\n",
        "* 어떠한 사진이 (고양이 or 강아지 or 말) 분류\n",
        "* 비만 or Not\n",
        "* 스팸 or Not"
      ]
    },
    {
      "cell_type": "markdown",
      "metadata": {
        "id": "dWOg0Cahc1Vr"
      },
      "source": [
        "### 이진 분류 ( Binary Classification )\n",
        "* Yes(1), No(0) 로 분류하는 과정\n",
        "  * 1 (양성)이라고 무조건 좋은게 아니다.\n",
        "  * 0 (음성)이라고 무조건 나쁜게 아니다.\n",
        "    * `당신은 비만입니까?` 비만이면 `1`, 비만이 아니면 `0`\n",
        "    * `당신은 비만이 아닙니까?` 비만이면 `0`, 비만이 아니면 `1`\n",
        "  * 1번 클래스를 양성 클래스\n",
        "  * 0번 클래스를 음성 클래스\n",
        "  * 클래스란 정답의 종류를 의미"
      ]
    },
    {
      "cell_type": "markdown",
      "metadata": {
        "id": "gUryJIY9djKp"
      },
      "source": [
        "### 다중 분류 ( Multiclass Classification )\n",
        "* 3개 이상의 결과를 분류하는 것\n",
        "  * 이 숫자는 `0,1,2,3,4,5,6,7,8,9` 중에 무엇입니까?\n",
        "    * 클래스의 개수가 10개\n",
        "  * 이 동물은 고양이, 강아지, 닭 중에 무엇입니까?\n",
        "    * 클래스의 개수가 3개"
      ]
    },
    {
      "cell_type": "markdown",
      "metadata": {
        "id": "WEIik8NYd6By"
      },
      "source": [
        "## 회귀\n",
        "* 연속적인 숫자, 또는 부동 소수점 수(실수)를 예측 하는 것\n",
        "  * 올해 옥수수 수확량 예측\n",
        "  * 이 택시가 얼마나 걸릴 것인가?\n",
        "  * 아파트 가격은 얼마가 될 것인가?\n",
        "  * 주식의 변동량은 어떻게 될 것인가?"
      ]
    },
    {
      "cell_type": "markdown",
      "metadata": {
        "id": "bpFI9HOkeyV-"
      },
      "source": [
        "# 일반화 (Generalization)\n",
        "학습된(훈련된) 모델이 **처음 보는 새로운 데이터**가 주어져도 정확하게 예측을 할 수 있는 능력\n",
        "* Cross Validation을 이용해 일반화 성능을 측정\n",
        "\n",
        "너무 모델이 데이터를 복잡하게 해석(과대적합)해도 안되고, 단순하게 해석(과소적합)해도 안된다."
      ]
    },
    {
      "cell_type": "markdown",
      "metadata": {
        "id": "MTSJEv8xfRYH"
      },
      "source": [
        "### 일반화를 위한 복잡도 조절\n",
        "1. 데이터의 복잡도를 조절하는 방법\n",
        "    * **데이터의 특성**(feature)가 많아질수록 복잡해진다.\n",
        "    * **데이터의 양**(volumn)이 많아질수록 복잡\n",
        "    * **데이터의 스케일**이 서로 많이 다르면 복잡\n",
        "    * Outlier가 많거나, 복잡하게 섞여있다면 복잡\n",
        "2. 머신러닝 모델의 복잡도를 조정\n",
        "    * **하이퍼 파라미터 조정**"
      ]
    },
    {
      "cell_type": "markdown",
      "metadata": {
        "id": "aL02p4uQgcUC"
      },
      "source": [
        "## 과대적합(Overfitting)\n",
        "* 모델이 알고있는 (**훈련된**) 데이터만 너무 복잡하게 해석하는 것.\n",
        "* 성능을 높이기 위해 데이터 하나하나를 너무 중요하게 생각하는 경우\n",
        "    * 훈련 데이터에 대한 오차를 내지 않으려고 노력을 많이하게 된다. - 모델이 데이터를 복잡하게 분석\n",
        "* 이미 알고있는 데이터는 잘 예측 But 보지 못한 데이터는 예측 실패\n",
        "    * Train점수와 Test 점수가 많은 차이를 보임"
      ]
    },
    {
      "cell_type": "markdown",
      "metadata": {
        "id": "p1vcVNUChXiz"
      },
      "source": [
        "##  과소적합 (Underfitting)\n",
        "* 모델이 훈련 데이터를 너무 단순하게 해석\n",
        "* 데이터 하나하나를 너무 대충 생각 => 전체적인 추세만 신경씀\n",
        "* 이미 알고 있는 데이터와, 새로운 데이터 모두 예측을 잘 할 수 없다.\n",
        "    * TRAIN의 점수와 TEST점수가 모두 낮은 현상.\n",
        "    * 점수 차이가 많이 나지 않는 현상"
      ]
    },
    {
      "cell_type": "code",
      "metadata": {
        "id": "NHRXqLlxhpVZ"
      },
      "source": [
        ""
      ],
      "execution_count": null,
      "outputs": []
    }
  ]
}
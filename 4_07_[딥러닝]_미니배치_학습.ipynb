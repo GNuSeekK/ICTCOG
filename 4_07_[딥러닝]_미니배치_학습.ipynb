{
  "nbformat": 4,
  "nbformat_minor": 0,
  "metadata": {
    "colab": {
      "name": "4 - 07 [딥러닝] 미니배치 학습.ipynb",
      "provenance": [],
      "collapsed_sections": [],
      "authorship_tag": "ABX9TyM8EGEnXCvkMPSjQ1Fl2Qxe",
      "include_colab_link": true
    },
    "kernelspec": {
      "name": "python3",
      "display_name": "Python 3"
    },
    "language_info": {
      "name": "python"
    }
  },
  "cells": [
    {
      "cell_type": "markdown",
      "metadata": {
        "id": "view-in-github",
        "colab_type": "text"
      },
      "source": [
        "<a href=\"https://colab.research.google.com/github/GNuSeekK/ICTCOG/blob/main/4_07_%5B%EB%94%A5%EB%9F%AC%EB%8B%9D%5D_%EB%AF%B8%EB%8B%88%EB%B0%B0%EC%B9%98_%ED%95%99%EC%8A%B5.ipynb\" target=\"_parent\"><img src=\"https://colab.research.google.com/assets/colab-badge.svg\" alt=\"Open In Colab\"/></a>"
      ]
    },
    {
      "cell_type": "markdown",
      "metadata": {
        "id": "iP2WkLf0J3f2"
      },
      "source": [
        "# 배치란?\n",
        "* 데이터의 묶음\n",
        "* 묶음 대로 결과물이 병렬로 계산 된다.\n",
        "    * 100개의 데이터를 한꺼번에 묶어서(배치를 만들어서) 입력을 했으면, 거기에 대한 결과물도 100개가 한꺼번에 나온다.\n",
        "* 배치를 적용한 Loss의 수식은?\n",
        "* 배치가 `N`건이면, `N`건에 대한 `CEE`값을 모두 구한 다음 그 값을 모두 더하고 `N`에 대한 평균을 구한다.\n",
        "---\n",
        "## **<center>배치를 적용한 CEE</center>**\n",
        "\n",
        "$$\n",
        "CEE = -\\sum_n\\sum_{k}t_{nk}\\log{y}_{nk}\n",
        "$$"
      ]
    },
    {
      "cell_type": "markdown",
      "metadata": {
        "id": "lIKMYTD1KIY8"
      },
      "source": [
        "# 미니배치란?\n",
        "* `MNIST`의 데이터 개수 60,000건\n",
        "* 신경망이 `MNIST`를 학습하고 거기에 대한 평가를 내릴 때 60,000건 모두에 대한 손실 함수의합을 구해야 할까?\n",
        "* 데이터의 양이 굉장히 많은 경우에는 모든 데이터를 다 쓰는 것이 아니고, **데이터의 일부를 랜덤하게 추려서** 근사치로 이용할 수 있다.\n",
        "* 이 일부가 되는 데이터를 **미니 배치**라고 한다."
      ]
    },
    {
      "cell_type": "code",
      "metadata": {
        "id": "VieN_iTvL3Y5"
      },
      "source": [
        "import tensorflow as tf\n",
        "import matplotlib.pyplot as plt"
      ],
      "execution_count": null,
      "outputs": []
    },
    {
      "cell_type": "code",
      "metadata": {
        "id": "HmI6TkjAN8K-"
      },
      "source": [
        "# mnist 데이터세트 로딩\n",
        "from tensorflow.keras import datasets\n",
        "mnist = datasets.mnist\n",
        "\n",
        "(X_train, t_train), (X_test, t_test) = mnist.load_data()"
      ],
      "execution_count": null,
      "outputs": []
    },
    {
      "cell_type": "markdown",
      "metadata": {
        "id": "GOjDOVmuOHth"
      },
      "source": [
        "데이터 배열 전처리"
      ]
    },
    {
      "cell_type": "code",
      "metadata": {
        "colab": {
          "base_uri": "https://localhost:8080/"
        },
        "id": "s9PIISiuONiT",
        "outputId": "53109bb7-7632-4edb-ee2d-652d7bab196d"
      },
      "source": [
        "TRAIN_IMAGE_SIZE = X_train.shape[0]\n",
        "\n",
        "X_train = X_train.reshape(TRAIN_IMAGE_SIZE, -1)\n",
        "X_train.shape, t_train.shape"
      ],
      "execution_count": null,
      "outputs": [
        {
          "output_type": "execute_result",
          "data": {
            "text/plain": [
              "((60000, 784), (60000,))"
            ]
          },
          "metadata": {
            "tags": []
          },
          "execution_count": 36
        }
      ]
    },
    {
      "cell_type": "markdown",
      "metadata": {
        "id": "UdnKJe3zOVEF"
      },
      "source": [
        "`t_train` One-Hot Encoding"
      ]
    },
    {
      "cell_type": "code",
      "metadata": {
        "colab": {
          "base_uri": "https://localhost:8080/"
        },
        "id": "1vo4fbCkOjJB",
        "outputId": "2ef237a2-e344-4017-c74b-33c41f4db9fd"
      },
      "source": [
        "y_train_onehot = tf.one_hot(y_train, 10).numpy()\n",
        "y_train_onehot.shape"
      ],
      "execution_count": null,
      "outputs": [
        {
          "output_type": "execute_result",
          "data": {
            "text/plain": [
              "(60000, 10)"
            ]
          },
          "metadata": {
            "tags": []
          },
          "execution_count": 37
        }
      ]
    },
    {
      "cell_type": "markdown",
      "metadata": {
        "id": "e-ZqUEBXO_is"
      },
      "source": [
        "# 미니배치 구현하기"
      ]
    },
    {
      "cell_type": "code",
      "metadata": {
        "colab": {
          "base_uri": "https://localhost:8080/"
        },
        "id": "-ECIGLi5PRjd",
        "outputId": "9949ad61-809c-422c-a3e7-13f839026624"
      },
      "source": [
        "import numpy as np\n",
        "\n",
        "# 훈련 데이터 전체에서 무작위로 10장만 빼오기\n",
        "train_size = X_train.shape[0] # 전체 훈련 데이터 세트 크기\n",
        "batch_size = 10\n",
        "\n",
        "# train_size에서 batch_size만큼 정수를 무작위로 추출\n",
        "batch_mask = np.random.choice(train_size, batch_size) # 0~59999 중에 10개의 랜덤한 정수 인덱스를 추출\n",
        "batch_mask"
      ],
      "execution_count": null,
      "outputs": [
        {
          "output_type": "execute_result",
          "data": {
            "text/plain": [
              "array([14398, 48712,  6684, 44176, 41915, 33400,  9102, 49863, 16858,\n",
              "       57521])"
            ]
          },
          "metadata": {
            "tags": []
          },
          "execution_count": 38
        }
      ]
    },
    {
      "cell_type": "code",
      "metadata": {
        "colab": {
          "base_uri": "https://localhost:8080/"
        },
        "id": "RAtKqLu-U9sl",
        "outputId": "9c85db9d-a7fa-4c51-beaa-4246bae3818e"
      },
      "source": [
        "# 미니배치 추출은 원본 데이터에서 batch_mask를 씌워주면 된다.\n",
        "X_batch = X_train[batch_mask]\n",
        "t_batch = y_train_onehot[batch_mask]\n",
        "\n",
        "X_batch.shape, t_batch.shape"
      ],
      "execution_count": null,
      "outputs": [
        {
          "output_type": "execute_result",
          "data": {
            "text/plain": [
              "((10, 784), (10, 10))"
            ]
          },
          "metadata": {
            "tags": []
          },
          "execution_count": 39
        }
      ]
    },
    {
      "cell_type": "markdown",
      "metadata": {
        "id": "RfPtG9N0VOMC"
      },
      "source": [
        "$$\n",
        "CEE = -\\frac{1}{N}\\sum_n\\sum_{k}t_{nk}\\log{y_{nk}}\n",
        "$$"
      ]
    },
    {
      "cell_type": "code",
      "metadata": {
        "id": "OYIpY5ObVPxG"
      },
      "source": [
        "# ver 1 - t가 OHE이 되어 있는 형태\n",
        "def cross_entropy_erorr_v1(y,t):\n",
        "    delta = 1e-6\n",
        "\n",
        "    # 배치를 사용하지 않은 경우\n",
        "    if y.ndim == 1: # (10,)\n",
        "        # batch_size를 1로 강제 지정\n",
        "        # reshape\n",
        "        t = t.reshape(1, -1)\n",
        "        y = y.reshape(1, -1)\n",
        "    \n",
        "    batch_size = y.shape[0]\n",
        "\n",
        "    # delta를 더한 이유 : y가 0일 때 np.log(y)는 음수 무한대가 되기 떄문\n",
        "    return -np.sum( t * np.log(y+delta)) / batch_size"
      ],
      "execution_count": null,
      "outputs": []
    },
    {
      "cell_type": "code",
      "metadata": {
        "colab": {
          "base_uri": "https://localhost:8080/"
        },
        "id": "exzOf_tXXUNp",
        "outputId": "1f6aec45-22df-485b-e20e-6b1e6469b89c"
      },
      "source": [
        "# ver 2 - t가 OHE이 안되어 있는 형태\n",
        "def cross_entropy_error_v2(y, t):\n",
        "    delta = 1e-6\n",
        "\n",
        "    if y.ndim == 1:\n",
        "        t = t.reshape(1, t.size)\n",
        "        y = y.reshape(1, y.size)\n",
        "\n",
        "    batch_size = y.shape[0]\n",
        "    return -np.sum(np.log(y[np.arange(batch_size), t])) / batch_size\n",
        "\n",
        "y = np.array([[0.1,0.2,0.3,0.1,0.3],\n",
        "              [0.2,0.3,0.3,0.1,0.1]])\n",
        "t = np.array([2,3])\n",
        "\n",
        "cross_entropy_error_v2(y,t)"
      ],
      "execution_count": null,
      "outputs": [
        {
          "output_type": "execute_result",
          "data": {
            "text/plain": [
              "1.753278948659991"
            ]
          },
          "metadata": {
            "tags": []
          },
          "execution_count": 64
        }
      ]
    },
    {
      "cell_type": "markdown",
      "metadata": {
        "id": "RAa21qb-YjgK"
      },
      "source": [
        "```python\n",
        "np.log(y[np.arange(batch_size), t])\n",
        "\n",
        "ex)\n",
        "\n",
        "batch_size = 5\n",
        "t = [2, 7, 0, 9, 8]\n",
        "\n",
        "np.arange(batch_size) = [0, 1, 2, 3, 4]\n",
        "\n",
        "y[np.arange(batch_size), t] 코드는 다음과 같이 해석\n",
        "y[[0, 1, 2, 3, 4], [2, 7, 0, 9, 8]]\n",
        "\n",
        "y[0, 2]\n",
        "y[1, 7]\n",
        "y[2, 0]\n",
        "y[3, 9]\n",
        "y[4, 8]\n",
        "\n",
        "y는 5개의 배치 데이터에 대한 소프트맥스의 결과물\n",
        "\n",
        "y = [[0.0, 0.1, 0.7, 0.0, 0.0, 0.1, 0.1, 0.0, 0.0, 0.0],\n",
        "     [0.0, 0.1, 0.7, 0.0, 0.0, 0.1, 0.1, 0.0, 0.0, 0.0],\n",
        "     [0.0, 0.1, 0.7, 0.0, 0.0, 0.1, 0.1, 0.0, 0.0, 0.0],\n",
        "     [0.0, 0.1, 0.7, 0.0, 0.0, 0.1, 0.1, 0.0, 0.0, 0.0],\n",
        "     [0.0, 0.1, 0.7, 0.0, 0.0, 0.1, 0.1, 0.0, 0.0, 0.0]]\n",
        "\n",
        "np.log(y[np.arange(batch_size), t])\n",
        "\n",
        "* 인덱스 0번째 계산\n",
        "np.log(y[0, 2]) 는 곧\n",
        "np.log(0.7)\n",
        "```"
      ]
    }
  ]
}
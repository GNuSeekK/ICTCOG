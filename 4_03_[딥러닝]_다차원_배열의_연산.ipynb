{
  "nbformat": 4,
  "nbformat_minor": 0,
  "metadata": {
    "colab": {
      "name": "4 - 03 [딥러닝] 다차원 배열의 연산.ipynb",
      "provenance": [],
      "collapsed_sections": [],
      "authorship_tag": "ABX9TyPVVnnugPT6fU/Y5Q+AL+59",
      "include_colab_link": true
    },
    "kernelspec": {
      "name": "python3",
      "display_name": "Python 3"
    },
    "language_info": {
      "name": "python"
    }
  },
  "cells": [
    {
      "cell_type": "markdown",
      "metadata": {
        "id": "view-in-github",
        "colab_type": "text"
      },
      "source": [
        "<a href=\"https://colab.research.google.com/github/GNuSeekK/ICTCOG/blob/main/4_03_%5B%EB%94%A5%EB%9F%AC%EB%8B%9D%5D_%EB%8B%A4%EC%B0%A8%EC%9B%90_%EB%B0%B0%EC%97%B4%EC%9D%98_%EC%97%B0%EC%82%B0.ipynb\" target=\"_parent\"><img src=\"https://colab.research.google.com/assets/colab-badge.svg\" alt=\"Open In Colab\"/></a>"
      ]
    },
    {
      "cell_type": "code",
      "metadata": {
        "id": "tiUl9PARpuoU"
      },
      "source": [
        "import numpy as np"
      ],
      "execution_count": null,
      "outputs": []
    },
    {
      "cell_type": "markdown",
      "metadata": {
        "id": "xGxeofLlpxQZ"
      },
      "source": [
        "# 배열의 정보 확인\n",
        "* `ndim` : 배열의 차원수 알아내기\n",
        "* `shape` : 배열의 형상 알아내기"
      ]
    },
    {
      "cell_type": "code",
      "metadata": {
        "colab": {
          "base_uri": "https://localhost:8080/"
        },
        "id": "XkvgWM75p30q",
        "outputId": "0c6dee3d-2df6-414b-b613-75bcacc04388"
      },
      "source": [
        "A = np.array([1,2,3,4])\n",
        "print(\"A의 차원 : {}\".format(A.ndim))\n",
        "print(\"A의 형상 : {}\".format(A.shape))"
      ],
      "execution_count": null,
      "outputs": [
        {
          "output_type": "stream",
          "text": [
            "A의 차원 : 1\n",
            "A의 형상 : (4,)\n"
          ],
          "name": "stdout"
        }
      ]
    },
    {
      "cell_type": "code",
      "metadata": {
        "colab": {
          "base_uri": "https://localhost:8080/"
        },
        "id": "39m2dj-8p-ti",
        "outputId": "54c082c5-784f-4519-9816-c5a6fd24ce99"
      },
      "source": [
        "B = np.array([[1, 2],\n",
        "              [3, 4],\n",
        "              [5, 6]])\n",
        "\n",
        "print(\"B의 차원 : {}\".format(B.ndim))\n",
        "print(\"B의 형상 : {}\".format(B.shape))"
      ],
      "execution_count": null,
      "outputs": [
        {
          "output_type": "stream",
          "text": [
            "B의 차원 : 2\n",
            "B의 형상 : (3, 2)\n"
          ],
          "name": "stdout"
        }
      ]
    },
    {
      "cell_type": "markdown",
      "metadata": {
        "id": "um6pWJsoxh_S"
      },
      "source": [
        "# 행렬의 내적"
      ]
    },
    {
      "cell_type": "markdown",
      "metadata": {
        "id": "nVhf_4xbxh_T"
      },
      "source": [
        "2차원 배열인 행렬의 내적을 구하는 방법\n",
        "$$\n",
        "\\begin{pmatrix}\n",
        "a & b \\\\\n",
        "c & d \\\\\n",
        "\\end{pmatrix}\n",
        "\\cdot\n",
        "\\begin{pmatrix} \n",
        "p & q \\\\\n",
        "r & s \\\\\n",
        "\\end{pmatrix}\n",
        "= \\begin{pmatrix} \n",
        "ap+br & aq+bs \\\\\n",
        "cp+dr & cq+ds \\\\\n",
        "\\end{pmatrix}\n",
        "$$\n",
        "\n",
        "행렬의 내적은\n",
        "* 왼쪽 행렬의 행(가로)과 오른쪽 행렬의 열(세로)을 원소 별로 곱하고 그 값들을 더한다.\n",
        "* 계산의 결과가 새로운 다차원 배열의 원소가 된다."
      ]
    },
    {
      "cell_type": "code",
      "metadata": {
        "colab": {
          "base_uri": "https://localhost:8080/"
        },
        "id": "stKf48TUvcWf",
        "outputId": "5aebcf75-5441-4fcb-eff1-e9619261588f"
      },
      "source": [
        "A = np.array([[1, 2],\n",
        "              [3, 4]])\n",
        "\n",
        "B = np.array([[5, 6],\n",
        "              [7, 8]])\n",
        "\n",
        "print(\"A : \\n{} / shape : {}\".format(A, A.shape))\n",
        "print()\n",
        "print(\"B : \\n{} / shape : {}\".format(B, B.shape))"
      ],
      "execution_count": null,
      "outputs": [
        {
          "output_type": "stream",
          "text": [
            "A : \n",
            "[[1 2]\n",
            " [3 4]] / shape : (2, 2)\n",
            "\n",
            "B : \n",
            "[[5 6]\n",
            " [7 8]] / shape : (2, 2)\n"
          ],
          "name": "stdout"
        }
      ]
    },
    {
      "cell_type": "code",
      "metadata": {
        "colab": {
          "base_uri": "https://localhost:8080/"
        },
        "id": "ZW5mXpsvw4wg",
        "outputId": "c0eb3380-0095-40a4-b38e-0c364f203a2a"
      },
      "source": [
        "# np.dot을 이용한 내적\n",
        "print(np.dot(A, B))\n",
        "print()\n",
        "# @ 연산자를 이용한 내적\n",
        "print(A @ B)"
      ],
      "execution_count": null,
      "outputs": [
        {
          "output_type": "stream",
          "text": [
            "[[19 22]\n",
            " [43 50]]\n",
            "\n",
            "[[19 22]\n",
            " [43 50]]\n"
          ],
          "name": "stdout"
        }
      ]
    },
    {
      "cell_type": "markdown",
      "metadata": {
        "id": "VyQRyt-pxkbD"
      },
      "source": [
        "## 행렬 내적의 특징\n",
        "* 교환 법칙이 성립되지 않는다.\n",
        "$$\n",
        "A \\cdot B \\ne B \\cdot A\n",
        "$$"
      ]
    },
    {
      "cell_type": "code",
      "metadata": {
        "colab": {
          "base_uri": "https://localhost:8080/"
        },
        "id": "DueC6tUxxnzb",
        "outputId": "ae99f1c6-c8c5-4594-c8aa-1e33d685e159"
      },
      "source": [
        "print(A @ B)\n",
        "print()\n",
        "print(B @ A)"
      ],
      "execution_count": null,
      "outputs": [
        {
          "output_type": "stream",
          "text": [
            "[[19 22]\n",
            " [43 50]]\n",
            "\n",
            "[[23 34]\n",
            " [31 46]]\n"
          ],
          "name": "stdout"
        }
      ]
    },
    {
      "cell_type": "markdown",
      "metadata": {
        "id": "1430fwlnyAo6"
      },
      "source": [
        "# 행과 열의 개수가 다른 상태에서의 행렬 내적\n",
        "첫 번째 행렬의 열의 수와 두번째 행렬의 행의 수가 일치하면 내적 가능!\n",
        "```python\n",
        "A.shape : (2,3)\n",
        "B.shape : (3,2)\n",
        "\n",
        "A @ B 가능\n",
        "```\n",
        "\n",
        "```python\n",
        "A.shape : (2,3)\n",
        "B.shape : (2,3)\n",
        "\n",
        "A @ B 불가능\n",
        "```"
      ]
    },
    {
      "cell_type": "code",
      "metadata": {
        "colab": {
          "base_uri": "https://localhost:8080/"
        },
        "id": "1o1C01hkybLf",
        "outputId": "c65099a2-42af-4d86-adc1-2b1e2cd91d67"
      },
      "source": [
        "A = np.arange(1,7).reshape(2,3) # 2 × 3 형태의 행렬\n",
        "B = np.arange(1,7).reshape(3,2) # 3 × 2 형태의 행렬\n",
        "\n",
        "A.shape, B.shape"
      ],
      "execution_count": null,
      "outputs": [
        {
          "output_type": "execute_result",
          "data": {
            "text/plain": [
              "((2, 3), (3, 2))"
            ]
          },
          "metadata": {
            "tags": []
          },
          "execution_count": 10
        }
      ]
    },
    {
      "cell_type": "code",
      "metadata": {
        "colab": {
          "base_uri": "https://localhost:8080/"
        },
        "id": "1bEX_YUmzAc0",
        "outputId": "79a671ba-20ec-4c6b-e876-72e86649557e"
      },
      "source": [
        "A @ B"
      ],
      "execution_count": null,
      "outputs": [
        {
          "output_type": "execute_result",
          "data": {
            "text/plain": [
              "array([[22, 28],\n",
              "       [49, 64]])"
            ]
          },
          "metadata": {
            "tags": []
          },
          "execution_count": 11
        }
      ]
    },
    {
      "cell_type": "code",
      "metadata": {
        "colab": {
          "base_uri": "https://localhost:8080/"
        },
        "id": "rGMyrhamzCII",
        "outputId": "b2443655-d8e2-476d-8844-6c4bf284d376"
      },
      "source": [
        "B.shape, A.shape"
      ],
      "execution_count": null,
      "outputs": [
        {
          "output_type": "execute_result",
          "data": {
            "text/plain": [
              "((3, 2), (2, 3))"
            ]
          },
          "metadata": {
            "tags": []
          },
          "execution_count": 12
        }
      ]
    },
    {
      "cell_type": "code",
      "metadata": {
        "colab": {
          "base_uri": "https://localhost:8080/"
        },
        "id": "E5cdF_RVzIhx",
        "outputId": "d17c1b6e-a5c0-4742-ef4a-30eb3cb7c505"
      },
      "source": [
        "B @ A"
      ],
      "execution_count": null,
      "outputs": [
        {
          "output_type": "execute_result",
          "data": {
            "text/plain": [
              "array([[ 9, 12, 15],\n",
              "       [19, 26, 33],\n",
              "       [29, 40, 51]])"
            ]
          },
          "metadata": {
            "tags": []
          },
          "execution_count": 13
        }
      ]
    },
    {
      "cell_type": "code",
      "metadata": {
        "id": "vK1Bgl3nzJGJ"
      },
      "source": [
        "C = np.arange(1,5).reshape(2,2)"
      ],
      "execution_count": null,
      "outputs": []
    },
    {
      "cell_type": "code",
      "metadata": {
        "colab": {
          "base_uri": "https://localhost:8080/"
        },
        "id": "seHFFxz4zYeg",
        "outputId": "4e4e2f33-5202-4beb-dad8-2489d5dbec5d"
      },
      "source": [
        "A.shape, C.shape"
      ],
      "execution_count": null,
      "outputs": [
        {
          "output_type": "execute_result",
          "data": {
            "text/plain": [
              "((2, 3), (2, 2))"
            ]
          },
          "metadata": {
            "tags": []
          },
          "execution_count": 15
        }
      ]
    },
    {
      "cell_type": "markdown",
      "metadata": {
        "id": "pJehhnD4zZcI"
      },
      "source": [
        "A의 shape은 (2,3), C의 shape은 (2,2) 이기 때문에 내적 불가"
      ]
    },
    {
      "cell_type": "code",
      "metadata": {
        "colab": {
          "base_uri": "https://localhost:8080/",
          "height": 190
        },
        "id": "SApP1oyDzddX",
        "outputId": "faafac4c-f311-46a8-f069-13f1f0d3dda3"
      },
      "source": [
        "A @ C"
      ],
      "execution_count": null,
      "outputs": [
        {
          "output_type": "error",
          "ename": "ValueError",
          "evalue": "ignored",
          "traceback": [
            "\u001b[0;31m---------------------------------------------------------------------------\u001b[0m",
            "\u001b[0;31mValueError\u001b[0m                                Traceback (most recent call last)",
            "\u001b[0;32m<ipython-input-16-f8af5a33431b>\u001b[0m in \u001b[0;36m<module>\u001b[0;34m()\u001b[0m\n\u001b[0;32m----> 1\u001b[0;31m \u001b[0mA\u001b[0m \u001b[0;34m@\u001b[0m \u001b[0mC\u001b[0m\u001b[0;34m\u001b[0m\u001b[0;34m\u001b[0m\u001b[0m\n\u001b[0m",
            "\u001b[0;31mValueError\u001b[0m: matmul: Input operand 1 has a mismatch in its core dimension 0, with gufunc signature (n?,k),(k,m?)->(n?,m?) (size 2 is different from 3)"
          ]
        }
      ]
    },
    {
      "cell_type": "code",
      "metadata": {
        "colab": {
          "base_uri": "https://localhost:8080/"
        },
        "id": "b15EKyAYzeAQ",
        "outputId": "62ca302b-fceb-4df0-91ca-29cd487b1ef3"
      },
      "source": [
        "C.shape, A.shape"
      ],
      "execution_count": null,
      "outputs": [
        {
          "output_type": "execute_result",
          "data": {
            "text/plain": [
              "((2, 2), (2, 3))"
            ]
          },
          "metadata": {
            "tags": []
          },
          "execution_count": 17
        }
      ]
    },
    {
      "cell_type": "code",
      "metadata": {
        "colab": {
          "base_uri": "https://localhost:8080/"
        },
        "id": "b2oi46V7zgtQ",
        "outputId": "400bb3d5-9818-42b6-b924-c151813d4370"
      },
      "source": [
        "C @ A"
      ],
      "execution_count": null,
      "outputs": [
        {
          "output_type": "execute_result",
          "data": {
            "text/plain": [
              "array([[ 9, 12, 15],\n",
              "       [19, 26, 33]])"
            ]
          },
          "metadata": {
            "tags": []
          },
          "execution_count": 18
        }
      ]
    },
    {
      "cell_type": "markdown",
      "metadata": {
        "id": "JbffxZ7tzviJ"
      },
      "source": [
        "# 차원 수가 달라도 내적이 가능하다"
      ]
    },
    {
      "cell_type": "code",
      "metadata": {
        "id": "DoDvfI_Wz5bQ",
        "colab": {
          "base_uri": "https://localhost:8080/"
        },
        "outputId": "330ba2c3-37be-4d2b-c835-6658b0c214cf"
      },
      "source": [
        "A = A.reshape(3, 2)\n",
        "B = np.array([7,8])\n",
        "\n",
        "A.shape, B.shape"
      ],
      "execution_count": null,
      "outputs": [
        {
          "output_type": "execute_result",
          "data": {
            "text/plain": [
              "((3, 2), (2,))"
            ]
          },
          "metadata": {
            "tags": []
          },
          "execution_count": 20
        }
      ]
    },
    {
      "cell_type": "code",
      "metadata": {
        "colab": {
          "base_uri": "https://localhost:8080/"
        },
        "id": "4IaB6I5l0BnO",
        "outputId": "1fb44e84-dd12-4fe6-9adc-d863443ea85f"
      },
      "source": [
        "A @ B"
      ],
      "execution_count": null,
      "outputs": [
        {
          "output_type": "execute_result",
          "data": {
            "text/plain": [
              "array([23, 53, 83])"
            ]
          },
          "metadata": {
            "tags": []
          },
          "execution_count": 21
        }
      ]
    },
    {
      "cell_type": "code",
      "metadata": {
        "id": "cxmg9PEK0EYg"
      },
      "source": [
        ""
      ],
      "execution_count": null,
      "outputs": []
    }
  ]
}
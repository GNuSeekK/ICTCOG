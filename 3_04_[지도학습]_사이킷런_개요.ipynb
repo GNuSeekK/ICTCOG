{
  "nbformat": 4,
  "nbformat_minor": 0,
  "metadata": {
    "colab": {
      "name": "3 - 04 [지도학습] 사이킷런 개요.ipynb",
      "provenance": [],
      "collapsed_sections": [],
      "authorship_tag": "ABX9TyM6PHnP5sigHWp+/eb2ejBA",
      "include_colab_link": true
    },
    "kernelspec": {
      "name": "python3",
      "display_name": "Python 3"
    },
    "language_info": {
      "name": "python"
    }
  },
  "cells": [
    {
      "cell_type": "markdown",
      "metadata": {
        "id": "view-in-github",
        "colab_type": "text"
      },
      "source": [
        "<a href=\"https://colab.research.google.com/github/GNuSeekK/ICTCOG/blob/main/3_04_%5B%EC%A7%80%EB%8F%84%ED%95%99%EC%8A%B5%5D_%EC%82%AC%EC%9D%B4%ED%82%B7%EB%9F%B0_%EA%B0%9C%EC%9A%94.ipynb\" target=\"_parent\"><img src=\"https://colab.research.google.com/assets/colab-badge.svg\" alt=\"Open In Colab\"/></a>"
      ]
    },
    {
      "cell_type": "markdown",
      "metadata": {
        "id": "ZGuC7gUx1mPx"
      },
      "source": [
        "# 사이킷런\n",
        "각종 유명한 머신러닝 알고리즘 기법들을 구현해 놓은 **라이브러리**\n",
        "* 라이브러리란? 도구\n",
        "* 프레임워크\n",
        "    * 개발에 필요한 환경들을 미리 세팅해서 개발자들에게 편안한 개별환경을 제공"
      ]
    },
    {
      "cell_type": "markdown",
      "metadata": {
        "id": "k_2K2Zbb1xDi"
      },
      "source": [
        "# 훈련하기 (데이터 대입)\n",
        "* **fit(X,y)**\n",
        "    * X : Feature\n",
        "    * Y : label"
      ]
    },
    {
      "cell_type": "code",
      "metadata": {
        "id": "6SNJjfs22Zpq"
      },
      "source": [
        "import numpy as np\n",
        "from sklearn.linear_model import LinearRegression"
      ],
      "execution_count": null,
      "outputs": []
    },
    {
      "cell_type": "markdown",
      "metadata": {
        "id": "b8H6HjUy2bAe"
      },
      "source": [
        "## LinearRegression 간단 소개\n",
        "데이터 `X`가 들어왔을 때 `y`를 예측 하기 위한 기울기와 편향을 학습\n",
        "$$\n",
        "y = WX + b\n",
        "$$\n",
        "\n",
        "* 위의 식에서 $W$ : 기울기(가중치), $b$ : 편향이라고 한다.\n",
        "*LinearRegression의 목적은 정답($y$ 또는 $t$)과 예측값($\\hat{y}$ 또는 $y$)와의 오차를 줄이는 $W$와 $b$를 학습\n",
        "\n",
        "|`x`|`y`|\n",
        "|:--:|:--|\n",
        "|`1`|`3`|\n",
        "|`2`|`5`|\n",
        "|`3`|`7`|\n",
        "|`5`|`11`|\n",
        "\n",
        "* $x$가 4일 때의 $y$값은? 9\n",
        "* $y$를 구하기 위해서 $x$에 2를 곱하고 1을 더하면 된다. $y=2x+1$"
      ]
    },
    {
      "cell_type": "code",
      "metadata": {
        "colab": {
          "base_uri": "https://localhost:8080/"
        },
        "id": "JkR9BxlH2olb",
        "outputId": "8d05c103-97ce-4f41-c6b8-5924bea8f951"
      },
      "source": [
        "X = np.array([1., 2., 3., 5.]).reshape(-1, 1)\n",
        "y = np.array([3., 5., 7., 11.])\n",
        "\n",
        "X, y"
      ],
      "execution_count": null,
      "outputs": [
        {
          "output_type": "execute_result",
          "data": {
            "text/plain": [
              "(array([[1.],\n",
              "        [2.],\n",
              "        [3.],\n",
              "        [5.]]), array([ 3.,  5.,  7., 11.]))"
            ]
          },
          "metadata": {
            "tags": []
          },
          "execution_count": 3
        }
      ]
    },
    {
      "cell_type": "code",
      "metadata": {
        "colab": {
          "base_uri": "https://localhost:8080/"
        },
        "id": "Qblh8P2v4nwB",
        "outputId": "96442f51-8e5e-48a2-b739-0ad2a26ca8be"
      },
      "source": [
        "X.shape, y.shape"
      ],
      "execution_count": null,
      "outputs": [
        {
          "output_type": "execute_result",
          "data": {
            "text/plain": [
              "((4, 1), (4,))"
            ]
          },
          "metadata": {
            "tags": []
          },
          "execution_count": 4
        }
      ]
    },
    {
      "cell_type": "markdown",
      "metadata": {
        "id": "41p2Z93e4r0J"
      },
      "source": [
        "**모델만들고 훈련**"
      ]
    },
    {
      "cell_type": "code",
      "metadata": {
        "colab": {
          "base_uri": "https://localhost:8080/"
        },
        "id": "B_5Xy-gI59ra",
        "outputId": "ac763355-db59-402f-8d7d-4ed22e766c9f"
      },
      "source": [
        "model = LinearRegression()\n",
        "model.fit(X, y)"
      ],
      "execution_count": null,
      "outputs": [
        {
          "output_type": "execute_result",
          "data": {
            "text/plain": [
              "LinearRegression(copy_X=True, fit_intercept=True, n_jobs=None, normalize=False)"
            ]
          },
          "metadata": {
            "tags": []
          },
          "execution_count": 5
        }
      ]
    },
    {
      "cell_type": "markdown",
      "metadata": {
        "id": "oZmOdjpi6AxJ"
      },
      "source": [
        "# 예측하기 - predict\n",
        "`predict`로 예측을 할 때는 훈련 데이터의 **종류**의 개수와 예측할 데이터의 **종류**의 개수가 똑같아야 한다."
      ]
    },
    {
      "cell_type": "code",
      "metadata": {
        "colab": {
          "base_uri": "https://localhost:8080/"
        },
        "id": "zClzpflG6P0D",
        "outputId": "37c7623d-f30d-4c1a-c90f-4d9fd933f37b"
      },
      "source": [
        "for_predict = np.array([[4.],\n",
        "                        [6.]])\n",
        "\n",
        "X.shape, for_predict.shape"
      ],
      "execution_count": null,
      "outputs": [
        {
          "output_type": "execute_result",
          "data": {
            "text/plain": [
              "((4, 1), (2, 1))"
            ]
          },
          "metadata": {
            "tags": []
          },
          "execution_count": 6
        }
      ]
    },
    {
      "cell_type": "markdown",
      "metadata": {
        "id": "SsqJx6fq6mwV"
      },
      "source": [
        "* `x=4`라면 예측 결과물은? 9\n",
        "* `x=6`이라면 예측 결과물은? 13"
      ]
    },
    {
      "cell_type": "code",
      "metadata": {
        "colab": {
          "base_uri": "https://localhost:8080/"
        },
        "id": "KfArUCa47CSH",
        "outputId": "bc11c4fb-6a0f-4015-a97f-794d19152c4c"
      },
      "source": [
        "model.predict(for_predict)"
      ],
      "execution_count": null,
      "outputs": [
        {
          "output_type": "execute_result",
          "data": {
            "text/plain": [
              "array([ 9., 13.])"
            ]
          },
          "metadata": {
            "tags": []
          },
          "execution_count": 7
        }
      ]
    },
    {
      "cell_type": "markdown",
      "metadata": {
        "id": "u2VOukYx7GYi"
      },
      "source": [
        "## [번회] LinearRegression 모델은 무엇을 어떻게 학습했는가?\n",
        "* `W`와 `b`를 학습함!\n",
        "  * $w$는 2가 될 것이다.\n",
        "  * $b$는 1이 될 것이다."
      ]
    },
    {
      "cell_type": "code",
      "metadata": {
        "colab": {
          "base_uri": "https://localhost:8080/"
        },
        "id": "fpdlHJpi7qkx",
        "outputId": "814bb638-7cb4-4ade-a07e-f2d899e281a4"
      },
      "source": [
        "# W : coef_\n",
        "# b : intercept_\n",
        "\n",
        "print(\"학습한 기울기(가중치 W) : {}\".format(model.coef_))\n",
        "print(\"학습한 절편(편향 b) : {}\".format(model.intercept_))"
      ],
      "execution_count": null,
      "outputs": [
        {
          "output_type": "stream",
          "text": [
            "학습한 기울기(가중치 W) : [2.]\n",
            "학습한 절편(편향 b) : 1.0\n"
          ],
          "name": "stdout"
        }
      ]
    },
    {
      "cell_type": "markdown",
      "metadata": {
        "id": "or1ObljY8Xt6"
      },
      "source": [
        "# 섭씨 - 화씨 변환 모델 만들기 (화씨 예측 모델 만들기)"
      ]
    },
    {
      "cell_type": "code",
      "metadata": {
        "id": "qGWBzIGd8jdK"
      },
      "source": [
        "# 섭씨 데이터 만들기\n",
        "c = np.arange(1, 20) # 섭씨 데이터를 1~20도\n",
        "\n",
        "# 섭씨-화씨 변환 공식을 이용해 화씨 데이터를 생성\n",
        "f = c * (9/5) + 32"
      ],
      "execution_count": null,
      "outputs": []
    },
    {
      "cell_type": "code",
      "metadata": {
        "colab": {
          "base_uri": "https://localhost:8080/"
        },
        "id": "wbCTq2iA9Gy0",
        "outputId": "c4d3bdac-a691-41a5-fdd1-20acd087c1c4"
      },
      "source": [
        "c.shape"
      ],
      "execution_count": null,
      "outputs": [
        {
          "output_type": "execute_result",
          "data": {
            "text/plain": [
              "(19,)"
            ]
          },
          "metadata": {
            "tags": []
          },
          "execution_count": 10
        }
      ]
    },
    {
      "cell_type": "code",
      "metadata": {
        "colab": {
          "base_uri": "https://localhost:8080/"
        },
        "id": "PQWrZlBl9NR6",
        "outputId": "4cef32f4-1e8c-4d82-cc18-1b62769f33cc"
      },
      "source": [
        "# 19개의 데이터가 1종류가 있다는 식으로 표현해야 훈련할 때 오류가 안나요! - (19, 1)\n",
        "c = c.reshape(-1, 1)\n",
        "c.shape"
      ],
      "execution_count": null,
      "outputs": [
        {
          "output_type": "execute_result",
          "data": {
            "text/plain": [
              "(19, 1)"
            ]
          },
          "metadata": {
            "tags": []
          },
          "execution_count": 11
        }
      ]
    },
    {
      "cell_type": "code",
      "metadata": {
        "colab": {
          "base_uri": "https://localhost:8080/"
        },
        "id": "Dqx2m3xu9YHh",
        "outputId": "34947d26-c348-4bd2-8424-5bf3c96bf998"
      },
      "source": [
        "model = LinearRegression()\n",
        "model.fit(c, f)"
      ],
      "execution_count": null,
      "outputs": [
        {
          "output_type": "execute_result",
          "data": {
            "text/plain": [
              "LinearRegression(copy_X=True, fit_intercept=True, n_jobs=None, normalize=False)"
            ]
          },
          "metadata": {
            "tags": []
          },
          "execution_count": 12
        }
      ]
    },
    {
      "cell_type": "code",
      "metadata": {
        "colab": {
          "base_uri": "https://localhost:8080/"
        },
        "id": "RSDIX0RM9h-q",
        "outputId": "596edf01-03bc-4025-9ab5-804aca72280f"
      },
      "source": [
        "predict_data = np.array([[30],\n",
        "                         [50]])\n",
        "\n",
        "predict_data.shape"
      ],
      "execution_count": null,
      "outputs": [
        {
          "output_type": "execute_result",
          "data": {
            "text/plain": [
              "(2, 1)"
            ]
          },
          "metadata": {
            "tags": []
          },
          "execution_count": 13
        }
      ]
    },
    {
      "cell_type": "code",
      "metadata": {
        "colab": {
          "base_uri": "https://localhost:8080/"
        },
        "id": "fJxp82fZ9nnc",
        "outputId": "22e5d64b-cb71-4607-94cf-256157dab65b"
      },
      "source": [
        "model.predict(predict_data)"
      ],
      "execution_count": null,
      "outputs": [
        {
          "output_type": "execute_result",
          "data": {
            "text/plain": [
              "array([ 86., 122.])"
            ]
          },
          "metadata": {
            "tags": []
          },
          "execution_count": 14
        }
      ]
    },
    {
      "cell_type": "code",
      "metadata": {
        "colab": {
          "base_uri": "https://localhost:8080/"
        },
        "id": "xeC_Me9a9uXK",
        "outputId": "31e62295-8528-44e8-aef0-592cbda226b7"
      },
      "source": [
        "model.coef_"
      ],
      "execution_count": null,
      "outputs": [
        {
          "output_type": "execute_result",
          "data": {
            "text/plain": [
              "array([1.8])"
            ]
          },
          "metadata": {
            "tags": []
          },
          "execution_count": 15
        }
      ]
    },
    {
      "cell_type": "code",
      "metadata": {
        "colab": {
          "base_uri": "https://localhost:8080/"
        },
        "id": "qagNbmel95zy",
        "outputId": "518408a3-449d-46e0-c0ea-a5b071214b9c"
      },
      "source": [
        "model.intercept_"
      ],
      "execution_count": null,
      "outputs": [
        {
          "output_type": "execute_result",
          "data": {
            "text/plain": [
              "32.0"
            ]
          },
          "metadata": {
            "tags": []
          },
          "execution_count": 17
        }
      ]
    }
  ]
}
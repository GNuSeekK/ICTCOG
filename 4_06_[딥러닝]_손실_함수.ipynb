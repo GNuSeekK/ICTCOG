{
  "nbformat": 4,
  "nbformat_minor": 0,
  "metadata": {
    "colab": {
      "name": "4 - 06 [딥러닝] 손실 함수.ipynb",
      "provenance": [],
      "collapsed_sections": [],
      "authorship_tag": "ABX9TyOGjTkCcs94jt7Yupc8rV6d",
      "include_colab_link": true
    },
    "kernelspec": {
      "name": "python3",
      "display_name": "Python 3"
    },
    "language_info": {
      "name": "python"
    }
  },
  "cells": [
    {
      "cell_type": "markdown",
      "metadata": {
        "id": "view-in-github",
        "colab_type": "text"
      },
      "source": [
        "<a href=\"https://colab.research.google.com/github/GNuSeekK/ICTCOG/blob/main/4_06_%5B%EB%94%A5%EB%9F%AC%EB%8B%9D%5D_%EC%86%90%EC%8B%A4_%ED%95%A8%EC%88%98.ipynb\" target=\"_parent\"><img src=\"https://colab.research.google.com/assets/colab-badge.svg\" alt=\"Open In Colab\"/></a>"
      ]
    },
    {
      "cell_type": "markdown",
      "metadata": {
        "id": "9_-p6D4p5ABZ"
      },
      "source": [
        "# 손실함수"
      ]
    },
    {
      "cell_type": "markdown",
      "metadata": {
        "id": "-eiphOVy5CTF"
      },
      "source": [
        "## 지표\n",
        "* 상황 판단을 내리기 위한 기준을 정량화 한 것\n",
        "    * 상황 판단은 사람이 내리는 것!"
      ]
    },
    {
      "cell_type": "markdown",
      "metadata": {
        "id": "jgovIaUw5lP2"
      },
      "source": [
        "## 머신러닝에서의 지표\n",
        "* MSE, MAE, RMSE 등\n",
        "* 재현율, 정밀도, f1_score 등\n",
        "* Accuracy(정확도)"
      ]
    },
    {
      "cell_type": "markdown",
      "metadata": {
        "id": "KlOfutdv5rER"
      },
      "source": [
        "## 신경망에서의 지표\n",
        "* 머신러닝에서 사용하는 지표는 모두 사용\n",
        "* 잘 맞춘 것을 지표로 삼을 것인가? (score, accuracy)\n",
        "* 잘 못맞춘 것을 지표로 삼을 것인가? (loss, cost) => 주로 사용\n",
        "    * loss는 신경망에서만 사용되는 지표가 아니다\n",
        "    * 좋은 신경망 : 틀린 것이 거의 없다 - loss가 작은 신경망\n",
        "    * 나쁜 신경망 : 틀린 것이 많다."
      ]
    },
    {
      "cell_type": "markdown",
      "metadata": {
        "id": "WNP493A36dBt"
      },
      "source": [
        "# 평균 제곱 오차 ( Mean Squared Error )\n",
        "신경망의 MSE\n",
        "$$\n",
        "MSE = \\frac{1}{2}\\sum_{k}(y_i-t_i)^2\n",
        "$$\n",
        "\n",
        "인간이 신경망을 공부할 때 사용하는 공부용 MSE\n",
        "* $y_k$ : 신경망의 예측값\n",
        "* $t_k$ : 정답 레이블\n",
        "* $k$ : 출력층의 뉴런 개수\n",
        "    * `강아지, 고양이, 말을 예측하는` $k$는 3 `[0,1,2]`\n",
        "    * MNIST 손글씨 숫자 데이터 셋이면 $k$는 10 `[0,1,2,3,4,5,6,7,8,9]`\n",
        "\n",
        "---\n",
        "* 보통 신경망에서는 `MSE`를 잘 쓰지 않고 `Cross Entorypy Error`를 활용\n",
        "    * `MSE`는 신경망으로 회귀를 할 떄 많이 사용\n",
        "* `MSE`를 배우는 이유는 말 그대로 `loss`에 대한 이해를 하기 위함\n",
        "* `MSE`는 신경망을 공부 할 떄 개념을 익히기가 좋다. (실무에서 사용 x)\n",
        "* 정상적인 $\\frac{1}{n}$를 사용 하지 않고 $\\frac{1}{2}$를 사용한 이유\n",
        "    * `MSE`를 미분 했을 때의 도함수가 **순수한 오차**를 의미하는 (y-t)만 남기 때문\n",
        "\n",
        "    \n",
        "$$\n",
        "MSE = \\frac{1}{2}\\sum_{k}(y_i-t_i)^2\n",
        "$$\n",
        "\n",
        "$$\n",
        "MSE^{\\prime} = (y-t)\n",
        "$$"
      ]
    },
    {
      "cell_type": "code",
      "metadata": {
        "id": "HjND1fYv9EpY"
      },
      "source": [
        "import numpy as np\n",
        "\n",
        "y = np.array([0.1, 0.05, 0.6, 0.0, 0.05, 0.1, 0.0, 0.1, 0.0, 0.0])\n",
        "t = np.array([0.0, 0.0, 1.0, 0.0, 0.0, 0.0, 0.0, 0.0, 0.0, 0.0]) # 정답이 2, 클래스 개수만큼 One-Hot Encoding"
      ],
      "execution_count": null,
      "outputs": []
    },
    {
      "cell_type": "code",
      "metadata": {
        "colab": {
          "base_uri": "https://localhost:8080/"
        },
        "id": "QwqKZiJZ91t4",
        "outputId": "7920becb-8e33-47ef-aa72-ce36697be4f5"
      },
      "source": [
        "# 각 클래스 별 순수한 오차\n",
        "y - t"
      ],
      "execution_count": null,
      "outputs": [
        {
          "output_type": "execute_result",
          "data": {
            "text/plain": [
              "array([ 0.1 ,  0.05, -0.4 ,  0.  ,  0.05,  0.1 ,  0.  ,  0.1 ,  0.  ,\n",
              "        0.  ])"
            ]
          },
          "metadata": {
            "tags": []
          },
          "execution_count": 4
        }
      ]
    },
    {
      "cell_type": "code",
      "metadata": {
        "id": "FXY3qHxm-3bz"
      },
      "source": [
        "# MSE를 직접 구현해서 손실값을 확인\n",
        "def mean_squared_error(y, t):\n",
        "    return 0.5 * np.sum((y-t)**2)"
      ],
      "execution_count": null,
      "outputs": []
    },
    {
      "cell_type": "markdown",
      "metadata": {
        "id": "GOeZELYe-9XF"
      },
      "source": [
        "`y`는 softmax의 결과물로써 각 뉴런마다의 예측될 확률을 의미\n",
        "* 정답 레이블의 예측 확률이 높아지면 loss 감소\n",
        "* 정답 레이블의 예측 확률이 낮아지면 loss 증가"
      ]
    },
    {
      "cell_type": "code",
      "metadata": {
        "colab": {
          "base_uri": "https://localhost:8080/"
        },
        "id": "giKrPHiA_F-P",
        "outputId": "d05c1aff-4a80-42b9-ec90-90511d4f4db2"
      },
      "source": [
        "print('정답을 2로 추정했을 때의 MSE(0.6) : {:.3f}'.format(mean_squared_error(y,t)))"
      ],
      "execution_count": null,
      "outputs": [
        {
          "output_type": "stream",
          "text": [
            "정답을 2로 추정했을 때의 MSE(0.6) : 0.098\n"
          ],
          "name": "stdout"
        }
      ]
    },
    {
      "cell_type": "code",
      "metadata": {
        "colab": {
          "base_uri": "https://localhost:8080/"
        },
        "id": "O0ZOCENx_3mE",
        "outputId": "e8f8e81d-30c3-4c38-afc4-36d6a51114a4"
      },
      "source": [
        "y = np.array([0.1, 0.05, 0.8, 0.0, 0.05, 0.0, 0.0, 0.0, 0.0, 0.0]) # 80%\n",
        "print('정답을 2로 추정했을 때의 MSE(0.8) : {:.3f}'.format(mean_squared_error(y,t)))"
      ],
      "execution_count": null,
      "outputs": [
        {
          "output_type": "stream",
          "text": [
            "정답을 2로 추정했을 때의 MSE(0.8) : 0.027\n"
          ],
          "name": "stdout"
        }
      ]
    },
    {
      "cell_type": "code",
      "metadata": {
        "colab": {
          "base_uri": "https://localhost:8080/"
        },
        "id": "gFg4Phc-ABc0",
        "outputId": "a0e3cc62-fc6f-4083-f5b5-be4d46ec9980"
      },
      "source": [
        "y = np.array([0.7, 0.05, 0.1, 0.0, 0.05, 0.0, 0.0, 0.1, 0.0, 0.0]) # 10%\n",
        "print('정답을 2로 추정했을 때의 MSE(0.1) : {:.3f}'.format(mean_squared_error(y,t)))"
      ],
      "execution_count": null,
      "outputs": [
        {
          "output_type": "stream",
          "text": [
            "정답을 2로 추정했을 때의 MSE(0.1) : 0.657\n"
          ],
          "name": "stdout"
        }
      ]
    },
    {
      "cell_type": "markdown",
      "metadata": {
        "id": "9duEJOktANEh"
      },
      "source": [
        "# 교차 엔트로피 오차( Cross Entropy Error )\n",
        "\n",
        "$$\n",
        "CEE = -\\sum_{k}t_k\\log{y_k}\n",
        "$$\n",
        "\n",
        "* $t_k$는 `One Hot Encoding`이 되어 있는 상태\n",
        "* $k$는 클래스의 개수\n",
        "* `t=[0,0,1]`, `y=[0.2,0.1,0.7]`\n",
        "  * $-1 * (t_0\\log_y0+t_1\\log_y1+t_2\\log_y2)$\n",
        "  * $ -1 * (0\\cdot\\log{0.2} + 0\\cdot\\log{0.1} + 1\\cdot\\log{0.7})$\n",
        "  * $ - \\log{0.7}$\n",
        "* 정답 레이블의 소프트맥스 결과가 0.6이면 $-\\log{0.6}$을 구한것과 같다."
      ]
    },
    {
      "cell_type": "code",
      "metadata": {
        "id": "cWJyipVyIkd7"
      },
      "source": [
        "def cross_entropy_error(y,t):\n",
        "    delta = 1e-7 # 0.0000001\n",
        "    return -np.sum(t*np.log(y+delta)) # delta를 더하는 이유 => log0은 음수 무한대가 되기때문"
      ],
      "execution_count": null,
      "outputs": []
    },
    {
      "cell_type": "code",
      "metadata": {
        "colab": {
          "base_uri": "https://localhost:8080/"
        },
        "id": "tgLyg6BEIspv",
        "outputId": "df0e4266-8800-4cd8-f22b-80afc2b9d86d"
      },
      "source": [
        "t = np.array([0, 0, 1,   0,    0,   0,   0,   0,   0,   0]) # 정답은 2\n",
        "\n",
        "y = np.array([0.1, 0.05, 0.6, 0.0, 0.05, 0.1, 0.0, 0.1, 0.0, 0.0]) # 2번 클래스로의 예측 확률이 60%\n",
        "print(\"정답을 2로 추정했을 때의 CEE값(0.6) : {:.3f}\".format(cross_entropy_error(y, t)))\n",
        "\n",
        "y = np.array([0.1, 0.05, 0.8, 0.0, 0.05, 0.0, 0.0, 0.0, 0.0, 0.0]) # 2번 클래스로의 예측 확률이 80%\n",
        "print(\"정답을 2로 추정했을 때의 CEE값(0.8) : {:.3f}\".format(cross_entropy_error(y, t)))\n",
        "\n",
        "y = np.array([0.7, 0.05, 0.1 , 0.0, 0.05, 0.0, 0.0, 0.1, 0.0, 0.0]) # 2번 클래스로의 예측 확률이 10%\n",
        "print(\"정답을 2로 추정했을 때의 CEE값(0.1) : {:.3f}\".format(cross_entropy_error(y, t)))"
      ],
      "execution_count": null,
      "outputs": [
        {
          "output_type": "stream",
          "text": [
            "정답을 2로 추정했을 때의 CEE값(0.6) : 0.511\n",
            "정답을 2로 추정했을 때의 CEE값(0.8) : 0.223\n",
            "정답을 2로 추정했을 때의 CEE값(0.1) : 2.303\n"
          ],
          "name": "stdout"
        }
      ]
    },
    {
      "cell_type": "code",
      "metadata": {
        "id": "XMZK3DdRI2EJ"
      },
      "source": [
        ""
      ],
      "execution_count": null,
      "outputs": []
    }
  ]
}
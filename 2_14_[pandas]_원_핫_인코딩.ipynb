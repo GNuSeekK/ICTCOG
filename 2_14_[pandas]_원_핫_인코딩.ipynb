{
  "nbformat": 4,
  "nbformat_minor": 0,
  "metadata": {
    "colab": {
      "name": "2 - 14 [pandas] 원-핫 인코딩.ipynb",
      "provenance": [],
      "collapsed_sections": [],
      "mount_file_id": "1GSKSbIUD4iQE0Xs_sqjt1s1I4Dxex1Qv",
      "authorship_tag": "ABX9TyMu9g9pYLv8qcoaPwm+LK0q",
      "include_colab_link": true
    },
    "kernelspec": {
      "name": "python3",
      "display_name": "Python 3"
    },
    "language_info": {
      "name": "python"
    }
  },
  "cells": [
    {
      "cell_type": "markdown",
      "metadata": {
        "id": "view-in-github",
        "colab_type": "text"
      },
      "source": [
        "<a href=\"https://colab.research.google.com/github/GNuSeekK/ICTCOG/blob/main/2_14_%5Bpandas%5D_%EC%9B%90_%ED%95%AB_%EC%9D%B8%EC%BD%94%EB%94%A9.ipynb\" target=\"_parent\"><img src=\"https://colab.research.google.com/assets/colab-badge.svg\" alt=\"Open In Colab\"/></a>"
      ]
    },
    {
      "cell_type": "code",
      "metadata": {
        "id": "_D9CWUI32tor"
      },
      "source": [
        "import pandas as pd"
      ],
      "execution_count": 1,
      "outputs": []
    },
    {
      "cell_type": "code",
      "metadata": {
        "colab": {
          "base_uri": "https://localhost:8080/",
          "height": 204
        },
        "id": "dlb4McSF25ij",
        "outputId": "108d11ed-4f0b-4fbc-e9c7-2b8e65609776"
      },
      "source": [
        "filepath=\"/content/drive/MyDrive/ICTCOG 인공지능과정/Data/korean-idol.csv\"\n",
        "df = pd.read_csv(filepath)\n",
        "df.head()"
      ],
      "execution_count": 2,
      "outputs": [
        {
          "output_type": "execute_result",
          "data": {
            "text/html": [
              "<div>\n",
              "<style scoped>\n",
              "    .dataframe tbody tr th:only-of-type {\n",
              "        vertical-align: middle;\n",
              "    }\n",
              "\n",
              "    .dataframe tbody tr th {\n",
              "        vertical-align: top;\n",
              "    }\n",
              "\n",
              "    .dataframe thead th {\n",
              "        text-align: right;\n",
              "    }\n",
              "</style>\n",
              "<table border=\"1\" class=\"dataframe\">\n",
              "  <thead>\n",
              "    <tr style=\"text-align: right;\">\n",
              "      <th></th>\n",
              "      <th>이름</th>\n",
              "      <th>그룹</th>\n",
              "      <th>소속사</th>\n",
              "      <th>성별</th>\n",
              "      <th>생년월일</th>\n",
              "      <th>키</th>\n",
              "      <th>혈액형</th>\n",
              "      <th>브랜드평판지수</th>\n",
              "    </tr>\n",
              "  </thead>\n",
              "  <tbody>\n",
              "    <tr>\n",
              "      <th>0</th>\n",
              "      <td>지민</td>\n",
              "      <td>방탄소년단</td>\n",
              "      <td>빅히트</td>\n",
              "      <td>남자</td>\n",
              "      <td>1995-10-13</td>\n",
              "      <td>173.6</td>\n",
              "      <td>A</td>\n",
              "      <td>10523260</td>\n",
              "    </tr>\n",
              "    <tr>\n",
              "      <th>1</th>\n",
              "      <td>지드래곤</td>\n",
              "      <td>빅뱅</td>\n",
              "      <td>YG</td>\n",
              "      <td>남자</td>\n",
              "      <td>1988-08-18</td>\n",
              "      <td>177.0</td>\n",
              "      <td>A</td>\n",
              "      <td>9916947</td>\n",
              "    </tr>\n",
              "    <tr>\n",
              "      <th>2</th>\n",
              "      <td>강다니엘</td>\n",
              "      <td>NaN</td>\n",
              "      <td>커넥트</td>\n",
              "      <td>남자</td>\n",
              "      <td>1996-12-10</td>\n",
              "      <td>180.0</td>\n",
              "      <td>A</td>\n",
              "      <td>8273745</td>\n",
              "    </tr>\n",
              "    <tr>\n",
              "      <th>3</th>\n",
              "      <td>뷔</td>\n",
              "      <td>방탄소년단</td>\n",
              "      <td>빅히트</td>\n",
              "      <td>남자</td>\n",
              "      <td>1995-12-30</td>\n",
              "      <td>178.0</td>\n",
              "      <td>AB</td>\n",
              "      <td>8073501</td>\n",
              "    </tr>\n",
              "    <tr>\n",
              "      <th>4</th>\n",
              "      <td>화사</td>\n",
              "      <td>마마무</td>\n",
              "      <td>RBW</td>\n",
              "      <td>여자</td>\n",
              "      <td>1995-07-23</td>\n",
              "      <td>162.1</td>\n",
              "      <td>A</td>\n",
              "      <td>7650928</td>\n",
              "    </tr>\n",
              "  </tbody>\n",
              "</table>\n",
              "</div>"
            ],
            "text/plain": [
              "     이름     그룹  소속사  성별        생년월일      키 혈액형   브랜드평판지수\n",
              "0    지민  방탄소년단  빅히트  남자  1995-10-13  173.6   A  10523260\n",
              "1  지드래곤     빅뱅   YG  남자  1988-08-18  177.0   A   9916947\n",
              "2  강다니엘    NaN  커넥트  남자  1996-12-10  180.0   A   8273745\n",
              "3     뷔  방탄소년단  빅히트  남자  1995-12-30  178.0  AB   8073501\n",
              "4    화사    마마무  RBW  여자  1995-07-23  162.1   A   7650928"
            ]
          },
          "metadata": {
            "tags": []
          },
          "execution_count": 2
        }
      ]
    },
    {
      "cell_type": "markdown",
      "metadata": {
        "id": "1P87jS3B3EvA"
      },
      "source": [
        "머신러닝에는 수치형 데이터 밖에 사용할 수 없어요.\n",
        "\n",
        "혈액형을 사용하고 싶어요.\n",
        "```python\n",
        "  {\n",
        "    \"A\" : 0,\n",
        "    \"B\" : 1,\n",
        "    \"O\" : 2,\n",
        "    \"AB\": 3\n",
        "  }\n",
        "```"
      ]
    },
    {
      "cell_type": "code",
      "metadata": {
        "colab": {
          "base_uri": "https://localhost:8080/",
          "height": 204
        },
        "id": "e8nqrPqr3mdv",
        "outputId": "6895fb71-33f5-4f6e-f194-1937a2648eb0"
      },
      "source": [
        "blood_type_map = {\n",
        "    \"A\": 0,\n",
        "    \"B\": 1,\n",
        "    \"O\": 2,\n",
        "    \"AB\": 3\n",
        "}\n",
        "\n",
        "df['혈액형_code'] = df['혈액형'].map(blood_type_map)\n",
        "df.head()"
      ],
      "execution_count": 3,
      "outputs": [
        {
          "output_type": "execute_result",
          "data": {
            "text/html": [
              "<div>\n",
              "<style scoped>\n",
              "    .dataframe tbody tr th:only-of-type {\n",
              "        vertical-align: middle;\n",
              "    }\n",
              "\n",
              "    .dataframe tbody tr th {\n",
              "        vertical-align: top;\n",
              "    }\n",
              "\n",
              "    .dataframe thead th {\n",
              "        text-align: right;\n",
              "    }\n",
              "</style>\n",
              "<table border=\"1\" class=\"dataframe\">\n",
              "  <thead>\n",
              "    <tr style=\"text-align: right;\">\n",
              "      <th></th>\n",
              "      <th>이름</th>\n",
              "      <th>그룹</th>\n",
              "      <th>소속사</th>\n",
              "      <th>성별</th>\n",
              "      <th>생년월일</th>\n",
              "      <th>키</th>\n",
              "      <th>혈액형</th>\n",
              "      <th>브랜드평판지수</th>\n",
              "      <th>혈액형_code</th>\n",
              "    </tr>\n",
              "  </thead>\n",
              "  <tbody>\n",
              "    <tr>\n",
              "      <th>0</th>\n",
              "      <td>지민</td>\n",
              "      <td>방탄소년단</td>\n",
              "      <td>빅히트</td>\n",
              "      <td>남자</td>\n",
              "      <td>1995-10-13</td>\n",
              "      <td>173.6</td>\n",
              "      <td>A</td>\n",
              "      <td>10523260</td>\n",
              "      <td>0</td>\n",
              "    </tr>\n",
              "    <tr>\n",
              "      <th>1</th>\n",
              "      <td>지드래곤</td>\n",
              "      <td>빅뱅</td>\n",
              "      <td>YG</td>\n",
              "      <td>남자</td>\n",
              "      <td>1988-08-18</td>\n",
              "      <td>177.0</td>\n",
              "      <td>A</td>\n",
              "      <td>9916947</td>\n",
              "      <td>0</td>\n",
              "    </tr>\n",
              "    <tr>\n",
              "      <th>2</th>\n",
              "      <td>강다니엘</td>\n",
              "      <td>NaN</td>\n",
              "      <td>커넥트</td>\n",
              "      <td>남자</td>\n",
              "      <td>1996-12-10</td>\n",
              "      <td>180.0</td>\n",
              "      <td>A</td>\n",
              "      <td>8273745</td>\n",
              "      <td>0</td>\n",
              "    </tr>\n",
              "    <tr>\n",
              "      <th>3</th>\n",
              "      <td>뷔</td>\n",
              "      <td>방탄소년단</td>\n",
              "      <td>빅히트</td>\n",
              "      <td>남자</td>\n",
              "      <td>1995-12-30</td>\n",
              "      <td>178.0</td>\n",
              "      <td>AB</td>\n",
              "      <td>8073501</td>\n",
              "      <td>3</td>\n",
              "    </tr>\n",
              "    <tr>\n",
              "      <th>4</th>\n",
              "      <td>화사</td>\n",
              "      <td>마마무</td>\n",
              "      <td>RBW</td>\n",
              "      <td>여자</td>\n",
              "      <td>1995-07-23</td>\n",
              "      <td>162.1</td>\n",
              "      <td>A</td>\n",
              "      <td>7650928</td>\n",
              "      <td>0</td>\n",
              "    </tr>\n",
              "  </tbody>\n",
              "</table>\n",
              "</div>"
            ],
            "text/plain": [
              "     이름     그룹  소속사  성별        생년월일      키 혈액형   브랜드평판지수  혈액형_code\n",
              "0    지민  방탄소년단  빅히트  남자  1995-10-13  173.6   A  10523260         0\n",
              "1  지드래곤     빅뱅   YG  남자  1988-08-18  177.0   A   9916947         0\n",
              "2  강다니엘    NaN  커넥트  남자  1996-12-10  180.0   A   8273745         0\n",
              "3     뷔  방탄소년단  빅히트  남자  1995-12-30  178.0  AB   8073501         3\n",
              "4    화사    마마무  RBW  여자  1995-07-23  162.1   A   7650928         0"
            ]
          },
          "metadata": {
            "tags": []
          },
          "execution_count": 3
        }
      ]
    },
    {
      "cell_type": "code",
      "metadata": {
        "colab": {
          "base_uri": "https://localhost:8080/"
        },
        "id": "Kc6kxJUY4HgZ",
        "outputId": "1e774bb1-5290-47d7-8f96-55893c4cbb3e"
      },
      "source": [
        "df['혈액형_code'].value_counts() # 값이 각각 몇 개가 있는지"
      ],
      "execution_count": 4,
      "outputs": [
        {
          "output_type": "execute_result",
          "data": {
            "text/plain": [
              "0    7\n",
              "2    4\n",
              "3    2\n",
              "1    2\n",
              "Name: 혈액형_code, dtype: int64"
            ]
          },
          "metadata": {
            "tags": []
          },
          "execution_count": 4
        }
      ]
    },
    {
      "cell_type": "markdown",
      "metadata": {
        "id": "i_O_Zztp4OuB"
      },
      "source": [
        "머신러닝이란, 주어진 데이터로 부터 관계를 생성하고, 패턴을 파악하는 과정\n",
        "* 혈액형_code 컬럼에 대해서도 관계를 파악하기 시작한다.\n",
        "  * \"B형\"( 1 ) + \"O형\"( 2 ) = \"AB형\" ( 3 )\n",
        "  * \"O형\"( 2 ) - \"B형\"( 1 ) = \"B형\" ( 1 )\n",
        "* 혈액형의 종류의 개수인 4개의 컬럼을 새롭게 만들어 주고 1개마다 혈액형에 알맞는 위치의 데이터를 1로, 나머지 데이터는 0으로 만들어 준다.\n",
        "\n",
        "|A|B|O|AB|\n",
        "|:---:|:---:|:---:|:---:|\n",
        "|1|0|0|0|\n",
        "|0|1|0|0|\n",
        "|0|0|0|1|\n",
        "\n"
      ]
    },
    {
      "cell_type": "code",
      "metadata": {
        "colab": {
          "base_uri": "https://localhost:8080/",
          "height": 514
        },
        "id": "iGc_bnj144dZ",
        "outputId": "05ba8117-d9b8-474d-e754-f5382421c45e"
      },
      "source": [
        "pd.get_dummies(df[\"혈액형\"])"
      ],
      "execution_count": 5,
      "outputs": [
        {
          "output_type": "execute_result",
          "data": {
            "text/html": [
              "<div>\n",
              "<style scoped>\n",
              "    .dataframe tbody tr th:only-of-type {\n",
              "        vertical-align: middle;\n",
              "    }\n",
              "\n",
              "    .dataframe tbody tr th {\n",
              "        vertical-align: top;\n",
              "    }\n",
              "\n",
              "    .dataframe thead th {\n",
              "        text-align: right;\n",
              "    }\n",
              "</style>\n",
              "<table border=\"1\" class=\"dataframe\">\n",
              "  <thead>\n",
              "    <tr style=\"text-align: right;\">\n",
              "      <th></th>\n",
              "      <th>A</th>\n",
              "      <th>AB</th>\n",
              "      <th>B</th>\n",
              "      <th>O</th>\n",
              "    </tr>\n",
              "  </thead>\n",
              "  <tbody>\n",
              "    <tr>\n",
              "      <th>0</th>\n",
              "      <td>1</td>\n",
              "      <td>0</td>\n",
              "      <td>0</td>\n",
              "      <td>0</td>\n",
              "    </tr>\n",
              "    <tr>\n",
              "      <th>1</th>\n",
              "      <td>1</td>\n",
              "      <td>0</td>\n",
              "      <td>0</td>\n",
              "      <td>0</td>\n",
              "    </tr>\n",
              "    <tr>\n",
              "      <th>2</th>\n",
              "      <td>1</td>\n",
              "      <td>0</td>\n",
              "      <td>0</td>\n",
              "      <td>0</td>\n",
              "    </tr>\n",
              "    <tr>\n",
              "      <th>3</th>\n",
              "      <td>0</td>\n",
              "      <td>1</td>\n",
              "      <td>0</td>\n",
              "      <td>0</td>\n",
              "    </tr>\n",
              "    <tr>\n",
              "      <th>4</th>\n",
              "      <td>1</td>\n",
              "      <td>0</td>\n",
              "      <td>0</td>\n",
              "      <td>0</td>\n",
              "    </tr>\n",
              "    <tr>\n",
              "      <th>5</th>\n",
              "      <td>1</td>\n",
              "      <td>0</td>\n",
              "      <td>0</td>\n",
              "      <td>0</td>\n",
              "    </tr>\n",
              "    <tr>\n",
              "      <th>6</th>\n",
              "      <td>0</td>\n",
              "      <td>0</td>\n",
              "      <td>0</td>\n",
              "      <td>1</td>\n",
              "    </tr>\n",
              "    <tr>\n",
              "      <th>7</th>\n",
              "      <td>0</td>\n",
              "      <td>0</td>\n",
              "      <td>1</td>\n",
              "      <td>0</td>\n",
              "    </tr>\n",
              "    <tr>\n",
              "      <th>8</th>\n",
              "      <td>0</td>\n",
              "      <td>0</td>\n",
              "      <td>0</td>\n",
              "      <td>1</td>\n",
              "    </tr>\n",
              "    <tr>\n",
              "      <th>9</th>\n",
              "      <td>1</td>\n",
              "      <td>0</td>\n",
              "      <td>0</td>\n",
              "      <td>0</td>\n",
              "    </tr>\n",
              "    <tr>\n",
              "      <th>10</th>\n",
              "      <td>1</td>\n",
              "      <td>0</td>\n",
              "      <td>0</td>\n",
              "      <td>0</td>\n",
              "    </tr>\n",
              "    <tr>\n",
              "      <th>11</th>\n",
              "      <td>0</td>\n",
              "      <td>0</td>\n",
              "      <td>1</td>\n",
              "      <td>0</td>\n",
              "    </tr>\n",
              "    <tr>\n",
              "      <th>12</th>\n",
              "      <td>0</td>\n",
              "      <td>1</td>\n",
              "      <td>0</td>\n",
              "      <td>0</td>\n",
              "    </tr>\n",
              "    <tr>\n",
              "      <th>13</th>\n",
              "      <td>0</td>\n",
              "      <td>0</td>\n",
              "      <td>0</td>\n",
              "      <td>1</td>\n",
              "    </tr>\n",
              "    <tr>\n",
              "      <th>14</th>\n",
              "      <td>0</td>\n",
              "      <td>0</td>\n",
              "      <td>0</td>\n",
              "      <td>1</td>\n",
              "    </tr>\n",
              "  </tbody>\n",
              "</table>\n",
              "</div>"
            ],
            "text/plain": [
              "    A  AB  B  O\n",
              "0   1   0  0  0\n",
              "1   1   0  0  0\n",
              "2   1   0  0  0\n",
              "3   0   1  0  0\n",
              "4   1   0  0  0\n",
              "5   1   0  0  0\n",
              "6   0   0  0  1\n",
              "7   0   0  1  0\n",
              "8   0   0  0  1\n",
              "9   1   0  0  0\n",
              "10  1   0  0  0\n",
              "11  0   0  1  0\n",
              "12  0   1  0  0\n",
              "13  0   0  0  1\n",
              "14  0   0  0  1"
            ]
          },
          "metadata": {
            "tags": []
          },
          "execution_count": 5
        }
      ]
    },
    {
      "cell_type": "markdown",
      "metadata": {
        "id": "bErfH_Ra6hJZ"
      },
      "source": [
        "원 핫 인코딩 된 데이터를 다른 말로 더미 데이터라고도 한다."
      ]
    }
  ]
}
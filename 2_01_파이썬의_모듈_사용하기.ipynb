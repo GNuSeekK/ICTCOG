{
  "nbformat": 4,
  "nbformat_minor": 0,
  "metadata": {
    "colab": {
      "name": "2 - 1. 파이썬의 모듈 사용하기.ipynb",
      "provenance": [],
      "collapsed_sections": [],
      "authorship_tag": "ABX9TyNCItzROT5Gzsi5GMPx4puy",
      "include_colab_link": true
    },
    "kernelspec": {
      "name": "python3",
      "display_name": "Python 3"
    },
    "language_info": {
      "name": "python"
    }
  },
  "cells": [
    {
      "cell_type": "markdown",
      "metadata": {
        "id": "view-in-github",
        "colab_type": "text"
      },
      "source": [
        "<a href=\"https://colab.research.google.com/github/GNuSeekK/ICTCOG/blob/main/2_1_%ED%8C%8C%EC%9D%B4%EC%8D%AC%EC%9D%98_%EB%AA%A8%EB%93%88_%EC%82%AC%EC%9A%A9%ED%95%98%EA%B8%B0.ipynb\" target=\"_parent\"><img src=\"https://colab.research.google.com/assets/colab-badge.svg\" alt=\"Open In Colab\"/></a>"
      ]
    },
    {
      "cell_type": "markdown",
      "metadata": {
        "id": "p1X9gyZa9xEq"
      },
      "source": [
        "## 모듈\n",
        "**함수**들이 뭉쳐진 하나의 파이썬 파일 안에 이루어 진 것\n",
        "```python\n",
        "def foo():\n",
        "    # do something\n",
        "    \n",
        "def goo():\n",
        "    # do something\n",
        "```\n",
        "\n",
        "    \n",
        "## 패키지\n",
        "모듈들을 하나의 디렉터리에 묶어 놓은 것\n",
        "```python\n",
        "mudule1.py\n",
        "mudule2.py\n",
        "```"
      ]
    },
    {
      "cell_type": "code",
      "metadata": {
        "colab": {
          "base_uri": "https://localhost:8080/"
        },
        "id": "c5CTWqG2B2f9",
        "outputId": "c007a053-2b75-4664-9a78-6bc09e42626a"
      },
      "source": [
        "# 패키지에서 모듈 불러오기\n",
        "from common.util_module import foo, goo\n",
        "\n",
        "foo()\n",
        "goo()"
      ],
      "execution_count": 7,
      "outputs": [
        {
          "output_type": "stream",
          "text": [
            "hello\n",
            "hi\n"
          ],
          "name": "stdout"
        }
      ]
    },
    {
      "cell_type": "markdown",
      "metadata": {
        "id": "91NTK-EjCXC-"
      },
      "source": [
        "데이터 분석에서 자주 사용하는 numpy, pandas 모듈 불러오기"
      ]
    },
    {
      "cell_type": "code",
      "metadata": {
        "id": "s_4OjreQCyql"
      },
      "source": [
        "# 바로 모듈만 불러오기\n",
        "import numpy\n",
        "import pandas"
      ],
      "execution_count": 8,
      "outputs": []
    },
    {
      "cell_type": "code",
      "metadata": {
        "id": "j1al1kMjDEjQ"
      },
      "source": [
        "# 모듈을 불러 오면서 별명(alias) 붙여주기\n",
        "# as 키워드를 활용해서 모듈이나 패키지에 별명 지어줄 수 있음\n",
        "import numpy as np\n",
        "import pandas as pd"
      ],
      "execution_count": 9,
      "outputs": []
    },
    {
      "cell_type": "code",
      "metadata": {
        "id": "75ysPdzuDK7h"
      },
      "source": [
        ""
      ],
      "execution_count": null,
      "outputs": []
    }
  ]
}

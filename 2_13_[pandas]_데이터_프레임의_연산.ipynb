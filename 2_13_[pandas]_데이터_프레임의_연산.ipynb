{
  "nbformat": 4,
  "nbformat_minor": 0,
  "metadata": {
    "colab": {
      "name": "2 - 13 [pandas] 데이터 프레임의 연산.ipynb",
      "provenance": [],
      "collapsed_sections": [],
      "mount_file_id": "1odxGftLUsYJyALqfOWCUqrBOoHYWicXB",
      "authorship_tag": "ABX9TyOrRwXOVFuLOegFY1mjqKJg",
      "include_colab_link": true
    },
    "kernelspec": {
      "name": "python3",
      "display_name": "Python 3"
    },
    "language_info": {
      "name": "python"
    }
  },
  "cells": [
    {
      "cell_type": "markdown",
      "metadata": {
        "id": "view-in-github",
        "colab_type": "text"
      },
      "source": [
        "<a href=\"https://colab.research.google.com/github/GNuSeekK/ICTCOG/blob/main/2_13_%5Bpandas%5D_%EB%8D%B0%EC%9D%B4%ED%84%B0_%ED%94%84%EB%A0%88%EC%9E%84%EC%9D%98_%EC%97%B0%EC%82%B0.ipynb\" target=\"_parent\"><img src=\"https://colab.research.google.com/assets/colab-badge.svg\" alt=\"Open In Colab\"/></a>"
      ]
    },
    {
      "cell_type": "code",
      "metadata": {
        "id": "M2vOiihszDmT"
      },
      "source": [
        "import pandas as pd\n",
        "import numpy as np"
      ],
      "execution_count": 1,
      "outputs": []
    },
    {
      "cell_type": "markdown",
      "metadata": {
        "id": "Um8PUqBkzQmO"
      },
      "source": [
        "# 예시용 데이터 프레임 만들기"
      ]
    },
    {
      "cell_type": "code",
      "metadata": {
        "colab": {
          "base_uri": "https://localhost:8080/",
          "height": 204
        },
        "id": "2VBiBYhdzZ2c",
        "outputId": "f8353063-dd6c-40fe-98d9-a1eb64078f27"
      },
      "source": [
        "df = pd.DataFrame({\n",
        "    \"통계\" : [80, 100, 90, 75, 80],\n",
        "    \"미술\" : [50, 70, 80, 90, 100],\n",
        "    \"체육\" : [100, 70, 75, 95, 80]\n",
        "})\n",
        "\n",
        "df"
      ],
      "execution_count": 2,
      "outputs": [
        {
          "output_type": "execute_result",
          "data": {
            "text/html": [
              "<div>\n",
              "<style scoped>\n",
              "    .dataframe tbody tr th:only-of-type {\n",
              "        vertical-align: middle;\n",
              "    }\n",
              "\n",
              "    .dataframe tbody tr th {\n",
              "        vertical-align: top;\n",
              "    }\n",
              "\n",
              "    .dataframe thead th {\n",
              "        text-align: right;\n",
              "    }\n",
              "</style>\n",
              "<table border=\"1\" class=\"dataframe\">\n",
              "  <thead>\n",
              "    <tr style=\"text-align: right;\">\n",
              "      <th></th>\n",
              "      <th>통계</th>\n",
              "      <th>미술</th>\n",
              "      <th>체육</th>\n",
              "    </tr>\n",
              "  </thead>\n",
              "  <tbody>\n",
              "    <tr>\n",
              "      <th>0</th>\n",
              "      <td>80</td>\n",
              "      <td>50</td>\n",
              "      <td>100</td>\n",
              "    </tr>\n",
              "    <tr>\n",
              "      <th>1</th>\n",
              "      <td>100</td>\n",
              "      <td>70</td>\n",
              "      <td>70</td>\n",
              "    </tr>\n",
              "    <tr>\n",
              "      <th>2</th>\n",
              "      <td>90</td>\n",
              "      <td>80</td>\n",
              "      <td>75</td>\n",
              "    </tr>\n",
              "    <tr>\n",
              "      <th>3</th>\n",
              "      <td>75</td>\n",
              "      <td>90</td>\n",
              "      <td>95</td>\n",
              "    </tr>\n",
              "    <tr>\n",
              "      <th>4</th>\n",
              "      <td>80</td>\n",
              "      <td>100</td>\n",
              "      <td>80</td>\n",
              "    </tr>\n",
              "  </tbody>\n",
              "</table>\n",
              "</div>"
            ],
            "text/plain": [
              "    통계   미술   체육\n",
              "0   80   50  100\n",
              "1  100   70   70\n",
              "2   90   80   75\n",
              "3   75   90   95\n",
              "4   80  100   80"
            ]
          },
          "metadata": {
            "tags": []
          },
          "execution_count": 2
        }
      ]
    },
    {
      "cell_type": "markdown",
      "metadata": {
        "id": "-z19HIQPzqJQ"
      },
      "source": [
        "## 데이터 프레임의 기초적인 연산\n",
        "연산을 할 때의 데이터 타입은 항상 **수치형 데이터 타입**이어야 한다."
      ]
    },
    {
      "cell_type": "code",
      "metadata": {
        "colab": {
          "base_uri": "https://localhost:8080/"
        },
        "id": "Js1YpKA70AHx",
        "outputId": "1d6e25d7-5df9-4b9a-9a88-5b2b174f8a40"
      },
      "source": [
        "df['통계'].dtypes"
      ],
      "execution_count": 3,
      "outputs": [
        {
          "output_type": "execute_result",
          "data": {
            "text/plain": [
              "dtype('int64')"
            ]
          },
          "metadata": {
            "tags": []
          },
          "execution_count": 3
        }
      ]
    },
    {
      "cell_type": "markdown",
      "metadata": {
        "id": "V9Dpd0DM0Jxg"
      },
      "source": [
        "### Column과 Column간 연산"
      ]
    },
    {
      "cell_type": "code",
      "metadata": {
        "colab": {
          "base_uri": "https://localhost:8080/"
        },
        "id": "NrNXBEKB0UKD",
        "outputId": "8c715788-95a7-456c-de15-04aeab35d9a5"
      },
      "source": [
        "df['통계'] + df['미술'] + df['체육']"
      ],
      "execution_count": 4,
      "outputs": [
        {
          "output_type": "execute_result",
          "data": {
            "text/plain": [
              "0    230\n",
              "1    240\n",
              "2    245\n",
              "3    260\n",
              "4    260\n",
              "dtype: int64"
            ]
          },
          "metadata": {
            "tags": []
          },
          "execution_count": 4
        }
      ]
    },
    {
      "cell_type": "code",
      "metadata": {
        "colab": {
          "base_uri": "https://localhost:8080/"
        },
        "id": "KISloJXB0Y0c",
        "outputId": "6fcd9684-0be5-48b6-f1f5-6cf3dff46f89"
      },
      "source": [
        "df['통계'] - df['미술']"
      ],
      "execution_count": 5,
      "outputs": [
        {
          "output_type": "execute_result",
          "data": {
            "text/plain": [
              "0    30\n",
              "1    30\n",
              "2    10\n",
              "3   -15\n",
              "4   -20\n",
              "dtype: int64"
            ]
          },
          "metadata": {
            "tags": []
          },
          "execution_count": 5
        }
      ]
    },
    {
      "cell_type": "code",
      "metadata": {
        "colab": {
          "base_uri": "https://localhost:8080/"
        },
        "id": "iw9RCzGz0e4M",
        "outputId": "c230a756-d23a-41ec-f267-a8d6347e4a54"
      },
      "source": [
        "df['미술'] * df['체육']"
      ],
      "execution_count": 6,
      "outputs": [
        {
          "output_type": "execute_result",
          "data": {
            "text/plain": [
              "0    5000\n",
              "1    4900\n",
              "2    6000\n",
              "3    8550\n",
              "4    8000\n",
              "dtype: int64"
            ]
          },
          "metadata": {
            "tags": []
          },
          "execution_count": 6
        }
      ]
    },
    {
      "cell_type": "code",
      "metadata": {
        "colab": {
          "base_uri": "https://localhost:8080/"
        },
        "id": "XCsjnSL70kGC",
        "outputId": "43fae40e-53f3-44c8-8e20-0a7113ab7f21"
      },
      "source": [
        "df['통계'] / df['미술']"
      ],
      "execution_count": 7,
      "outputs": [
        {
          "output_type": "execute_result",
          "data": {
            "text/plain": [
              "0    1.600000\n",
              "1    1.428571\n",
              "2    1.125000\n",
              "3    0.833333\n",
              "4    0.800000\n",
              "dtype: float64"
            ]
          },
          "metadata": {
            "tags": []
          },
          "execution_count": 7
        }
      ]
    },
    {
      "cell_type": "code",
      "metadata": {
        "colab": {
          "base_uri": "https://localhost:8080/"
        },
        "id": "-X1w22BY0myd",
        "outputId": "6c9f16f1-a142-4409-ad78-ef57f096f372"
      },
      "source": [
        "df['통계'] % df['체육']"
      ],
      "execution_count": 8,
      "outputs": [
        {
          "output_type": "execute_result",
          "data": {
            "text/plain": [
              "0    80\n",
              "1    30\n",
              "2    15\n",
              "3    75\n",
              "4     0\n",
              "dtype: int64"
            ]
          },
          "metadata": {
            "tags": []
          },
          "execution_count": 8
        }
      ]
    },
    {
      "cell_type": "markdown",
      "metadata": {
        "id": "0IAu6N6N0q4o"
      },
      "source": [
        "## Column과 숫자 간 연산\n",
        "* Column에 대한 브로드캐스팅 연산이 일어난다."
      ]
    },
    {
      "cell_type": "code",
      "metadata": {
        "colab": {
          "base_uri": "https://localhost:8080/"
        },
        "id": "FeA-r94a0yLu",
        "outputId": "1c64b45d-ded2-4029-970a-b630d45b8629"
      },
      "source": [
        "df['통계'] + 10"
      ],
      "execution_count": 9,
      "outputs": [
        {
          "output_type": "execute_result",
          "data": {
            "text/plain": [
              "0     90\n",
              "1    110\n",
              "2    100\n",
              "3     85\n",
              "4     90\n",
              "Name: 통계, dtype: int64"
            ]
          },
          "metadata": {
            "tags": []
          },
          "execution_count": 9
        }
      ]
    },
    {
      "cell_type": "code",
      "metadata": {
        "colab": {
          "base_uri": "https://localhost:8080/"
        },
        "id": "EV565ZUP03lz",
        "outputId": "6661a91c-4264-43af-a185-58523459b311"
      },
      "source": [
        "df['통계'] - 10"
      ],
      "execution_count": 10,
      "outputs": [
        {
          "output_type": "execute_result",
          "data": {
            "text/plain": [
              "0    70\n",
              "1    90\n",
              "2    80\n",
              "3    65\n",
              "4    70\n",
              "Name: 통계, dtype: int64"
            ]
          },
          "metadata": {
            "tags": []
          },
          "execution_count": 10
        }
      ]
    },
    {
      "cell_type": "markdown",
      "metadata": {
        "id": "gtvpIK5T09nO"
      },
      "source": [
        "기타 등등의 사칙연산도 가능하다."
      ]
    },
    {
      "cell_type": "markdown",
      "metadata": {
        "id": "j5sKlPJD1ASu"
      },
      "source": [
        "## axis를 기준으로한 집계"
      ]
    },
    {
      "cell_type": "code",
      "metadata": {
        "colab": {
          "base_uri": "https://localhost:8080/"
        },
        "id": "50VFtzhs1IND",
        "outputId": "0a6c3434-bcc4-464c-8909-8cc6926a5111"
      },
      "source": [
        "df.sum(axis=0)"
      ],
      "execution_count": 11,
      "outputs": [
        {
          "output_type": "execute_result",
          "data": {
            "text/plain": [
              "통계    425\n",
              "미술    390\n",
              "체육    420\n",
              "dtype: int64"
            ]
          },
          "metadata": {
            "tags": []
          },
          "execution_count": 11
        }
      ]
    },
    {
      "cell_type": "code",
      "metadata": {
        "colab": {
          "base_uri": "https://localhost:8080/"
        },
        "id": "0EYzO-rV1OEI",
        "outputId": "6e5f03c8-1552-4893-d1ed-446dc93ab032"
      },
      "source": [
        "df.sum(axis=1)"
      ],
      "execution_count": 12,
      "outputs": [
        {
          "output_type": "execute_result",
          "data": {
            "text/plain": [
              "0    230\n",
              "1    240\n",
              "2    245\n",
              "3    260\n",
              "4    260\n",
              "dtype: int64"
            ]
          },
          "metadata": {
            "tags": []
          },
          "execution_count": 12
        }
      ]
    },
    {
      "cell_type": "markdown",
      "metadata": {
        "id": "X55F7tS21fuF"
      },
      "source": [
        "# NaN값이 존재할 경우 연산"
      ]
    },
    {
      "cell_type": "code",
      "metadata": {
        "colab": {
          "base_uri": "https://localhost:8080/",
          "height": 204
        },
        "id": "alXnTgJl1x_U",
        "outputId": "1633924b-524f-43c4-d756-4f26bc85a2b2"
      },
      "source": [
        "df = pd.DataFrame({\n",
        "    \"통계\" : [80, 100, np.nan, 75, 80],\n",
        "    \"미술\" : [50, np.nan, 80, 90, 100],\n",
        "    \"체육\" : [100, 70, 75, np.nan, 80]\n",
        "})\n",
        "\n",
        "df"
      ],
      "execution_count": 13,
      "outputs": [
        {
          "output_type": "execute_result",
          "data": {
            "text/html": [
              "<div>\n",
              "<style scoped>\n",
              "    .dataframe tbody tr th:only-of-type {\n",
              "        vertical-align: middle;\n",
              "    }\n",
              "\n",
              "    .dataframe tbody tr th {\n",
              "        vertical-align: top;\n",
              "    }\n",
              "\n",
              "    .dataframe thead th {\n",
              "        text-align: right;\n",
              "    }\n",
              "</style>\n",
              "<table border=\"1\" class=\"dataframe\">\n",
              "  <thead>\n",
              "    <tr style=\"text-align: right;\">\n",
              "      <th></th>\n",
              "      <th>통계</th>\n",
              "      <th>미술</th>\n",
              "      <th>체육</th>\n",
              "    </tr>\n",
              "  </thead>\n",
              "  <tbody>\n",
              "    <tr>\n",
              "      <th>0</th>\n",
              "      <td>80.0</td>\n",
              "      <td>50.0</td>\n",
              "      <td>100.0</td>\n",
              "    </tr>\n",
              "    <tr>\n",
              "      <th>1</th>\n",
              "      <td>100.0</td>\n",
              "      <td>NaN</td>\n",
              "      <td>70.0</td>\n",
              "    </tr>\n",
              "    <tr>\n",
              "      <th>2</th>\n",
              "      <td>NaN</td>\n",
              "      <td>80.0</td>\n",
              "      <td>75.0</td>\n",
              "    </tr>\n",
              "    <tr>\n",
              "      <th>3</th>\n",
              "      <td>75.0</td>\n",
              "      <td>90.0</td>\n",
              "      <td>NaN</td>\n",
              "    </tr>\n",
              "    <tr>\n",
              "      <th>4</th>\n",
              "      <td>80.0</td>\n",
              "      <td>100.0</td>\n",
              "      <td>80.0</td>\n",
              "    </tr>\n",
              "  </tbody>\n",
              "</table>\n",
              "</div>"
            ],
            "text/plain": [
              "      통계     미술     체육\n",
              "0   80.0   50.0  100.0\n",
              "1  100.0    NaN   70.0\n",
              "2    NaN   80.0   75.0\n",
              "3   75.0   90.0    NaN\n",
              "4   80.0  100.0   80.0"
            ]
          },
          "metadata": {
            "tags": []
          },
          "execution_count": 13
        }
      ]
    },
    {
      "cell_type": "code",
      "metadata": {
        "colab": {
          "base_uri": "https://localhost:8080/"
        },
        "id": "4lJRjrac1yLT",
        "outputId": "c0fded51-eec5-441f-8b9e-6abe2aaef8d2"
      },
      "source": [
        "df['통계'] / 2"
      ],
      "execution_count": 14,
      "outputs": [
        {
          "output_type": "execute_result",
          "data": {
            "text/plain": [
              "0    40.0\n",
              "1    50.0\n",
              "2     NaN\n",
              "3    37.5\n",
              "4    40.0\n",
              "Name: 통계, dtype: float64"
            ]
          },
          "metadata": {
            "tags": []
          },
          "execution_count": 14
        }
      ]
    },
    {
      "cell_type": "code",
      "metadata": {
        "colab": {
          "base_uri": "https://localhost:8080/"
        },
        "id": "L5U7RtpD16uD",
        "outputId": "93b4fe14-496f-4c29-e852-2d8da7889d4e"
      },
      "source": [
        "1000 / df['통계']"
      ],
      "execution_count": 15,
      "outputs": [
        {
          "output_type": "execute_result",
          "data": {
            "text/plain": [
              "0    12.500000\n",
              "1    10.000000\n",
              "2          NaN\n",
              "3    13.333333\n",
              "4    12.500000\n",
              "Name: 통계, dtype: float64"
            ]
          },
          "metadata": {
            "tags": []
          },
          "execution_count": 15
        }
      ]
    },
    {
      "cell_type": "code",
      "metadata": {
        "colab": {
          "base_uri": "https://localhost:8080/"
        },
        "id": "sw-gDdwN1__o",
        "outputId": "255962ae-52c8-4311-bc1a-7a813c54f865"
      },
      "source": [
        "df['통계'] / np.nan"
      ],
      "execution_count": 16,
      "outputs": [
        {
          "output_type": "execute_result",
          "data": {
            "text/plain": [
              "0   NaN\n",
              "1   NaN\n",
              "2   NaN\n",
              "3   NaN\n",
              "4   NaN\n",
              "Name: 통계, dtype: float64"
            ]
          },
          "metadata": {
            "tags": []
          },
          "execution_count": 16
        }
      ]
    },
    {
      "cell_type": "markdown",
      "metadata": {
        "id": "Qe_4-Sr72DdN"
      },
      "source": [
        "nan값과 어떤 값 사이의 연산이 일어나면 그 결과도 nan이 된다."
      ]
    },
    {
      "cell_type": "markdown",
      "metadata": {
        "id": "RjmmCuf52H57"
      },
      "source": [
        "# 행의 개수가 다른 경우"
      ]
    },
    {
      "cell_type": "code",
      "metadata": {
        "colab": {
          "base_uri": "https://localhost:8080/",
          "height": 235
        },
        "id": "_mIoRKFt2N7A",
        "outputId": "b7c5ffd3-57b6-43c5-bd9d-5bd33551ceec"
      },
      "source": [
        "df1 = pd.DataFrame({\n",
        "    \"통계\" : [80, 100, 90, 75, 80],\n",
        "    \"미술\" : [50, 70, 80, 90, 100],\n",
        "    \"체육\" : [100, 70, 75, 80, 80]\n",
        "})\n",
        "\n",
        "df2 = pd.DataFrame({\n",
        "    \"통계\" : [80, 100, 90, 75, 80, 100],\n",
        "    \"미술\" : [50, 70, 80, 90, 100, 90],\n",
        "    \"체육\" : [100, 70, 75, 80, 80, 80]\n",
        "})\n",
        "\n",
        "df1 * df2"
      ],
      "execution_count": 17,
      "outputs": [
        {
          "output_type": "execute_result",
          "data": {
            "text/html": [
              "<div>\n",
              "<style scoped>\n",
              "    .dataframe tbody tr th:only-of-type {\n",
              "        vertical-align: middle;\n",
              "    }\n",
              "\n",
              "    .dataframe tbody tr th {\n",
              "        vertical-align: top;\n",
              "    }\n",
              "\n",
              "    .dataframe thead th {\n",
              "        text-align: right;\n",
              "    }\n",
              "</style>\n",
              "<table border=\"1\" class=\"dataframe\">\n",
              "  <thead>\n",
              "    <tr style=\"text-align: right;\">\n",
              "      <th></th>\n",
              "      <th>통계</th>\n",
              "      <th>미술</th>\n",
              "      <th>체육</th>\n",
              "    </tr>\n",
              "  </thead>\n",
              "  <tbody>\n",
              "    <tr>\n",
              "      <th>0</th>\n",
              "      <td>6400.0</td>\n",
              "      <td>2500.0</td>\n",
              "      <td>10000.0</td>\n",
              "    </tr>\n",
              "    <tr>\n",
              "      <th>1</th>\n",
              "      <td>10000.0</td>\n",
              "      <td>4900.0</td>\n",
              "      <td>4900.0</td>\n",
              "    </tr>\n",
              "    <tr>\n",
              "      <th>2</th>\n",
              "      <td>8100.0</td>\n",
              "      <td>6400.0</td>\n",
              "      <td>5625.0</td>\n",
              "    </tr>\n",
              "    <tr>\n",
              "      <th>3</th>\n",
              "      <td>5625.0</td>\n",
              "      <td>8100.0</td>\n",
              "      <td>6400.0</td>\n",
              "    </tr>\n",
              "    <tr>\n",
              "      <th>4</th>\n",
              "      <td>6400.0</td>\n",
              "      <td>10000.0</td>\n",
              "      <td>6400.0</td>\n",
              "    </tr>\n",
              "    <tr>\n",
              "      <th>5</th>\n",
              "      <td>NaN</td>\n",
              "      <td>NaN</td>\n",
              "      <td>NaN</td>\n",
              "    </tr>\n",
              "  </tbody>\n",
              "</table>\n",
              "</div>"
            ],
            "text/plain": [
              "        통계       미술       체육\n",
              "0   6400.0   2500.0  10000.0\n",
              "1  10000.0   4900.0   4900.0\n",
              "2   8100.0   6400.0   5625.0\n",
              "3   5625.0   8100.0   6400.0\n",
              "4   6400.0  10000.0   6400.0\n",
              "5      NaN      NaN      NaN"
            ]
          },
          "metadata": {
            "tags": []
          },
          "execution_count": 17
        }
      ]
    },
    {
      "cell_type": "markdown",
      "metadata": {
        "id": "qf4cVqPD2W4c"
      },
      "source": [
        "데이터가 모자라서 계산이 안된쪽의 결과가 NaN이 된다."
      ]
    }
  ]
}
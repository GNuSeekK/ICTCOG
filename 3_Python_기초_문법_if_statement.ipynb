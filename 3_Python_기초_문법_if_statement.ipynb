{
  "nbformat": 4,
  "nbformat_minor": 0,
  "metadata": {
    "colab": {
      "name": "3. Python 기초 문법 - if statement.ipynb",
      "provenance": [],
      "collapsed_sections": [],
      "authorship_tag": "ABX9TyOeEHQDgeJ/ol+6yvuJu4kx",
      "include_colab_link": true
    },
    "kernelspec": {
      "name": "python3",
      "display_name": "Python 3"
    },
    "language_info": {
      "name": "python"
    }
  },
  "cells": [
    {
      "cell_type": "markdown",
      "metadata": {
        "id": "view-in-github",
        "colab_type": "text"
      },
      "source": [
        "<a href=\"https://colab.research.google.com/github/GNuSeekK/ICTCOG/blob/main/3_Python_%EA%B8%B0%EC%B4%88_%EB%AC%B8%EB%B2%95_if_statement.ipynb\" target=\"_parent\"><img src=\"https://colab.research.google.com/assets/colab-badge.svg\" alt=\"Open In Colab\"/></a>"
      ]
    },
    {
      "cell_type": "markdown",
      "metadata": {
        "id": "HpP98-zag1AG"
      },
      "source": [
        "# 제어문(Control Statement)\n",
        "* 프로그램의 흐름을 구문(**context**)라고 한다.\n",
        "* 구문은 각각 다른 코드를 실행하는 단위가 된다.\n",
        "* 파이썬에서는 코드의 실행 단위를 띄어쓰기(**indent**)로 구분한다.\n",
        "    * 보통은 띄어쓰기 2~4칸을 쓰거나 탭 한번을 사용\n",
        "* 조건문과 반복문은 조건에 의해 실행할 구문을 제어한다.\n",
        "* 조건문(Conditional State)로는 `if`문이 있다.\n",
        "> **if, elif, else**\n",
        "* 반복문(Iterative Statement)으로는 `while, for` 문이 있다.\n",
        "> **while, for**"
      ]
    },
    {
      "cell_type": "markdown",
      "metadata": {
        "id": "_81mGZdoiOdw"
      },
      "source": [
        "# 조건문(if statement)\n",
        "* 프로그램에서 가장 중요한 **조건 판단**이다.\n",
        "* 모든 프로그램은 조건을 판단하여 다음 진행 과정을 결정한다.\n",
        "\n",
        "> 예시<br/> 자판기에 300원짜리 커피가 있다. 자판기에 들어갈 프로그램을 개발한다.<br/> 넣은 돈이 300원 보다 적으면 커피를 그냥 반환해 주고, 300원보다 많은 경우에는 커피도 주고, 잔액도 반환해 주어야 한다."
      ]
    },
    {
      "cell_type": "code",
      "metadata": {
        "colab": {
          "base_uri": "https://localhost:8080/"
        },
        "id": "Ey0zpbxjkO_c",
        "outputId": "61233be0-46f9-40d7-9d57-c376ee978591"
      },
      "source": [
        "# if문 문법 살펴보기\n",
        "a = 5\n",
        "\n",
        "# a가 5인데, a가 5와 같으면 'hello'를 출력하고 싶다.\n",
        "if a == 5:\n",
        "    print('Hello')\n",
        "    "
      ],
      "execution_count": 1,
      "outputs": [
        {
          "output_type": "stream",
          "text": [
            "Hello\n"
          ],
          "name": "stdout"
        }
      ]
    },
    {
      "cell_type": "code",
      "metadata": {
        "colab": {
          "base_uri": "https://localhost:8080/"
        },
        "id": "sFqo0GlEki0k",
        "outputId": "98114860-a1e5-4e44-c83f-979d17cf0812"
      },
      "source": [
        "a = 5 # 5라는 정수를 a라는 변수에 대입\n",
        "a == 5 # a와 5가 같다. 같으면 True, 다르면 False"
      ],
      "execution_count": 2,
      "outputs": [
        {
          "output_type": "execute_result",
          "data": {
            "text/plain": [
              "True"
            ]
          },
          "metadata": {
            "tags": []
          },
          "execution_count": 2
        }
      ]
    },
    {
      "cell_type": "markdown",
      "metadata": {
        "id": "hxa56vKel5e2"
      },
      "source": [
        "## 비교연산자"
      ]
    },
    {
      "cell_type": "code",
      "metadata": {
        "colab": {
          "base_uri": "https://localhost:8080/"
        },
        "id": "8VnoPTZJk2Yf",
        "outputId": "0e0d4119-c68b-4b2e-c96b-efc2da2d52ab"
      },
      "source": [
        "# 값을 비교 하기 때문에 비교연산자\n",
        "\n",
        "a = 5\n",
        "b = 3\n",
        "print(a == b) # false\n",
        "print(a > b) # a가 b보다 크다. True\n",
        "print(a < b) # a가 b보다 작다. False\n",
        "print(a >= b) # a가 b보다 크거나 같다. True\n",
        "print(a <= 5) # a가 5보다 작거나 같다. False\n",
        "print(a != b) # a와 b가 다르다. True\n",
        "print(a != 5) # a와 5가 다르다. False"
      ],
      "execution_count": 9,
      "outputs": [
        {
          "output_type": "stream",
          "text": [
            "False\n",
            "True\n",
            "False\n",
            "True\n",
            "True\n",
            "True\n",
            "False\n"
          ],
          "name": "stdout"
        }
      ]
    },
    {
      "cell_type": "markdown",
      "metadata": {
        "id": "x7m6Un0Wk4YW"
      },
      "source": [
        "## 논리 연산 \n",
        "    AND, OR, NOT\n",
        "논리 연산의 특징\n",
        "* 논리 연산끼리 비교"
      ]
    },
    {
      "cell_type": "code",
      "metadata": {
        "colab": {
          "base_uri": "https://localhost:8080/"
        },
        "id": "Dgr2obBAl21E",
        "outputId": "abc28432-8c4a-450e-d15b-302b58926ced"
      },
      "source": [
        "# AND의 뜻 - 그리고\n",
        "# a AND B -> 'a와 b가 모두 True 일 때만 결과가 True\n",
        "print(True and False) # False\n",
        "print(False and False) # False\n",
        "print(True and True) # True"
      ],
      "execution_count": 10,
      "outputs": [
        {
          "output_type": "stream",
          "text": [
            "False\n",
            "False\n",
            "True\n"
          ],
          "name": "stdout"
        }
      ]
    },
    {
      "cell_type": "code",
      "metadata": {
        "colab": {
          "base_uri": "https://localhost:8080/"
        },
        "id": "yUqUMEO7mVlK",
        "outputId": "285932d0-5407-432b-f037-5a3e6d0ad4be"
      },
      "source": [
        "a = 5\n",
        "b = 3\n",
        "\n",
        "print( a>= 5 and b <= 3) # True\n",
        "print( a > 4 and b > 3) # False"
      ],
      "execution_count": 12,
      "outputs": [
        {
          "output_type": "stream",
          "text": [
            "True\n",
            "False\n"
          ],
          "name": "stdout"
        }
      ]
    },
    {
      "cell_type": "code",
      "metadata": {
        "colab": {
          "base_uri": "https://localhost:8080/"
        },
        "id": "5YCDjsdSmaW3",
        "outputId": "f662a33b-5546-4c18-bf9a-a4027e6cb3b6"
      },
      "source": [
        "# OR - 또는\n",
        "# a 또는 b 둘중에 하나만 True면 결과 True\n",
        "\n",
        "\n",
        "print(True or False) # True\n",
        "print(False or False) # False\n",
        "print(True or True) # True"
      ],
      "execution_count": 15,
      "outputs": [
        {
          "output_type": "stream",
          "text": [
            "True\n",
            "False\n",
            "True\n"
          ],
          "name": "stdout"
        }
      ]
    },
    {
      "cell_type": "code",
      "metadata": {
        "colab": {
          "base_uri": "https://localhost:8080/"
        },
        "id": "KOco0cflqqZD",
        "outputId": "6aed32c6-eb03-4adc-cf92-495625d8d8fd"
      },
      "source": [
        "a = 5\n",
        "b = 3\n",
        "\n",
        "print( a>= 5 or b <= 3) # True\n",
        "print( a > 4 or b > 3) # True"
      ],
      "execution_count": 16,
      "outputs": [
        {
          "output_type": "stream",
          "text": [
            "True\n",
            "True\n"
          ],
          "name": "stdout"
        }
      ]
    },
    {
      "cell_type": "code",
      "metadata": {
        "colab": {
          "base_uri": "https://localhost:8080/"
        },
        "id": "hbcLnJJGqyS_",
        "outputId": "ef61ccd3-22e1-4f65-d308-bf0d11485e72"
      },
      "source": [
        "# Not - 부정\n",
        "# not a -> a가 아니면, True를 false로 False를 True로 바꿔줌\n",
        "\n",
        "a = True\n",
        "print(not a)\n",
        "\n",
        "a = False\n",
        "print(not a)"
      ],
      "execution_count": 18,
      "outputs": [
        {
          "output_type": "stream",
          "text": [
            "False\n",
            "True\n"
          ],
          "name": "stdout"
        }
      ]
    },
    {
      "cell_type": "markdown",
      "metadata": {
        "id": "gDlSq76CrMZU"
      },
      "source": [
        "> And 나 OR을 사용 할 때 앞쪽에 연산이 적은 것을 이용하면 더 빠른 프로그래밍이 가능하다."
      ]
    },
    {
      "cell_type": "markdown",
      "metadata": {
        "id": "MQms0LIzsiP3"
      },
      "source": [
        "## 자판기 문제\n",
        "자판기에 300원짜리 커피가 있다. 자판기에 들어갈 프로그램을 개발한다.<br/> 넣은 돈이 300원 보다 적으면 커피를 그냥 반환해 주고, 300원보다 많은 경우에는 커피도 주고, 잔액도 반환해 주어야 한다."
      ]
    },
    {
      "cell_type": "code",
      "metadata": {
        "colab": {
          "base_uri": "https://localhost:8080/"
        },
        "id": "tLkT6zaespJ-",
        "outputId": "22370600-3ff2-468e-e3fc-fd18b30e3107"
      },
      "source": [
        "money = 300\n",
        "\n",
        "if money == 300:\n",
        "    print('커피를 줍니다.')\n",
        "    print('거스름돈은 0원입니다.')\n",
        "print('종료')"
      ],
      "execution_count": 20,
      "outputs": [
        {
          "output_type": "stream",
          "text": [
            "커피를 줍니다.\n",
            "거스름돈은 0원입니다.\n",
            "종료\n"
          ],
          "name": "stdout"
        }
      ]
    },
    {
      "cell_type": "code",
      "metadata": {
        "colab": {
          "base_uri": "https://localhost:8080/"
        },
        "id": "k1ufLch4tmhC",
        "outputId": "d2bea0df-991e-4d5b-d319-68e633be1734"
      },
      "source": [
        "money = 200\n",
        "if money < 300:\n",
        "    print('잔액이 부족합니다')\n",
        "    print(f'{money}원을 반환합니다')"
      ],
      "execution_count": 21,
      "outputs": [
        {
          "output_type": "stream",
          "text": [
            "잔액이 부족합니다\n",
            "200원을 반환합니다\n"
          ],
          "name": "stdout"
        }
      ]
    },
    {
      "cell_type": "code",
      "metadata": {
        "colab": {
          "base_uri": "https://localhost:8080/"
        },
        "id": "JJD_gxH9uEa7",
        "outputId": "e2f5f3b2-bf3a-4711-8ebd-a6235c4fa828"
      },
      "source": [
        "money = 1000\n",
        "\n",
        "if money > 300:\n",
        "    print('커피를 줍니다')\n",
        "    print(f'거스름돈은 {money - 300}입니다.')"
      ],
      "execution_count": 22,
      "outputs": [
        {
          "output_type": "stream",
          "text": [
            "커피를 줍니다\n",
            "거스름돈은 700입니다.\n"
          ],
          "name": "stdout"
        }
      ]
    },
    {
      "cell_type": "code",
      "metadata": {
        "colab": {
          "base_uri": "https://localhost:8080/"
        },
        "id": "XehJT6j4uOSs",
        "outputId": "05e46d17-635c-4477-d5a0-92fa06bf7191"
      },
      "source": [
        "money = 300\n",
        "\n",
        "if money == 300:\n",
        "    print('커피를 줍니다.')\n",
        "    print('거스름돈은 0원입니다.')\n",
        "    \n",
        "if money < 300:\n",
        "    print('잔액이 부족합니다')\n",
        "    print(f'{money}원을 반환합니다')\n",
        "    \n",
        "if money > 300:\n",
        "    print('커피를 줍니다')\n",
        "    print(f'거스름돈은 {money - 300}입니다.')"
      ],
      "execution_count": 23,
      "outputs": [
        {
          "output_type": "stream",
          "text": [
            "커피를 줍니다.\n",
            "거스름돈은 0원입니다.\n"
          ],
          "name": "stdout"
        }
      ]
    },
    {
      "cell_type": "code",
      "metadata": {
        "colab": {
          "base_uri": "https://localhost:8080/"
        },
        "id": "FuCn3Uc3utlG",
        "outputId": "c0b673c3-7a47-41f0-c84d-a3191e8031aa"
      },
      "source": [
        "money = 300\n",
        "\n",
        "if money >= 300:\n",
        "    print('커피를 줍니다.')\n",
        "    print(f'거스름돈은 {money - 300}입니다.')\n",
        "else:\n",
        "    print('잔액이 부족합니다')\n",
        "    print(f'{money}원을 반환합니다')"
      ],
      "execution_count": 26,
      "outputs": [
        {
          "output_type": "stream",
          "text": [
            "커피를 줍니다.\n",
            "거스름돈은 0입니다.\n"
          ],
          "name": "stdout"
        }
      ]
    },
    {
      "cell_type": "code",
      "metadata": {
        "colab": {
          "base_uri": "https://localhost:8080/"
        },
        "id": "sfTgNo_FvDCb",
        "outputId": "c6b902d4-6628-4fdb-da7c-96b8f366d040"
      },
      "source": [
        "# if문의 nested 구조\n",
        "money = 150\n",
        "\n",
        "if money == 300:\n",
        "    print('커피')\n",
        "else:\n",
        "    if money < 300:\n",
        "        print(f'{money}원 돌려주기')\n",
        "    elif money > 300:\n",
        "        print('커피')\n",
        "        print(f'{money-300}원 돌려주기')"
      ],
      "execution_count": 27,
      "outputs": [
        {
          "output_type": "stream",
          "text": [
            "150원 돌려주기\n"
          ],
          "name": "stdout"
        }
      ]
    },
    {
      "cell_type": "code",
      "metadata": {
        "id": "ZLXB660C0cSD"
      },
      "source": [
        ""
      ],
      "execution_count": null,
      "outputs": []
    }
  ]
}
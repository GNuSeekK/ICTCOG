{
  "nbformat": 4,
  "nbformat_minor": 0,
  "metadata": {
    "colab": {
      "name": "4 - 04 [딥러닝] 행렬과 신경망.ipynb",
      "provenance": [],
      "collapsed_sections": [],
      "authorship_tag": "ABX9TyO06uzHfp9l35wyiV0CJnpC",
      "include_colab_link": true
    },
    "kernelspec": {
      "name": "python3",
      "display_name": "Python 3"
    },
    "language_info": {
      "name": "python"
    }
  },
  "cells": [
    {
      "cell_type": "markdown",
      "metadata": {
        "id": "view-in-github",
        "colab_type": "text"
      },
      "source": [
        "<a href=\"https://colab.research.google.com/github/GNuSeekK/ICTCOG/blob/main/4_04_%5B%EB%94%A5%EB%9F%AC%EB%8B%9D%5D_%ED%96%89%EB%A0%AC%EA%B3%BC_%EC%8B%A0%EA%B2%BD%EB%A7%9D.ipynb\" target=\"_parent\"><img src=\"https://colab.research.google.com/assets/colab-badge.svg\" alt=\"Open In Colab\"/></a>"
      ]
    },
    {
      "cell_type": "markdown",
      "metadata": {
        "id": "p7yBMje90lKp"
      },
      "source": [
        "# 신경망의 입력과 가중치\n",
        "* 신경망에 입력 되는 값은 여러개\n",
        "  * $X = [x_1, x_2, x_3, \\cdots, x_n]$\n",
        "* 입력값에 해당하는 가중치도 여러 개\n",
        "  * $ W = [w_1, w_2, w_3, \\cdots, w_n]$\n",
        "  * $n$개의 입력을 받는 $m$개의 뉴런이 있다.\n",
        "  * 예를 들어 2개의 입력을 받는 3개의 뉴런을 행렬로 표기해야 한다.\n",
        "\\begin{pmatrix}w_1 & w_2 & w_3 \\\\ w_4 & w_5 & w_6 \\end{pmatrix}\n"
      ]
    },
    {
      "cell_type": "code",
      "metadata": {
        "colab": {
          "base_uri": "https://localhost:8080/"
        },
        "id": "sMeXXfuB3YL3",
        "outputId": "4597b447-9e7b-4431-f3c0-f7b4a4aba1ee"
      },
      "source": [
        "import numpy as np\n",
        "\n",
        "X = np.array([1,2])\n",
        "W = np.array([[1,2,3],\n",
        "              [4,5,6]])\n",
        "\n",
        "print(f'입력값 X의 shape : {X.shape}')\n",
        "print(f'입력값 W의 shape : {W.shape}')"
      ],
      "execution_count": null,
      "outputs": [
        {
          "output_type": "stream",
          "text": [
            "입력값 X의 shape : (2,)\n",
            "입력값 W의 shape : (2, 3)\n"
          ],
          "name": "stdout"
        }
      ]
    },
    {
      "cell_type": "markdown",
      "metadata": {
        "id": "QwmZ5oTT3ikY"
      },
      "source": [
        "$X, W$의 내적이 가능하다"
      ]
    },
    {
      "cell_type": "code",
      "metadata": {
        "colab": {
          "base_uri": "https://localhost:8080/"
        },
        "id": "ebvpc2GL3p8W",
        "outputId": "3588e2bf-86f9-4a88-e6c9-79857a14f6e1"
      },
      "source": [
        "Z = X @ W\n",
        "print(f'출력값 Z : {Z}')"
      ],
      "execution_count": null,
      "outputs": [
        {
          "output_type": "stream",
          "text": [
            "출력값 Z : [ 9 12 15]\n"
          ],
          "name": "stdout"
        }
      ]
    },
    {
      "cell_type": "markdown",
      "metadata": {
        "id": "96mkjUBN3tJt"
      },
      "source": [
        "[번외] 위 처럼 표기하면 $Z=XW+B$\n",
        "\n",
        "$Z=WX+B$의 형식으로 코딩할거면 `Z = W.T @ X + B`"
      ]
    },
    {
      "cell_type": "code",
      "metadata": {
        "colab": {
          "base_uri": "https://localhost:8080/"
        },
        "id": "YI6P3cqT350G",
        "outputId": "54ac7f95-0a2e-4d00-9092-434da059aa63"
      },
      "source": [
        "Z = W.T @ X\n",
        "print(\"출력값 Z : {}\".format(Z))"
      ],
      "execution_count": null,
      "outputs": [
        {
          "output_type": "stream",
          "text": [
            "출력값 Z : [ 9 12 15]\n"
          ],
          "name": "stdout"
        }
      ]
    },
    {
      "cell_type": "markdown",
      "metadata": {
        "id": "BaOUe20g4HDC"
      },
      "source": [
        "# 신경망 표기 법칙\n",
        "\n",
        "$$\n",
        "w^{(To)}_{(To)(From)}\n",
        "$$\n",
        "\n",
        "**1층을 구성하는 표기**\n",
        "\n",
        "* 1층의 1번째 뉴런만 표기 : $z_1^{(1)} = w_{11}^{(1)}x_1 + w_{12}^{(1)}x_2+b_1^{(1)}$\n",
        "* 1층 전체에 대해 표기 : $Z^{(1)} = XW^{(1)} + B^{(1)}$ / $Z^{(1)} = W^{(1)^{T}}X + B^{(1)}$ \n",
        "  * 편향 $B$의 원소의 개수는 뉴런의 개수와 같다.\n",
        "-----\n",
        " * $X = (x_1, x_2)$\n",
        " * $W^{(1)} = \\begin{pmatrix}w_{11}^{(1)} & w_{21}^{(1)} & w_{31}^{(1)} \\\\ w_{12}^{(1)} & w_{22}^{(1)} & w_{32}^{(1)}\n",
        " \\end{pmatrix}$\n",
        " * $B^{(1)} = \\begin{pmatrix}b_1^{(1)}&b_2^{(1)}&b_3^{(1)}\\end{pmatrix}$\n",
        " * $Z^{(1)} = \\begin{pmatrix}z_1^{(1)}&z_2^{(1)}&z_3^{(1)}\\end{pmatrix}$\n",
        "\n",
        "\n"
      ]
    },
    {
      "cell_type": "markdown",
      "metadata": {
        "id": "pcfHZ9ml-km5"
      },
      "source": [
        "# 1층 구현하기\n",
        "* 모든 X, W, B 는 임의로 사람이 정한 것..\n",
        "* W, B를 모델이 구할 수 있도록 하는 것이 **신경망 학습**"
      ]
    },
    {
      "cell_type": "code",
      "metadata": {
        "id": "zS80lIMIEil2"
      },
      "source": [
        "# 시그모이드 함수 구현\n",
        "def sigmoid(x):\n",
        "  return 1 / ( 1 + np.exp(-x) )\n",
        "\n",
        "# 항등 함수 구현 - 출력층에서 사용할 함수..\n",
        "def identity_function(x):\n",
        "  return x"
      ],
      "execution_count": null,
      "outputs": []
    },
    {
      "cell_type": "code",
      "metadata": {
        "colab": {
          "base_uri": "https://localhost:8080/"
        },
        "id": "qil2tJp4Daub",
        "outputId": "cdca5299-c434-45a8-99d0-741152b5bce6"
      },
      "source": [
        "X = np.array([1.0, 0.5])         # (2, )\n",
        "W1 = np.array([[0.1, 0.3, 0.5],\n",
        "               [0.2, 0.4, 0.6]]) # (2, 3)\n",
        "\n",
        "B1 = np.array([0.1, 0.2, 0.3])   # (3, )\n",
        "\n",
        "# 뉴런 계산\n",
        "Z1 = X @ W1 + B1\n",
        "\n",
        "# 활성화 함수 적용\n",
        "A1 = sigmoid(Z1)\n",
        "\n",
        "print(\"1층의 결과 : {}\".format(A1))"
      ],
      "execution_count": null,
      "outputs": [
        {
          "output_type": "stream",
          "text": [
            "1층의 결과 : [0.57444252 0.66818777 0.75026011]\n"
          ],
          "name": "stdout"
        }
      ]
    },
    {
      "cell_type": "markdown",
      "metadata": {
        "id": "nl8JC2roEdA9"
      },
      "source": [
        "# 2층 구현하기\n",
        "* 1층의 결과물인 `A1`을 입력으로 받는 2개의 뉴런\n",
        "  * `A1`의 `shape` : `(3, )`\n",
        "  * `A1`을 입력으로 받을 2층의 가중치의 `shape` : `(3, 2)`"
      ]
    },
    {
      "cell_type": "code",
      "metadata": {
        "colab": {
          "base_uri": "https://localhost:8080/"
        },
        "id": "v3sQoeM4Fryv",
        "outputId": "f3763fbb-22b3-4582-9f80-f67d68210fd2"
      },
      "source": [
        "W2 = np.array([[0.1, 0.4],\n",
        "               [0.2, 0.5],\n",
        "               [0.3, 0.6]]) # (3, 2)\n",
        "\n",
        "B2 = np.array([0.1, 0.2])  # (2, )\n",
        "\n",
        "Z2 = A1 @ W2 + B2\n",
        "A2 = sigmoid(Z2)\n",
        "\n",
        "print(\"2층의 결과 : {}\".format(A2))"
      ],
      "execution_count": null,
      "outputs": [
        {
          "output_type": "stream",
          "text": [
            "2층의 결과 : [0.62624937 0.7710107 ]\n"
          ],
          "name": "stdout"
        }
      ]
    },
    {
      "cell_type": "markdown",
      "metadata": {
        "id": "AyexwIq5GBwX"
      },
      "source": [
        "# 3층 구현하기 (출력층)\n",
        "  * 활성화 함수로 항등함수(`identity_function`)을 사용한다.\n",
        "  * 항등함수 : 입력되는 값을 그대로 리턴하면 항등함수\n",
        "    * 회귀에서 보통 사용되는 출력층의 활성화 함수\n",
        "    * 레이어마다 계산(wx+b)후에는 항상 활성화 함수를 붙여 줬기 때문에 출력층에도 항등함수라는 활성화 함수를 따로 지정해 주려고.."
      ]
    },
    {
      "cell_type": "code",
      "metadata": {
        "id": "Ay7rlKMRLtLn",
        "colab": {
          "base_uri": "https://localhost:8080/"
        },
        "outputId": "79e4dd38-9782-479c-a550-17189daa610f"
      },
      "source": [
        "W3 = np.array([[0.1, 0.3],\n",
        "               [0.2, 0.4]])\n",
        "\n",
        "B3 = np.array([0.1, 0.2])\n",
        "\n",
        "Z3 = A2 @ W3 + B3\n",
        "\n",
        "# 신경망의 출력층의 결과물은 Y\n",
        "Y = identity_function(Z3)\n",
        "\n",
        "print(Y)"
      ],
      "execution_count": null,
      "outputs": [
        {
          "output_type": "stream",
          "text": [
            "[0.31682708 0.69627909]\n"
          ],
          "name": "stdout"
        }
      ]
    },
    {
      "cell_type": "markdown",
      "metadata": {
        "id": "2oGuBB6aLvdc"
      },
      "source": [
        "# 순전파 (Forward Propagation) 최종 구현하기"
      ]
    },
    {
      "cell_type": "code",
      "metadata": {
        "id": "B8bPJpeFNeNe"
      },
      "source": [
        "# 네트워크 초기화\n",
        "def init_network():\n",
        "  '''\n",
        "  네트워크가 최초로 가지고 있어야 할 가중치와 편향을 설정\n",
        "  네트워크 객체가 만들어 지면서 가지고 있어야 할 최초의 값...\n",
        "  \n",
        "  매개변수 ( 모델 파라미터 ) : W, b\n",
        "\n",
        "  Tensorflow 같은 딥러닝 프레임워크에서는 3가지 방법으로 매개변수를 초기화 한다.\n",
        "  1. 정규분포 랜덤 ( 표준편차 0.01 )\n",
        "  2. 사비에르 글로로트 초깃값\n",
        "  3. 카이밍 히 초깃값\n",
        "'''\n",
        "  network = {}\n",
        "  # 1층 매개변수 초기화\n",
        "  network['W1'] = np.array([[0.1, 0.3, 0.5],\n",
        "                            [0.2, 0.4, 0.6]]) # 2개의 입력을 받는 3개의 뉴런\n",
        "  \n",
        "  network['b1'] = np.array([0.1, 0.2, 0.3])\n",
        "\n",
        "  # 2층 매개변수 초기화\n",
        "  network['W2'] = np.array([[0.1, 0.4],\n",
        "                            [0.2, 0.5],\n",
        "                            [0.3, 0.6]]) # 3개의 입력을 받는 2개의 뉴런\n",
        "  \n",
        "  network['b2'] = np.array([0.1, 0.2])\n",
        "\n",
        "  # 3층 매개변수 초기화\n",
        "  network['W3'] = np.array([[0.1, 0.3],\n",
        "                            [0.2, 0.4]]) # 2개의 입력을 받는 2개의 뉴런\n",
        "  \n",
        "  network['b3'] = np.array([0.1, 0.2])\n",
        "\n",
        "  return network\n",
        "\n",
        "\n",
        "# 순전파 XW+B\n",
        "def forward(network, x):\n",
        "  # 가중치, 편향 꺼내기\n",
        "  W1, W2, W3 = network['W1'], network['W2'], network['W3']\n",
        "  b1, b2, b3 = network['b1'], network['b2'], network['b3']\n",
        "\n",
        "  # 1층 계산\n",
        "  Z1 = x @ W1 + b1\n",
        "  A1 = sigmoid(Z1)\n",
        "\n",
        "  # 2층 계산\n",
        "  Z2 = A1 @ W2 + b2\n",
        "  A2 = sigmoid(Z2)\n",
        "\n",
        "  # 3층 계산\n",
        "\n",
        "  Z3 = A2 @ W3 + b3\n",
        "  y = identity_function(Z3)\n",
        "\n",
        "  return y"
      ],
      "execution_count": null,
      "outputs": []
    },
    {
      "cell_type": "markdown",
      "metadata": {
        "id": "HyevgK_LSBci"
      },
      "source": [
        "간단한 네트워크 순전파만!"
      ]
    },
    {
      "cell_type": "code",
      "metadata": {
        "colab": {
          "base_uri": "https://localhost:8080/"
        },
        "id": "FtDnhQb8SDVH",
        "outputId": "b2794f4f-71cc-4c01-a01b-68f823fb4256"
      },
      "source": [
        "network = init_network() # 네트워크 초기화\n",
        "x = np.array([1.0,0.5])\n",
        "y = forward(network,x)\n",
        "\n",
        "print(y)"
      ],
      "execution_count": null,
      "outputs": [
        {
          "output_type": "stream",
          "text": [
            "[0.31682708 0.69627909]\n"
          ],
          "name": "stdout"
        }
      ]
    },
    {
      "cell_type": "code",
      "metadata": {
        "id": "szx75kAoSLUB"
      },
      "source": [
        ""
      ],
      "execution_count": null,
      "outputs": []
    }
  ]
}
{
  "nbformat": 4,
  "nbformat_minor": 0,
  "metadata": {
    "colab": {
      "name": "4 - 02 [딥러닝] 활성화 함수.ipynb",
      "provenance": [],
      "collapsed_sections": [],
      "authorship_tag": "ABX9TyOsMohaykb4itOQ2pejRn/b",
      "include_colab_link": true
    },
    "kernelspec": {
      "name": "python3",
      "display_name": "Python 3"
    },
    "language_info": {
      "name": "python"
    }
  },
  "cells": [
    {
      "cell_type": "markdown",
      "metadata": {
        "id": "view-in-github",
        "colab_type": "text"
      },
      "source": [
        "<a href=\"https://colab.research.google.com/github/GNuSeekK/ICTCOG/blob/main/4_02_%5B%EB%94%A5%EB%9F%AC%EB%8B%9D%5D_%ED%99%9C%EC%84%B1%ED%99%94_%ED%95%A8%EC%88%98.ipynb\" target=\"_parent\"><img src=\"https://colab.research.google.com/assets/colab-badge.svg\" alt=\"Open In Colab\"/></a>"
      ]
    },
    {
      "cell_type": "markdown",
      "metadata": {
        "id": "CPYqzTMD-E03"
      },
      "source": [
        "# 신경망의 등장\n",
        "다층 퍼셉트론은 단층 퍼셉트론으로는 계산 할 수 없는 복잡한 함수들을 표현할 수 있다.\n",
        "\n",
        "이러한 다층 퍼셉트론을 층처럼 여러 겹 쌓은 것을 **인공 신경망(Artificial Neural Network)**이라고 한다."
      ]
    },
    {
      "cell_type": "markdown",
      "metadata": {
        "id": "DRe6Jb37-aBO"
      },
      "source": [
        "# 활성화 함수 (Activation Function)\n",
        "* 일반 퍼셉트론 처럼 활성화(1), 비활성화(0)로 단순하게 표현하는 것이 아닌, **다양한 값**으로 표현하기 위해 적용되는 함수.\n",
        "* 딥러닝 모델을 생물학적(뇌과학)으로 생각해 보면 1또는 0으로 나타내는 것은 좋지 않다.\n",
        "* 계산 결과를 각각 다양하게 표현하기 위해 **활성화 함수**를 사용하게 된다."
      ]
    },
    {
      "cell_type": "markdown",
      "metadata": {
        "id": "A4wKynLx-yCN"
      },
      "source": [
        "## 뉴런 (Neuran)\n",
        "* 인공 신경망의 퍼셉트론을 **유닛(Unit), 노드(Node), 뉴런(Neuran)**이라고 표현한다.\n",
        "* 어떤 입력 ($x$)이 유닛, 노드, 뉴런으로 입력되면 각각의 출력을 낸다.\n",
        "* **퍼셉트론**이란 결과물로써 0과 1의 결과만을 내는 뉴런\n",
        "  * $z=w_1x_1 + w_2x_2+b$의 결과를 0과 1로 낸다.\n",
        "  * 단위 계단 함수를 $z$에 적용시킨 결과를 의미.\n",
        "    * $y=u(z)$, $u$는 계단함수\n",
        "* 활성화 함수란?\n",
        "  * 뉴런의 계산인 $WX+b$의 결과물을 결정하기 위한 함수"
      ]
    },
    {
      "cell_type": "markdown",
      "metadata": {
        "id": "yduReH3NHr6t"
      },
      "source": [
        "# 퍼셉트론의 수식\n",
        "$z=w_1x_1 + w_2x_2+b$ 식을 이용해서 퍼셉트론을 구현하려면 **조건**이 필요 했었다.\n",
        "\n",
        "$$\n",
        "u(z) = \\begin{cases} \n",
        "0\\enspace(z \\leq 0)\n",
        "\\\\ 1\\enspace(z > 0) \\end{cases}\n",
        "$$\n",
        "\n",
        "함수 $u$는 퍼셉트론의 결과물을 내기 위한 **계단 함수** - 퍼셉트론의 활성화 함수가 된다."
      ]
    },
    {
      "cell_type": "markdown",
      "metadata": {
        "id": "UuJMNbQEGfHB"
      },
      "source": [
        "## 일반화된 뉴런의 수식\n",
        "활성화 함수 $a$가 존재하는 경우\n",
        "$$\n",
        "z = w_1x_1+w_2x_2+b\n",
        "$$\n",
        "\n",
        "\n",
        "$$\n",
        "y = a(w_1x_1+w_2x_2+b)\n",
        "$$\n",
        "\n",
        "$$\n",
        "y=a(z)\n",
        "$$\n",
        "\n",
        "$y$는 뉴런의 결과물이 된다."
      ]
    },
    {
      "cell_type": "markdown",
      "metadata": {
        "id": "Du-N3ix-G83w"
      },
      "source": [
        "**우리가 여기서 배워야 하는건?**\n",
        "\n",
        "단순하게 0과 1로만 표현하는 계단 함수 $u$가 아닌, 다양한 값으로 표현이 가능한 활성화 함수를 배울 것이다."
      ]
    },
    {
      "cell_type": "markdown",
      "metadata": {
        "id": "dQI-IFVpGWXn"
      },
      "source": [
        "# 뉴런이 값을 다양하게 표현(출력)한다는 것의 의미\n",
        "**비선형 활성화 함수를 사용**\n",
        "* 왜 선형 함수는 활성화 함수로 사용하지 않는가?\n",
        "  * 활성화 함수 $a(z) = cz_{(c는 상수)}$\n",
        "  * 층을 여러개(3개 쌓았다고 가정) 쌓았을 떄의 결과물 $y=a_1(a_2(\\dots a_n(z))) = c^nz$\n",
        "  * 여러 층을 쌓아도 단순하게 상수값에 z를 곱한 형식으로만 표현이 된다.\n",
        "  * 뉴런을 겹겹히 쌓는 의미가 사라진다.\n",
        "* 비선형 함수를 사용하게 되면?\n",
        "  * 값의 표현이 **단순하게 표현되지 않는다.**\n",
        "    * 다양한 실숫값으로 표현이 가능하게 된다.\n",
        "  * 층을 쌓거나, 다른 활성화 함수를 사용했을 때 **뉴런의 표현(뉴런의 출력)**이 다채롭게 된다.\n",
        "    * 값이 단순한 패턴으로 증가나 감소를 하지 않는다.\n",
        "    * 활성화 함수마다 어떤 규칙이 있고, 그 규칙에 따라서 뉴런의 출력에 **의미**를 부여할 수 있게 된다.\n"
      ]
    },
    {
      "cell_type": "markdown",
      "metadata": {
        "id": "sbLydaPOLJyn"
      },
      "source": [
        "# 활성화 함수 #1 시그모이드($\\sigma$)\n",
        "* 제일 유명한 활성화 함수\n",
        "* $\\sigma(z) = \\frac{1}{1 + e^{-z}}$, $z=WX+b$\n",
        "* 어떠한 값이 시그모이드 함수에 들어오든 **항상 0보다 크고 1보다 작은 실수**를 출력한다.\n",
        "\n",
        "**시그모이드가 의미하는 것**\n",
        "\n",
        "* 연산(계산)에서는 입력 신호의 강도(세기)를 의미 - **hidden layer**의 시그모이드\n",
        "  * 다음 층에 얼마나 강하게 값을 넘길 것인지를 결정한다.\n",
        "    * 계단 함수는 활성화가 된다(1), 안된다(0)\n",
        "    * 시그모이드 함수\n",
        "    > 1에 가까운 실수 - 크기 만큼 **강하게 활성화**가 된다 <br/> 0에 가까운 실수 - 크기 만큼 **약하게 활성화**가 된다.\n",
        "* 출력 과정( 신경망의 예측 과정 )에서는 0 또는 1로 분류될 **확률**을 의미한다. - **output layer**의 시그모이드\n",
        "  * 시그모이드의 출력이 0.5보다 작으면 0으로 분류될 확률이 커지게 된다.\n",
        "  * 시그모이드의 출려깅 0.5보다 크면 1로 분류될 확률이 커지게 된다.\n",
        "    * ex) $\\sigma(z) = 0.4$라면? 1로 분류될 확률이 40%, 0으로 분류될 확률이 60% 라는 것을 의미"
      ]
    },
    {
      "cell_type": "code",
      "metadata": {
        "id": "0NawHo48J3ql"
      },
      "source": [
        "import numpy as np\n",
        "import matplotlib.pyplot as plt"
      ],
      "execution_count": null,
      "outputs": []
    },
    {
      "cell_type": "code",
      "metadata": {
        "id": "ByPtHoxFicmY"
      },
      "source": [
        "# 계단 함수 구현하기\n",
        "def step_function(x):\n",
        "  # 입력 x가 0보다 크면 1, 작으면 0으로 출력\n",
        "  return np.array(x > 0, dtype=np.int) # 부등호 결과인 True가 int로 바뀌면 1, False가 int로 바뀌면 0\n",
        "\n",
        "# 시그모이드 함수 구현하기\n",
        "# 자연상수 e의 지수함수는 np.exp에 구현 되어있다.\n",
        "def sigmoid(x):\n",
        "  return 1 / ( 1 + np.exp(-x) )"
      ],
      "execution_count": null,
      "outputs": []
    },
    {
      "cell_type": "markdown",
      "metadata": {
        "id": "uZFkj-wNjJ2u"
      },
      "source": [
        "시그모이드와 계단함수 시각화 하기"
      ]
    },
    {
      "cell_type": "code",
      "metadata": {
        "colab": {
          "base_uri": "https://localhost:8080/",
          "height": 281
        },
        "id": "goBgV2hxi-qo",
        "outputId": "d390db11-00a4-4214-e668-d2031cc3ded0"
      },
      "source": [
        "fig, axes = plt.subplots(1, 2, figsize=(10, 4))\n",
        "\n",
        "x = np.arange(-5.0, 5.0, 0.1)\n",
        "\n",
        "axes[0].plot(x, step_function(x))\n",
        "axes[0].set_title(\"Step Function\")\n",
        "\n",
        "axes[1].plot(x, sigmoid(x))\n",
        "axes[1].set_title(\"Sigmoid Function\")\n",
        "\n",
        "plt.show()"
      ],
      "execution_count": null,
      "outputs": [
        {
          "output_type": "display_data",
          "data": {
            "image/png": "[encoded data removed]",
            "text/plain": [
              "<Figure size 720x288 with 2 Axes>"
            ]
          },
          "metadata": {
            "tags": [],
            "needs_background": "light"
          }
        }
      ]
    },
    {
      "cell_type": "markdown",
      "metadata": {
        "id": "nHroABz3jbBH"
      },
      "source": [
        "# 활성화 함수 #2 ReLU(Rectified Linear Unit)\n",
        "* 이미지 처리에 주로 사용되는 함수\n",
        "  * 다양한 분야에서 사용이 가능한 함수로 자리매김\n",
        "* CNN과 찰떡궁합인 함수\n",
        "* 입력값이 0을 넘으면 그대로 출력, 0 이하면 0을 출력하는 함수\n",
        "* $a(x) = \\begin{cases} \n",
        "0\\enspace(x \\leq 0)\n",
        "\\\\ x\\enspace(x > 0) \\end{cases}$\n",
        "\n"
      ]
    },
    {
      "cell_type": "code",
      "metadata": {
        "id": "zpQd0DyuJ-kd"
      },
      "source": [
        "# relu 구현하기\n",
        "# 음수 데이터면 0, 양수 데이터면 해당 데이터를 그대로 출력\n",
        "def relu(x):\n",
        "    return np.maximum(0,x) # maximum 함수 : 0과 x중에 더 큰 값을 출력"
      ],
      "execution_count": null,
      "outputs": []
    },
    {
      "cell_type": "markdown",
      "metadata": {
        "id": "SMJ2yWDEkwAD"
      },
      "source": [
        "음수 형태의 데이터는 사용하지 않는다"
      ]
    },
    {
      "cell_type": "code",
      "metadata": {
        "colab": {
          "base_uri": "https://localhost:8080/",
          "height": 281
        },
        "id": "fBUe9qF_kxf6",
        "outputId": "ca36cb22-72a9-4c0d-f3fb-6858ddaacf5f"
      },
      "source": [
        "plt.figure(figsize = (4,4))\n",
        "x = np.arange(-5.0, 5.0, 0.1)\n",
        "plt.title(\"ReLU Function\")\n",
        "plt.plot(x,relu(x))\n",
        "plt.show()"
      ],
      "execution_count": null,
      "outputs": [
        {
          "output_type": "display_data",
          "data": {
            "image/png": "[encoded data removed]",
            "text/plain": [
              "<Figure size 288x288 with 1 Axes>"
            ]
          },
          "metadata": {
            "tags": [],
            "needs_background": "light"
          }
        }
      ]
    },
    {
      "cell_type": "markdown",
      "metadata": {
        "id": "104hKpoElG74"
      },
      "source": [
        "## ReLU를 사용하는 이유\n",
        "* 최근에는 시그모이드 보다는 비선형 직선을 여러 개 연결하는 ReLU를 더 많이 사용하는 추세이다.\n",
        "  * $\\sigma$ 함수는 곡선함수라서 직선 형식의 함수에 비해 CPU, GPU등의 연산 비용이 많이 들어간다.\n",
        "  * 필요에 따라서 ReLU를 여러개 붙여서 사용하는 것이 도움이 될 때가 많다.\n",
        "  * $\\sigma$함수는 층이 깊어질수록 기울기 소실 문제(**Gradient Vanishing**)가 생기게 된다.\n",
        "* 이미지 처리에서 ReLU를 사용하는 이유\n",
        "  * 이미지는 항상 0 ~ 255 사이의 수로 이루어져 있다.\n",
        "  * 이미지도 데이터의 일종이기 때문에 $WX+b$를 지나게 되면 음수값이 등장할 수도 있음!\n",
        "  * 음수 값은 이미지 입장에서는 필요가 없는 데이터 이기 때문에 음수로 연산된 데이터를 0으로 만들어서 연산의 부담을 줄여줄 수 있다.\n"
      ]
    },
    {
      "cell_type": "markdown",
      "metadata": {
        "id": "tH97vp6HlMRi"
      },
      "source": [
        "# 활성화 함수 #3 하이퍼볼릭 탄젠트(tanh)\n",
        "* 텍스트 처리에 주로 사용되는 함수\n",
        "* 시그모이드와 비슷한 모양이지만 -1~1 사이의 값으로, 시그모이드의 출력 범위보다 두배가 넓다.\n",
        "  * 시그모이드는 확률을 의미함 (0~1)\n",
        "  * 하이퍼볼릭 탄젠트는 방향을 의미함(-1~1)"
      ]
    },
    {
      "cell_type": "code",
      "metadata": {
        "colab": {
          "base_uri": "https://localhost:8080/",
          "height": 281
        },
        "id": "ZIqlUqPinpqW",
        "outputId": "5c2a40e0-9191-4341-9f36-4f81c32f41bf"
      },
      "source": [
        "x = np.arange(-5.0, 5.0, 0.1)\n",
        "\n",
        "plt.figure(figsize = (5,4))\n",
        "plt.title('tanh Function')\n",
        "plt.plot(x, np.tanh(x))\n",
        "plt.show()"
      ],
      "execution_count": null,
      "outputs": [
        {
          "output_type": "display_data",
          "data": {
            "image/png": "[encoded data removed]",
            "text/plain": [
              "<Figure size 360x288 with 1 Axes>"
            ]
          },
          "metadata": {
            "tags": [],
            "needs_background": "light"
          }
        }
      ]
    },
    {
      "cell_type": "code",
      "metadata": {
        "id": "YVTAqkiYpUW3"
      },
      "source": [
        ""
      ],
      "execution_count": null,
      "outputs": []
    }
  ]
}
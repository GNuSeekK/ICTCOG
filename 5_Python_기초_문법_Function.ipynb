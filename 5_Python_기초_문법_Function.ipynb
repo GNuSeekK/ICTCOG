{
  "nbformat": 4,
  "nbformat_minor": 0,
  "metadata": {
    "colab": {
      "name": "5. Python 기초 문법 - Function.ipynb",
      "provenance": [],
      "authorship_tag": "ABX9TyOLgp8Ado4Mi9LOPqKeyDXb",
      "include_colab_link": true
    },
    "kernelspec": {
      "name": "python3",
      "display_name": "Python 3"
    },
    "language_info": {
      "name": "python"
    }
  },
  "cells": [
    {
      "cell_type": "markdown",
      "metadata": {
        "id": "view-in-github",
        "colab_type": "text"
      },
      "source": [
        "<a href=\"https://colab.research.google.com/github/GNuSeekK/ICTCOG/blob/main/5_Python_%EA%B8%B0%EC%B4%88_%EB%AC%B8%EB%B2%95_Function.ipynb\" target=\"_parent\"><img src=\"https://colab.research.google.com/assets/colab-badge.svg\" alt=\"Open In Colab\"/></a>"
      ]
    },
    {
      "cell_type": "markdown",
      "metadata": {
        "id": "Xl5L1JgXhmYq"
      },
      "source": [
        "# 함수 (function) - 기능\n",
        "* 입력값(**input**)이 들어와서 출력값(**output**)이 정해진 기능(규칙)에 따라 나오는 것\n",
        "    * 입력이 있을 수도 있고 / 없을 수도 있고\n",
        "    * 출력이 있을 수도 있고 / 없을 수도 있고\n",
        "* 하나의 함수는 **하나의 기능**을 한다.\n",
        "* 함수는 특정 기능을 구현한 **코드의 묶음**\n",
        "    * 문맥(context)라고도 볼 수 있다.\n",
        "    * 특정 코드를(문맥)을 재사용하기 위해 정의하고 구현해 놓은 것\n",
        "* 함수를 쓰는 제일 큰 이유 중 하나는 **재사용성** 때문 이다.\n",
        "* 결론적으로 똑같은 코드의 구조가 반복 되는 것을 방지 하기 위해 사용된다."
      ]
    },
    {
      "cell_type": "markdown",
      "metadata": {
        "id": "lXmfW0kNhsPS"
      },
      "source": [
        "## 함수의 구조\n",
        "\n",
        "> parameter : 입력값(들) <br/>\n",
        "return : 함수의 출력값(들)\n",
        "\n",
        "```python\n",
        "def function_name(parameters):\n",
        "    <statement1>\n",
        "    <statement2>\n",
        "\n",
        "    return <value>\n",
        "```\n"
      ]
    },
    {
      "cell_type": "markdown",
      "metadata": {
        "id": "nyCUJ2V1k3Hi"
      },
      "source": [
        "## 파이썬 함수 정의하기"
      ]
    },
    {
      "cell_type": "code",
      "metadata": {
        "id": "F-RfApL7k5W5"
      },
      "source": [
        "# 함수의 정의 및 구현\n",
        "def add(a,b):\n",
        "    # 입력받은 a,b를 더한 값을 돌려주는 함수\n",
        "    c = a+b\n",
        "    return c"
      ],
      "execution_count": 1,
      "outputs": []
    },
    {
      "cell_type": "code",
      "metadata": {
        "colab": {
          "base_uri": "https://localhost:8080/"
        },
        "id": "nklGMaBslgOJ",
        "outputId": "1afa83b4-4a00-4fdf-ea57-4be0d4623b0f"
      },
      "source": [
        "# 함수를 사용하는 것을 호출(call)이라고 한다.\n",
        "add(10,11)"
      ],
      "execution_count": 3,
      "outputs": [
        {
          "output_type": "execute_result",
          "data": {
            "text/plain": [
              "21"
            ]
          },
          "metadata": {
            "tags": []
          },
          "execution_count": 3
        }
      ]
    },
    {
      "cell_type": "code",
      "metadata": {
        "colab": {
          "base_uri": "https://localhost:8080/"
        },
        "id": "2RBIRmugljjW",
        "outputId": "83d7fb0c-f26b-4e8a-e6fa-1487d39a5b1e"
      },
      "source": [
        "result = add(10,11)\n",
        "result"
      ],
      "execution_count": 4,
      "outputs": [
        {
          "output_type": "execute_result",
          "data": {
            "text/plain": [
              "21"
            ]
          },
          "metadata": {
            "tags": []
          },
          "execution_count": 4
        }
      ]
    },
    {
      "cell_type": "markdown",
      "metadata": {
        "id": "3rIJ1y7al6lR"
      },
      "source": [
        "사칙연산 함수 만들기\n",
        "```python\n",
        "def sub(a,b) -> 뺄셈\n",
        "def mul(a,b) -> 곱셈\n",
        "def div(a,b) -> 나눗셈\n",
        "```"
      ]
    },
    {
      "cell_type": "code",
      "metadata": {
        "id": "LEqSrdKzmniC"
      },
      "source": [
        "def sub(a,b):\n",
        "    c = a-b\n",
        "    return c\n",
        "\n",
        "def mul(a,b):\n",
        "    c = a*b\n",
        "    return c\n",
        "\n",
        "def div(a,b):\n",
        "    if b == 0:\n",
        "        return '두 번째 숫자는 0이 올 수 없습니다.'\n",
        "    return a / b"
      ],
      "execution_count": 6,
      "outputs": []
    },
    {
      "cell_type": "markdown",
      "metadata": {
        "id": "iq0h5J7Dpbwm"
      },
      "source": [
        "# 함수의 4가지 형태"
      ]
    },
    {
      "cell_type": "markdown",
      "metadata": {
        "id": "LBR0DzQWon14"
      },
      "source": [
        "## 1. 가장 많이 사용되는 경우 - parameter, return이 모두 존재"
      ]
    },
    {
      "cell_type": "code",
      "metadata": {
        "id": "gE-7RjiLosta"
      },
      "source": [
        "def add(a,b):\n",
        "    return a+b\n",
        "\n",
        "# 딥러닝에서는..?\n",
        "def get_loss(model, metrics):\n",
        "    #################\n",
        "    return model_predict(result, metric = [metrics])\n"
      ],
      "execution_count": 7,
      "outputs": []
    },
    {
      "cell_type": "markdown",
      "metadata": {
        "id": "TsFz1ms0o6bD"
      },
      "source": [
        "## 2. 함수 parameter는 없고 return만 존재하는 경우"
      ]
    },
    {
      "cell_type": "code",
      "metadata": {
        "id": "W7hxtHM7o95N"
      },
      "source": [
        "# parameter없어도 괄호 필요\n",
        "def get_data():\n",
        "    data = pd.read_csv('test.csv')\n",
        "    return data"
      ],
      "execution_count": 8,
      "outputs": []
    },
    {
      "cell_type": "markdown",
      "metadata": {
        "id": "ampjZD58pXhd"
      },
      "source": [
        "## 3. parameter는 있는 데 return이 없는 경우"
      ]
    },
    {
      "cell_type": "code",
      "metadata": {
        "id": "9BN_M7Pipd82"
      },
      "source": [
        "def print_name(name):\n",
        "    print(name)"
      ],
      "execution_count": 9,
      "outputs": []
    },
    {
      "cell_type": "markdown",
      "metadata": {
        "id": "j0jRqn1Tph2F"
      },
      "source": [
        "## 4. parameter도 없고, return도 없는 경우"
      ]
    },
    {
      "cell_type": "code",
      "metadata": {
        "colab": {
          "base_uri": "https://localhost:8080/"
        },
        "id": "ELbQg5Hfplhw",
        "outputId": "2097932b-0ece-4381-a2b7-70b38de34937"
      },
      "source": [
        "def say_hi():\n",
        "    print('hihi')\n",
        "\n",
        "say_hi()"
      ],
      "execution_count": 11,
      "outputs": [
        {
          "output_type": "stream",
          "text": [
            "hihi\n"
          ],
          "name": "stdout"
        }
      ]
    },
    {
      "cell_type": "markdown",
      "metadata": {
        "id": "Kd-OZOw6p7CL"
      },
      "source": [
        "# 함수의 파라미터의 개수를 모를 땐 어떻게 해야 할까?\n",
        "몇개의 파라미터가 들어올지 모르는 경우는 어떻게 함수를 정의할까?\n",
        "* asterisk(`*`)를 활용해서 여러 개의 파라미터를 동시에 받을 수 있게 된다.\n",
        "* 함수 하나 당 한번만 사용이 가능\n",
        "* asterisk를 활용한 파라미터는 항상 제일 오른쪽에 위치"
      ]
    },
    {
      "cell_type": "code",
      "metadata": {
        "id": "R6t52AKlvzvK"
      },
      "source": [
        "def add_many(*args):\n",
        "    #print(args, len(args))\n",
        "    total = 0\n",
        "    for num in args:\n",
        "        # total = total + num\n",
        "        total += num\n",
        "    return total"
      ],
      "execution_count": 14,
      "outputs": []
    },
    {
      "cell_type": "code",
      "metadata": {
        "colab": {
          "base_uri": "https://localhost:8080/"
        },
        "id": "eTGYPW2Fv5Pi",
        "outputId": "0740fff7-2212-407b-8339-740970e2c9be"
      },
      "source": [
        "add_many(1,2,3)"
      ],
      "execution_count": 15,
      "outputs": [
        {
          "output_type": "execute_result",
          "data": {
            "text/plain": [
              "6"
            ]
          },
          "metadata": {
            "tags": []
          },
          "execution_count": 15
        }
      ]
    },
    {
      "cell_type": "code",
      "metadata": {
        "colab": {
          "base_uri": "https://localhost:8080/",
          "height": 136
        },
        "id": "iubGVelfv6P0",
        "outputId": "458a1ddf-15d9-4781-d895-59bcf72948f1"
      },
      "source": [
        "def add_many2(*args1, *arg2):\n",
        "    return args1+ args2"
      ],
      "execution_count": 16,
      "outputs": [
        {
          "output_type": "error",
          "ename": "SyntaxError",
          "evalue": "ignored",
          "traceback": [
            "\u001b[0;36m  File \u001b[0;32m\"<ipython-input-16-ce2668c0946e>\"\u001b[0;36m, line \u001b[0;32m1\u001b[0m\n\u001b[0;31m    def add_many2(*args1, *arg2):\u001b[0m\n\u001b[0m                          ^\u001b[0m\n\u001b[0;31mSyntaxError\u001b[0m\u001b[0;31m:\u001b[0m invalid syntax\n"
          ]
        }
      ]
    },
    {
      "cell_type": "code",
      "metadata": {
        "colab": {
          "base_uri": "https://localhost:8080/"
        },
        "id": "N7Z3NdpYwqV9",
        "outputId": "c737100c-4970-4442-9405-038a0c801fec"
      },
      "source": [
        "def add_many3(a, b, *args):\n",
        "    print(a+b)\n",
        "    print(args)\n",
        "\n",
        "add_many3(1,2,3,4,5,6,7,8,9)"
      ],
      "execution_count": 19,
      "outputs": [
        {
          "output_type": "stream",
          "text": [
            "3\n",
            "(3, 4, 5, 6, 7, 8, 9)\n"
          ],
          "name": "stdout"
        }
      ]
    },
    {
      "cell_type": "markdown",
      "metadata": {
        "id": "i4fGMhGNxLbr"
      },
      "source": [
        "# default parameter 지정하기\n",
        "* 파라미터의 개수가 매우 많을 때 유용\n",
        "* 파라미터에 아무것도 넣지 않아도 기본적으로 값을 지정하고 싶을 때 사용\n",
        "* 오른쪽부터 넣어야 한다. (args보다는 앞에 오는게 좋다.)"
      ]
    },
    {
      "cell_type": "code",
      "metadata": {
        "colab": {
          "base_uri": "https://localhost:8080/"
        },
        "id": "38TUDam8yBqz",
        "outputId": "e24d3792-553b-47da-e949-68d90a1581c9"
      },
      "source": [
        "def default_add10(a, b = 10):\n",
        "    return a+b\n",
        "\n",
        "default_add10(5)"
      ],
      "execution_count": 20,
      "outputs": [
        {
          "output_type": "execute_result",
          "data": {
            "text/plain": [
              "15"
            ]
          },
          "metadata": {
            "tags": []
          },
          "execution_count": 20
        }
      ]
    },
    {
      "cell_type": "code",
      "metadata": {
        "colab": {
          "base_uri": "https://localhost:8080/"
        },
        "id": "RCDswoO8yGbD",
        "outputId": "7bc4f080-2728-4a0d-dd44-2a0ec6767837"
      },
      "source": [
        "def goo(a, b=1, *args):\n",
        "    print(a,b,args)\n",
        "\n",
        "def hoo(a, *args, b=1): #b를 쓰는 의미가 없다. b는 뭘 집어 넣어도 1이 됨.\n",
        "    print(a,b,args)\n",
        "\n",
        "goo(1,2,3,4,5,6,7,8)\n",
        "hoo(1,2,3,4,5,6,7,8)\n",
        "hoo(1,2,3,4,5,6,7,8,b = 10)"
      ],
      "execution_count": 21,
      "outputs": [
        {
          "output_type": "stream",
          "text": [
            "1 2 (3, 4, 5, 6, 7, 8)\n",
            "1 1 (2, 3, 4, 5, 6, 7, 8)\n",
            "1 10 (2, 3, 4, 5, 6, 7, 8)\n"
          ],
          "name": "stdout"
        }
      ]
    },
    {
      "cell_type": "markdown",
      "metadata": {
        "id": "6QZloqvFzHTo"
      },
      "source": [
        "# 파라미터의 효력범위(range)와 수명(lifetime)"
      ]
    },
    {
      "cell_type": "code",
      "metadata": {
        "colab": {
          "base_uri": "https://localhost:8080/"
        },
        "id": "BVtNp1lz0AKI",
        "outputId": "c2315ee7-1e72-4d88-db0e-e40dc079b80c"
      },
      "source": [
        "def foo(name):\n",
        "    name = 'lee'\n",
        "    a = 10\n",
        "    print(f'in function : {name} / {a} / {b}')\n",
        "\n",
        "b = 5\n",
        "name = 'minho'\n",
        "foo(name)\n",
        "print(name, b)"
      ],
      "execution_count": 24,
      "outputs": [
        {
          "output_type": "stream",
          "text": [
            "in function : lee / 10 / 5\n",
            "minho 5\n"
          ],
          "name": "stdout"
        }
      ]
    },
    {
      "cell_type": "markdown",
      "metadata": {
        "id": "CwH8oGjz0JVO"
      },
      "source": [
        "# lambda 함수\n",
        "lambda expression\n",
        "* 굉장히 간단한 함수가 있는 경우, 한 줄짜리 함수로 간편하게 사용할 수 있다.\n",
        "* inline function 이라고도 하며, def 명령어 없이 간단하게 함수를 정의해서 사용이 가능하다.\n",
        "```python\n",
        "lambda parameters : expression\n",
        "```"
      ]
    },
    {
      "cell_type": "code",
      "metadata": {
        "colab": {
          "base_uri": "https://localhost:8080/"
        },
        "id": "RfCVHb7d2nUd",
        "outputId": "7f121190-cc1f-4767-dd58-f721d84abe36"
      },
      "source": [
        "# 보통 람다함수는 한 줄짜리 함수를 람다 함수로 만든다.\n",
        "def add(a,b):\n",
        "    return a + b\n",
        "\n",
        "def get_length(s):\n",
        "    return len(s)\n",
        "\n",
        "lambda_add = lambda a, b : a + b\n",
        "print(add(10,20))\n",
        "print(lambda_add(10,20))\n",
        "\n",
        "lambda_get_length = lambda s : len(s)\n",
        "lambda_get_length('3333')"
      ],
      "execution_count": 27,
      "outputs": [
        {
          "output_type": "stream",
          "text": [
            "30\n",
            "30\n"
          ],
          "name": "stdout"
        },
        {
          "output_type": "execute_result",
          "data": {
            "text/plain": [
              "4"
            ]
          },
          "metadata": {
            "tags": []
          },
          "execution_count": 27
        }
      ]
    },
    {
      "cell_type": "code",
      "metadata": {
        "colab": {
          "base_uri": "https://localhost:8080/"
        },
        "id": "h38eghYz3Kd4",
        "outputId": "65dd94e2-5672-48cd-db2d-2fc8ab7afd4b"
      },
      "source": [
        "# def를 사용해서 만든 함수는 여기저기서 다 쓰이는 함수를 만들 때 쓰는 것.\n",
        "def get_length(s):\n",
        "    return len(s)\n",
        "\n",
        "strings = ['hi', 'hello', 'bye', 'greeting']\n",
        "# strings.sort() # 기본적인 정렬은 알파벳 순으로 정렬이 된다.\n",
        "# 정렬의 기준을 문자열의 길이로 하려면?\n",
        "strings.sort(key = lambda s : len(s))\n",
        "strings"
      ],
      "execution_count": 32,
      "outputs": [
        {
          "output_type": "execute_result",
          "data": {
            "text/plain": [
              "['hi', 'bye', 'hello', 'greeting']"
            ]
          },
          "metadata": {
            "tags": []
          },
          "execution_count": 32
        }
      ]
    }
  ]
}
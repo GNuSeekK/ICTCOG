{
  "nbformat": 4,
  "nbformat_minor": 0,
  "metadata": {
    "colab": {
      "name": "4 - 08 [딥러닝] 수치미분과 경사하강법.ipynb",
      "provenance": [],
      "collapsed_sections": [],
      "authorship_tag": "ABX9TyPyW1w7JwhBgb6E0x/xdE18",
      "include_colab_link": true
    },
    "kernelspec": {
      "name": "python3",
      "display_name": "Python 3"
    },
    "language_info": {
      "name": "python"
    },
    "accelerator": "TPU",
    "widgets": {
      "application/vnd.jupyter.widget-state+json": {
        "a05f8bfb4d96466cb4145a98979695a3": {
          "model_module": "@jupyter-widgets/controls",
          "model_name": "HBoxModel",
          "state": {
            "_view_name": "HBoxView",
            "_dom_classes": [],
            "_model_name": "HBoxModel",
            "_view_module": "@jupyter-widgets/controls",
            "_model_module_version": "1.5.0",
            "_view_count": null,
            "_view_module_version": "1.5.0",
            "box_style": "",
            "layout": "IPY_MODEL_6e80bb6970a54e64971872ac00317067",
            "_model_module": "@jupyter-widgets/controls",
            "children": [
              "IPY_MODEL_2be5551c0a7841e4b4eb28841fc13298",
              "IPY_MODEL_21d06827b83b48e5a068317a02e0214e"
            ]
          }
        },
        "6e80bb6970a54e64971872ac00317067": {
          "model_module": "@jupyter-widgets/base",
          "model_name": "LayoutModel",
          "state": {
            "_view_name": "LayoutView",
            "grid_template_rows": null,
            "right": null,
            "justify_content": null,
            "_view_module": "@jupyter-widgets/base",
            "overflow": null,
            "_model_module_version": "1.2.0",
            "_view_count": null,
            "flex_flow": null,
            "width": null,
            "min_width": null,
            "border": null,
            "align_items": null,
            "bottom": null,
            "_model_module": "@jupyter-widgets/base",
            "top": null,
            "grid_column": null,
            "overflow_y": null,
            "overflow_x": null,
            "grid_auto_flow": null,
            "grid_area": null,
            "grid_template_columns": null,
            "flex": null,
            "_model_name": "LayoutModel",
            "justify_items": null,
            "grid_row": null,
            "max_height": null,
            "align_content": null,
            "visibility": null,
            "align_self": null,
            "height": null,
            "min_height": null,
            "padding": null,
            "grid_auto_rows": null,
            "grid_gap": null,
            "max_width": null,
            "order": null,
            "_view_module_version": "1.2.0",
            "grid_template_areas": null,
            "object_position": null,
            "object_fit": null,
            "grid_auto_columns": null,
            "margin": null,
            "display": null,
            "left": null
          }
        },
        "2be5551c0a7841e4b4eb28841fc13298": {
          "model_module": "@jupyter-widgets/controls",
          "model_name": "FloatProgressModel",
          "state": {
            "_view_name": "ProgressView",
            "style": "IPY_MODEL_3c88549f2b3e434491fe70c89733eaa6",
            "_dom_classes": [],
            "description": "  0%",
            "_model_name": "FloatProgressModel",
            "bar_style": "danger",
            "max": 10000,
            "_view_module": "@jupyter-widgets/controls",
            "_model_module_version": "1.5.0",
            "value": 0,
            "_view_count": null,
            "_view_module_version": "1.5.0",
            "orientation": "horizontal",
            "min": 0,
            "description_tooltip": null,
            "_model_module": "@jupyter-widgets/controls",
            "layout": "IPY_MODEL_7be37807dedb4241b9b315433f803fe3"
          }
        },
        "21d06827b83b48e5a068317a02e0214e": {
          "model_module": "@jupyter-widgets/controls",
          "model_name": "HTMLModel",
          "state": {
            "_view_name": "HTMLView",
            "style": "IPY_MODEL_ee627a4e6a914ab7bf2e9a1b31d0a0b1",
            "_dom_classes": [],
            "description": "",
            "_model_name": "HTMLModel",
            "placeholder": "​",
            "_view_module": "@jupyter-widgets/controls",
            "_model_module_version": "1.5.0",
            "value": " 0/10000 [00:20&lt;?, ?it/s]",
            "_view_count": null,
            "_view_module_version": "1.5.0",
            "description_tooltip": null,
            "_model_module": "@jupyter-widgets/controls",
            "layout": "IPY_MODEL_f68dee2422074dff9055623f3216a765"
          }
        },
        "3c88549f2b3e434491fe70c89733eaa6": {
          "model_module": "@jupyter-widgets/controls",
          "model_name": "ProgressStyleModel",
          "state": {
            "_view_name": "StyleView",
            "_model_name": "ProgressStyleModel",
            "description_width": "initial",
            "_view_module": "@jupyter-widgets/base",
            "_model_module_version": "1.5.0",
            "_view_count": null,
            "_view_module_version": "1.2.0",
            "bar_color": null,
            "_model_module": "@jupyter-widgets/controls"
          }
        },
        "7be37807dedb4241b9b315433f803fe3": {
          "model_module": "@jupyter-widgets/base",
          "model_name": "LayoutModel",
          "state": {
            "_view_name": "LayoutView",
            "grid_template_rows": null,
            "right": null,
            "justify_content": null,
            "_view_module": "@jupyter-widgets/base",
            "overflow": null,
            "_model_module_version": "1.2.0",
            "_view_count": null,
            "flex_flow": null,
            "width": null,
            "min_width": null,
            "border": null,
            "align_items": null,
            "bottom": null,
            "_model_module": "@jupyter-widgets/base",
            "top": null,
            "grid_column": null,
            "overflow_y": null,
            "overflow_x": null,
            "grid_auto_flow": null,
            "grid_area": null,
            "grid_template_columns": null,
            "flex": null,
            "_model_name": "LayoutModel",
            "justify_items": null,
            "grid_row": null,
            "max_height": null,
            "align_content": null,
            "visibility": null,
            "align_self": null,
            "height": null,
            "min_height": null,
            "padding": null,
            "grid_auto_rows": null,
            "grid_gap": null,
            "max_width": null,
            "order": null,
            "_view_module_version": "1.2.0",
            "grid_template_areas": null,
            "object_position": null,
            "object_fit": null,
            "grid_auto_columns": null,
            "margin": null,
            "display": null,
            "left": null
          }
        },
        "ee627a4e6a914ab7bf2e9a1b31d0a0b1": {
          "model_module": "@jupyter-widgets/controls",
          "model_name": "DescriptionStyleModel",
          "state": {
            "_view_name": "StyleView",
            "_model_name": "DescriptionStyleModel",
            "description_width": "",
            "_view_module": "@jupyter-widgets/base",
            "_model_module_version": "1.5.0",
            "_view_count": null,
            "_view_module_version": "1.2.0",
            "_model_module": "@jupyter-widgets/controls"
          }
        },
        "f68dee2422074dff9055623f3216a765": {
          "model_module": "@jupyter-widgets/base",
          "model_name": "LayoutModel",
          "state": {
            "_view_name": "LayoutView",
            "grid_template_rows": null,
            "right": null,
            "justify_content": null,
            "_view_module": "@jupyter-widgets/base",
            "overflow": null,
            "_model_module_version": "1.2.0",
            "_view_count": null,
            "flex_flow": null,
            "width": null,
            "min_width": null,
            "border": null,
            "align_items": null,
            "bottom": null,
            "_model_module": "@jupyter-widgets/base",
            "top": null,
            "grid_column": null,
            "overflow_y": null,
            "overflow_x": null,
            "grid_auto_flow": null,
            "grid_area": null,
            "grid_template_columns": null,
            "flex": null,
            "_model_name": "LayoutModel",
            "justify_items": null,
            "grid_row": null,
            "max_height": null,
            "align_content": null,
            "visibility": null,
            "align_self": null,
            "height": null,
            "min_height": null,
            "padding": null,
            "grid_auto_rows": null,
            "grid_gap": null,
            "max_width": null,
            "order": null,
            "_view_module_version": "1.2.0",
            "grid_template_areas": null,
            "object_position": null,
            "object_fit": null,
            "grid_auto_columns": null,
            "margin": null,
            "display": null,
            "left": null
          }
        },
        "0062ca03dc5849d190bf2ec54241c145": {
          "model_module": "@jupyter-widgets/controls",
          "model_name": "HBoxModel",
          "state": {
            "_view_name": "HBoxView",
            "_dom_classes": [],
            "_model_name": "HBoxModel",
            "_view_module": "@jupyter-widgets/controls",
            "_model_module_version": "1.5.0",
            "_view_count": null,
            "_view_module_version": "1.5.0",
            "box_style": "",
            "layout": "IPY_MODEL_5416bac0115e4c2180d6619771f498d5",
            "_model_module": "@jupyter-widgets/controls",
            "children": [
              "IPY_MODEL_fa96228c75a148288be38a8a80a29f44",
              "IPY_MODEL_1c5197d230ed408da0a0e627a0bb777a"
            ]
          }
        },
        "5416bac0115e4c2180d6619771f498d5": {
          "model_module": "@jupyter-widgets/base",
          "model_name": "LayoutModel",
          "state": {
            "_view_name": "LayoutView",
            "grid_template_rows": null,
            "right": null,
            "justify_content": null,
            "_view_module": "@jupyter-widgets/base",
            "overflow": null,
            "_model_module_version": "1.2.0",
            "_view_count": null,
            "flex_flow": null,
            "width": null,
            "min_width": null,
            "border": null,
            "align_items": null,
            "bottom": null,
            "_model_module": "@jupyter-widgets/base",
            "top": null,
            "grid_column": null,
            "overflow_y": null,
            "overflow_x": null,
            "grid_auto_flow": null,
            "grid_area": null,
            "grid_template_columns": null,
            "flex": null,
            "_model_name": "LayoutModel",
            "justify_items": null,
            "grid_row": null,
            "max_height": null,
            "align_content": null,
            "visibility": null,
            "align_self": null,
            "height": null,
            "min_height": null,
            "padding": null,
            "grid_auto_rows": null,
            "grid_gap": null,
            "max_width": null,
            "order": null,
            "_view_module_version": "1.2.0",
            "grid_template_areas": null,
            "object_position": null,
            "object_fit": null,
            "grid_auto_columns": null,
            "margin": null,
            "display": null,
            "left": null
          }
        },
        "fa96228c75a148288be38a8a80a29f44": {
          "model_module": "@jupyter-widgets/controls",
          "model_name": "FloatProgressModel",
          "state": {
            "_view_name": "ProgressView",
            "style": "IPY_MODEL_b2ee8647f9c644f686314322efa3a065",
            "_dom_classes": [],
            "description": "100%",
            "_model_name": "FloatProgressModel",
            "bar_style": "success",
            "max": 2,
            "_view_module": "@jupyter-widgets/controls",
            "_model_module_version": "1.5.0",
            "value": 2,
            "_view_count": null,
            "_view_module_version": "1.5.0",
            "orientation": "horizontal",
            "min": 0,
            "description_tooltip": null,
            "_model_module": "@jupyter-widgets/controls",
            "layout": "IPY_MODEL_b0c327d51e7e4693bfef529de734aa12"
          }
        },
        "1c5197d230ed408da0a0e627a0bb777a": {
          "model_module": "@jupyter-widgets/controls",
          "model_name": "HTMLModel",
          "state": {
            "_view_name": "HTMLView",
            "style": "IPY_MODEL_118a3d9dd3fc4aacb62f6fc86ec81282",
            "_dom_classes": [],
            "description": "",
            "_model_name": "HTMLModel",
            "placeholder": "​",
            "_view_module": "@jupyter-widgets/controls",
            "_model_module_version": "1.5.0",
            "value": " 2/2 [00:12&lt;00:00,  6.45s/it]",
            "_view_count": null,
            "_view_module_version": "1.5.0",
            "description_tooltip": null,
            "_model_module": "@jupyter-widgets/controls",
            "layout": "IPY_MODEL_5df3e33e29224368b2626f25559b91b3"
          }
        },
        "b2ee8647f9c644f686314322efa3a065": {
          "model_module": "@jupyter-widgets/controls",
          "model_name": "ProgressStyleModel",
          "state": {
            "_view_name": "StyleView",
            "_model_name": "ProgressStyleModel",
            "description_width": "initial",
            "_view_module": "@jupyter-widgets/base",
            "_model_module_version": "1.5.0",
            "_view_count": null,
            "_view_module_version": "1.2.0",
            "bar_color": null,
            "_model_module": "@jupyter-widgets/controls"
          }
        },
        "b0c327d51e7e4693bfef529de734aa12": {
          "model_module": "@jupyter-widgets/base",
          "model_name": "LayoutModel",
          "state": {
            "_view_name": "LayoutView",
            "grid_template_rows": null,
            "right": null,
            "justify_content": null,
            "_view_module": "@jupyter-widgets/base",
            "overflow": null,
            "_model_module_version": "1.2.0",
            "_view_count": null,
            "flex_flow": null,
            "width": null,
            "min_width": null,
            "border": null,
            "align_items": null,
            "bottom": null,
            "_model_module": "@jupyter-widgets/base",
            "top": null,
            "grid_column": null,
            "overflow_y": null,
            "overflow_x": null,
            "grid_auto_flow": null,
            "grid_area": null,
            "grid_template_columns": null,
            "flex": null,
            "_model_name": "LayoutModel",
            "justify_items": null,
            "grid_row": null,
            "max_height": null,
            "align_content": null,
            "visibility": null,
            "align_self": null,
            "height": null,
            "min_height": null,
            "padding": null,
            "grid_auto_rows": null,
            "grid_gap": null,
            "max_width": null,
            "order": null,
            "_view_module_version": "1.2.0",
            "grid_template_areas": null,
            "object_position": null,
            "object_fit": null,
            "grid_auto_columns": null,
            "margin": null,
            "display": null,
            "left": null
          }
        },
        "118a3d9dd3fc4aacb62f6fc86ec81282": {
          "model_module": "@jupyter-widgets/controls",
          "model_name": "DescriptionStyleModel",
          "state": {
            "_view_name": "StyleView",
            "_model_name": "DescriptionStyleModel",
            "description_width": "",
            "_view_module": "@jupyter-widgets/base",
            "_model_module_version": "1.5.0",
            "_view_count": null,
            "_view_module_version": "1.2.0",
            "_model_module": "@jupyter-widgets/controls"
          }
        },
        "5df3e33e29224368b2626f25559b91b3": {
          "model_module": "@jupyter-widgets/base",
          "model_name": "LayoutModel",
          "state": {
            "_view_name": "LayoutView",
            "grid_template_rows": null,
            "right": null,
            "justify_content": null,
            "_view_module": "@jupyter-widgets/base",
            "overflow": null,
            "_model_module_version": "1.2.0",
            "_view_count": null,
            "flex_flow": null,
            "width": null,
            "min_width": null,
            "border": null,
            "align_items": null,
            "bottom": null,
            "_model_module": "@jupyter-widgets/base",
            "top": null,
            "grid_column": null,
            "overflow_y": null,
            "overflow_x": null,
            "grid_auto_flow": null,
            "grid_area": null,
            "grid_template_columns": null,
            "flex": null,
            "_model_name": "LayoutModel",
            "justify_items": null,
            "grid_row": null,
            "max_height": null,
            "align_content": null,
            "visibility": null,
            "align_self": null,
            "height": null,
            "min_height": null,
            "padding": null,
            "grid_auto_rows": null,
            "grid_gap": null,
            "max_width": null,
            "order": null,
            "_view_module_version": "1.2.0",
            "grid_template_areas": null,
            "object_position": null,
            "object_fit": null,
            "grid_auto_columns": null,
            "margin": null,
            "display": null,
            "left": null
          }
        }
      }
    }
  },
  "cells": [
    {
      "cell_type": "markdown",
      "metadata": {
        "id": "view-in-github",
        "colab_type": "text"
      },
      "source": [
        "<a href=\"https://colab.research.google.com/github/GNuSeekK/ICTCOG/blob/main/4_08_%5B%EB%94%A5%EB%9F%AC%EB%8B%9D%5D_%EC%88%98%EC%B9%98%EB%AF%B8%EB%B6%84%EA%B3%BC_%EA%B2%BD%EC%82%AC%ED%95%98%EA%B0%95%EB%B2%95.ipynb\" target=\"_parent\"><img src=\"https://colab.research.google.com/assets/colab-badge.svg\" alt=\"Open In Colab\"/></a>"
      ]
    },
    {
      "cell_type": "markdown",
      "metadata": {
        "id": "qHkQP9IpzpLa"
      },
      "source": [
        "# 미분\n",
        "* 한 순간(한 순간이라는 개념을 구할 수가 없으니까 **매우 작은 변화에서**)의 변화량(**기울기**)를 구하는 것\n",
        "* 변화량($h$)이 0일 때를 순간이라고 할 텐데, 변화량이 0일 때는 기울기를 구할 수가 없기 때문에\n",
        "* 변화량 : $\\frac{y의변화량}{x의변화량}$\n",
        "------------\n",
        "$x$한 순간($x$에 대해 매우 작은 변화가 일어났을 때)의 변화량\n",
        "$$\n",
        "\\frac{df(x)}{dx} = \\lim_{h \\to 0}\\frac{f(x+h)-f(x)}{(x+h)-x} = \\lim_{h \\to 0} \\frac{f(x+h)-f(x)}{h}\n",
        "$$"
      ]
    },
    {
      "cell_type": "code",
      "metadata": {
        "id": "nARtJlXhz8GD"
      },
      "source": [
        "import numpy as np"
      ],
      "execution_count": null,
      "outputs": []
    },
    {
      "cell_type": "code",
      "metadata": {
        "id": "QVFzNVUS1gO2"
      },
      "source": [
        "# 미분의 나쁜 구현\n",
        "def numerical_diff(f, x):\n",
        "  '''\n",
        "    f : 미분 대상 함수\n",
        "    x : x인 순간의 기울기를 구하기 위함\n",
        "  '''\n",
        "\n",
        "  # 순간을 구하기 위해서 h를 0으로 설정하는 것이 아닌, 0에 아주 가까운 숫자로 설정\n",
        "  #  1. 수학적으로 분모는 0이 올 수 없다.\n",
        "  #  2. 의미적 으로도 변화량을 구하는 것이 때문에 0에 무한히 가깝게 하는 것이지, 0은 아님\n",
        "\n",
        "  h = 1e-50 # 소숫점 자리수가 50자리 -> 0.0000.......000001 \n",
        "  return (f(x+h) - f(x)) / h"
      ],
      "execution_count": null,
      "outputs": []
    },
    {
      "cell_type": "code",
      "metadata": {
        "colab": {
          "base_uri": "https://localhost:8080/"
        },
        "id": "24YCI3EV2MFn",
        "outputId": "223f2b3b-6226-45d4-b803-20eb1e1e60f8"
      },
      "source": [
        "numerical_diff(lambda x : 0.01*x**2+0.1*x, 5)"
      ],
      "execution_count": null,
      "outputs": [
        {
          "output_type": "execute_result",
          "data": {
            "text/plain": [
              "0.0"
            ]
          },
          "metadata": {
            "tags": []
          },
          "execution_count": 3
        }
      ]
    },
    {
      "cell_type": "markdown",
      "metadata": {
        "id": "2Sz_Yix12dRR"
      },
      "source": [
        "기울기를 구했는데 `0.0`이 나오는 이유는?\n",
        "\n",
        "너무나 작은 숫자로 나눗셈을 하게 되면, 컴퓨터 시스템상 부동소수점 오류가 발생한다.( 반올림 오차 )\n",
        "\n",
        "* 소수점 어느 특정 지점 부터는 계산이 불가\n",
        "* `0.000000000...0000000000001`를 0.0으로 인식"
      ]
    },
    {
      "cell_type": "code",
      "metadata": {
        "colab": {
          "base_uri": "https://localhost:8080/"
        },
        "id": "ayjYVrTJ2nXL",
        "outputId": "29f76021-6a29-4fb2-cb5b-a1d8c4a591f2"
      },
      "source": [
        "np.float32(1e-50)"
      ],
      "execution_count": null,
      "outputs": [
        {
          "output_type": "execute_result",
          "data": {
            "text/plain": [
              "0.0"
            ]
          },
          "metadata": {
            "tags": []
          },
          "execution_count": 4
        }
      ]
    },
    {
      "cell_type": "code",
      "metadata": {
        "colab": {
          "base_uri": "https://localhost:8080/"
        },
        "id": "oXuQJQ1_27r2",
        "outputId": "60acfb4f-9777-4a7e-c904-c62d053bba3b"
      },
      "source": [
        "1 / np.float32(1e-50)"
      ],
      "execution_count": null,
      "outputs": [
        {
          "output_type": "stream",
          "text": [
            "/usr/local/lib/python3.7/dist-packages/ipykernel_launcher.py:1: RuntimeWarning: divide by zero encountered in true_divide\n",
            "  \"\"\"Entry point for launching an IPython kernel.\n"
          ],
          "name": "stderr"
        },
        {
          "output_type": "execute_result",
          "data": {
            "text/plain": [
              "inf"
            ]
          },
          "metadata": {
            "tags": []
          },
          "execution_count": 5
        }
      ]
    },
    {
      "cell_type": "markdown",
      "metadata": {
        "id": "aYcBBDeL3DNS"
      },
      "source": [
        "# 전방차분과 중앙차분을 이용한 미분\n",
        "$$\n",
        "\\frac{df(x)}{dx} = \\lim_{h \\to 0}\\frac{f(x+h)-f(x-h)}{x+h-(x-h)} = \\lim_{h \\to 0}\\frac{f(x+h)-f(x-h)}{2h}\n",
        "$$"
      ]
    },
    {
      "cell_type": "code",
      "metadata": {
        "id": "q5oUyE5r-fbj"
      },
      "source": [
        "# 향상된 미분 함수\n",
        "def numerical_diff(f, x):\n",
        "  h = 1e-4 # 0.0001이 가장 적당하다고 알려져 있다.\n",
        "  return (f(x+h) - f(x-h)) / (2*h)"
      ],
      "execution_count": null,
      "outputs": []
    },
    {
      "cell_type": "markdown",
      "metadata": {
        "id": "d2PYGurP-wP4"
      },
      "source": [
        "실제 $x$를 집어 넣고 **미분을 계산하는 것을 수치미분**이라고 한다."
      ]
    },
    {
      "cell_type": "markdown",
      "metadata": {
        "id": "S-9Mn-6e-3Nh"
      },
      "source": [
        "# 수치미분의 예시\n",
        "$$\n",
        "f(x) = y = 0.01x^2+0.1x\n",
        "$$"
      ]
    },
    {
      "cell_type": "code",
      "metadata": {
        "id": "-XnznPIS_BWx"
      },
      "source": [
        "def function_1(x):\n",
        "  return 0.01*x**2 + 0.1*x"
      ],
      "execution_count": null,
      "outputs": []
    },
    {
      "cell_type": "code",
      "metadata": {
        "id": "oLrirPJa_Taj"
      },
      "source": [
        "import numpy as np\n",
        "import matplotlib.pyplot as plt\n",
        "\n",
        "plt.rcParams['figure.figsize'] = (10, 6)"
      ],
      "execution_count": null,
      "outputs": []
    },
    {
      "cell_type": "code",
      "metadata": {
        "colab": {
          "base_uri": "https://localhost:8080/",
          "height": 388
        },
        "id": "-wBXHoTn_ZXu",
        "outputId": "5b052119-9c0e-42a9-d2de-861ccd44403e"
      },
      "source": [
        "x = np.arange(0.0, 20.0, 0.1)\n",
        "y = function_1(x)\n",
        "\n",
        "plt.xlabel(f\"$x$\")\n",
        "plt.ylabel(f\"$f(x)$\")\n",
        "plt.plot(x, y)\n",
        "plt.show()"
      ],
      "execution_count": null,
      "outputs": [
        {
          "output_type": "display_data",
          "data": {
            "image/png": "[encoded data removed]",
            "text/plain": [
              "<Figure size 720x432 with 1 Axes>"
            ]
          },
          "metadata": {
            "tags": [],
            "needs_background": "light"
          }
        }
      ]
    },
    {
      "cell_type": "code",
      "metadata": {
        "colab": {
          "base_uri": "https://localhost:8080/"
        },
        "id": "0Pr2jVDq_fi0",
        "outputId": "c3b29c6f-3eeb-4b7e-c7d9-6ee25d97949b"
      },
      "source": [
        "print(\"x가 5일 때의 미분값 : {:.1f}\".format(numerical_diff(function_1, 5)))\n",
        "print(\"x가 10일 때의 미분값 : {:.1f}\".format(numerical_diff(function_1, 10)))"
      ],
      "execution_count": null,
      "outputs": [
        {
          "output_type": "stream",
          "text": [
            "x가 5일 때의 미분값 : 0.2\n",
            "x가 10일 때의 미분값 : 0.3\n"
          ],
          "name": "stdout"
        }
      ]
    },
    {
      "cell_type": "code",
      "metadata": {
        "colab": {
          "base_uri": "https://localhost:8080/",
          "height": 321
        },
        "id": "gj9d_iAFAMpl",
        "outputId": "1a9fabc0-f2dc-4f99-c613-f9b70fc0c4c5"
      },
      "source": [
        "# 미분값을 이용한 접선 시각화\n",
        "def tangent_line(f, x):\n",
        "    d = numerical_diff(f, x)\n",
        "    y = f(x) - d*x\n",
        "    return lambda t: d*t + y\n",
        "\n",
        "fig, axes = plt.subplots(1,2, figsize=(20,8))\n",
        "\n",
        "x = np.arange(0.0, 20.0, 0.1)\n",
        "y = function_1(x)\n",
        "axes[0].set_xlabel(\"x\")\n",
        "axes[0].set_ylabel(\"f(x)\")\n",
        "\n",
        "tf = tangent_line(function_1, 5)\n",
        "y2 = tf(x)\n",
        "\n",
        "axes[0].plot(x, y)\n",
        "axes[0].plot(x, y2)\n",
        "axes[0].set_title(\"x = 5\")\n",
        "\n",
        "axes[1].set_xlabel(\"x\")\n",
        "axes[1].set_ylabel(\"f(x)\")\n",
        "\n",
        "tf = tangent_line(function_1, 20)\n",
        "y2 = tf(x)\n",
        "\n",
        "axes[1].plot(x, y)\n",
        "axes[1].plot(x, y2)\n",
        "axes[1].set_title(\"x = 20\")\n",
        "plt.show()"
      ],
      "execution_count": null,
      "outputs": [
        {
          "output_type": "display_data",
          "data": {
            "image/png": "[encoded data removed]",
            "text/plain": [
              "<Figure size 1440x576 with 2 Axes>"
            ]
          },
          "metadata": {
            "tags": [],
            "needs_background": "light"
          }
        }
      ]
    },
    {
      "cell_type": "markdown",
      "metadata": {
        "id": "Q4hc990jCbsG"
      },
      "source": [
        "# 편미분\n",
        "* 위의 예시에서는 $x$(인수 - `parameter`)가 1개\n",
        "* 2개 이상의 인수에 대한 미분을 **편미분**이라고 한다.\n",
        "* 한 쪽만 미분 하는 것\n",
        "  * 여러 개의 인수 중 하나만 미분 하는 것\n",
        "\n",
        "$$\n",
        "  f(x_0, x_1) = x_0^2+x_1^2\n",
        "$$\n"
      ]
    },
    {
      "cell_type": "code",
      "metadata": {
        "id": "LkLPZeNhDTQE"
      },
      "source": [
        "# x를 배열로 생각하자\n",
        "def function_2(x):\n",
        "  return x[0]**2 + x[1]**2\n",
        "  # return np.sum(x**2)"
      ],
      "execution_count": null,
      "outputs": []
    },
    {
      "cell_type": "code",
      "metadata": {
        "colab": {
          "base_uri": "https://localhost:8080/",
          "height": 466
        },
        "id": "x4Cwzde-ECOk",
        "outputId": "02659e4c-87cf-4394-ed0d-4edb054ef7a2"
      },
      "source": [
        "from mpl_toolkits.mplot3d import Axes3D\n",
        "fig = plt.figure(figsize=(10,8))\n",
        "ax = fig.add_subplot(111, projection='3d')\n",
        "\n",
        "X0 = np.arange(-3, 3, 0.05)\n",
        "X1 = np.arange(-3, 3, 0.05)\n",
        "\n",
        "X0, X1 = np.meshgrid(X0, X1)\n",
        "Z = function_2([X0,X1])\n",
        "\n",
        "ax.plot_wireframe(X=X0, Y=X1, Z=Z,rstride=10, cstride=10)\n",
        "ax.set_xlabel('x0')\n",
        "ax.set_ylabel('x1')\n",
        "ax.set_zlabel('f(x)')\n",
        "plt.show()"
      ],
      "execution_count": null,
      "outputs": [
        {
          "output_type": "display_data",
          "data": {
            "image/png": "[encoded data removed]",
            "text/plain": [
              "<Figure size 720x576 with 1 Axes>"
            ]
          },
          "metadata": {
            "tags": [],
            "needs_background": "light"
          }
        }
      ]
    },
    {
      "cell_type": "markdown",
      "metadata": {
        "id": "W4ff4ytEEISy"
      },
      "source": [
        "\n",
        "$$\n",
        "  f(x_0, x_1) = x_0^2+x_1^2\n",
        "$$\n"
      ]
    },
    {
      "cell_type": "markdown",
      "metadata": {
        "id": "av14evkiLXB5"
      },
      "source": [
        "## 문제 1\n",
        "$x_0=3, x_1=4$ 일 때, $x_0$에 대한 편미분 $\\frac{\\partial f}{\\partial x_0}$을 구하시오. "
      ]
    },
    {
      "cell_type": "code",
      "metadata": {
        "colab": {
          "base_uri": "https://localhost:8080/"
        },
        "id": "zbQPIPC4LizU",
        "outputId": "dc6d6786-7b73-4988-e9be-2314b5c051d4"
      },
      "source": [
        "def function_tmp1(x0):\n",
        "  return x0**2 + 4.0**2\n",
        "\n",
        "print(\"{:.1f}\".format(numerical_diff(function_tmp1, 3.0)))"
      ],
      "execution_count": null,
      "outputs": [
        {
          "output_type": "stream",
          "text": [
            "6.0\n"
          ],
          "name": "stdout"
        }
      ]
    },
    {
      "cell_type": "markdown",
      "metadata": {
        "id": "q619zmkkNPG1"
      },
      "source": [
        "## 문제 2\n",
        "$x_0=3, x_1=4$ 일 때, $x_1$에 대한 편미분 $\\frac{\\partial f}{\\partial x_1}$을 구하시오. "
      ]
    },
    {
      "cell_type": "code",
      "metadata": {
        "colab": {
          "base_uri": "https://localhost:8080/"
        },
        "id": "9OO8SpT8NVrP",
        "outputId": "7a5a7288-d99e-4a1f-b901-7aa9735954eb"
      },
      "source": [
        "def function_tmp2(x1):\n",
        "  return 3.0**2 + x1**2\n",
        "\n",
        "print(\"{:.1f}\".format(numerical_diff(function_tmp2, 4.0)))"
      ],
      "execution_count": null,
      "outputs": [
        {
          "output_type": "stream",
          "text": [
            "8.0\n"
          ],
          "name": "stdout"
        }
      ]
    },
    {
      "cell_type": "markdown",
      "metadata": {
        "id": "qkYbQygeNqqO"
      },
      "source": [
        "# 기울기 배열(gradients)\n",
        "* $x_0$에 대한 미분값(기울기), $x_1$에 대한 미분값을 따로 구해서 확인\n",
        "  * $x_0 = 3, x_1=4$일 때의 미분을 각각 구함\n",
        "  * $\\frac{\\partial f}{\\partial x_0}$, $\\frac{\\partial f}{\\partial x_1}$ 각각 구해봄\n",
        "* 각 방향($x_0$ 방향, $x_1$ 방향) 기울기를 하나로 묶어서 **벡터화** 시킨다.\n",
        "  * 우리는 $\\left( \\frac{\\partial f}{\\partial x_0}, \\frac{\\partial f}{\\partial x_1} \\right )$를 구하면 방향과 크기를 알 수 있는 벡터로 표현이 가능하다.\n",
        "* 이를 기울기 벡터라 한다."
      ]
    },
    {
      "cell_type": "code",
      "metadata": {
        "id": "r11vsHnMN2vu"
      },
      "source": [
        "# 수치미분을 이용한 기울기 구하기\n",
        "#  기울기 배열을 구하는 과정\n",
        "def numerical_gradient(f, x):\n",
        "    '''\n",
        "    f : 기울기를 구할 대상 함수\n",
        "    x : 기울기를 구할 값(좌표)\n",
        "    '''\n",
        "    h = 1e-4\n",
        "\n",
        "    # 기울기 배열\n",
        "    #  grad의 shape은 항상 x와 똑같아야 한다.\n",
        "    grad = np.zeros_like(x) # x와 shape이 같은 0으로 채워진 배열 생성\n",
        "\n",
        "    for idx in range(x.size):\n",
        "        # 각 x에 대한 편미분을 수행\n",
        "        tmp_val = float(x[idx]) # 미분 대상 값 가져오기\n",
        "\n",
        "        # f(x+h)계산\n",
        "        x[idx] = tmp_val + h # tmp_val에 아주 약간 증가 시킨 x값을 넣는다\n",
        "                             # 예시) 1. tmp_val = x0\n",
        "                             #       2. x =[idx] = tmp_val+h\n",
        "                             #             x = [x0+h, x1]\n",
        "\n",
        "        fxh1 = f(x) # x0에 h가 더해진 채로 미분 값 구하기\n",
        "\n",
        "        # f(x-h) 계산\n",
        "        x[idx] = tmp_val - h\n",
        "        fxh2 = f(x)\n",
        "\n",
        "        grad[idx] = (fxh1 - fxh2) / (2 * h)\n",
        "        x[idx] = tmp_val # 해당 위치의 인덱스에 원래 값 집어 넣기\n",
        "\n",
        "    return grad\n"
      ],
      "execution_count": null,
      "outputs": []
    },
    {
      "cell_type": "markdown",
      "metadata": {
        "id": "6I-FhD33pC68"
      },
      "source": [
        "여러 좌표별로 $x_0^2 + x_1^2$의 기울기 구하기 "
      ]
    },
    {
      "cell_type": "code",
      "metadata": {
        "colab": {
          "base_uri": "https://localhost:8080/"
        },
        "id": "PZcpFJtrqApV",
        "outputId": "3f559b48-1874-47d6-f83d-b2b0d770246f"
      },
      "source": [
        "x = np.array([3.0, 4.0])\n",
        "print(f'x = [{x[0]}, {x[1]}]일 때의 기울기 배열 : {numerical_gradient(function_2,x)}')\n",
        "\n",
        "x = np.array([1.0, 2.0])\n",
        "print(f'x = [{x[0]}, {x[1]}]일 때의 기울기 배열 : {numerical_gradient(function_2,x)}')\n",
        "\n",
        "x = np.array([1.0, 1.0])\n",
        "print(f'x = [{x[0]}, {x[1]}]일 때의 기울기 배열 : {numerical_gradient(function_2,x)}')"
      ],
      "execution_count": null,
      "outputs": [
        {
          "output_type": "stream",
          "text": [
            "x = [3.0, 4.0]일 때의 기울기 배열 : [6. 8.]\n",
            "x = [1.0, 2.0]일 때의 기울기 배열 : [2. 4.]\n",
            "x = [1.0, 1.0]일 때의 기울기 배열 : [2. 2.]\n"
          ],
          "name": "stdout"
        }
      ]
    },
    {
      "cell_type": "markdown",
      "metadata": {
        "id": "iY-Ngch0qLSB"
      },
      "source": [
        "x의 좌표값이 작아질 수록 기울기 값도 낮아지는 것을 확인"
      ]
    },
    {
      "cell_type": "code",
      "metadata": {
        "colab": {
          "base_uri": "https://localhost:8080/",
          "height": 392
        },
        "id": "AV2YonsFrWPm",
        "outputId": "a28d02d2-1ade-427a-9376-86a6210046f5"
      },
      "source": [
        "# coding: utf-8\n",
        "# cf.http://d.hatena.ne.jp/white_wheels/20100327/p3\n",
        "import numpy as np\n",
        "import matplotlib.pylab as plt\n",
        "from mpl_toolkits.mplot3d import Axes3D\n",
        "\n",
        "\n",
        "def _numerical_gradient_no_batch(f, x):\n",
        "    h = 1e-4 # 0.0001\n",
        "    grad = np.zeros_like(x) # x와 형상이 같은 배열을 생성\n",
        "    \n",
        "    for idx in range(x.size):\n",
        "        tmp_val = x[idx]\n",
        "        \n",
        "        # f(x+h) 계산\n",
        "        x[idx] = float(tmp_val) + h\n",
        "        fxh1 = f(x)\n",
        "        \n",
        "        # f(x-h) 계산\n",
        "        x[idx] = tmp_val - h \n",
        "        fxh2 = f(x) \n",
        "        \n",
        "        grad[idx] = (fxh1 - fxh2) / (2*h)\n",
        "        x[idx] = tmp_val # 값 복원\n",
        "        \n",
        "    return grad\n",
        "\n",
        "\n",
        "def numerical_gradient(f, X):\n",
        "    if X.ndim == 1:\n",
        "        return _numerical_gradient_no_batch(f, X)\n",
        "    else:\n",
        "        grad = np.zeros_like(X)\n",
        "        \n",
        "        for idx, x in enumerate(X):\n",
        "            grad[idx] = _numerical_gradient_no_batch(f, x)\n",
        "        \n",
        "        return grad\n",
        "\n",
        "\n",
        "def function_2(x):\n",
        "    if x.ndim == 1:\n",
        "        return np.sum(x**2)\n",
        "    else:\n",
        "        return np.sum(x**2, axis=1)\n",
        "\n",
        "\n",
        "def tangent_line(f, x):\n",
        "    d = numerical_gradient(f, x)\n",
        "    print(d)\n",
        "    y = f(x) - d*x\n",
        "    return lambda t: d*t + y\n",
        "     \n",
        "if __name__ == '__main__':\n",
        "    x0 = np.arange(-2, 2.5, 0.25)\n",
        "    x1 = np.arange(-2, 2.5, 0.25)\n",
        "    X, Y = np.meshgrid(x0, x1)\n",
        "    \n",
        "    X = X.flatten()\n",
        "    Y = Y.flatten()\n",
        "    \n",
        "    grad = numerical_gradient(function_2, np.array([X, Y]) )\n",
        "    \n",
        "    plt.figure()\n",
        "    plt.quiver(X, Y, -grad[0], -grad[1],  angles=\"xy\",color=\"#666666\")\n",
        "    plt.xlim([-2, 2])\n",
        "    plt.ylim([-2, 2])\n",
        "    plt.xlabel('x0')\n",
        "    plt.ylabel('x1')\n",
        "    plt.grid()\n",
        "    plt.draw()\n",
        "    plt.show()"
      ],
      "execution_count": null,
      "outputs": [
        {
          "output_type": "display_data",
          "data": {
            "image/png": "[encoded data removed]",
            "text/plain": [
              "<Figure size 720x432 with 1 Axes>"
            ]
          },
          "metadata": {
            "tags": [],
            "needs_background": "light"
          }
        }
      ]
    },
    {
      "cell_type": "markdown",
      "metadata": {
        "id": "7aWDh2AwsIi_"
      },
      "source": [
        "* $\\left ( \\frac{\\partial f}{\\partial x_0}, \\frac{\\partial f}{\\partial x_1} \\right ) $을 묶어서 벡터로 표현\n",
        "  * 최소 지점(기울기가 0인 지점), 위 함수에서는 [0,0]으로 가기 위한 $x_0$의 방향과 크기, $x_1$의 방향과 크기"
      ]
    },
    {
      "cell_type": "markdown",
      "metadata": {
        "id": "gxtmsFrvtEx4"
      },
      "source": [
        "# ⭐⭐⭐⭐⭐경사하강법⭐⭐⭐⭐⭐\n",
        "* 기울기를 줄여나가면서 어떠한 함수 $f$의 최소지점을 알아내는 방식\n",
        "* 최초 임의의 지점에서 시작해서 일정 거리만큼 이동하면서 기울기를 수정(갱신)\n",
        "    * 함수의 값이 최소지점이 되는 방향으로 일정 거리만큼 움직인다."
      ]
    },
    {
      "cell_type": "markdown",
      "metadata": {
        "id": "C5SPkCnwtFVy"
      },
      "source": [
        "## 경사하강법의 원리\n",
        "1. 현 위치에서 기울어진 방향으로 일정 거리만큼 이동\n",
        "  * 갱신 되는 위치(좌표)가 일정한게 아니고, 미분 값을 보고 갱신해야 할 수치를 일정하게 **조정**\n",
        "  * 학습률 ( **learning rate $\\eta$** )이라고 한다.\n",
        "2. 이동한 곳에서도 미분을 통해 기울기를 구하고, 기울기를 구한 방향으로 값이 갱신된다.\n",
        "3. 이 과정을 최솟점을 찾을 때까지 반복\n",
        "\n",
        "**경사하강법 수식**\n",
        "\n",
        "$$\n",
        "x_0 = x_0 - \\eta \\frac{\\partial f}{\\partial x_0}\n",
        "$$\n",
        "\n",
        "$$\n",
        "x_1 = x_1 - \\eta \\frac{\\partial f}{\\partial x_1}\n",
        "$$\n",
        "\n",
        "* $\\eta$ : Learning Rate ( 하이퍼 파라미터 )"
      ]
    },
    {
      "cell_type": "code",
      "metadata": {
        "id": "3N3eu3VZzFQ8"
      },
      "source": [
        "# 경사하강법 구현\n",
        "#  f : 경사하강법을 수행할 함수\n",
        "#  init_x : x의 최초 지점\n",
        "#  lr : learning_rate 미분 값을 얼마나 반영해서 학습할 것인가?\n",
        "#  step_num : 경사하강법 수행 횟수\n",
        "def gradient_descent(f, init_x, lr=0.01, step_num=100):\n",
        "  x = init_x\n",
        "\n",
        "  for i in range(step_num):\n",
        "    # 1. 기울기 배열 구하기\n",
        "    grads = numerical_gradient(f, x)\n",
        "    print(\"좌표 : {} / 기울기 : {}\".format(x, grads))\n",
        "\n",
        "    # 2. 기울기 배열을 구했으면 경사하강법을 이용해서 좌표를 갱신\n",
        "    x = x - lr*grads\n",
        "\n",
        "  # 갱신된 좌표 얻어내기\n",
        "  return x"
      ],
      "execution_count": null,
      "outputs": []
    },
    {
      "cell_type": "markdown",
      "metadata": {
        "id": "4G6DtBgVzG1T"
      },
      "source": [
        "$$f(x_0,x_1) = x_0^2 + x_1^2$$\n"
      ]
    },
    {
      "cell_type": "code",
      "metadata": {
        "colab": {
          "base_uri": "https://localhost:8080/"
        },
        "id": "U13dUEQL37WE",
        "outputId": "68218502-a107-4c81-ad4c-bb718d9b19d6"
      },
      "source": [
        "start_x = np.array([-3.0, 4.0])\n",
        "gradient_descent(function_2, start_x, lr=0.1)"
      ],
      "execution_count": null,
      "outputs": [
        {
          "output_type": "stream",
          "text": [
            "좌표 : [-3.  4.] / 기울기 : [-6.  8.]\n",
            "좌표 : [-2.4  3.2] / 기울기 : [-4.8  6.4]\n",
            "좌표 : [-1.92  2.56] / 기울기 : [-3.84  5.12]\n",
            "좌표 : [-1.536  2.048] / 기울기 : [-3.072  4.096]\n",
            "좌표 : [-1.2288  1.6384] / 기울기 : [-2.4576  3.2768]\n",
            "좌표 : [-0.98304  1.31072] / 기울기 : [-1.96608  2.62144]\n",
            "좌표 : [-0.786432  1.048576] / 기울기 : [-1.572864  2.097152]\n",
            "좌표 : [-0.6291456  0.8388608] / 기울기 : [-1.2582912  1.6777216]\n",
            "좌표 : [-0.50331648  0.67108864] / 기울기 : [-1.00663296  1.34217728]\n",
            "좌표 : [-0.40265318  0.53687091] / 기울기 : [-0.80530637  1.07374182]\n",
            "좌표 : [-0.32212255  0.42949673] / 기울기 : [-0.64424509  0.85899346]\n",
            "좌표 : [-0.25769804  0.34359738] / 기울기 : [-0.51539608  0.68719477]\n",
            "좌표 : [-0.20615843  0.27487791] / 기울기 : [-0.41231686  0.54975581]\n",
            "좌표 : [-0.16492674  0.21990233] / 기울기 : [-0.32985349  0.43980465]\n",
            "좌표 : [-0.1319414   0.17592186] / 기울기 : [-0.26388279  0.35184372]\n",
            "좌표 : [-0.10555312  0.14073749] / 기울기 : [-0.21110623  0.28147498]\n",
            "좌표 : [-0.08444249  0.11258999] / 기울기 : [-0.16888499  0.22517998]\n",
            "좌표 : [-0.06755399  0.09007199] / 기울기 : [-0.13510799  0.18014399]\n",
            "좌표 : [-0.0540432   0.07205759] / 기울기 : [-0.10808639  0.14411519]\n",
            "좌표 : [-0.04323456  0.05764608] / 기울기 : [-0.08646911  0.11529215]\n",
            "좌표 : [-0.03458765  0.04611686] / 기울기 : [-0.06917529  0.09223372]\n",
            "좌표 : [-0.02767012  0.03689349] / 기울기 : [-0.05534023  0.07378698]\n",
            "좌표 : [-0.02213609  0.02951479] / 기울기 : [-0.04427219  0.05902958]\n",
            "좌표 : [-0.01770887  0.02361183] / 기울기 : [-0.03541775  0.04722366]\n",
            "좌표 : [-0.0141671   0.01888947] / 기울기 : [-0.0283342   0.03777893]\n",
            "좌표 : [-0.01133368  0.01511157] / 기울기 : [-0.02266736  0.03022315]\n",
            "좌표 : [-0.00906694  0.01208926] / 기울기 : [-0.01813389  0.02417852]\n",
            "좌표 : [-0.00725355  0.00967141] / 기울기 : [-0.01450711  0.01934281]\n",
            "좌표 : [-0.00580284  0.00773713] / 기울기 : [-0.01160569  0.01547425]\n",
            "좌표 : [-0.00464228  0.0061897 ] / 기울기 : [-0.00928455  0.0123794 ]\n",
            "좌표 : [-0.00371382  0.00495176] / 기울기 : [-0.00742764  0.00990352]\n",
            "좌표 : [-0.00297106  0.00396141] / 기울기 : [-0.00594211  0.00792282]\n",
            "좌표 : [-0.00237684  0.00316913] / 기울기 : [-0.00475369  0.00633825]\n",
            "좌표 : [-0.00190148  0.0025353 ] / 기울기 : [-0.00380295  0.0050706 ]\n",
            "좌표 : [-0.00152118  0.00202824] / 기울기 : [-0.00304236  0.00405648]\n",
            "좌표 : [-0.00121694  0.00162259] / 기울기 : [-0.00243389  0.00324519]\n",
            "좌표 : [-0.00097356  0.00129807] / 기울기 : [-0.00194711  0.00259615]\n",
            "좌표 : [-0.00077884  0.00103846] / 기울기 : [-0.00155769  0.00207692]\n",
            "좌표 : [-0.00062308  0.00083077] / 기울기 : [-0.00124615  0.00166153]\n",
            "좌표 : [-0.00049846  0.00066461] / 기울기 : [-0.00099692  0.00132923]\n",
            "좌표 : [-0.00039877  0.00053169] / 기울기 : [-0.00079754  0.00106338]\n",
            "좌표 : [-0.00031901  0.00042535] / 기울기 : [-0.00063803  0.00085071]\n",
            "좌표 : [-0.00025521  0.00034028] / 기울기 : [-0.00051042  0.00068056]\n",
            "좌표 : [-0.00020417  0.00027223] / 기울기 : [-0.00040834  0.00054445]\n",
            "좌표 : [-0.00016334  0.00021778] / 기울기 : [-0.00032667  0.00043556]\n",
            "좌표 : [-0.00013067  0.00017422] / 기울기 : [-0.00026134  0.00034845]\n",
            "좌표 : [-0.00010453  0.00013938] / 기울기 : [-0.00020907  0.00027876]\n",
            "좌표 : [-8.36277945e-05  1.11503726e-04] / 기울기 : [-0.00016726  0.00022301]\n",
            "좌표 : [-6.69022356e-05  8.92029808e-05] / 기울기 : [-0.0001338   0.00017841]\n",
            "좌표 : [-5.35217885e-05  7.13623846e-05] / 기울기 : [-0.00010704  0.00014272]\n",
            "좌표 : [-4.28174308e-05  5.70899077e-05] / 기울기 : [-8.56348616e-05  1.14179815e-04]\n",
            "좌표 : [-3.42539446e-05  4.56719262e-05] / 기울기 : [-6.85078892e-05  9.13438523e-05]\n",
            "좌표 : [-2.74031557e-05  3.65375409e-05] / 기울기 : [-5.48063114e-05  7.30750819e-05]\n",
            "좌표 : [-2.19225246e-05  2.92300327e-05] / 기울기 : [-4.38450491e-05  5.84600655e-05]\n",
            "좌표 : [-1.75380196e-05  2.33840262e-05] / 기울기 : [-3.50760393e-05  4.67680524e-05]\n",
            "좌표 : [-1.40304157e-05  1.87072210e-05] / 기울기 : [-2.80608314e-05  3.74144419e-05]\n",
            "좌표 : [-1.12243326e-05  1.49657768e-05] / 기울기 : [-2.24486651e-05  2.99315535e-05]\n",
            "좌표 : [-8.97946606e-06  1.19726214e-05] / 기울기 : [-1.79589321e-05  2.39452428e-05]\n",
            "좌표 : [-7.18357285e-06  9.57809713e-06] / 기울기 : [-1.43671457e-05  1.91561943e-05]\n",
            "좌표 : [-5.74685828e-06  7.66247770e-06] / 기울기 : [-1.14937166e-05  1.53249554e-05]\n",
            "좌표 : [-4.59748662e-06  6.12998216e-06] / 기울기 : [-9.19497325e-06  1.22599643e-05]\n",
            "좌표 : [-3.67798930e-06  4.90398573e-06] / 기울기 : [-7.35597860e-06  9.80797146e-06]\n",
            "좌표 : [-2.94239144e-06  3.92318858e-06] / 기울기 : [-5.88478288e-06  7.84637717e-06]\n",
            "좌표 : [-2.35391315e-06  3.13855087e-06] / 기울기 : [-4.70782630e-06  6.27710174e-06]\n",
            "좌표 : [-1.88313052e-06  2.51084069e-06] / 기울기 : [-3.76626104e-06  5.02168139e-06]\n",
            "좌표 : [-1.50650442e-06  2.00867256e-06] / 기울기 : [-3.01300883e-06  4.01734511e-06]\n",
            "좌표 : [-1.20520353e-06  1.60693804e-06] / 기울기 : [-2.41040707e-06  3.21387609e-06]\n",
            "좌표 : [-9.64162827e-07  1.28555044e-06] / 기울기 : [-1.92832565e-06  2.57110087e-06]\n",
            "좌표 : [-7.71330261e-07  1.02844035e-06] / 기울기 : [-1.54266052e-06  2.05688070e-06]\n",
            "좌표 : [-6.17064209e-07  8.22752279e-07] / 기울기 : [-1.23412842e-06  1.64550456e-06]\n",
            "좌표 : [-4.93651367e-07  6.58201823e-07] / 기울기 : [-9.87302734e-07  1.31640365e-06]\n",
            "좌표 : [-3.94921094e-07  5.26561458e-07] / 기울기 : [-7.89842188e-07  1.05312292e-06]\n",
            "좌표 : [-3.15936875e-07  4.21249167e-07] / 기울기 : [-6.31873750e-07  8.42498333e-07]\n",
            "좌표 : [-2.52749500e-07  3.36999333e-07] / 기울기 : [-5.05499000e-07  6.73998667e-07]\n",
            "좌표 : [-2.02199600e-07  2.69599467e-07] / 기울기 : [-4.04399200e-07  5.39198933e-07]\n",
            "좌표 : [-1.61759680e-07  2.15679573e-07] / 기울기 : [-3.23519360e-07  4.31359147e-07]\n",
            "좌표 : [-1.29407744e-07  1.72543659e-07] / 기울기 : [-2.58815488e-07  3.45087317e-07]\n",
            "좌표 : [-1.03526195e-07  1.38034927e-07] / 기울기 : [-2.07052390e-07  2.76069854e-07]\n",
            "좌표 : [-8.28209562e-08  1.10427942e-07] / 기울기 : [-1.65641912e-07  2.20855883e-07]\n",
            "좌표 : [-6.62567649e-08  8.83423532e-08] / 기울기 : [-1.32513530e-07  1.76684706e-07]\n",
            "좌표 : [-5.30054119e-08  7.06738826e-08] / 기울기 : [-1.06010824e-07  1.41347765e-07]\n",
            "좌표 : [-4.24043296e-08  5.65391061e-08] / 기울기 : [-8.48086591e-08  1.13078212e-07]\n",
            "좌표 : [-3.39234636e-08  4.52312849e-08] / 기울기 : [-6.78469273e-08  9.04625697e-08]\n",
            "좌표 : [-2.71387709e-08  3.61850279e-08] / 기울기 : [-5.42775418e-08  7.23700558e-08]\n",
            "좌표 : [-2.17110167e-08  2.89480223e-08] / 기울기 : [-4.34220335e-08  5.78960446e-08]\n",
            "좌표 : [-1.73688134e-08  2.31584178e-08] / 기울기 : [-3.47376268e-08  4.63168357e-08]\n",
            "좌표 : [-1.38950507e-08  1.85267343e-08] / 기울기 : [-2.77901014e-08  3.70534686e-08]\n",
            "좌표 : [-1.11160406e-08  1.48213874e-08] / 기울기 : [-2.22320811e-08  2.96427748e-08]\n",
            "좌표 : [-8.89283245e-09  1.18571099e-08] / 기울기 : [-1.77856649e-08  2.37142199e-08]\n",
            "좌표 : [-7.11426596e-09  9.48568795e-09] / 기울기 : [-1.42285319e-08  1.89713759e-08]\n",
            "좌표 : [-5.69141277e-09  7.58855036e-09] / 기울기 : [-1.13828255e-08  1.51771007e-08]\n",
            "좌표 : [-4.55313022e-09  6.07084029e-09] / 기울기 : [-9.10626043e-09  1.21416806e-08]\n",
            "좌표 : [-3.64250417e-09  4.85667223e-09] / 기울기 : [-7.28500835e-09  9.71334446e-09]\n",
            "좌표 : [-2.91400334e-09  3.88533778e-09] / 기울기 : [-5.82800668e-09  7.77067557e-09]\n",
            "좌표 : [-2.33120267e-09  3.10827023e-09] / 기울기 : [-4.66240534e-09  6.21654046e-09]\n",
            "좌표 : [-1.86496214e-09  2.48661618e-09] / 기울기 : [-3.72992427e-09  4.97323236e-09]\n",
            "좌표 : [-1.49196971e-09  1.98929295e-09] / 기울기 : [-2.98393942e-09  3.97858589e-09]\n",
            "좌표 : [-1.19357577e-09  1.59143436e-09] / 기울기 : [-2.38715153e-09  3.18286871e-09]\n",
            "좌표 : [-9.54860614e-10  1.27314749e-09] / 기울기 : [-1.90972123e-09  2.54629497e-09]\n",
            "좌표 : [-7.63888491e-10  1.01851799e-09] / 기울기 : [-1.52777698e-09  2.03703598e-09]\n"
          ],
          "name": "stdout"
        },
        {
          "output_type": "execute_result",
          "data": {
            "text/plain": [
              "array([-6.11110793e-10,  8.14814391e-10])"
            ]
          },
          "metadata": {
            "tags": []
          },
          "execution_count": 20
        }
      ]
    },
    {
      "cell_type": "markdown",
      "metadata": {
        "id": "pp4-pZxz3sPg"
      },
      "source": [
        "경사하강법 시각화"
      ]
    },
    {
      "cell_type": "code",
      "metadata": {
        "colab": {
          "base_uri": "https://localhost:8080/",
          "height": 388
        },
        "id": "aiODwCmz4WqT",
        "outputId": "9d21b155-8097-4c2b-aada-0ac3c0f770b5"
      },
      "source": [
        "import numpy as np\n",
        "import matplotlib.pylab as plt\n",
        "\n",
        "\n",
        "def gradient_descent(f, init_x, lr=0.01, step_num=100):\n",
        "    x = init_x\n",
        "    x_history = []\n",
        "\n",
        "    for i in range(step_num):\n",
        "        x_history.append( x.copy() )\n",
        "\n",
        "        grad = numerical_gradient(f, x)\n",
        "        x -= lr * grad\n",
        "\n",
        "    return x, np.array(x_history)\n",
        "\n",
        "init_x = np.array([-3.0, 4.0])    \n",
        "\n",
        "lr = 0.1\n",
        "step_num = 20\n",
        "x, x_history = gradient_descent(function_2, init_x, lr=lr, step_num=step_num)\n",
        "\n",
        "plt.plot( [-5, 5], [0,0], '--b')\n",
        "plt.plot( [0,0], [-5, 5], '--b')\n",
        "plt.plot(x_history[:,0], x_history[:,1], 'o')\n",
        "\n",
        "plt.xlim(-3.5, 3.5)\n",
        "plt.ylim(-4.5, 4.5)\n",
        "plt.xlabel(\"X0\")\n",
        "plt.ylabel(\"X1\")\n",
        "plt.show()"
      ],
      "execution_count": null,
      "outputs": [
        {
          "output_type": "display_data",
          "data": {
            "image/png": "[encoded data removed]",
            "text/plain": [
              "<Figure size 720x432 with 1 Axes>"
            ]
          },
          "metadata": {
            "tags": [],
            "needs_background": "light"
          }
        }
      ]
    },
    {
      "cell_type": "markdown",
      "metadata": {
        "id": "qL9WYUYt4XX_"
      },
      "source": [
        "**학습률이 너무 크다면?** $\\eta$ : 10"
      ]
    },
    {
      "cell_type": "code",
      "metadata": {
        "colab": {
          "base_uri": "https://localhost:8080/"
        },
        "id": "d640AJXx37iW",
        "outputId": "7fd5e2f0-db97-4bb6-ebe1-c1e510e567a1"
      },
      "source": [
        "start_x = np.array([-3.0, 4.0])\n",
        "\n",
        "# history : 경사하강법을 이용한 갱신과정을 기록한 리스트 - 시각화에 사용\n",
        "result, history = gradient_descent(function_2, start_x, lr=10.0)\n",
        "print('learning rate 10.0 : {}'.format(result))"
      ],
      "execution_count": null,
      "outputs": [
        {
          "output_type": "stream",
          "text": [
            "learning rate 10.0 : [-2.58983747e+13 -1.29524862e+12]\n"
          ],
          "name": "stdout"
        }
      ]
    },
    {
      "cell_type": "markdown",
      "metadata": {
        "id": "xmgo1JER5DaK"
      },
      "source": [
        "학습률이 너무 크면 발산"
      ]
    },
    {
      "cell_type": "code",
      "metadata": {
        "colab": {
          "base_uri": "https://localhost:8080/"
        },
        "id": "ozJU3tVC6HrK",
        "outputId": "8557f0ff-cabc-411e-dc91-3adff280dbac"
      },
      "source": [
        "# 학습률이 너무 작은 예\n",
        "start_x = np.array([-3.0, 4.0])\n",
        "result, history = gradient_descent(function_2, start_x, lr=1e-10)\n",
        "print('learning rate 1e-10 : {}'.format(result))"
      ],
      "execution_count": null,
      "outputs": [
        {
          "output_type": "stream",
          "text": [
            "learning rate 1e-10 : [-2.99999994  3.99999992]\n"
          ],
          "name": "stdout"
        }
      ]
    },
    {
      "cell_type": "markdown",
      "metadata": {
        "id": "Hz31xdv96PTY"
      },
      "source": [
        "거의 갱신이 되지 않는 것을 확인! - 너무 작으면 최소지점으로 가지 못하고 갱신이 끝남!"
      ]
    },
    {
      "cell_type": "markdown",
      "metadata": {
        "id": "IBQYSWzi6SNH"
      },
      "source": [
        "# 신경망에서의 Gradient Descent\n",
        "* **손실값(Loss)**을 최소로 하는 모델 파라미터를 **구하는 과정**\n",
        "  * 이 과정을 **최적화(Optimization)**\n",
        "  * 신경망에서의 모델 파라미터는?\n",
        "    * **가중치(W)와 편향!(b)**\n",
        "* Loss를 최소화 하기위한 가중치와 편향을 구하는 과정을 **최적화**라고 한다.\n",
        "* 경사하강법은 여러 가지 최적화 기법의 일종"
      ]
    },
    {
      "cell_type": "markdown",
      "metadata": {
        "id": "ESVCjhBt67qX"
      },
      "source": [
        "**신경망의 학습이란?**\n",
        "* Loss($L$)값을 최소화 시키는 가중치($W$)와 편향($b$)를 구한다.\n",
        "* $\\frac{\\partial L}{\\partial W}$ : 가중치 W가 변화하면 L은 얼마나 변화할 것인가\n",
        "* $\\frac{\\partial L}{\\partial b}$ : 편향 b가 변화하면 L은 얼마나 변화할 것인가"
      ]
    },
    {
      "cell_type": "markdown",
      "metadata": {
        "id": "I3edzYd8BTUW"
      },
      "source": [
        "$$\n",
        "W = \\begin{pmatrix} w_{11} & w_{21} & w_{31} \\\\ w_{12}&w_{22}&w_{32} \\\\\\end{pmatrix}, b = \\left (b_1, b_2, b_3 \\right )\n",
        "$$\n",
        "\n",
        "가중치와 편향에 대한 기울기 표현\n",
        "\n",
        "$$\n",
        "\\frac{\\partial L}{\\partial W}=\\begin{pmatrix} \\frac{\\partial L}{\\partial w_{11}} & \\frac{\\partial L}{\\partial w_{21}} & \\frac{\\partial L}{\\partial w_{31}} \\\\ \\frac{\\partial L}{\\partial w_{12}}&\\frac{\\partial L}{\\partial w_{22}}&\\frac{\\partial L}{\\partial w_{32}} \\\\\\end{pmatrix}, \\frac{\\partial L}{\\partial b} = \\left (\\frac{\\partial L}{\\partial b_1}, \\frac{\\partial L}{\\partial b_2}, \\frac{\\partial L}{\\partial b_3} \\right )\n",
        "$$\n"
      ]
    },
    {
      "cell_type": "markdown",
      "metadata": {
        "id": "h-IL8YP5Bk5r"
      },
      "source": [
        "**가중치 W, 편향 b를 갱신하기 위한 경사하강법**\n",
        "$$\n",
        "W = W - \\eta \\frac{\\partial L}{\\partial W}, b = b - \\eta \\frac{\\partial L}{\\partial b}, \n",
        "$$"
      ]
    },
    {
      "cell_type": "code",
      "metadata": {
        "id": "I-vPr0ZYEPeu"
      },
      "source": [
        "import numpy as np\n",
        "def sigmoid(x):\n",
        "    return 1 / (1 + np.exp(-x))\n",
        "def softmax(x):\n",
        "    if x.ndim == 2:\n",
        "        x = x.T\n",
        "        x = x - np.max(x, axis=0)\n",
        "        y = np.exp(x) / np.sum(np.exp(x), axis=0)\n",
        "        return y.T \n",
        "    x = x - np.max(x) # 오버플로 대책\n",
        "    return np.exp(x) / np.sum(np.exp(x))\n",
        "def cross_entropy_error(y, t):\n",
        "    if y.ndim == 1:\n",
        "        t = t.reshape(1, t.size)\n",
        "        y = y.reshape(1, y.size)\n",
        "    # 훈련 데이터가 원-핫 벡터라면 정답 레이블의 인덱스로 반환\n",
        "    if t.size == y.size:\n",
        "        t = t.argmax(axis=1)\n",
        "    batch_size = y.shape[0]\n",
        "    return -np.sum(np.log(y[np.arange(batch_size), t] + 1e-7)) / batch_size\n",
        "def numerical_gradient(f, x):\n",
        "    h = 1e-4 # 0.0001\n",
        "    grad = np.zeros_like(x)\n",
        "    it = np.nditer(x, flags=['multi_index'], op_flags=['readwrite'])\n",
        "    while not it.finished:\n",
        "        idx = it.multi_index\n",
        "        tmp_val = x[idx]\n",
        "        x[idx] = float(tmp_val) + h\n",
        "        fxh1 = f(x) # f(x+h)\n",
        "        x[idx] = tmp_val - h \n",
        "        fxh2 = f(x) # f(x-h)\n",
        "        grad[idx] = (fxh1 - fxh2) / (2*h)\n",
        "        x[idx] = tmp_val # 값 복원\n",
        "        it.iternext()   \n",
        "    return grad"
      ],
      "execution_count": null,
      "outputs": []
    },
    {
      "cell_type": "markdown",
      "metadata": {
        "id": "pQ2rjPtK6TFK"
      },
      "source": [
        "# SimpleNet 만들기\n",
        "* 입력을 두개 받는 $[x_1, x_2]$ 3개의 뉴런을 가진 신경망\n",
        "* 편향 고려 x. 편향이 없다고 생각함. 오로지 가중치 W만 사용"
      ]
    },
    {
      "cell_type": "code",
      "metadata": {
        "id": "l4Z0Deo-FQsM"
      },
      "source": [
        "# 신경망 클래스\n",
        "class SimpleNet:\n",
        "    # 초기화 (생성자에서는..?)\n",
        "    # 신경망이 초기에 가지고 있어야 할 매개변수를 셋팅\n",
        "    # 신경망이 매개변수 초기화 작업을 생성자인 __init__ 메소드에서 수행\n",
        "\n",
        "    def __init__(self):\n",
        "\n",
        "        # 매개변수 초기화 방법\n",
        "\n",
        "        # 1) 정규분포 랜덤 * 0.01 사용\n",
        "        # 2) 카이밍 히 초깃값 (He 초기값) - ReLU 함수를 활성화 함수로 사용 했을 때 보통 사용하는 방식\n",
        "        # 3) 사비에르 글로로트 초깃값 (Xavier, Glorot 초깃값) - Sigmoid를 Activation 으로 썻을 때 주로 사용\n",
        "        self.W = np.random.randn(2,3)\n",
        "\n",
        "    def predict(self, x):\n",
        "        return x @ self.W # 행렬의 내적만\n",
        "    \n",
        "    def loss(self, x, t):\n",
        "        # 손실 (loss)을 구할 떄 필요한 것\n",
        "        # 예측값(y), 정답(t), loss 함수(cross entorypy error)\n",
        "        z = self.predict(x)\n",
        "        y = softmax(z)\n",
        "\n",
        "        loss = cross_entropy_error(y,t)\n",
        "        return loss"
      ],
      "execution_count": null,
      "outputs": []
    },
    {
      "cell_type": "markdown",
      "metadata": {
        "id": "4aWjyLBhHyJO"
      },
      "source": [
        "SimpleNet 확인"
      ]
    },
    {
      "cell_type": "code",
      "metadata": {
        "colab": {
          "base_uri": "https://localhost:8080/"
        },
        "id": "8gE-Pn6dH0Tr",
        "outputId": "0ec51abe-b2ca-435f-ea8b-f73249da0dee"
      },
      "source": [
        "net = SimpleNet()\n",
        "print(f'가중치 : \\n{net.W}')"
      ],
      "execution_count": null,
      "outputs": [
        {
          "output_type": "stream",
          "text": [
            "가중치 : \n",
            "[[-0.89958663  2.11571127 -0.19410916]\n",
            " [-0.51056668  2.13340823  1.5628576 ]]\n"
          ],
          "name": "stdout"
        }
      ]
    },
    {
      "cell_type": "code",
      "metadata": {
        "colab": {
          "base_uri": "https://localhost:8080/"
        },
        "id": "RgxPMKdBH4IB",
        "outputId": "e6e4efa4-31c6-486f-801c-f165e779b34b"
      },
      "source": [
        "x = np.array([0.6, 0.9])\n",
        "p = net.predict(x)\n",
        "\n",
        "print('예측값 : {}'.format(p))"
      ],
      "execution_count": null,
      "outputs": [
        {
          "output_type": "stream",
          "text": [
            "예측값 : [-0.99926199  3.18949417  1.29010635]\n"
          ],
          "name": "stdout"
        }
      ]
    },
    {
      "cell_type": "code",
      "metadata": {
        "colab": {
          "base_uri": "https://localhost:8080/"
        },
        "id": "8Ll_rZWgIKw-",
        "outputId": "a019bf43-c5bd-49ca-a0fd-d23b66da5bcb"
      },
      "source": [
        "# loss 구해보기\n",
        "t = np.array([1, 0, 0]) # 정답\n",
        "t_error = np.array([0,1,0]) # 오답\n",
        "\n",
        "print('정답을 잘 예측 했을 때 Loss : {:.3f}'.format(net.loss(x,t)))\n",
        "print('정답을 잘못 예측 했을 때 Loss : {:.3f}'.format(net.loss(x,t_error)))"
      ],
      "execution_count": null,
      "outputs": [
        {
          "output_type": "stream",
          "text": [
            "정답을 잘 예측 했을 때 Loss : 4.341\n",
            "정답을 잘못 예측 했을 때 Loss : 0.153\n"
          ],
          "name": "stdout"
        }
      ]
    },
    {
      "cell_type": "markdown",
      "metadata": {
        "id": "Ia3jbkWrIzPq"
      },
      "source": [
        "$$\n",
        "\\frac{\\partial L}{\\partial W}=\\begin{pmatrix} \\frac{\\partial L}{\\partial w_{11}} & \\frac{\\partial L}{\\partial w_{21}} & \\frac{\\partial L}{\\partial w_{31}} \\\\ \\frac{\\partial L}{\\partial w_{12}}&\\frac{\\partial L}{\\partial w_{22}}&\\frac{\\partial L}{\\partial w_{32}} \\\\\\end{pmatrix}\n",
        "$$"
      ]
    },
    {
      "cell_type": "code",
      "metadata": {
        "id": "XWqjatAeI41h"
      },
      "source": [
        "# 1. Loss를 구하기 위한 함수\n",
        "# 2. W에 대한 Loss를 구할 수 있는 함수\n",
        "# dL / dW\n",
        "\n",
        "# net.loss를 미분할 함수를 따로 만들어야 한다.\n",
        "def f(W):\n",
        "  return net.loss(x, t) # 함수의 모양을 하고있지만 함수가 아니다. Loss의 결과물.\n",
        "\n",
        "# 혹은\n",
        "# loss_W = lambda W : net.loss(x, t)"
      ],
      "execution_count": null,
      "outputs": []
    },
    {
      "cell_type": "code",
      "metadata": {
        "colab": {
          "base_uri": "https://localhost:8080/"
        },
        "id": "U8WMtI-3P2ZI",
        "outputId": "cd2dc9a0-4171-457b-a9fc-45ba8f82fb18"
      },
      "source": [
        "# Loss를 구하는 함수 f에 대한 모든 W들의 기울기를 구할 수 있다.\n",
        "dW = numerical_gradient(f, net.W)\n",
        "print(dW)"
      ],
      "execution_count": null,
      "outputs": [
        {
          "output_type": "stream",
          "text": [
            "[[-0.59218391  0.51509473  0.07708918]\n",
            " [-0.88827586  0.77264209  0.11563378]]\n"
          ],
          "name": "stdout"
        }
      ]
    },
    {
      "cell_type": "markdown",
      "metadata": {
        "id": "BPbABqlPIU93"
      },
      "source": [
        "# 학습이 가능한 MNIST 신경망 구현\n",
        "* 2층 신경망\n",
        "* 1층 은닉층의 뉴런 개수 `100`개\n",
        "    * 활성화 함수로 `sigmoid`\n",
        "* 2층 출력층의 뉴런 개수 `10`개\n",
        "    * 활성화 함수로 `softmax` 사용\n",
        "* loss 함수는 `cross_entorypy_error`\n",
        "\n",
        "---\n",
        "* `predict`에서 `softmax` 사용할 것\n",
        "* 클래스 내부에 기울기 배열을 구하는 `numerical_gradient_params`를 구현\n",
        "* 경사하강법은 따로 구현할 예정!"
      ]
    },
    {
      "cell_type": "code",
      "metadata": {
        "id": "1qh1nmwxQ1rM"
      },
      "source": [
        "class TwoLayerNet:\n",
        "\n",
        "    def __init__(self, input_size, hidden_size, output_size, weight_init_std=0.01):\n",
        "        '''\n",
        "            input_size : 입력 데이터의 개수\n",
        "            hidden_size : 은닉층의 뉴런 개수\n",
        "            output_size : 출력층의 뉴런 개수\n",
        "            weight_init_std : 정규 분포 랜덤값에 표준편차 0.01을 적용하기 위함 (기울기 소실 방지)\n",
        "                              층이 깊어지면 효과가 많이 떨어진다.\n",
        "        '''\n",
        "        self.params = {} # 매개변수가 등록될 dict\n",
        "        # 1층 매개변수 : W1, b1\n",
        "        # 2층 매개변수 : W2, b2\n",
        "\n",
        "        # 가중치 : 정규 분포 랜덤으로 만들기\n",
        "        # 편향 : 0으로 채워진 배열로 초기화\n",
        "\n",
        "        # 1층 매개변수 초기화\n",
        "        self.params['W1'] = np.random.randn(input_size, hidden_size) * weight_init_std\n",
        "        self.params['b1'] = np.zeros(hidden_size)\n",
        "\n",
        "        # 2층 매개변수 초기화\n",
        "        self.params['W2'] = np.random.randn(hidden_size, output_size) * weight_init_std\n",
        "        self.params['b2'] = np.zeros(output_size)\n",
        "\n",
        "    def predict(self, x):\n",
        "        # params에서 가중치, 편향을 꺼내오기\n",
        "        W1, b1 = self.params['W1'], self.params['b1']\n",
        "        W2, b2 = self.params['W2'], self.params['b2']\n",
        "\n",
        "        # 1층 출력층 계산\n",
        "        z1 = x @ W1 + b1\n",
        "        a1 = sigmoid(z1)\n",
        "\n",
        "        # 2층 출력층 계산\n",
        "        z2 = a1 @ W2 + b2\n",
        "        y = softmax(z2)\n",
        "\n",
        "        return y\n",
        "    \n",
        "    def loss(self, x, t):\n",
        "        # predict를 호출해서 예측..\n",
        "        y = self.predict(x)\n",
        "        return cross_entropy_error(y,t)\n",
        "    \n",
        "    # 모든 매개변수들에 대한 기울기 구하기\n",
        "    def numerical_gradient_params(self, x, t):\n",
        "        # 각 층에서 기울기를 저장할 딕셔너리\n",
        "        # 저장할 것 : 각 매개변수의 기울기들(W1, W2, b1, b2)을 저장\n",
        "        # 나중에 이 기울기로 경사하강법 수행\n",
        "        grads = {}\n",
        "\n",
        "        print('----------미분 시작----------')\n",
        "        loss_param_f = lambda p : self.loss(x,t) # loss_param_f : 각종 모델 파라미터에 대한 loss의 미분값을 구해줄 함수\n",
        "        \n",
        "        # 1층 매개변수에 대한 기울기 구하기 : loss에 대한 W1, b1의 기울기를 grads 저장\n",
        "        grads['W1'] = numerical_gradient(loss_param_f, self.params['W1']) # dL / dW1\n",
        "        grads['b1'] = numerical_gradient(loss_param_f, self.params['b1']) # dL / db1\n",
        "\n",
        "        # 2층 매개변수에 대한 기울기 구하기 : loss에 대한 W2, b2의 기울기를 grads에 저장\n",
        "        grads['W2'] = numerical_gradient(loss_param_f, self.params['W2']) # dL / dW2\n",
        "        grads['b2'] = numerical_gradient(loss_param_f, self.params['b2']) # dL / db2\n",
        "        print('----------미분 종료----------')\n",
        "\n",
        "        return grads"
      ],
      "execution_count": null,
      "outputs": []
    },
    {
      "cell_type": "markdown",
      "metadata": {
        "id": "6AfStYgdeR5P"
      },
      "source": [
        "1. 미분을 한다\n",
        "2. 어떤 변수의 기울기를 구한다. \n",
        "3. 신경망의 변수인 W, b의 기울기를 구한다 \n",
        "4. 기울기를 구하면 어떠한 함수($Loss$)의 최소 지점으로 가는 방향과 크기를 알 수 있다. \n",
        "5. 이렇게 구해낸 기울기로 경사하강법, adam 등의 최적화 기법을 수행해서 $Loss$를 최소화 할 수 있는 W, b를 얻어낼 수 있다"
      ]
    },
    {
      "cell_type": "markdown",
      "metadata": {
        "id": "QjBiexAFem1v"
      },
      "source": [
        "# MNIST 데이터 불러오기 및 전처리"
      ]
    },
    {
      "cell_type": "code",
      "metadata": {
        "colab": {
          "base_uri": "https://localhost:8080/"
        },
        "id": "J5YZ--V7e4om",
        "outputId": "12ff1044-f30e-4935-9374-9454068b000d"
      },
      "source": [
        "from tensorflow.keras import datasets\n",
        "mnist = datasets.mnist\n",
        "\n",
        "(X_train, t_train), (X_test, t_test) = mnist.load_data()\n",
        "\n",
        "X_train.shape, t_train.shape"
      ],
      "execution_count": null,
      "outputs": [
        {
          "output_type": "stream",
          "text": [
            "Downloading data from https://storage.googleapis.com/tensorflow/tf-keras-datasets/mnist.npz\n",
            "11493376/11490434 [==============================] - 0s 0us/step\n"
          ],
          "name": "stdout"
        },
        {
          "output_type": "execute_result",
          "data": {
            "text/plain": [
              "((60000, 28, 28), (60000,))"
            ]
          },
          "metadata": {
            "tags": []
          },
          "execution_count": 32
        }
      ]
    },
    {
      "cell_type": "markdown",
      "metadata": {
        "id": "Q1ctZ34kfCt-"
      },
      "source": [
        "## 데이터 전처리\n",
        "* `t_train, t_test` : One Hot Encoding (안해도 되지만 함)\n",
        "* `X_train, X_test` : (N, 28 * 28) 형태로 평탄화 시키기, `255.0`으로 나눠서 데이터 정규화 처리하기"
      ]
    },
    {
      "cell_type": "code",
      "metadata": {
        "colab": {
          "base_uri": "https://localhost:8080/"
        },
        "id": "UAYWiG2MfNhq",
        "outputId": "53b27a95-9439-4e71-f8d9-90c7b2691550"
      },
      "source": [
        "import tensorflow as tf\n",
        "\n",
        "t_train_one_hot = tf.one_hot(t_train, 10).numpy()\n",
        "t_test_one_hot = tf.one_hot(t_test,10).numpy()\n",
        "\n",
        "t_train_one_hot.shape, t_test_one_hot.shape"
      ],
      "execution_count": null,
      "outputs": [
        {
          "output_type": "execute_result",
          "data": {
            "text/plain": [
              "((60000, 10), (10000, 10))"
            ]
          },
          "metadata": {
            "tags": []
          },
          "execution_count": 33
        }
      ]
    },
    {
      "cell_type": "code",
      "metadata": {
        "colab": {
          "base_uri": "https://localhost:8080/"
        },
        "id": "frdktCwofbn5",
        "outputId": "5eecd1a2-91c3-4c04-8306-bb0e7181396a"
      },
      "source": [
        "# X_train, X_test 평탄화 시키기\n",
        "X_train = X_train.reshape(X_train.shape[0], -1)\n",
        "X_test = X_test.reshape(X_test.shape[0], -1)\n",
        "\n",
        "X_train.shape, X_test.shape"
      ],
      "execution_count": null,
      "outputs": [
        {
          "output_type": "execute_result",
          "data": {
            "text/plain": [
              "((60000, 784), (10000, 784))"
            ]
          },
          "metadata": {
            "tags": []
          },
          "execution_count": 34
        }
      ]
    },
    {
      "cell_type": "markdown",
      "metadata": {
        "id": "ssTRPEe5foxE"
      },
      "source": [
        "## 이미지 데이터 정규화\n",
        "* 이미지 데이터는 항상 0~255 사이의 정수값을 기본\n",
        "* 0부터 255라는 숫자의 차이는 매우 큰 데이터 끼리의 차이이기 때문에 0~1 사이로 정규화\n",
        "* 255.0 으로 나눠서 최소를 0으로, 최대를 1로 갖는 이미지로 만들어 주기"
      ]
    },
    {
      "cell_type": "code",
      "metadata": {
        "id": "1fY_LRxbfqLK"
      },
      "source": [
        "X_train = X_train / 255.0\n",
        "X_test  = X_test / 255.0"
      ],
      "execution_count": null,
      "outputs": []
    },
    {
      "cell_type": "markdown",
      "metadata": {
        "id": "1yNzFFu4gF0_"
      },
      "source": [
        "# 훈련을 하기 위한 하이퍼 파라미터 설정하기\n",
        "* 미니 배치 개수 선정(`batch_size`)\n",
        "* 훈련 반복 횟수 설정 - 경사하강법 적용 횟수\n",
        "* 학습률 선정"
      ]
    },
    {
      "cell_type": "code",
      "metadata": {
        "id": "b0gz9PV3gTJX"
      },
      "source": [
        "# 반복 횟수\n",
        "iter_nums = 10000\n",
        "\n",
        "# 미니 배치 설정\n",
        "train_size = X_train.shape[0] # 60000개의 데이터 중에\n",
        "batch_size = 100 # batch_size개 만큼의 데이터를 무작위로 선정(np.random.choice 사용)\n",
        "\n",
        "# 학습률\n",
        "learning_rate = 0.1"
      ],
      "execution_count": null,
      "outputs": []
    },
    {
      "cell_type": "code",
      "metadata": {
        "id": "owzPBQ7NinPc"
      },
      "source": [
        "# 신경망 만들기\n",
        "net = TwoLayerNet(input_size = 28*28, hidden_size = 100, output_size = 10)"
      ],
      "execution_count": null,
      "outputs": []
    },
    {
      "cell_type": "code",
      "metadata": {
        "colab": {
          "base_uri": "https://localhost:8080/",
          "height": 518,
          "referenced_widgets": [
            "a05f8bfb4d96466cb4145a98979695a3",
            "6e80bb6970a54e64971872ac00317067",
            "2be5551c0a7841e4b4eb28841fc13298",
            "21d06827b83b48e5a068317a02e0214e",
            "3c88549f2b3e434491fe70c89733eaa6",
            "7be37807dedb4241b9b315433f803fe3",
            "ee627a4e6a914ab7bf2e9a1b31d0a0b1",
            "f68dee2422074dff9055623f3216a765"
          ]
        },
        "id": "CAhJ22VQfqOP",
        "outputId": "198dff9a-2166-438b-a081-8bdfa7783ad1"
      },
      "source": [
        "# 반복문 돌릴 때 진행 상황 프로그래스 바로 시각화 해서 보기\n",
        "from tqdm import tqdm_notebook\n",
        "\n",
        "for i in tqdm_notebook(range(iter_nums)):\n",
        "    # 1. 미니 배치 만들기\n",
        "    batch_mask = np.random.choice(train_size, batch_size)\n",
        "\n",
        "    X_batch = X_train[batch_mask] # feature 가져오기\n",
        "    t_batch = t_train[batch_mask] # label 가져오기\n",
        "\n",
        "    # 2. 각 매개변수의 기울기 배열 구하기 (미분 수행)\n",
        "    # 기울기를 알아야 경사하강법(최적화)을 수행 가능\n",
        "\n",
        "    grads = net.numerical_gradient_params(X_batch, t_batch) # 예측 - 손실 - 미분\n",
        "\n",
        "    # 기울기를 구했으면 경사하강법 수행하기\n",
        "    keys = ['W1', 'W2', 'b1', 'b2']\n",
        "\n",
        "    # 경사하강법\n",
        "    for key in keys:\n",
        "        # 경사하강법 공식 참고\n",
        "        net.params[key] = net.params[key] - (learning_rate * grads[key])\n",
        "\n",
        "    # 갱신된 loss 확인\n",
        "    loss = net.loss(X_batch, t_batch)\n",
        "    print(f'step {i+1} -> Loss : {loss}')\n",
        "\n",
        "# 시간 엄청 오래걸림. => 미분을 거의 8,000,000번 수행해야함 한번에"
      ],
      "execution_count": null,
      "outputs": [
        {
          "output_type": "stream",
          "text": [
            "/usr/local/lib/python3.7/dist-packages/ipykernel_launcher.py:4: TqdmDeprecationWarning: This function will be removed in tqdm==5.0.0\n",
            "Please use `tqdm.notebook.tqdm` instead of `tqdm.tqdm_notebook`\n",
            "  after removing the cwd from sys.path.\n"
          ],
          "name": "stderr"
        },
        {
          "output_type": "display_data",
          "data": {
            "application/vnd.jupyter.widget-view+json": {
              "model_id": "a05f8bfb4d96466cb4145a98979695a3",
              "version_minor": 0,
              "version_major": 2
            },
            "text/plain": [
              "HBox(children=(FloatProgress(value=0.0, max=10000.0), HTML(value='')))"
            ]
          },
          "metadata": {
            "tags": []
          }
        },
        {
          "output_type": "stream",
          "text": [
            "----------미분 시작----------\n"
          ],
          "name": "stdout"
        },
        {
          "output_type": "error",
          "ename": "KeyboardInterrupt",
          "evalue": "ignored",
          "traceback": [
            "\u001b[0;31m---------------------------------------------------------------------------\u001b[0m",
            "\u001b[0;31mKeyboardInterrupt\u001b[0m                         Traceback (most recent call last)",
            "\u001b[0;32m<ipython-input-38-950431b0c4a5>\u001b[0m in \u001b[0;36m<module>\u001b[0;34m()\u001b[0m\n\u001b[1;32m     12\u001b[0m     \u001b[0;31m# 기울기를 알아야 경사하강법(최적화)을 수행 가능\u001b[0m\u001b[0;34m\u001b[0m\u001b[0;34m\u001b[0m\u001b[0;34m\u001b[0m\u001b[0m\n\u001b[1;32m     13\u001b[0m \u001b[0;34m\u001b[0m\u001b[0m\n\u001b[0;32m---> 14\u001b[0;31m     \u001b[0mgrads\u001b[0m \u001b[0;34m=\u001b[0m \u001b[0mnet\u001b[0m\u001b[0;34m.\u001b[0m\u001b[0mnumerical_gradient_params\u001b[0m\u001b[0;34m(\u001b[0m\u001b[0mX_batch\u001b[0m\u001b[0;34m,\u001b[0m \u001b[0mt_batch\u001b[0m\u001b[0;34m)\u001b[0m \u001b[0;31m# 예측 - 손실 - 미분\u001b[0m\u001b[0;34m\u001b[0m\u001b[0;34m\u001b[0m\u001b[0m\n\u001b[0m\u001b[1;32m     15\u001b[0m \u001b[0;34m\u001b[0m\u001b[0m\n\u001b[1;32m     16\u001b[0m     \u001b[0;31m# 기울기를 구했으면 경사하강법 수행하기\u001b[0m\u001b[0;34m\u001b[0m\u001b[0;34m\u001b[0m\u001b[0;34m\u001b[0m\u001b[0m\n",
            "\u001b[0;32m<ipython-input-31-a802b4c9477d>\u001b[0m in \u001b[0;36mnumerical_gradient_params\u001b[0;34m(self, x, t)\u001b[0m\n\u001b[1;32m     55\u001b[0m \u001b[0;34m\u001b[0m\u001b[0m\n\u001b[1;32m     56\u001b[0m         \u001b[0;31m# 1층 매개변수에 대한 기울기 구하기 : loss에 대한 W1, b1의 기울기를 grads 저장\u001b[0m\u001b[0;34m\u001b[0m\u001b[0;34m\u001b[0m\u001b[0;34m\u001b[0m\u001b[0m\n\u001b[0;32m---> 57\u001b[0;31m         \u001b[0mgrads\u001b[0m\u001b[0;34m[\u001b[0m\u001b[0;34m'W1'\u001b[0m\u001b[0;34m]\u001b[0m \u001b[0;34m=\u001b[0m \u001b[0mnumerical_gradient\u001b[0m\u001b[0;34m(\u001b[0m\u001b[0mloss_param_f\u001b[0m\u001b[0;34m,\u001b[0m \u001b[0mself\u001b[0m\u001b[0;34m.\u001b[0m\u001b[0mparams\u001b[0m\u001b[0;34m[\u001b[0m\u001b[0;34m'W1'\u001b[0m\u001b[0;34m]\u001b[0m\u001b[0;34m)\u001b[0m \u001b[0;31m# dL / dW1\u001b[0m\u001b[0;34m\u001b[0m\u001b[0;34m\u001b[0m\u001b[0m\n\u001b[0m\u001b[1;32m     58\u001b[0m         \u001b[0mgrads\u001b[0m\u001b[0;34m[\u001b[0m\u001b[0;34m'b1'\u001b[0m\u001b[0;34m]\u001b[0m \u001b[0;34m=\u001b[0m \u001b[0mnumerical_gradient\u001b[0m\u001b[0;34m(\u001b[0m\u001b[0mloss_param_f\u001b[0m\u001b[0;34m,\u001b[0m \u001b[0mself\u001b[0m\u001b[0;34m.\u001b[0m\u001b[0mparams\u001b[0m\u001b[0;34m[\u001b[0m\u001b[0;34m'b1'\u001b[0m\u001b[0;34m]\u001b[0m\u001b[0;34m)\u001b[0m \u001b[0;31m# dL / db1\u001b[0m\u001b[0;34m\u001b[0m\u001b[0;34m\u001b[0m\u001b[0m\n\u001b[1;32m     59\u001b[0m \u001b[0;34m\u001b[0m\u001b[0m\n",
            "\u001b[0;32m<ipython-input-24-5822758d3d8b>\u001b[0m in \u001b[0;36mnumerical_gradient\u001b[0;34m(f, x)\u001b[0m\n\u001b[1;32m     29\u001b[0m         \u001b[0mfxh1\u001b[0m \u001b[0;34m=\u001b[0m \u001b[0mf\u001b[0m\u001b[0;34m(\u001b[0m\u001b[0mx\u001b[0m\u001b[0;34m)\u001b[0m \u001b[0;31m# f(x+h)\u001b[0m\u001b[0;34m\u001b[0m\u001b[0;34m\u001b[0m\u001b[0m\n\u001b[1;32m     30\u001b[0m         \u001b[0mx\u001b[0m\u001b[0;34m[\u001b[0m\u001b[0midx\u001b[0m\u001b[0;34m]\u001b[0m \u001b[0;34m=\u001b[0m \u001b[0mtmp_val\u001b[0m \u001b[0;34m-\u001b[0m \u001b[0mh\u001b[0m\u001b[0;34m\u001b[0m\u001b[0;34m\u001b[0m\u001b[0m\n\u001b[0;32m---> 31\u001b[0;31m         \u001b[0mfxh2\u001b[0m \u001b[0;34m=\u001b[0m \u001b[0mf\u001b[0m\u001b[0;34m(\u001b[0m\u001b[0mx\u001b[0m\u001b[0;34m)\u001b[0m \u001b[0;31m# f(x-h)\u001b[0m\u001b[0;34m\u001b[0m\u001b[0;34m\u001b[0m\u001b[0m\n\u001b[0m\u001b[1;32m     32\u001b[0m         \u001b[0mgrad\u001b[0m\u001b[0;34m[\u001b[0m\u001b[0midx\u001b[0m\u001b[0;34m]\u001b[0m \u001b[0;34m=\u001b[0m \u001b[0;34m(\u001b[0m\u001b[0mfxh1\u001b[0m \u001b[0;34m-\u001b[0m \u001b[0mfxh2\u001b[0m\u001b[0;34m)\u001b[0m \u001b[0;34m/\u001b[0m \u001b[0;34m(\u001b[0m\u001b[0;36m2\u001b[0m\u001b[0;34m*\u001b[0m\u001b[0mh\u001b[0m\u001b[0;34m)\u001b[0m\u001b[0;34m\u001b[0m\u001b[0;34m\u001b[0m\u001b[0m\n\u001b[1;32m     33\u001b[0m         \u001b[0mx\u001b[0m\u001b[0;34m[\u001b[0m\u001b[0midx\u001b[0m\u001b[0;34m]\u001b[0m \u001b[0;34m=\u001b[0m \u001b[0mtmp_val\u001b[0m \u001b[0;31m# 값 복원\u001b[0m\u001b[0;34m\u001b[0m\u001b[0;34m\u001b[0m\u001b[0m\n",
            "\u001b[0;32m<ipython-input-31-a802b4c9477d>\u001b[0m in \u001b[0;36m<lambda>\u001b[0;34m(p)\u001b[0m\n\u001b[1;32m     52\u001b[0m \u001b[0;34m\u001b[0m\u001b[0m\n\u001b[1;32m     53\u001b[0m         \u001b[0mprint\u001b[0m\u001b[0;34m(\u001b[0m\u001b[0;34m'----------미분 시작----------'\u001b[0m\u001b[0;34m)\u001b[0m\u001b[0;34m\u001b[0m\u001b[0;34m\u001b[0m\u001b[0m\n\u001b[0;32m---> 54\u001b[0;31m         \u001b[0mloss_param_f\u001b[0m \u001b[0;34m=\u001b[0m \u001b[0;32mlambda\u001b[0m \u001b[0mp\u001b[0m \u001b[0;34m:\u001b[0m \u001b[0mself\u001b[0m\u001b[0;34m.\u001b[0m\u001b[0mloss\u001b[0m\u001b[0;34m(\u001b[0m\u001b[0mx\u001b[0m\u001b[0;34m,\u001b[0m\u001b[0mt\u001b[0m\u001b[0;34m)\u001b[0m \u001b[0;31m# loss_param_f : 각종 모델 파라미터에 대한 loss의 미분값을 구해줄 함수\u001b[0m\u001b[0;34m\u001b[0m\u001b[0;34m\u001b[0m\u001b[0m\n\u001b[0m\u001b[1;32m     55\u001b[0m \u001b[0;34m\u001b[0m\u001b[0m\n\u001b[1;32m     56\u001b[0m         \u001b[0;31m# 1층 매개변수에 대한 기울기 구하기 : loss에 대한 W1, b1의 기울기를 grads 저장\u001b[0m\u001b[0;34m\u001b[0m\u001b[0;34m\u001b[0m\u001b[0;34m\u001b[0m\u001b[0m\n",
            "\u001b[0;32m<ipython-input-31-a802b4c9477d>\u001b[0m in \u001b[0;36mloss\u001b[0;34m(self, x, t)\u001b[0m\n\u001b[1;32m     41\u001b[0m     \u001b[0;32mdef\u001b[0m \u001b[0mloss\u001b[0m\u001b[0;34m(\u001b[0m\u001b[0mself\u001b[0m\u001b[0;34m,\u001b[0m \u001b[0mx\u001b[0m\u001b[0;34m,\u001b[0m \u001b[0mt\u001b[0m\u001b[0;34m)\u001b[0m\u001b[0;34m:\u001b[0m\u001b[0;34m\u001b[0m\u001b[0;34m\u001b[0m\u001b[0m\n\u001b[1;32m     42\u001b[0m         \u001b[0;31m# predict를 호출해서 예측..\u001b[0m\u001b[0;34m\u001b[0m\u001b[0;34m\u001b[0m\u001b[0;34m\u001b[0m\u001b[0m\n\u001b[0;32m---> 43\u001b[0;31m         \u001b[0my\u001b[0m \u001b[0;34m=\u001b[0m \u001b[0mself\u001b[0m\u001b[0;34m.\u001b[0m\u001b[0mpredict\u001b[0m\u001b[0;34m(\u001b[0m\u001b[0mx\u001b[0m\u001b[0;34m)\u001b[0m\u001b[0;34m\u001b[0m\u001b[0;34m\u001b[0m\u001b[0m\n\u001b[0m\u001b[1;32m     44\u001b[0m         \u001b[0;32mreturn\u001b[0m \u001b[0mcross_entropy_error\u001b[0m\u001b[0;34m(\u001b[0m\u001b[0my\u001b[0m\u001b[0;34m,\u001b[0m\u001b[0mt\u001b[0m\u001b[0;34m)\u001b[0m\u001b[0;34m\u001b[0m\u001b[0;34m\u001b[0m\u001b[0m\n\u001b[1;32m     45\u001b[0m \u001b[0;34m\u001b[0m\u001b[0m\n",
            "\u001b[0;32m<ipython-input-31-a802b4c9477d>\u001b[0m in \u001b[0;36mpredict\u001b[0;34m(self, x)\u001b[0m\n\u001b[1;32m     30\u001b[0m \u001b[0;34m\u001b[0m\u001b[0m\n\u001b[1;32m     31\u001b[0m         \u001b[0;31m# 1층 출력층 계산\u001b[0m\u001b[0;34m\u001b[0m\u001b[0;34m\u001b[0m\u001b[0;34m\u001b[0m\u001b[0m\n\u001b[0;32m---> 32\u001b[0;31m         \u001b[0mz1\u001b[0m \u001b[0;34m=\u001b[0m \u001b[0mx\u001b[0m \u001b[0;34m@\u001b[0m \u001b[0mW1\u001b[0m \u001b[0;34m+\u001b[0m \u001b[0mb1\u001b[0m\u001b[0;34m\u001b[0m\u001b[0;34m\u001b[0m\u001b[0m\n\u001b[0m\u001b[1;32m     33\u001b[0m         \u001b[0ma1\u001b[0m \u001b[0;34m=\u001b[0m \u001b[0msigmoid\u001b[0m\u001b[0;34m(\u001b[0m\u001b[0mz1\u001b[0m\u001b[0;34m)\u001b[0m\u001b[0;34m\u001b[0m\u001b[0;34m\u001b[0m\u001b[0m\n\u001b[1;32m     34\u001b[0m \u001b[0;34m\u001b[0m\u001b[0m\n",
            "\u001b[0;31mKeyboardInterrupt\u001b[0m: "
          ]
        }
      ]
    },
    {
      "cell_type": "code",
      "metadata": {
        "colab": {
          "base_uri": "https://localhost:8080/",
          "height": 483,
          "referenced_widgets": [
            "0062ca03dc5849d190bf2ec54241c145",
            "5416bac0115e4c2180d6619771f498d5",
            "fa96228c75a148288be38a8a80a29f44",
            "1c5197d230ed408da0a0e627a0bb777a",
            "b2ee8647f9c644f686314322efa3a065",
            "b0c327d51e7e4693bfef529de734aa12",
            "118a3d9dd3fc4aacb62f6fc86ec81282",
            "5df3e33e29224368b2626f25559b91b3"
          ]
        },
        "id": "RMtcrJmelNtG",
        "outputId": "c2bc0930-9b6f-45e7-9999-8d9bc9ddbe89"
      },
      "source": [
        "# 반복문 돌릴 때 진행 상황 프로그래스 바로 시각화 해서 보기\n",
        "from tqdm import tqdm_notebook\n",
        "\n",
        "for i in tqdm_notebook(range(iter_nums)):\n",
        "    # 1. 미니 배치 만들기\n",
        "    batch_mask = np.random.choice(train_size, batch_size)\n",
        "\n",
        "    X_batch = X_train[batch_mask] # feature 가져오기\n",
        "    t_batch = t_train[batch_mask] # label 가져오기\n",
        "    \n",
        "    print(batch_mask)\n",
        "len(batch_mask)"
      ],
      "execution_count": null,
      "outputs": [
        {
          "output_type": "stream",
          "text": [
            "/usr/local/lib/python3.7/dist-packages/ipykernel_launcher.py:4: TqdmDeprecationWarning: This function will be removed in tqdm==5.0.0\n",
            "Please use `tqdm.notebook.tqdm` instead of `tqdm.tqdm_notebook`\n",
            "  after removing the cwd from sys.path.\n"
          ],
          "name": "stderr"
        },
        {
          "output_type": "display_data",
          "data": {
            "application/vnd.jupyter.widget-view+json": {
              "model_id": "0062ca03dc5849d190bf2ec54241c145",
              "version_minor": 0,
              "version_major": 2
            },
            "text/plain": [
              "HBox(children=(FloatProgress(value=0.0, max=2.0), HTML(value='')))"
            ]
          },
          "metadata": {
            "tags": []
          }
        },
        {
          "output_type": "stream",
          "text": [
            "[35884 42978  1510 15703 50611 50907 10679 12661 51499 55090 10012 43851\n",
            " 35462 32333 41914 57511 26476 46839  6422 11305 42471 54534  8425 48787\n",
            " 29783 54183  5532 39005 53560 33064 41324 51174 49593   965  6142 58356\n",
            "  2056 20181 44763 15423 46514 42221 37927 58780 55991 34823 55440 36295\n",
            " 44955 11827  4516 25825 41212 52834 26413 29745 10601  7411   943 11301\n",
            " 34458 25302 54872 43408 31719 23676 13179  9769 58960 13159 42135  8450\n",
            " 21598 32522 39275  7654 52264 45492 12355  9085 28040 17129 29594 53638\n",
            "  8243 57355 55174 52554 18035 53766 55411 55319 57835 29743 47259  1244\n",
            "  4298 18098 31936 46956]\n",
            "[42289 22084 12080 45091 18369  6440 14985 11079 33115 40571 59898 39153\n",
            " 23994 20683 18324 34317 44047 23840 59115 24207 50188  1436 59480 50688\n",
            " 56574 27658 46916 12138 51195 20004 20957 55488 36540 53398 54493 12491\n",
            " 35695 28509 38432 21681  4685  8998 56935 35276 53670 46552 16138 57380\n",
            " 39110  8920 53547 38008 34766 31401 43486 49786 24911 36911  9032  5675\n",
            " 24736  1901 43639 17312 24124 27566 40108 52163 51630 55382 36608 16189\n",
            " 47313  7283  4752 12379 56377 57896 51527 41870 40584 41282 40187 54612\n",
            " 53875 33399  3029 31481 20107 21563 16391 32316 49144  6610  1851 54663\n",
            "  2948  8938 19792 55316]\n",
            "\n"
          ],
          "name": "stdout"
        },
        {
          "output_type": "execute_result",
          "data": {
            "text/plain": [
              "100"
            ]
          },
          "metadata": {
            "tags": []
          },
          "execution_count": 44
        }
      ]
    },
    {
      "cell_type": "code",
      "metadata": {
        "id": "kmWCXlqTkCvO"
      },
      "source": [
        ""
      ],
      "execution_count": null,
      "outputs": []
    }
  ]
}
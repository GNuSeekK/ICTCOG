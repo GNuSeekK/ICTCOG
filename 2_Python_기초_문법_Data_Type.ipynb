{
  "nbformat": 4,
  "nbformat_minor": 0,
  "metadata": {
    "colab": {
      "name": "2. Python 기초 문법 - Data Type.ipynb",
      "provenance": [],
      "collapsed_sections": [],
      "toc_visible": true,
      "authorship_tag": "ABX9TyNEraiSD1QolyX8SWxRmWsy",
      "include_colab_link": true
    },
    "kernelspec": {
      "name": "python3",
      "display_name": "Python 3"
    },
    "language_info": {
      "name": "python"
    }
  },
  "cells": [
    {
      "cell_type": "markdown",
      "metadata": {
        "id": "view-in-github",
        "colab_type": "text"
      },
      "source": [
        "<a href=\"https://colab.research.google.com/github/GNuSeekK/ICTCOG/blob/main/2_Python_%EA%B8%B0%EC%B4%88_%EB%AC%B8%EB%B2%95_Data_Type.ipynb\" target=\"_parent\"><img src=\"https://colab.research.google.com/assets/colab-badge.svg\" alt=\"Open In Colab\"/></a>"
      ]
    },
    {
      "cell_type": "markdown",
      "metadata": {
        "id": "l7fCNxsW5a5P"
      },
      "source": [
        "# Data Type이란?\n",
        "* 모든 프로그래밍 언어가 **데이터**를 다루기 위한 약속\n",
        "* 내가 사용하고 싶은 데이터의 형식\n",
        "  > int, float, str, list, typle, set, dict, ...\n",
        "* 프로그래밍 언어마다 조금씩 다르고, 어떠한 프로그래밍 언어를 배우든 제일 처음 익혀야할 관문\n",
        "* 데이터를 수집하고 나서 제일 먼저 확인해야 할 것이 바로 **데이터 타입 확인**\n",
        "    * 원하는 형식으로 올바르게 데이터가 존재 하는지를 반드시 확인해 봐야 합니다."
      ]
    },
    {
      "cell_type": "markdown",
      "metadata": {
        "id": "lQyDpVyb7Kcf"
      },
      "source": [
        "# 변수(Variable)란?\n",
        "* 프로그래밍 언어에서는 변수에서 **데이터를 저장/관리**한다.\n",
        "* 변수라는 개념을 통해 데이터를 사용할 수 있다."
      ]
    },
    {
      "cell_type": "code",
      "metadata": {
        "colab": {
          "base_uri": "https://localhost:8080/"
        },
        "id": "layetdtm7_uM",
        "outputId": "ad5ddf89-f241-4e36-c8ff-230a4e0d99bb"
      },
      "source": [
        "a = 10\n",
        "a"
      ],
      "execution_count": null,
      "outputs": [
        {
          "output_type": "execute_result",
          "data": {
            "text/plain": [
              "10"
            ]
          },
          "metadata": {
            "tags": []
          },
          "execution_count": 1
        }
      ]
    },
    {
      "cell_type": "markdown",
      "metadata": {
        "id": "VNfmm_j79AZe"
      },
      "source": [
        "# 숫자 데이터 (Numeric Data Types)\n",
        "* 숫자형 데이터란? 정수 / 실수 / 복소수 / 2진수 / 8진수 / 16진수를 포함하여 가장 많이 사용되는 타입중 하나입니다.\n",
        "* 파이썬은 숫자의 표현 범위가 무한대\n",
        "    * 컴퓨터가 따라가지 못할정도로 크거나 작은 값이면 'int'로 처리\n",
        "* 숫자 데이터이기 때문에 각종 연산을 지원 합니다."
      ]
    },
    {
      "cell_type": "markdown",
      "metadata": {
        "id": "mIWgyQY7_psb"
      },
      "source": [
        "## 정수형(Integer)"
      ]
    },
    {
      "cell_type": "code",
      "metadata": {
        "colab": {
          "base_uri": "https://localhost:8080/"
        },
        "id": "H9KXowmWVlA1",
        "outputId": "811261ee-d04a-4c81-b4b3-fe6cf3d916c7"
      },
      "source": [
        "a = 10 # 10을 a에 할당(assignment)\n",
        "b = 5\n",
        "\n",
        "a + b"
      ],
      "execution_count": 4,
      "outputs": [
        {
          "output_type": "execute_result",
          "data": {
            "text/plain": [
              "15"
            ]
          },
          "metadata": {
            "tags": []
          },
          "execution_count": 4
        }
      ]
    },
    {
      "cell_type": "code",
      "metadata": {
        "colab": {
          "base_uri": "https://localhost:8080/"
        },
        "id": "kOt3-jTRWWki",
        "outputId": "7a6d9646-0b57-4f30-b8ae-af926d23dd04"
      },
      "source": [
        "a - b"
      ],
      "execution_count": 5,
      "outputs": [
        {
          "output_type": "execute_result",
          "data": {
            "text/plain": [
              "5"
            ]
          },
          "metadata": {
            "tags": []
          },
          "execution_count": 5
        }
      ]
    },
    {
      "cell_type": "code",
      "metadata": {
        "colab": {
          "base_uri": "https://localhost:8080/"
        },
        "id": "2knWlnkjWXGK",
        "outputId": "240c04ea-9a8b-4a1a-dc22-17004a0c8fd1"
      },
      "source": [
        "a * b"
      ],
      "execution_count": 6,
      "outputs": [
        {
          "output_type": "execute_result",
          "data": {
            "text/plain": [
              "50"
            ]
          },
          "metadata": {
            "tags": []
          },
          "execution_count": 6
        }
      ]
    },
    {
      "cell_type": "markdown",
      "metadata": {
        "id": "7vun_HiEWeK-"
      },
      "source": [
        "## 실수형 (Floating Point)\n",
        "* 소수점 자리가 있는 **수**"
      ]
    },
    {
      "cell_type": "code",
      "metadata": {
        "colab": {
          "base_uri": "https://localhost:8080/"
        },
        "id": "tCeDzgZhW2br",
        "outputId": "328b8125-7e38-4576-e869-f0e48729e296"
      },
      "source": [
        "c = 3.14\n",
        "d = 0.5\n",
        "\n",
        "c + d"
      ],
      "execution_count": 7,
      "outputs": [
        {
          "output_type": "execute_result",
          "data": {
            "text/plain": [
              "3.64"
            ]
          },
          "metadata": {
            "tags": []
          },
          "execution_count": 7
        }
      ]
    },
    {
      "cell_type": "code",
      "metadata": {
        "colab": {
          "base_uri": "https://localhost:8080/"
        },
        "id": "o7_H4qsnW5Wg",
        "outputId": "0052a503-03a7-48c6-a820-cbfe34f37e6f"
      },
      "source": [
        "c - d"
      ],
      "execution_count": 8,
      "outputs": [
        {
          "output_type": "execute_result",
          "data": {
            "text/plain": [
              "2.64"
            ]
          },
          "metadata": {
            "tags": []
          },
          "execution_count": 8
        }
      ]
    },
    {
      "cell_type": "code",
      "metadata": {
        "colab": {
          "base_uri": "https://localhost:8080/"
        },
        "id": "Ey9RCEefW5uT",
        "outputId": "e6a880c3-62b3-4dc9-97f2-19495c0f4277"
      },
      "source": [
        "c + a"
      ],
      "execution_count": 9,
      "outputs": [
        {
          "output_type": "execute_result",
          "data": {
            "text/plain": [
              "13.14"
            ]
          },
          "metadata": {
            "tags": []
          },
          "execution_count": 9
        }
      ]
    },
    {
      "cell_type": "code",
      "metadata": {
        "colab": {
          "base_uri": "https://localhost:8080/"
        },
        "id": "vSf7lxbRXE9Q",
        "outputId": "a8f284a8-a7d8-4039-ad52-8cc99554a0e1"
      },
      "source": [
        "# e를 쓰는 표현은 사람이 직접 하는 경우는 거의 없다.\n",
        "# 데이터 분석, 머신러닝, 딥러닝 등을 하다보면 가끔 이렇게 표기가 되는 경우가 많다.\n",
        "e = 1.34e6\n",
        "e"
      ],
      "execution_count": 11,
      "outputs": [
        {
          "output_type": "execute_result",
          "data": {
            "text/plain": [
              "1340000.0"
            ]
          },
          "metadata": {
            "tags": []
          },
          "execution_count": 11
        }
      ]
    },
    {
      "cell_type": "code",
      "metadata": {
        "colab": {
          "base_uri": "https://localhost:8080/"
        },
        "id": "7g-B4jxFXHfx",
        "outputId": "f76b3c7b-0545-450f-c3b7-80b371eb78b1"
      },
      "source": [
        "f = 1.34e-6\n",
        "f"
      ],
      "execution_count": 13,
      "outputs": [
        {
          "output_type": "stream",
          "text": [
            "1.34e-06\n"
          ],
          "name": "stdout"
        }
      ]
    },
    {
      "cell_type": "markdown",
      "metadata": {
        "id": "Ao0Xa9e8XW9L"
      },
      "source": [
        "# 숫자 타입으로 사용할 수 있는 여러가지 연산자\n",
        "* 연산자? 연산을 하기 위한 **기호**\n",
        "* 연산? 계산이라고도 이해할 수 있지만, 프로그래밍에서는 결과를 내기위한 과정\\"
      ]
    },
    {
      "cell_type": "code",
      "metadata": {
        "colab": {
          "base_uri": "https://localhost:8080/"
        },
        "id": "QsKvGcM5X6Hl",
        "outputId": "86d1ad41-c0f9-497f-c586-c036200abb57"
      },
      "source": [
        "# a에 10을, b에 3을 할당\n",
        "a = 10\n",
        "b = 3\n",
        "\n",
        "print(a + b) # a + b의 결과물을 print(출력)한다.\n",
        "print(a - b)\n",
        "print(a * b)\n",
        "print(a / b) # 나눗셈은 실수로 표현 된다.\n",
        "\n",
        "# 특수연산\n",
        "print(a // b) # 몫만 구하는 방법\n",
        "print(a % b) # 나머지만 구하는 방법\n",
        "print(a ** 2) # a의 2제곱"
      ],
      "execution_count": 24,
      "outputs": [
        {
          "output_type": "stream",
          "text": [
            "13\n",
            "7\n",
            "30\n",
            "3.3333333333333335\n",
            "3\n",
            "1\n",
            "100\n"
          ],
          "name": "stdout"
        }
      ]
    },
    {
      "cell_type": "markdown",
      "metadata": {
        "id": "aQeiL4JxaBy-"
      },
      "source": [
        "* 실수랑 정수랑 연산하면 그 결과는 뭐가 될까요? -> 실수\n",
        "    * 실수가 정수보다 표현범위가 넓기 때문\n",
        "* '3.0'은 정수? 실수? -> 실수\n",
        "    * '3.0'과 3은 같을까요? -> 값은 똑같지만 데이터 타입이 다르다."
      ]
    },
    {
      "cell_type": "markdown",
      "metadata": {
        "id": "dA0Gyeuua0Dj"
      },
      "source": [
        "## 데이터 분석에서의 정수와 실수의 역할\n",
        "* 보통 데이터 분석에서 **값으로써** 활용되는 데이터 타입은 '실수'\n",
        "    * 값은 연산의 대상이 된다.\n",
        "    * 나이도 원래는 정수로 생각하기 쉬움\n",
        "        * '20살' -> '20.0살'\n",
        "        * '10명' -> '10.0명'\n",
        "* 정수는 보통 카테고리에 매칭하기 위해 사용\n",
        "    * '족구' : 0\n",
        "    * '축구' : 1\n",
        "    * '농구' : 2"
      ]
    },
    {
      "cell_type": "markdown",
      "metadata": {
        "id": "E3q_X9UGcDAE"
      },
      "source": [
        "# 문자열(String)\n",
        "* 문자열 데이터란? -> 텍스트\n",
        "    * 문자(character)의 나열\n",
        "* 문자열 데이터를 사용할 때는 작은 따옴표('') 또는 큰 따옴표(\"\")를 활용한다.\n"
      ]
    },
    {
      "cell_type": "code",
      "metadata": {
        "colab": {
          "base_uri": "https://localhost:8080/"
        },
        "id": "6zP0Yj4hcpTL",
        "outputId": "e6a687f9-039f-4b39-fe7e-8a758abae50d"
      },
      "source": [
        "s = \"안녕하세요. 반갑습니다.\"\n",
        "print(s)"
      ],
      "execution_count": 27,
      "outputs": [
        {
          "output_type": "stream",
          "text": [
            "안녕하세요. 반갑습니다.\n"
          ],
          "name": "stdout"
        }
      ]
    },
    {
      "cell_type": "code",
      "metadata": {
        "colab": {
          "base_uri": "https://localhost:8080/"
        },
        "id": "aWB7Iw6BcytM",
        "outputId": "e7739e24-89fb-495d-9c82-3ded7de63719"
      },
      "source": [
        "s2 = '오늘은 5월 16일 입니다.'\n",
        "print(s2)"
      ],
      "execution_count": 28,
      "outputs": [
        {
          "output_type": "stream",
          "text": [
            "오늘은 5월 16일 입니다.\n"
          ],
          "name": "stdout"
        }
      ]
    },
    {
      "cell_type": "markdown",
      "metadata": {
        "id": "7DtCLo9SdX5a"
      },
      "source": [
        "I'm Student를 출력해 보자"
      ]
    },
    {
      "cell_type": "code",
      "metadata": {
        "colab": {
          "base_uri": "https://localhost:8080/",
          "height": 136
        },
        "id": "F57xW-lEeQXx",
        "outputId": "b164e069-1a30-49d3-883f-e02b382f349e"
      },
      "source": [
        "s3 = 'I'm student'"
      ],
      "execution_count": 31,
      "outputs": [
        {
          "output_type": "error",
          "ename": "SyntaxError",
          "evalue": "ignored",
          "traceback": [
            "\u001b[0;36m  File \u001b[0;32m\"<ipython-input-31-868a29d56607>\"\u001b[0;36m, line \u001b[0;32m1\u001b[0m\n\u001b[0;31m    s3 = 'I'm student'\u001b[0m\n\u001b[0m            ^\u001b[0m\n\u001b[0;31mSyntaxError\u001b[0m\u001b[0;31m:\u001b[0m invalid syntax\n"
          ]
        }
      ]
    },
    {
      "cell_type": "code",
      "metadata": {
        "id": "4M0eHulFeftT"
      },
      "source": [
        "s3 = \"I'm student\"\n",
        "print(s3)"
      ],
      "execution_count": 32,
      "outputs": []
    },
    {
      "cell_type": "code",
      "metadata": {
        "colab": {
          "base_uri": "https://localhost:8080/"
        },
        "id": "-p17nK6Yeh_S",
        "outputId": "ab8ab07a-ea2e-4b5a-d43a-fa6ddb251915"
      },
      "source": [
        "# 큰 따옴표를 문자열 안에 표시하고 싶을 때는 작은 따옴표로 문자열을 만든다.\n",
        "# \"안녕하세요\"라고 인사했어요\n",
        "s4 = '\"안녕하세요\"라고 인사했어요.'\n",
        "print(s4)"
      ],
      "execution_count": 33,
      "outputs": [
        {
          "output_type": "stream",
          "text": [
            "\"안녕하세요\"라고 인사했어요.\n"
          ],
          "name": "stdout"
        }
      ]
    },
    {
      "cell_type": "markdown",
      "metadata": {
        "id": "PVhlNwL9e-st"
      },
      "source": [
        "## 특수 문자 표현(escape code)"
      ]
    },
    {
      "cell_type": "code",
      "metadata": {
        "colab": {
          "base_uri": "https://localhost:8080/",
          "height": 136
        },
        "id": "Rv0lhGxOjPRZ",
        "outputId": "55b43aa1-75b7-4554-ca45-0bc1b9f83544"
      },
      "source": [
        "s5 = '\"안녕하세요\"라고\n",
        "인사했어요'"
      ],
      "execution_count": 36,
      "outputs": [
        {
          "output_type": "error",
          "ename": "SyntaxError",
          "evalue": "ignored",
          "traceback": [
            "\u001b[0;36m  File \u001b[0;32m\"<ipython-input-36-716c68c9b3d1>\"\u001b[0;36m, line \u001b[0;32m1\u001b[0m\n\u001b[0;31m    s5 = '\"안녕하세요\"라고\u001b[0m\n\u001b[0m                   ^\u001b[0m\n\u001b[0;31mSyntaxError\u001b[0m\u001b[0;31m:\u001b[0m EOL while scanning string literal\n"
          ]
        }
      ]
    },
    {
      "cell_type": "code",
      "metadata": {
        "colab": {
          "base_uri": "https://localhost:8080/"
        },
        "id": "8qVR_72Sj6Ji",
        "outputId": "ef536ae4-0acc-45e0-b4c6-74780d7dae11"
      },
      "source": [
        "s5 = '\"안녕하세요\"라고\\n인사했어요'\n",
        "print(s5)"
      ],
      "execution_count": 39,
      "outputs": [
        {
          "output_type": "stream",
          "text": [
            "\"안녕하세요\"라고\n",
            "인사했어요\n"
          ],
          "name": "stdout"
        }
      ]
    },
    {
      "cell_type": "code",
      "metadata": {
        "colab": {
          "base_uri": "https://localhost:8080/"
        },
        "id": "Y_6BAoh8kR1_",
        "outputId": "6e774613-2725-41c0-cf96-b6334fec7e79"
      },
      "source": [
        "s6 = \"Hellow\\tWorld\"\n",
        "s7 = \"Hellow\\t\\tWorld\"\n",
        "print(s6)\n",
        "print(s7)"
      ],
      "execution_count": 43,
      "outputs": [
        {
          "output_type": "stream",
          "text": [
            "Hellow\tWorld\n",
            "Hellow\t\tWorld\n"
          ],
          "name": "stdout"
        }
      ]
    },
    {
      "cell_type": "code",
      "metadata": {
        "colab": {
          "base_uri": "https://localhost:8080/"
        },
        "id": "jY0sOK7gk18U",
        "outputId": "bfb81432-b548-441f-f877-30e5dbb551ce"
      },
      "source": [
        "# 개행을 쉽게 하자(큰 따옴표나 작은 따옴표를 3개를 연속으로 사용하는 방식)\n",
        "news = \"\"\"오늘은 이기성이 ICTCOG 인공지능 수업을 처음 들은 날이다.\n",
        "\n",
        "이 날은 5.16로 휴가를 가기 얼마 전이라 마음이 싱숭생숭 하지만\n",
        "열심히 배워 좋은 인공지능을 구현하기 위해 노력하고 있다.\"\"\"\n",
        "\n",
        "print(news)"
      ],
      "execution_count": 46,
      "outputs": [
        {
          "output_type": "stream",
          "text": [
            "오늘은 이기성이 ICTCOG 인공지능 수업을 처음 들은 날이다.\n",
            "\n",
            "이 날은 5.16로 휴가를 가기 얼마 전이라 마음이 싱숭생숭 하지만\n",
            "열심히 배워 좋은 인공지능을 구현하기 위해 노력하고 있다.\n"
          ],
          "name": "stdout"
        }
      ]
    },
    {
      "cell_type": "code",
      "metadata": {
        "colab": {
          "base_uri": "https://localhost:8080/",
          "height": 71
        },
        "id": "YUhHsCdYmgZL",
        "outputId": "7ff74996-e026-46ca-dd2a-609e927df611"
      },
      "source": [
        "news"
      ],
      "execution_count": 48,
      "outputs": [
        {
          "output_type": "execute_result",
          "data": {
            "application/vnd.google.colaboratory.intrinsic+json": {
              "type": "string"
            },
            "text/plain": [
              "'오늘은 이기성이 ICTCOG 인공지능 수업을 처음 들은 날이다.\\n\\n이 날은 5.16로 휴가를 가기 얼마 전이라 마음이 싱숭생숭 하지만\\n열심히 배워 좋은 인공지능을 구현하기 위해 노력하고 있다.'"
            ]
          },
          "metadata": {
            "tags": []
          },
          "execution_count": 48
        }
      ]
    },
    {
      "cell_type": "markdown",
      "metadata": {
        "id": "crcEdvR1micb"
      },
      "source": [
        "## 문자열의 연산도 가능 할까요?\n",
        "* 덧셈 : 문자열과 문자열을 이어주는 역할\n",
        "* 곱셈 : 문자열을 n회 반복하는 역할"
      ]
    },
    {
      "cell_type": "code",
      "metadata": {
        "colab": {
          "base_uri": "https://localhost:8080/"
        },
        "id": "LEs4YZmUnIPE",
        "outputId": "5ead3c61-39d2-4c89-e672-b44443ea040c"
      },
      "source": [
        "FIRST_NAME = '기성'\n",
        "LAST_NAME = '이'\n",
        "\n",
        "print(LAST_NAME + FIRST_NAME)"
      ],
      "execution_count": 50,
      "outputs": [
        {
          "output_type": "stream",
          "text": [
            "이기성\n"
          ],
          "name": "stdout"
        }
      ]
    },
    {
      "cell_type": "code",
      "metadata": {
        "colab": {
          "base_uri": "https://localhost:8080/"
        },
        "id": "GKcy-kLcnS9y",
        "outputId": "90aedd24-e103-46c7-e3b3-335461a1a5c1"
      },
      "source": [
        "FIRST_NAME = '기성'\n",
        "LAST_NAME = '이'\n",
        "\n",
        "print(LAST_NAME + ' ' + FIRST_NAME)"
      ],
      "execution_count": 52,
      "outputs": [
        {
          "output_type": "stream",
          "text": [
            "이 기성\n"
          ],
          "name": "stdout"
        }
      ]
    },
    {
      "cell_type": "code",
      "metadata": {
        "colab": {
          "base_uri": "https://localhost:8080/"
        },
        "id": "i780UkdYn4Vh",
        "outputId": "b547771c-5c52-4010-c476-fb31ddb791d1"
      },
      "source": [
        "s = 'hello'\n",
        "print(s*10) # 문자열 s안의 것을 10번 반복"
      ],
      "execution_count": 53,
      "outputs": [
        {
          "output_type": "stream",
          "text": [
            "hellohellohellohellohellohellohellohellohellohello\n"
          ],
          "name": "stdout"
        }
      ]
    },
    {
      "cell_type": "markdown",
      "metadata": {
        "id": "KzOJN7-Zn9A6"
      },
      "source": [
        "## 문자열 포매팅(formatting)"
      ]
    },
    {
      "cell_type": "code",
      "metadata": {
        "colab": {
          "base_uri": "https://localhost:8080/"
        },
        "id": "-_XCS3tsoRbN",
        "outputId": "d6c4063f-3fa3-48d6-d883-27bdb7b1c3d0"
      },
      "source": [
        "age = [10,20]\n",
        "# 저의 나이는 10살입니다. 라는 문자열이 출력 될 수 있게 하려면?\n",
        "# 1. 덧셈을 사용하는 방법\n",
        "for s in age:\n",
        "    print('저의 나이는 ' + str(s) + '살입니다') #age를 str으로 덮으면 타입 캐스팅이 발생됨. 정수를 문자열로 바꿔줍니다."
      ],
      "execution_count": 57,
      "outputs": [
        {
          "output_type": "stream",
          "text": [
            "저의 나이는 10살입니다\n",
            "저의 나이는 20살입니다\n"
          ],
          "name": "stdout"
        }
      ]
    },
    {
      "cell_type": "markdown",
      "metadata": {
        "id": "FbYPwKkYo26s"
      },
      "source": [
        "문자열 포매팅 기법 2가지 소개\n",
        "* 문자열.format 기능을 활용\n",
        "* f-string 기법 활용"
      ]
    },
    {
      "cell_type": "code",
      "metadata": {
        "colab": {
          "base_uri": "https://localhost:8080/"
        },
        "id": "6SZSZyDPo-Ph",
        "outputId": "1f41c59c-3721-4b98-9474-1dd25c4e5ec7"
      },
      "source": [
        "age = 20\n",
        "# format 기능 활용하기\n",
        "s = '저의 나이는 {}살 입니다.'\n",
        "print(s.format(age))"
      ],
      "execution_count": 64,
      "outputs": [
        {
          "output_type": "stream",
          "text": [
            "저의 나이는 20살 입니다.\n"
          ],
          "name": "stdout"
        }
      ]
    },
    {
      "cell_type": "code",
      "metadata": {
        "colab": {
          "base_uri": "https://localhost:8080/"
        },
        "id": "kMNUIhHKpaFE",
        "outputId": "1cacd3e6-f151-4551-d9db-ea32977d0494"
      },
      "source": [
        "# f-string 기법 활용하기\n",
        "age = 20\n",
        "s = f'저의 나이는 {age}살 입니다.'\n",
        "print(s)"
      ],
      "execution_count": 67,
      "outputs": [
        {
          "output_type": "stream",
          "text": [
            "저의 나이는 20살 입니다.\n"
          ],
          "name": "stdout"
        }
      ]
    },
    {
      "cell_type": "markdown",
      "metadata": {
        "id": "0VbJtRqtqaO_"
      },
      "source": [
        "* 나는 오늘 사과를 10개 샀다.\n",
        "* 나는 오늘 배를 5개 샀다."
      ]
    },
    {
      "cell_type": "code",
      "metadata": {
        "colab": {
          "base_uri": "https://localhost:8080/"
        },
        "id": "_vqYle8PrLG9",
        "outputId": "00392ee6-4253-4ebe-b906-309658a883d1"
      },
      "source": [
        "apple = 10\n",
        "pear = 5\n",
        "s = '나는 오늘 {}를 {}개 샀다.'\n",
        "print(s.format('사과',apple))\n",
        "print(s.format('배',pear))"
      ],
      "execution_count": 71,
      "outputs": [
        {
          "output_type": "stream",
          "text": [
            "나는 오늘 사과를 10개 샀다.\n",
            "나는 오늘 배를 5개 샀다.\n"
          ],
          "name": "stdout"
        }
      ]
    },
    {
      "cell_type": "code",
      "metadata": {
        "colab": {
          "base_uri": "https://localhost:8080/"
        },
        "id": "RSdYtb_rrY2l",
        "outputId": "c569e725-f344-4f8f-b65d-0fef886a75b5"
      },
      "source": [
        "s = f'저의 이름은 {LAST_NAME} {FIRST_NAME}입니다.'\n",
        "print(s)"
      ],
      "execution_count": 76,
      "outputs": [
        {
          "output_type": "stream",
          "text": [
            "저의 이름은 이 기성입니다.\n"
          ],
          "name": "stdout"
        }
      ]
    },
    {
      "cell_type": "markdown",
      "metadata": {
        "id": "jAKvnEHErhiS"
      },
      "source": [
        "문제\n",
        "\n",
        "주민등록번호 입력 받을 때 이름, 주민등록번호 필요\n",
        "* 이름은 name이라는 변수에 그냥 입력\n",
        "* 주민등록번호는 생년월일 + 앞자리 까지만 입력\n",
        "\n",
        "출력 : ' \" 이기성 / 970813-1****** \" '"
      ]
    },
    {
      "cell_type": "code",
      "metadata": {
        "colab": {
          "base_uri": "https://localhost:8080/"
        },
        "id": "2J8EVKiLr-m1",
        "outputId": "ce4dd99f-5f82-4809-a58b-6822b0ed10fb"
      },
      "source": [
        "name = '이기성'\n",
        "id = '970813-1'\n",
        "print(name + ' / '  + id + '******')\n",
        "print(f'{name} / {id}******')\n",
        "print('{} / {}******'.format(name,id))"
      ],
      "execution_count": 82,
      "outputs": [
        {
          "output_type": "stream",
          "text": [
            "이기성 / 970813-1******\n",
            "이기성 / 970813-1******\n",
            "이기성 / 970813-1******\n"
          ],
          "name": "stdout"
        }
      ]
    },
    {
      "cell_type": "markdown",
      "metadata": {
        "id": "jwTUL9JfxIuz"
      },
      "source": [
        "## 타입 캐스팅(자료형 변환)\n",
        "* 정수 - int\n",
        "* 실수 - float\n",
        "* 문자열 - str\n",
        "\n",
        "데이터 끼리의 타입을 변경 시켜주는 기능"
      ]
    },
    {
      "cell_type": "code",
      "metadata": {
        "colab": {
          "base_uri": "https://localhost:8080/"
        },
        "id": "AH8zgiCMxhGX",
        "outputId": "6c7d15b2-4255-4cce-c8d8-8b790312267d"
      },
      "source": [
        "# 정수를 실수와 문자열로 각각 변경\n",
        "a = 10\n",
        "\n",
        "float_a = float(a)\n",
        "str_a = str(a)\n",
        "\n",
        "print(float_a)\n",
        "print(str_a)"
      ],
      "execution_count": 84,
      "outputs": [
        {
          "output_type": "stream",
          "text": [
            "10.0\n",
            "10\n"
          ],
          "name": "stdout"
        }
      ]
    },
    {
      "cell_type": "code",
      "metadata": {
        "colab": {
          "base_uri": "https://localhost:8080/"
        },
        "id": "i4csE8vkyFLT",
        "outputId": "660e4828-6b4e-4e8f-a278-efc47716c6ae"
      },
      "source": [
        "# 타입 확인하기 type\n",
        "print(type(float_a))\n",
        "print(type(str_a))"
      ],
      "execution_count": 86,
      "outputs": [
        {
          "output_type": "stream",
          "text": [
            "<class 'float'>\n",
            "<class 'str'>\n"
          ],
          "name": "stdout"
        }
      ]
    },
    {
      "cell_type": "code",
      "metadata": {
        "colab": {
          "base_uri": "https://localhost:8080/"
        },
        "id": "MRei7oL6yJjH",
        "outputId": "829eafd1-6e96-45b0-e420-0c335bfd6d0e"
      },
      "source": [
        "# 실수를 문자열과 정수로 바꿔주기\n",
        "b = 1.5\n",
        "int_b = int(b)\n",
        "str_b = str(b)\n",
        "\n",
        "print(int_b)\n",
        "print(str_b)"
      ],
      "execution_count": 88,
      "outputs": [
        {
          "output_type": "stream",
          "text": [
            "1\n",
            "1.5\n"
          ],
          "name": "stdout"
        }
      ]
    },
    {
      "cell_type": "code",
      "metadata": {
        "colab": {
          "base_uri": "https://localhost:8080/",
          "height": 208
        },
        "id": "jLE0z3nwyZaB",
        "outputId": "43e10fc6-4979-4fb5-fe45-59fb52038db2"
      },
      "source": [
        "# 문자열을 정수와 실수로 바꿔주기\n",
        "#   주의사항 : 문자열이 반드시 숫자의 모양을 하고 있어야 한다.\n",
        "s = '3.14'\n",
        "print(int(s)) #int는 정수 모양을 하고 있는 문자열만 바꿔 준다."
      ],
      "execution_count": 90,
      "outputs": [
        {
          "output_type": "error",
          "ename": "ValueError",
          "evalue": "ignored",
          "traceback": [
            "\u001b[0;31m---------------------------------------------------------------------------\u001b[0m",
            "\u001b[0;31mValueError\u001b[0m                                Traceback (most recent call last)",
            "\u001b[0;32m<ipython-input-90-6c51b5f2dbf2>\u001b[0m in \u001b[0;36m<module>\u001b[0;34m()\u001b[0m\n\u001b[1;32m      2\u001b[0m \u001b[0;31m#   주의사항 : 문자열이 반드시 숫자의 모양을 하고 있어야 한다.\u001b[0m\u001b[0;34m\u001b[0m\u001b[0;34m\u001b[0m\u001b[0;34m\u001b[0m\u001b[0m\n\u001b[1;32m      3\u001b[0m \u001b[0ms\u001b[0m \u001b[0;34m=\u001b[0m \u001b[0;34m'3.14'\u001b[0m\u001b[0;34m\u001b[0m\u001b[0;34m\u001b[0m\u001b[0m\n\u001b[0;32m----> 4\u001b[0;31m \u001b[0mprint\u001b[0m\u001b[0;34m(\u001b[0m\u001b[0mint\u001b[0m\u001b[0;34m(\u001b[0m\u001b[0ms\u001b[0m\u001b[0;34m)\u001b[0m\u001b[0;34m)\u001b[0m \u001b[0;31m#int는 정수 모양을 하고 있는 문자열만 바꿔 준다.\u001b[0m\u001b[0;34m\u001b[0m\u001b[0;34m\u001b[0m\u001b[0m\n\u001b[0m",
            "\u001b[0;31mValueError\u001b[0m: invalid literal for int() with base 10: '3.14'"
          ]
        }
      ]
    },
    {
      "cell_type": "code",
      "metadata": {
        "colab": {
          "base_uri": "https://localhost:8080/"
        },
        "id": "8lmpHQuQzDTq",
        "outputId": "fed6a701-af67-43b4-eaec-36913a31278f"
      },
      "source": [
        "s = '3.14'\n",
        "print(float(s))"
      ],
      "execution_count": 91,
      "outputs": [
        {
          "output_type": "stream",
          "text": [
            "3.14\n"
          ],
          "name": "stdout"
        }
      ]
    },
    {
      "cell_type": "code",
      "metadata": {
        "colab": {
          "base_uri": "https://localhost:8080/"
        },
        "id": "fy_Wz5CGzS0u",
        "outputId": "2d8825b4-3949-4c12-920b-129c732b6563"
      },
      "source": [
        "s = '3'\n",
        "print(float(s)) # 오류 No 실수는 정수 범위를 포함하기 때문"
      ],
      "execution_count": 92,
      "outputs": [
        {
          "output_type": "stream",
          "text": [
            "3.0\n"
          ],
          "name": "stdout"
        }
      ]
    },
    {
      "cell_type": "markdown",
      "metadata": {
        "id": "w9hGwUD7zi4K"
      },
      "source": [
        "## 문자열에서  사용할 수 있는 여러 기능들"
      ]
    },
    {
      "cell_type": "code",
      "metadata": {
        "colab": {
          "base_uri": "https://localhost:8080/"
        },
        "id": "5deFe6ka0JaX",
        "outputId": "54d7da4d-1a5c-4094-ee7d-ebd0f297a540"
      },
      "source": [
        "# 영어 대소문자 바꾸기\n",
        "# upper() : 모든 영어 문자를 대문자로\n",
        "# lower() : 모든 영어 문자를 소문자로\n",
        "\n",
        "s = 'Hello World'\n",
        "\n",
        "print(s.upper())\n",
        "print(s.lower())"
      ],
      "execution_count": 94,
      "outputs": [
        {
          "output_type": "stream",
          "text": [
            "HELLO WORLD\n",
            "hello world\n"
          ],
          "name": "stdout"
        }
      ]
    },
    {
      "cell_type": "code",
      "metadata": {
        "colab": {
          "base_uri": "https://localhost:8080/"
        },
        "id": "k1pSL4oE0VDb",
        "outputId": "e0ab33f4-a6f4-45c8-fb95-68498f9ab3e0"
      },
      "source": [
        "# 양쪽 끝의 공백 삭제하기\n",
        "# strip()\n",
        "\n",
        "s = '  hello world   '\n",
        "print(s.strip())"
      ],
      "execution_count": 96,
      "outputs": [
        {
          "output_type": "stream",
          "text": [
            "hello world\n"
          ],
          "name": "stdout"
        }
      ]
    },
    {
      "cell_type": "code",
      "metadata": {
        "colab": {
          "base_uri": "https://localhost:8080/",
          "height": 35
        },
        "id": "2Q63EJ5U0d2F",
        "outputId": "0e7f5acd-ff63-485b-8ee2-2cf90df56179"
      },
      "source": [
        "# 문자열 삽입 기능\n",
        "# join\n",
        "'='.join('abcd')"
      ],
      "execution_count": 98,
      "outputs": [
        {
          "output_type": "execute_result",
          "data": {
            "application/vnd.google.colaboratory.intrinsic+json": {
              "type": "string"
            },
            "text/plain": [
              "'a=b=c=d'"
            ]
          },
          "metadata": {
            "tags": []
          },
          "execution_count": 98
        }
      ]
    },
    {
      "cell_type": "code",
      "metadata": {
        "colab": {
          "base_uri": "https://localhost:8080/"
        },
        "id": "U-YGyG1Y0-OQ",
        "outputId": "9e154047-733e-4497-87f4-6af078c117cc"
      },
      "source": [
        "# 문자열 분리 기능\n",
        "# split\n",
        "\n",
        "s = '#오늘#날씨#흐림'\n",
        "s.split('#')"
      ],
      "execution_count": 102,
      "outputs": [
        {
          "output_type": "execute_result",
          "data": {
            "text/plain": [
              "['', '오늘', '날씨', '흐림']"
            ]
          },
          "metadata": {
            "tags": []
          },
          "execution_count": 102
        }
      ]
    },
    {
      "cell_type": "code",
      "metadata": {
        "colab": {
          "base_uri": "https://localhost:8080/"
        },
        "id": "R6BmuTLR1H8_",
        "outputId": "5b43d6c4-9c58-4f01-83b4-eb4f409a8935"
      },
      "source": [
        "s = 'hello world haha'\n",
        "print(s.split(' ')) #공백은 생략 가능 default 값"
      ],
      "execution_count": 104,
      "outputs": [
        {
          "output_type": "stream",
          "text": [
            "['hello', 'world', 'haha']\n"
          ],
          "name": "stdout"
        }
      ]
    },
    {
      "cell_type": "code",
      "metadata": {
        "colab": {
          "base_uri": "https://localhost:8080/"
        },
        "id": "j3dnICTO1lwJ",
        "outputId": "cd8cd4ea-837a-44a9-d07a-8d0d9436e25f"
      },
      "source": [
        "# 공백을 활용해서 문자열을 잘라낼 때 팁\n",
        "s = 'hello  world' #공백 두칸\n",
        "print(s.split(' '))\n",
        "\n",
        "# 공백이 몇칸이든 없앨 수 있음\n",
        "print(s.split())"
      ],
      "execution_count": 107,
      "outputs": [
        {
          "output_type": "stream",
          "text": [
            "['hello', '', 'world']\n",
            "['hello', 'world']\n"
          ],
          "name": "stdout"
        }
      ]
    },
    {
      "cell_type": "code",
      "metadata": {
        "colab": {
          "base_uri": "https://localhost:8080/"
        },
        "id": "oP30MdjX17A9",
        "outputId": "c6d22851-6728-4bb2-a308-4db62bcbe5f7"
      },
      "source": [
        "# 문자열 바꾸기(치환)\n",
        "# replace\n",
        "\n",
        "s = '오늘 날씨가 시원합니다.' # 오늘 -> 어제\n",
        "print(s.replace('오늘','어제'))"
      ],
      "execution_count": 110,
      "outputs": [
        {
          "output_type": "stream",
          "text": [
            "어제 날씨가 시원합니다.\n"
          ],
          "name": "stdout"
        }
      ]
    },
    {
      "cell_type": "code",
      "metadata": {
        "id": "SPCig39R2f7E"
      },
      "source": [
        ""
      ],
      "execution_count": null,
      "outputs": []
    }
  ]
}
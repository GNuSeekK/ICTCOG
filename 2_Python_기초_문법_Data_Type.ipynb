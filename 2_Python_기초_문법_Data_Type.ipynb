{
  "nbformat": 4,
  "nbformat_minor": 0,
  "metadata": {
    "colab": {
      "name": "2. Python 기초 문법 - Data Type.ipynb",
      "provenance": [],
      "collapsed_sections": [
        "l7fCNxsW5a5P",
        "lQyDpVyb7Kcf",
        "VNfmm_j79AZe",
        "mIWgyQY7_psb",
        "7vun_HiEWeK-",
        "Ao0Xa9e8XW9L",
        "dA0Gyeuua0Dj",
        "E3q_X9UGcDAE",
        "PVhlNwL9e-st",
        "crcEdvR1micb",
        "KzOJN7-Zn9A6",
        "jwTUL9JfxIuz",
        "w9hGwUD7zi4K",
        "NpNuGN4k_b1V",
        "dFVC9BC__JT1",
        "6YGO4X1oAnRl",
        "da-yqYrgDy2p",
        "dav8YYPaYqKP",
        "YjQynDe4Z_ed",
        "qTSRfhk0aeoY",
        "pgHY2UgBa3QA",
        "X5ofApgmbL49",
        "-NPftVWjbiWK",
        "RZVoXSJ-cB6t",
        "falWuUdYcZwo"
      ],
      "authorship_tag": "ABX9TyOA+DsiXP4mpsE2aiaICb50",
      "include_colab_link": true
    },
    "kernelspec": {
      "name": "python3",
      "display_name": "Python 3"
    },
    "language_info": {
      "name": "python"
    }
  },
  "cells": [
    {
      "cell_type": "markdown",
      "metadata": {
        "id": "view-in-github",
        "colab_type": "text"
      },
      "source": [
        "<a href=\"https://colab.research.google.com/github/GNuSeekK/ICTCOG/blob/main/2_Python_%EA%B8%B0%EC%B4%88_%EB%AC%B8%EB%B2%95_Data_Type.ipynb\" target=\"_parent\"><img src=\"https://colab.research.google.com/assets/colab-badge.svg\" alt=\"Open In Colab\"/></a>"
      ]
    },
    {
      "cell_type": "markdown",
      "metadata": {
        "id": "l7fCNxsW5a5P"
      },
      "source": [
        "# Data Type이란?\n",
        "* 모든 프로그래밍 언어가 **데이터**를 다루기 위한 약속\n",
        "* 내가 사용하고 싶은 데이터의 형식\n",
        "  > int, float, str, list, typle, set, dict, ...\n",
        "* 프로그래밍 언어마다 조금씩 다르고, 어떠한 프로그래밍 언어를 배우든 제일 처음 익혀야할 관문\n",
        "* 데이터를 수집하고 나서 제일 먼저 확인해야 할 것이 바로 **데이터 타입 확인**\n",
        "    * 원하는 형식으로 올바르게 데이터가 존재 하는지를 반드시 확인해 봐야 합니다."
      ]
    },
    {
      "cell_type": "markdown",
      "metadata": {
        "id": "lQyDpVyb7Kcf"
      },
      "source": [
        "# 변수(Variable)란?\n",
        "* 프로그래밍 언어에서는 변수에서 **데이터를 저장/관리**한다.\n",
        "* 변수라는 개념을 통해 데이터를 사용할 수 있다."
      ]
    },
    {
      "cell_type": "code",
      "metadata": {
        "colab": {
          "base_uri": "https://localhost:8080/"
        },
        "id": "layetdtm7_uM",
        "outputId": "ad5ddf89-f241-4e36-c8ff-230a4e0d99bb"
      },
      "source": [
        "a = 10\n",
        "a"
      ],
      "execution_count": null,
      "outputs": [
        {
          "output_type": "execute_result",
          "data": {
            "text/plain": [
              "10"
            ]
          },
          "metadata": {
            "tags": []
          },
          "execution_count": 1
        }
      ]
    },
    {
      "cell_type": "markdown",
      "metadata": {
        "id": "VNfmm_j79AZe"
      },
      "source": [
        "# 숫자 데이터 (Numeric Data Types)\n",
        "* 숫자형 데이터란? 정수 / 실수 / 복소수 / 2진수 / 8진수 / 16진수를 포함하여 가장 많이 사용되는 타입중 하나입니다.\n",
        "* 파이썬은 숫자의 표현 범위가 무한대\n",
        "    * 컴퓨터가 따라가지 못할정도로 크거나 작은 값이면 'int'로 처리\n",
        "* 숫자 데이터이기 때문에 각종 연산을 지원 합니다."
      ]
    },
    {
      "cell_type": "markdown",
      "metadata": {
        "id": "mIWgyQY7_psb"
      },
      "source": [
        "## 정수형(Integer)"
      ]
    },
    {
      "cell_type": "code",
      "metadata": {
        "colab": {
          "base_uri": "https://localhost:8080/"
        },
        "id": "H9KXowmWVlA1",
        "outputId": "811261ee-d04a-4c81-b4b3-fe6cf3d916c7"
      },
      "source": [
        "a = 10 # 10을 a에 할당(assignment)\n",
        "b = 5\n",
        "\n",
        "a + b"
      ],
      "execution_count": null,
      "outputs": [
        {
          "output_type": "execute_result",
          "data": {
            "text/plain": [
              "15"
            ]
          },
          "metadata": {
            "tags": []
          },
          "execution_count": 4
        }
      ]
    },
    {
      "cell_type": "code",
      "metadata": {
        "colab": {
          "base_uri": "https://localhost:8080/"
        },
        "id": "kOt3-jTRWWki",
        "outputId": "7a6d9646-0b57-4f30-b8ae-af926d23dd04"
      },
      "source": [
        "a - b"
      ],
      "execution_count": null,
      "outputs": [
        {
          "output_type": "execute_result",
          "data": {
            "text/plain": [
              "5"
            ]
          },
          "metadata": {
            "tags": []
          },
          "execution_count": 5
        }
      ]
    },
    {
      "cell_type": "code",
      "metadata": {
        "colab": {
          "base_uri": "https://localhost:8080/"
        },
        "id": "2knWlnkjWXGK",
        "outputId": "240c04ea-9a8b-4a1a-dc22-17004a0c8fd1"
      },
      "source": [
        "a * b"
      ],
      "execution_count": null,
      "outputs": [
        {
          "output_type": "execute_result",
          "data": {
            "text/plain": [
              "50"
            ]
          },
          "metadata": {
            "tags": []
          },
          "execution_count": 6
        }
      ]
    },
    {
      "cell_type": "markdown",
      "metadata": {
        "id": "7vun_HiEWeK-"
      },
      "source": [
        "## 실수형 (Floating Point)\n",
        "* 소수점 자리가 있는 **수**"
      ]
    },
    {
      "cell_type": "code",
      "metadata": {
        "colab": {
          "base_uri": "https://localhost:8080/"
        },
        "id": "tCeDzgZhW2br",
        "outputId": "328b8125-7e38-4576-e869-f0e48729e296"
      },
      "source": [
        "c = 3.14\n",
        "d = 0.5\n",
        "\n",
        "c + d"
      ],
      "execution_count": null,
      "outputs": [
        {
          "output_type": "execute_result",
          "data": {
            "text/plain": [
              "3.64"
            ]
          },
          "metadata": {
            "tags": []
          },
          "execution_count": 7
        }
      ]
    },
    {
      "cell_type": "code",
      "metadata": {
        "colab": {
          "base_uri": "https://localhost:8080/"
        },
        "id": "o7_H4qsnW5Wg",
        "outputId": "0052a503-03a7-48c6-a820-cbfe34f37e6f"
      },
      "source": [
        "c - d"
      ],
      "execution_count": null,
      "outputs": [
        {
          "output_type": "execute_result",
          "data": {
            "text/plain": [
              "2.64"
            ]
          },
          "metadata": {
            "tags": []
          },
          "execution_count": 8
        }
      ]
    },
    {
      "cell_type": "code",
      "metadata": {
        "colab": {
          "base_uri": "https://localhost:8080/"
        },
        "id": "Ey9RCEefW5uT",
        "outputId": "e6a880c3-62b3-4dc9-97f2-19495c0f4277"
      },
      "source": [
        "c + a"
      ],
      "execution_count": null,
      "outputs": [
        {
          "output_type": "execute_result",
          "data": {
            "text/plain": [
              "13.14"
            ]
          },
          "metadata": {
            "tags": []
          },
          "execution_count": 9
        }
      ]
    },
    {
      "cell_type": "code",
      "metadata": {
        "colab": {
          "base_uri": "https://localhost:8080/"
        },
        "id": "vSf7lxbRXE9Q",
        "outputId": "a8f284a8-a7d8-4039-ad52-8cc99554a0e1"
      },
      "source": [
        "# e를 쓰는 표현은 사람이 직접 하는 경우는 거의 없다.\n",
        "# 데이터 분석, 머신러닝, 딥러닝 등을 하다보면 가끔 이렇게 표기가 되는 경우가 많다.\n",
        "e = 1.34e6\n",
        "e"
      ],
      "execution_count": null,
      "outputs": [
        {
          "output_type": "execute_result",
          "data": {
            "text/plain": [
              "1340000.0"
            ]
          },
          "metadata": {
            "tags": []
          },
          "execution_count": 11
        }
      ]
    },
    {
      "cell_type": "code",
      "metadata": {
        "colab": {
          "base_uri": "https://localhost:8080/"
        },
        "id": "7g-B4jxFXHfx",
        "outputId": "f76b3c7b-0545-450f-c3b7-80b371eb78b1"
      },
      "source": [
        "f = 1.34e-6\n",
        "f"
      ],
      "execution_count": null,
      "outputs": [
        {
          "output_type": "stream",
          "text": [
            "1.34e-06\n"
          ],
          "name": "stdout"
        }
      ]
    },
    {
      "cell_type": "markdown",
      "metadata": {
        "id": "Ao0Xa9e8XW9L"
      },
      "source": [
        "# 숫자 타입으로 사용할 수 있는 여러가지 연산자\n",
        "* 연산자? 연산을 하기 위한 **기호**\n",
        "* 연산? 계산이라고도 이해할 수 있지만, 프로그래밍에서는 결과를 내기위한 과정\\"
      ]
    },
    {
      "cell_type": "code",
      "metadata": {
        "colab": {
          "base_uri": "https://localhost:8080/"
        },
        "id": "QsKvGcM5X6Hl",
        "outputId": "86d1ad41-c0f9-497f-c586-c036200abb57"
      },
      "source": [
        "# a에 10을, b에 3을 할당\n",
        "a = 10\n",
        "b = 3\n",
        "\n",
        "print(a + b) # a + b의 결과물을 print(출력)한다.\n",
        "print(a - b)\n",
        "print(a * b)\n",
        "print(a / b) # 나눗셈은 실수로 표현 된다.\n",
        "\n",
        "# 특수연산\n",
        "print(a // b) # 몫만 구하는 방법\n",
        "print(a % b) # 나머지만 구하는 방법\n",
        "print(a ** 2) # a의 2제곱"
      ],
      "execution_count": null,
      "outputs": [
        {
          "output_type": "stream",
          "text": [
            "13\n",
            "7\n",
            "30\n",
            "3.3333333333333335\n",
            "3\n",
            "1\n",
            "100\n"
          ],
          "name": "stdout"
        }
      ]
    },
    {
      "cell_type": "markdown",
      "metadata": {
        "id": "aQeiL4JxaBy-"
      },
      "source": [
        "* 실수랑 정수랑 연산하면 그 결과는 뭐가 될까요? -> 실수\n",
        "    * 실수가 정수보다 표현범위가 넓기 때문\n",
        "* '3.0'은 정수? 실수? -> 실수\n",
        "    * '3.0'과 3은 같을까요? -> 값은 똑같지만 데이터 타입이 다르다."
      ]
    },
    {
      "cell_type": "markdown",
      "metadata": {
        "id": "dA0Gyeuua0Dj"
      },
      "source": [
        "## 데이터 분석에서의 정수와 실수의 역할\n",
        "* 보통 데이터 분석에서 **값으로써** 활용되는 데이터 타입은 '실수'\n",
        "    * 값은 연산의 대상이 된다.\n",
        "    * 나이도 원래는 정수로 생각하기 쉬움\n",
        "        * '20살' -> '20.0살'\n",
        "        * '10명' -> '10.0명'\n",
        "* 정수는 보통 카테고리에 매칭하기 위해 사용\n",
        "    * '족구' : 0\n",
        "    * '축구' : 1\n",
        "    * '농구' : 2"
      ]
    },
    {
      "cell_type": "markdown",
      "metadata": {
        "id": "E3q_X9UGcDAE"
      },
      "source": [
        "# 문자열(String)\n",
        "* 문자열 데이터란? -> 텍스트\n",
        "    * 문자(character)의 나열\n",
        "* 문자열 데이터를 사용할 때는 작은 따옴표('') 또는 큰 따옴표(\"\")를 활용한다.\n"
      ]
    },
    {
      "cell_type": "code",
      "metadata": {
        "colab": {
          "base_uri": "https://localhost:8080/"
        },
        "id": "6zP0Yj4hcpTL",
        "outputId": "e6a687f9-039f-4b39-fe7e-8a758abae50d"
      },
      "source": [
        "s = \"안녕하세요. 반갑습니다.\"\n",
        "print(s)"
      ],
      "execution_count": null,
      "outputs": [
        {
          "output_type": "stream",
          "text": [
            "안녕하세요. 반갑습니다.\n"
          ],
          "name": "stdout"
        }
      ]
    },
    {
      "cell_type": "code",
      "metadata": {
        "colab": {
          "base_uri": "https://localhost:8080/"
        },
        "id": "aWB7Iw6BcytM",
        "outputId": "e7739e24-89fb-495d-9c82-3ded7de63719"
      },
      "source": [
        "s2 = '오늘은 5월 16일 입니다.'\n",
        "print(s2)"
      ],
      "execution_count": null,
      "outputs": [
        {
          "output_type": "stream",
          "text": [
            "오늘은 5월 16일 입니다.\n"
          ],
          "name": "stdout"
        }
      ]
    },
    {
      "cell_type": "markdown",
      "metadata": {
        "id": "7DtCLo9SdX5a"
      },
      "source": [
        "I'm Student를 출력해 보자"
      ]
    },
    {
      "cell_type": "code",
      "metadata": {
        "colab": {
          "base_uri": "https://localhost:8080/",
          "height": 136
        },
        "id": "F57xW-lEeQXx",
        "outputId": "b164e069-1a30-49d3-883f-e02b382f349e"
      },
      "source": [
        "s3 = 'I'm student'"
      ],
      "execution_count": null,
      "outputs": [
        {
          "output_type": "error",
          "ename": "SyntaxError",
          "evalue": "ignored",
          "traceback": [
            "\u001b[0;36m  File \u001b[0;32m\"<ipython-input-31-868a29d56607>\"\u001b[0;36m, line \u001b[0;32m1\u001b[0m\n\u001b[0;31m    s3 = 'I'm student'\u001b[0m\n\u001b[0m            ^\u001b[0m\n\u001b[0;31mSyntaxError\u001b[0m\u001b[0;31m:\u001b[0m invalid syntax\n"
          ]
        }
      ]
    },
    {
      "cell_type": "code",
      "metadata": {
        "id": "4M0eHulFeftT"
      },
      "source": [
        "s3 = \"I'm student\"\n",
        "print(s3)"
      ],
      "execution_count": null,
      "outputs": []
    },
    {
      "cell_type": "code",
      "metadata": {
        "colab": {
          "base_uri": "https://localhost:8080/"
        },
        "id": "-p17nK6Yeh_S",
        "outputId": "ab8ab07a-ea2e-4b5a-d43a-fa6ddb251915"
      },
      "source": [
        "# 큰 따옴표를 문자열 안에 표시하고 싶을 때는 작은 따옴표로 문자열을 만든다.\n",
        "# \"안녕하세요\"라고 인사했어요\n",
        "s4 = '\"안녕하세요\"라고 인사했어요.'\n",
        "print(s4)"
      ],
      "execution_count": null,
      "outputs": [
        {
          "output_type": "stream",
          "text": [
            "\"안녕하세요\"라고 인사했어요.\n"
          ],
          "name": "stdout"
        }
      ]
    },
    {
      "cell_type": "markdown",
      "metadata": {
        "id": "PVhlNwL9e-st"
      },
      "source": [
        "## 특수 문자 표현(escape code)"
      ]
    },
    {
      "cell_type": "code",
      "metadata": {
        "colab": {
          "base_uri": "https://localhost:8080/",
          "height": 136
        },
        "id": "Rv0lhGxOjPRZ",
        "outputId": "55b43aa1-75b7-4554-ca45-0bc1b9f83544"
      },
      "source": [
        "s5 = '\"안녕하세요\"라고\n",
        "인사했어요'"
      ],
      "execution_count": null,
      "outputs": [
        {
          "output_type": "error",
          "ename": "SyntaxError",
          "evalue": "ignored",
          "traceback": [
            "\u001b[0;36m  File \u001b[0;32m\"<ipython-input-36-716c68c9b3d1>\"\u001b[0;36m, line \u001b[0;32m1\u001b[0m\n\u001b[0;31m    s5 = '\"안녕하세요\"라고\u001b[0m\n\u001b[0m                   ^\u001b[0m\n\u001b[0;31mSyntaxError\u001b[0m\u001b[0;31m:\u001b[0m EOL while scanning string literal\n"
          ]
        }
      ]
    },
    {
      "cell_type": "code",
      "metadata": {
        "colab": {
          "base_uri": "https://localhost:8080/"
        },
        "id": "8qVR_72Sj6Ji",
        "outputId": "ef536ae4-0acc-45e0-b4c6-74780d7dae11"
      },
      "source": [
        "s5 = '\"안녕하세요\"라고\\n인사했어요'\n",
        "print(s5)"
      ],
      "execution_count": null,
      "outputs": [
        {
          "output_type": "stream",
          "text": [
            "\"안녕하세요\"라고\n",
            "인사했어요\n"
          ],
          "name": "stdout"
        }
      ]
    },
    {
      "cell_type": "code",
      "metadata": {
        "colab": {
          "base_uri": "https://localhost:8080/"
        },
        "id": "Y_6BAoh8kR1_",
        "outputId": "6e774613-2725-41c0-cf96-b6334fec7e79"
      },
      "source": [
        "s6 = \"Hellow\\tWorld\"\n",
        "s7 = \"Hellow\\t\\tWorld\"\n",
        "print(s6)\n",
        "print(s7)"
      ],
      "execution_count": null,
      "outputs": [
        {
          "output_type": "stream",
          "text": [
            "Hellow\tWorld\n",
            "Hellow\t\tWorld\n"
          ],
          "name": "stdout"
        }
      ]
    },
    {
      "cell_type": "code",
      "metadata": {
        "colab": {
          "base_uri": "https://localhost:8080/"
        },
        "id": "jY0sOK7gk18U",
        "outputId": "bfb81432-b548-441f-f877-30e5dbb551ce"
      },
      "source": [
        "# 개행을 쉽게 하자(큰 따옴표나 작은 따옴표를 3개를 연속으로 사용하는 방식)\n",
        "news = \"\"\"오늘은 이기성이 ICTCOG 인공지능 수업을 처음 들은 날이다.\n",
        "\n",
        "이 날은 5.16로 휴가를 가기 얼마 전이라 마음이 싱숭생숭 하지만\n",
        "열심히 배워 좋은 인공지능을 구현하기 위해 노력하고 있다.\"\"\"\n",
        "\n",
        "print(news)"
      ],
      "execution_count": null,
      "outputs": [
        {
          "output_type": "stream",
          "text": [
            "오늘은 이기성이 ICTCOG 인공지능 수업을 처음 들은 날이다.\n",
            "\n",
            "이 날은 5.16로 휴가를 가기 얼마 전이라 마음이 싱숭생숭 하지만\n",
            "열심히 배워 좋은 인공지능을 구현하기 위해 노력하고 있다.\n"
          ],
          "name": "stdout"
        }
      ]
    },
    {
      "cell_type": "code",
      "metadata": {
        "colab": {
          "base_uri": "https://localhost:8080/",
          "height": 71
        },
        "id": "YUhHsCdYmgZL",
        "outputId": "7ff74996-e026-46ca-dd2a-609e927df611"
      },
      "source": [
        "news"
      ],
      "execution_count": null,
      "outputs": [
        {
          "output_type": "execute_result",
          "data": {
            "application/vnd.google.colaboratory.intrinsic+json": {
              "type": "string"
            },
            "text/plain": [
              "'오늘은 이기성이 ICTCOG 인공지능 수업을 처음 들은 날이다.\\n\\n이 날은 5.16로 휴가를 가기 얼마 전이라 마음이 싱숭생숭 하지만\\n열심히 배워 좋은 인공지능을 구현하기 위해 노력하고 있다.'"
            ]
          },
          "metadata": {
            "tags": []
          },
          "execution_count": 48
        }
      ]
    },
    {
      "cell_type": "markdown",
      "metadata": {
        "id": "crcEdvR1micb"
      },
      "source": [
        "## 문자열의 연산도 가능 할까요?\n",
        "* 덧셈 : 문자열과 문자열을 이어주는 역할\n",
        "* 곱셈 : 문자열을 n회 반복하는 역할"
      ]
    },
    {
      "cell_type": "code",
      "metadata": {
        "colab": {
          "base_uri": "https://localhost:8080/"
        },
        "id": "LEs4YZmUnIPE",
        "outputId": "5ead3c61-39d2-4c89-e672-b44443ea040c"
      },
      "source": [
        "FIRST_NAME = '기성'\n",
        "LAST_NAME = '이'\n",
        "\n",
        "print(LAST_NAME + FIRST_NAME)"
      ],
      "execution_count": null,
      "outputs": [
        {
          "output_type": "stream",
          "text": [
            "이기성\n"
          ],
          "name": "stdout"
        }
      ]
    },
    {
      "cell_type": "code",
      "metadata": {
        "colab": {
          "base_uri": "https://localhost:8080/"
        },
        "id": "GKcy-kLcnS9y",
        "outputId": "90aedd24-e103-46c7-e3b3-335461a1a5c1"
      },
      "source": [
        "FIRST_NAME = '기성'\n",
        "LAST_NAME = '이'\n",
        "\n",
        "print(LAST_NAME + ' ' + FIRST_NAME)"
      ],
      "execution_count": null,
      "outputs": [
        {
          "output_type": "stream",
          "text": [
            "이 기성\n"
          ],
          "name": "stdout"
        }
      ]
    },
    {
      "cell_type": "code",
      "metadata": {
        "colab": {
          "base_uri": "https://localhost:8080/"
        },
        "id": "i780UkdYn4Vh",
        "outputId": "b547771c-5c52-4010-c476-fb31ddb791d1"
      },
      "source": [
        "s = 'hello'\n",
        "print(s*10) # 문자열 s안의 것을 10번 반복"
      ],
      "execution_count": null,
      "outputs": [
        {
          "output_type": "stream",
          "text": [
            "hellohellohellohellohellohellohellohellohellohello\n"
          ],
          "name": "stdout"
        }
      ]
    },
    {
      "cell_type": "markdown",
      "metadata": {
        "id": "KzOJN7-Zn9A6"
      },
      "source": [
        "## 문자열 포매팅(formatting)"
      ]
    },
    {
      "cell_type": "code",
      "metadata": {
        "colab": {
          "base_uri": "https://localhost:8080/"
        },
        "id": "-_XCS3tsoRbN",
        "outputId": "d6c4063f-3fa3-48d6-d883-27bdb7b1c3d0"
      },
      "source": [
        "age = [10,20]\n",
        "# 저의 나이는 10살입니다. 라는 문자열이 출력 될 수 있게 하려면?\n",
        "# 1. 덧셈을 사용하는 방법\n",
        "for s in age:\n",
        "    print('저의 나이는 ' + str(s) + '살입니다') #age를 str으로 덮으면 타입 캐스팅이 발생됨. 정수를 문자열로 바꿔줍니다."
      ],
      "execution_count": null,
      "outputs": [
        {
          "output_type": "stream",
          "text": [
            "저의 나이는 10살입니다\n",
            "저의 나이는 20살입니다\n"
          ],
          "name": "stdout"
        }
      ]
    },
    {
      "cell_type": "markdown",
      "metadata": {
        "id": "FbYPwKkYo26s"
      },
      "source": [
        "문자열 포매팅 기법 2가지 소개\n",
        "* 문자열.format 기능을 활용\n",
        "* f-string 기법 활용"
      ]
    },
    {
      "cell_type": "code",
      "metadata": {
        "colab": {
          "base_uri": "https://localhost:8080/"
        },
        "id": "6SZSZyDPo-Ph",
        "outputId": "1f41c59c-3721-4b98-9474-1dd25c4e5ec7"
      },
      "source": [
        "age = 20\n",
        "# format 기능 활용하기\n",
        "s = '저의 나이는 {}살 입니다.'\n",
        "print(s.format(age))"
      ],
      "execution_count": null,
      "outputs": [
        {
          "output_type": "stream",
          "text": [
            "저의 나이는 20살 입니다.\n"
          ],
          "name": "stdout"
        }
      ]
    },
    {
      "cell_type": "code",
      "metadata": {
        "colab": {
          "base_uri": "https://localhost:8080/"
        },
        "id": "kMNUIhHKpaFE",
        "outputId": "1cacd3e6-f151-4551-d9db-ea32977d0494"
      },
      "source": [
        "# f-string 기법 활용하기\n",
        "age = 20\n",
        "s = f'저의 나이는 {age}살 입니다.'\n",
        "print(s)"
      ],
      "execution_count": null,
      "outputs": [
        {
          "output_type": "stream",
          "text": [
            "저의 나이는 20살 입니다.\n"
          ],
          "name": "stdout"
        }
      ]
    },
    {
      "cell_type": "markdown",
      "metadata": {
        "id": "0VbJtRqtqaO_"
      },
      "source": [
        "* 나는 오늘 사과를 10개 샀다.\n",
        "* 나는 오늘 배를 5개 샀다."
      ]
    },
    {
      "cell_type": "code",
      "metadata": {
        "colab": {
          "base_uri": "https://localhost:8080/"
        },
        "id": "_vqYle8PrLG9",
        "outputId": "00392ee6-4253-4ebe-b906-309658a883d1"
      },
      "source": [
        "apple = 10\n",
        "pear = 5\n",
        "s = '나는 오늘 {}를 {}개 샀다.'\n",
        "print(s.format('사과',apple))\n",
        "print(s.format('배',pear))"
      ],
      "execution_count": null,
      "outputs": [
        {
          "output_type": "stream",
          "text": [
            "나는 오늘 사과를 10개 샀다.\n",
            "나는 오늘 배를 5개 샀다.\n"
          ],
          "name": "stdout"
        }
      ]
    },
    {
      "cell_type": "code",
      "metadata": {
        "colab": {
          "base_uri": "https://localhost:8080/"
        },
        "id": "RSdYtb_rrY2l",
        "outputId": "c569e725-f344-4f8f-b65d-0fef886a75b5"
      },
      "source": [
        "s = f'저의 이름은 {LAST_NAME} {FIRST_NAME}입니다.'\n",
        "print(s)"
      ],
      "execution_count": null,
      "outputs": [
        {
          "output_type": "stream",
          "text": [
            "저의 이름은 이 기성입니다.\n"
          ],
          "name": "stdout"
        }
      ]
    },
    {
      "cell_type": "markdown",
      "metadata": {
        "id": "jAKvnEHErhiS"
      },
      "source": [
        "문제\n",
        "\n",
        "주민등록번호 입력 받을 때 이름, 주민등록번호 필요\n",
        "* 이름은 name이라는 변수에 그냥 입력\n",
        "* 주민등록번호는 생년월일 + 앞자리 까지만 입력\n",
        "\n",
        "출력 : `\"이기성 / 970813-1******\"`"
      ]
    },
    {
      "cell_type": "code",
      "metadata": {
        "colab": {
          "base_uri": "https://localhost:8080/"
        },
        "id": "2J8EVKiLr-m1",
        "outputId": "ce4dd99f-5f82-4809-a58b-6822b0ed10fb"
      },
      "source": [
        "name = '이기성'\n",
        "id = '970813-1'\n",
        "print(name + ' / '  + id + '******')\n",
        "print(f'{name} / {id}******')\n",
        "print('{} / {}******'.format(name,id))"
      ],
      "execution_count": null,
      "outputs": [
        {
          "output_type": "stream",
          "text": [
            "이기성 / 970813-1******\n",
            "이기성 / 970813-1******\n",
            "이기성 / 970813-1******\n"
          ],
          "name": "stdout"
        }
      ]
    },
    {
      "cell_type": "markdown",
      "metadata": {
        "id": "jwTUL9JfxIuz"
      },
      "source": [
        "## 타입 캐스팅(자료형 변환)\n",
        "* 정수 - int\n",
        "* 실수 - float\n",
        "* 문자열 - str\n",
        "\n",
        "데이터 끼리의 타입을 변경 시켜주는 기능"
      ]
    },
    {
      "cell_type": "code",
      "metadata": {
        "colab": {
          "base_uri": "https://localhost:8080/"
        },
        "id": "AH8zgiCMxhGX",
        "outputId": "6c7d15b2-4255-4cce-c8d8-8b790312267d"
      },
      "source": [
        "# 정수를 실수와 문자열로 각각 변경\n",
        "a = 10\n",
        "\n",
        "float_a = float(a)\n",
        "str_a = str(a)\n",
        "\n",
        "print(float_a)\n",
        "print(str_a)"
      ],
      "execution_count": null,
      "outputs": [
        {
          "output_type": "stream",
          "text": [
            "10.0\n",
            "10\n"
          ],
          "name": "stdout"
        }
      ]
    },
    {
      "cell_type": "code",
      "metadata": {
        "colab": {
          "base_uri": "https://localhost:8080/"
        },
        "id": "i4csE8vkyFLT",
        "outputId": "660e4828-6b4e-4e8f-a278-efc47716c6ae"
      },
      "source": [
        "# 타입 확인하기 type\n",
        "print(type(float_a))\n",
        "print(type(str_a))"
      ],
      "execution_count": null,
      "outputs": [
        {
          "output_type": "stream",
          "text": [
            "<class 'float'>\n",
            "<class 'str'>\n"
          ],
          "name": "stdout"
        }
      ]
    },
    {
      "cell_type": "code",
      "metadata": {
        "colab": {
          "base_uri": "https://localhost:8080/"
        },
        "id": "MRei7oL6yJjH",
        "outputId": "829eafd1-6e96-45b0-e420-0c335bfd6d0e"
      },
      "source": [
        "# 실수를 문자열과 정수로 바꿔주기\n",
        "b = 1.5\n",
        "int_b = int(b)\n",
        "str_b = str(b)\n",
        "\n",
        "print(int_b)\n",
        "print(str_b)"
      ],
      "execution_count": null,
      "outputs": [
        {
          "output_type": "stream",
          "text": [
            "1\n",
            "1.5\n"
          ],
          "name": "stdout"
        }
      ]
    },
    {
      "cell_type": "code",
      "metadata": {
        "colab": {
          "base_uri": "https://localhost:8080/",
          "height": 208
        },
        "id": "jLE0z3nwyZaB",
        "outputId": "43e10fc6-4979-4fb5-fe45-59fb52038db2"
      },
      "source": [
        "# 문자열을 정수와 실수로 바꿔주기\n",
        "#   주의사항 : 문자열이 반드시 숫자의 모양을 하고 있어야 한다.\n",
        "s = '3.14'\n",
        "print(int(s)) #int는 정수 모양을 하고 있는 문자열만 바꿔 준다."
      ],
      "execution_count": null,
      "outputs": [
        {
          "output_type": "error",
          "ename": "ValueError",
          "evalue": "ignored",
          "traceback": [
            "\u001b[0;31m---------------------------------------------------------------------------\u001b[0m",
            "\u001b[0;31mValueError\u001b[0m                                Traceback (most recent call last)",
            "\u001b[0;32m<ipython-input-90-6c51b5f2dbf2>\u001b[0m in \u001b[0;36m<module>\u001b[0;34m()\u001b[0m\n\u001b[1;32m      2\u001b[0m \u001b[0;31m#   주의사항 : 문자열이 반드시 숫자의 모양을 하고 있어야 한다.\u001b[0m\u001b[0;34m\u001b[0m\u001b[0;34m\u001b[0m\u001b[0;34m\u001b[0m\u001b[0m\n\u001b[1;32m      3\u001b[0m \u001b[0ms\u001b[0m \u001b[0;34m=\u001b[0m \u001b[0;34m'3.14'\u001b[0m\u001b[0;34m\u001b[0m\u001b[0;34m\u001b[0m\u001b[0m\n\u001b[0;32m----> 4\u001b[0;31m \u001b[0mprint\u001b[0m\u001b[0;34m(\u001b[0m\u001b[0mint\u001b[0m\u001b[0;34m(\u001b[0m\u001b[0ms\u001b[0m\u001b[0;34m)\u001b[0m\u001b[0;34m)\u001b[0m \u001b[0;31m#int는 정수 모양을 하고 있는 문자열만 바꿔 준다.\u001b[0m\u001b[0;34m\u001b[0m\u001b[0;34m\u001b[0m\u001b[0m\n\u001b[0m",
            "\u001b[0;31mValueError\u001b[0m: invalid literal for int() with base 10: '3.14'"
          ]
        }
      ]
    },
    {
      "cell_type": "code",
      "metadata": {
        "colab": {
          "base_uri": "https://localhost:8080/"
        },
        "id": "8lmpHQuQzDTq",
        "outputId": "fed6a701-af67-43b4-eaec-36913a31278f"
      },
      "source": [
        "s = '3.14'\n",
        "print(float(s))"
      ],
      "execution_count": null,
      "outputs": [
        {
          "output_type": "stream",
          "text": [
            "3.14\n"
          ],
          "name": "stdout"
        }
      ]
    },
    {
      "cell_type": "code",
      "metadata": {
        "colab": {
          "base_uri": "https://localhost:8080/"
        },
        "id": "fy_Wz5CGzS0u",
        "outputId": "2d8825b4-3949-4c12-920b-129c732b6563"
      },
      "source": [
        "s = '3'\n",
        "print(float(s)) # 오류 No 실수는 정수 범위를 포함하기 때문"
      ],
      "execution_count": null,
      "outputs": [
        {
          "output_type": "stream",
          "text": [
            "3.0\n"
          ],
          "name": "stdout"
        }
      ]
    },
    {
      "cell_type": "markdown",
      "metadata": {
        "id": "w9hGwUD7zi4K"
      },
      "source": [
        "## 문자열에서  사용할 수 있는 여러 기능들"
      ]
    },
    {
      "cell_type": "code",
      "metadata": {
        "colab": {
          "base_uri": "https://localhost:8080/"
        },
        "id": "5deFe6ka0JaX",
        "outputId": "54d7da4d-1a5c-4094-ee7d-ebd0f297a540"
      },
      "source": [
        "# 영어 대소문자 바꾸기\n",
        "# upper() : 모든 영어 문자를 대문자로\n",
        "# lower() : 모든 영어 문자를 소문자로\n",
        "\n",
        "s = 'Hello World'\n",
        "\n",
        "print(s.upper())\n",
        "print(s.lower())"
      ],
      "execution_count": null,
      "outputs": [
        {
          "output_type": "stream",
          "text": [
            "HELLO WORLD\n",
            "hello world\n"
          ],
          "name": "stdout"
        }
      ]
    },
    {
      "cell_type": "code",
      "metadata": {
        "colab": {
          "base_uri": "https://localhost:8080/"
        },
        "id": "k1pSL4oE0VDb",
        "outputId": "e0ab33f4-a6f4-45c8-fb95-68498f9ab3e0"
      },
      "source": [
        "# 양쪽 끝의 공백 삭제하기\n",
        "# strip()\n",
        "\n",
        "s = '  hello world   '\n",
        "print(s.strip())"
      ],
      "execution_count": null,
      "outputs": [
        {
          "output_type": "stream",
          "text": [
            "hello world\n"
          ],
          "name": "stdout"
        }
      ]
    },
    {
      "cell_type": "code",
      "metadata": {
        "colab": {
          "base_uri": "https://localhost:8080/",
          "height": 35
        },
        "id": "2Q63EJ5U0d2F",
        "outputId": "0e7f5acd-ff63-485b-8ee2-2cf90df56179"
      },
      "source": [
        "# 문자열 삽입 기능\n",
        "# join\n",
        "'='.join('abcd')"
      ],
      "execution_count": null,
      "outputs": [
        {
          "output_type": "execute_result",
          "data": {
            "application/vnd.google.colaboratory.intrinsic+json": {
              "type": "string"
            },
            "text/plain": [
              "'a=b=c=d'"
            ]
          },
          "metadata": {
            "tags": []
          },
          "execution_count": 98
        }
      ]
    },
    {
      "cell_type": "code",
      "metadata": {
        "colab": {
          "base_uri": "https://localhost:8080/"
        },
        "id": "U-YGyG1Y0-OQ",
        "outputId": "9e154047-733e-4497-87f4-6af078c117cc"
      },
      "source": [
        "# 문자열 분리 기능\n",
        "# split\n",
        "\n",
        "s = '#오늘#날씨#흐림'\n",
        "s.split('#')"
      ],
      "execution_count": null,
      "outputs": [
        {
          "output_type": "execute_result",
          "data": {
            "text/plain": [
              "['', '오늘', '날씨', '흐림']"
            ]
          },
          "metadata": {
            "tags": []
          },
          "execution_count": 102
        }
      ]
    },
    {
      "cell_type": "code",
      "metadata": {
        "colab": {
          "base_uri": "https://localhost:8080/"
        },
        "id": "R6BmuTLR1H8_",
        "outputId": "5b43d6c4-9c58-4f01-83b4-eb4f409a8935"
      },
      "source": [
        "s = 'hello world haha'\n",
        "print(s.split(' ')) #공백은 생략 가능 default 값"
      ],
      "execution_count": null,
      "outputs": [
        {
          "output_type": "stream",
          "text": [
            "['hello', 'world', 'haha']\n"
          ],
          "name": "stdout"
        }
      ]
    },
    {
      "cell_type": "code",
      "metadata": {
        "colab": {
          "base_uri": "https://localhost:8080/"
        },
        "id": "j3dnICTO1lwJ",
        "outputId": "cd8cd4ea-837a-44a9-d07a-8d0d9436e25f"
      },
      "source": [
        "# 공백을 활용해서 문자열을 잘라낼 때 팁\n",
        "s = 'hello  world' #공백 두칸\n",
        "print(s.split(' '))\n",
        "\n",
        "# 공백이 몇칸이든 없앨 수 있음\n",
        "print(s.split())"
      ],
      "execution_count": null,
      "outputs": [
        {
          "output_type": "stream",
          "text": [
            "['hello', '', 'world']\n",
            "['hello', 'world']\n"
          ],
          "name": "stdout"
        }
      ]
    },
    {
      "cell_type": "code",
      "metadata": {
        "colab": {
          "base_uri": "https://localhost:8080/"
        },
        "id": "oP30MdjX17A9",
        "outputId": "c6d22851-6728-4bb2-a308-4db62bcbe5f7"
      },
      "source": [
        "# 문자열 바꾸기(치환)\n",
        "# replace\n",
        "\n",
        "s = '오늘 날씨가 시원합니다.' # 오늘 -> 어제\n",
        "print(s.replace('오늘','어제'))"
      ],
      "execution_count": null,
      "outputs": [
        {
          "output_type": "stream",
          "text": [
            "어제 날씨가 시원합니다.\n"
          ],
          "name": "stdout"
        }
      ]
    },
    {
      "cell_type": "markdown",
      "metadata": {
        "id": "SPCig39R2f7E"
      },
      "source": [
        "# 연속형 데이터 (Sequential Data Type)"
      ]
    },
    {
      "cell_type": "markdown",
      "metadata": {
        "id": "NpNuGN4k_b1V"
      },
      "source": [
        "## 연속형 데이터의 종류\n",
        "* list\n",
        "* tuple\n",
        "* 'str' : 문자열은 문자의 나열이기 때문에 연속형에 속함"
      ]
    },
    {
      "cell_type": "markdown",
      "metadata": {
        "id": "p2PNSis0-rhC"
      },
      "source": [
        "숫자 100개를 한꺼번에 다루려고 한다.\n",
        "  1. 변수 100개를 만들어서 순서대로 사용한다.\n",
        "  2. 100개의 데이터(숫자)를 한꺼번에 묶는다.\n",
        "        * 100개의 숫자를 한꺼번에 다룰 수 있는 하나의 변수를 사용한다.\n",
        "        * 100개의 숫자를 연속적으로 다룰 수 있는 자료형"
      ]
    },
    {
      "cell_type": "markdown",
      "metadata": {
        "id": "dFVC9BC__JT1"
      },
      "source": [
        "## List\n",
        "* 가장 많이 사용되는 연속형 데이터 타입\n",
        "* 유연한 구조를 가지고 있어서 데이터를 편하게 다룰 수 있다.\n",
        "    - 리스트 내부에는 파이썬의 모든 것들이 포함될 수 있다.\n",
        "* 추가된 **데이터의 수정**(삭제,변경)이 가능하기 때문에 수정이 일어나지 말아야 할 경우에는 사용 X"
      ]
    },
    {
      "cell_type": "code",
      "metadata": {
        "colab": {
          "base_uri": "https://localhost:8080/"
        },
        "id": "yjwXDAkD_usd",
        "outputId": "3464f552-8a0f-4038-bc6d-cf606cacf809"
      },
      "source": [
        "l = [1,2,3]\n",
        "l"
      ],
      "execution_count": null,
      "outputs": [
        {
          "output_type": "execute_result",
          "data": {
            "text/plain": [
              "[1, 2, 3]"
            ]
          },
          "metadata": {
            "tags": []
          },
          "execution_count": 112
        }
      ]
    },
    {
      "cell_type": "code",
      "metadata": {
        "colab": {
          "base_uri": "https://localhost:8080/"
        },
        "id": "0QD39i98_yLJ",
        "outputId": "2755f170-ca53-4dcd-ae83-7cdb75179341"
      },
      "source": [
        "# 리스트의 길이(크기) 확인 - len\n",
        "len(l)"
      ],
      "execution_count": null,
      "outputs": [
        {
          "output_type": "execute_result",
          "data": {
            "text/plain": [
              "3"
            ]
          },
          "metadata": {
            "tags": []
          },
          "execution_count": 113
        }
      ]
    },
    {
      "cell_type": "code",
      "metadata": {
        "id": "jDMrWGFwAUyA"
      },
      "source": [
        "# 비어 있는 리스트를 만드는 방법\n",
        "l = []\n",
        "l = list()"
      ],
      "execution_count": null,
      "outputs": []
    },
    {
      "cell_type": "code",
      "metadata": {
        "colab": {
          "base_uri": "https://localhost:8080/"
        },
        "id": "2E8-LTeaAhOd",
        "outputId": "517a3b2f-30ae-4334-b055-5d09ea7119be"
      },
      "source": [
        "l = [1, 'Hi', 3.14, [1,2,3]]\n",
        "pri"
      ],
      "execution_count": null,
      "outputs": [
        {
          "output_type": "stream",
          "text": [
            "[1, 'Hi', 3.14, [1, 2, 3]]\n"
          ],
          "name": "stdout"
        }
      ]
    },
    {
      "cell_type": "markdown",
      "metadata": {
        "id": "6YGO4X1oAnRl"
      },
      "source": [
        "## Indexing\n",
        "* 연속형 데이터들은 하나의 변수에 여러가지 데이터를 가지기 떄문에 여러 데이터에 접근할 수 있는 방법이 필요\n",
        "* 데이터에 접근하기 위해 index라는 개념을 사용한다. 즉, 인덱스를 이용해서 접근(access)하는 방법\n",
        "* 인덱스는 0으로 시작하며 1씩 증가하는 정수 index를 사용한다.\n",
        "* 파이썬에서는 음수 인덱스도 제공한다.\n",
        "    * -1부터 시작하며, 오른쪽 방향에서 부터 시작\n",
        "* 인덱스를 통해 접근 하는 방법은 []안쪽에 알맞는 인덱스를 넣어주면 해당 데이터에 접근이 가능"
      ]
    },
    {
      "cell_type": "code",
      "metadata": {
        "colab": {
          "base_uri": "https://localhost:8080/"
        },
        "id": "nO-2zU89BvGb",
        "outputId": "add1c535-0f9e-48b7-ca5d-42ff794167d1"
      },
      "source": [
        "L = [1,2,3,4,5]\n",
        "# 첫 번째 데이터에 접근 하고 싶다.\n",
        "print(L[0])\n",
        "# 세 번째 데이터에 접근하고 싶다.\n",
        "print(L[2])\n",
        "# 다섯 번째 데이터\n",
        "print(L[4])\n",
        "# 마지막 데이터\n",
        "print(L[-1])\n",
        "# 요소의 덧셈\n",
        "print(L[0] + L[3])"
      ],
      "execution_count": null,
      "outputs": [
        {
          "output_type": "stream",
          "text": [
            "1\n",
            "3\n",
            "5\n",
            "5\n",
            "5\n"
          ],
          "name": "stdout"
        }
      ]
    },
    {
      "cell_type": "code",
      "metadata": {
        "colab": {
          "base_uri": "https://localhost:8080/"
        },
        "id": "_A1e3g_ZCjjE",
        "outputId": "51fa8a60-b4a1-4948-e4a3-b7ddabb50ca5"
      },
      "source": [
        "L = [1,[2,3],4]\n",
        "\n",
        "print(L[1][0])"
      ],
      "execution_count": null,
      "outputs": [
        {
          "output_type": "stream",
          "text": [
            "2\n"
          ],
          "name": "stdout"
        }
      ]
    },
    {
      "cell_type": "markdown",
      "metadata": {
        "id": "da-yqYrgDy2p"
      },
      "source": [
        "## Sclicing\n",
        "* 수치 연산을 위함 umpy array나 pandas의 dataframe에서도 비슷한 연산들이 많다.\n",
        "* 리스트의 일부만 잘라내는 기법\n",
        "* 리스트의 일부만 사용하고 싶을 때 쓰는 기법이다. 인덱스를 범위로 지정해서 잘라내는 기법\n",
        "* `[start:end:step]` : `start`부터 `end-1`까지 `step`만큼 건너 뛰면서 잘라내기"
      ]
    },
    {
      "cell_type": "code",
      "metadata": {
        "colab": {
          "base_uri": "https://localhost:8080/"
        },
        "id": "qbn3nN5qEbfZ",
        "outputId": "47643795-c88d-4bff-b1b0-48d4f4edb092"
      },
      "source": [
        "L = [1,2,3,4,5]\n",
        "# [1,2,3]\n",
        "print(L[0:3])\n",
        "\n",
        "# [2,3,4] 추출\n",
        "print(L[1:4])"
      ],
      "execution_count": null,
      "outputs": [
        {
          "output_type": "stream",
          "text": [
            "[1, 2, 3]\n",
            "[2, 3, 4]\n"
          ],
          "name": "stdout"
        }
      ]
    },
    {
      "cell_type": "markdown",
      "metadata": {
        "id": "mvlWF177FiYK"
      },
      "source": [
        "* `start`의 default : 0\n",
        "* `end`의 default : len\n",
        "* `step`의 default : 1"
      ]
    },
    {
      "cell_type": "code",
      "metadata": {
        "colab": {
          "base_uri": "https://localhost:8080/"
        },
        "id": "ZYzKSPJHGCye",
        "outputId": "0ac02063-015c-4024-abd9-766dd600e19f"
      },
      "source": [
        "L[ : : 2]"
      ],
      "execution_count": null,
      "outputs": [
        {
          "output_type": "execute_result",
          "data": {
            "text/plain": [
              "[1, 3, 5]"
            ]
          },
          "metadata": {
            "tags": []
          },
          "execution_count": 128
        }
      ]
    },
    {
      "cell_type": "code",
      "metadata": {
        "colab": {
          "base_uri": "https://localhost:8080/"
        },
        "id": "1OGycN5QGaNC",
        "outputId": "81dd38b6-f824-4be7-ed71-d969588f99ff"
      },
      "source": [
        "s = 'Hello' # 문자열도 Sequential Data\n",
        "print(s[2])\n",
        "print(s[:3])\n",
        "print(s[::-1])"
      ],
      "execution_count": null,
      "outputs": [
        {
          "output_type": "stream",
          "text": [
            "l\n",
            "Hel\n",
            "olleH\n"
          ],
          "name": "stdout"
        }
      ]
    },
    {
      "cell_type": "markdown",
      "metadata": {
        "id": "dav8YYPaYqKP"
      },
      "source": [
        "## 리스트 연산하기\n",
        "* 문자열 때와 비슷하게 리스트에서 사칙연산 (더하기, 곱셈)"
      ]
    },
    {
      "cell_type": "code",
      "metadata": {
        "colab": {
          "base_uri": "https://localhost:8080/"
        },
        "id": "ZSkQ7JokZjIl",
        "outputId": "9a22583d-1113-4828-8197-375a8c032bfe"
      },
      "source": [
        "print('hello' + 'hi')"
      ],
      "execution_count": 1,
      "outputs": [
        {
          "output_type": "stream",
          "text": [
            "hellohi\n"
          ],
          "name": "stdout"
        }
      ]
    },
    {
      "cell_type": "code",
      "metadata": {
        "colab": {
          "base_uri": "https://localhost:8080/"
        },
        "id": "-gO2sYq3Z0uT",
        "outputId": "9aa07dfa-0d24-47a9-c281-51137f6dac20"
      },
      "source": [
        "l1 = [1,2,3]\n",
        "l2 = [4,5]\n",
        "\n",
        "l1 + l2"
      ],
      "execution_count": 2,
      "outputs": [
        {
          "output_type": "execute_result",
          "data": {
            "text/plain": [
              "[1, 2, 3, 4, 5]"
            ]
          },
          "metadata": {
            "tags": []
          },
          "execution_count": 2
        }
      ]
    },
    {
      "cell_type": "code",
      "metadata": {
        "colab": {
          "base_uri": "https://localhost:8080/"
        },
        "id": "XFT_AMJ0Z4Jc",
        "outputId": "d1bad7c4-e0c0-4f55-8d58-8448047c2bdd"
      },
      "source": [
        "print('hello' * 3)"
      ],
      "execution_count": 4,
      "outputs": [
        {
          "output_type": "stream",
          "text": [
            "hellohellohello\n"
          ],
          "name": "stdout"
        }
      ]
    },
    {
      "cell_type": "code",
      "metadata": {
        "colab": {
          "base_uri": "https://localhost:8080/"
        },
        "id": "GDw8imF7Z6W-",
        "outputId": "9e1927c7-2044-4a80-8190-cc7f8a4472d9"
      },
      "source": [
        "l2 * 3"
      ],
      "execution_count": 5,
      "outputs": [
        {
          "output_type": "execute_result",
          "data": {
            "text/plain": [
              "[4, 5, 4, 5, 4, 5]"
            ]
          },
          "metadata": {
            "tags": []
          },
          "execution_count": 5
        }
      ]
    },
    {
      "cell_type": "markdown",
      "metadata": {
        "id": "YjQynDe4Z_ed"
      },
      "source": [
        "## 리스트 수정하기"
      ]
    },
    {
      "cell_type": "code",
      "metadata": {
        "id": "l6hINGlMaFJ9"
      },
      "source": [
        "l1 = [1,2,3]\n",
        "l1[2] = 10"
      ],
      "execution_count": 7,
      "outputs": []
    },
    {
      "cell_type": "code",
      "metadata": {
        "colab": {
          "base_uri": "https://localhost:8080/"
        },
        "id": "jkCcIBDyaIW1",
        "outputId": "66ac7079-8769-4869-9926-7d9d57a6ad47"
      },
      "source": [
        "l1[2]"
      ],
      "execution_count": 8,
      "outputs": [
        {
          "output_type": "execute_result",
          "data": {
            "text/plain": [
              "10"
            ]
          },
          "metadata": {
            "tags": []
          },
          "execution_count": 8
        }
      ]
    },
    {
      "cell_type": "markdown",
      "metadata": {
        "id": "qTSRfhk0aeoY"
      },
      "source": [
        "## 리스트 관련 함수(기능)"
      ]
    },
    {
      "cell_type": "markdown",
      "metadata": {
        "id": "pgHY2UgBa3QA"
      },
      "source": [
        "### 리스트에 원소 추가하기 append()"
      ]
    },
    {
      "cell_type": "code",
      "metadata": {
        "colab": {
          "base_uri": "https://localhost:8080/"
        },
        "id": "m7_-md6Da6f0",
        "outputId": "65e81953-92dd-4881-8122-f2d621926cf1"
      },
      "source": [
        "# 비어있는 리스트 만들기\n",
        "l1 = []\n",
        "l1.append(3)\n",
        "l1.append(2)\n",
        "l1.append(1)\n",
        "\n",
        "l1"
      ],
      "execution_count": 9,
      "outputs": [
        {
          "output_type": "execute_result",
          "data": {
            "text/plain": [
              "[3, 2, 1]"
            ]
          },
          "metadata": {
            "tags": []
          },
          "execution_count": 9
        }
      ]
    },
    {
      "cell_type": "code",
      "metadata": {
        "id": "XhfEHocdbADC"
      },
      "source": [
        "# 크롤링 등을 하면서 append를 자주 사용하게 될 예정\n",
        "l2 = []\n",
        "l2.append([1,'hello'])\n",
        "l2.append([2,'bye'])\n",
        "l2.append([3,'greeting'])"
      ],
      "execution_count": 10,
      "outputs": []
    },
    {
      "cell_type": "markdown",
      "metadata": {
        "id": "X5ofApgmbL49"
      },
      "source": [
        "### 리스트의 원소 정렬하기 sort()"
      ]
    },
    {
      "cell_type": "code",
      "metadata": {
        "colab": {
          "base_uri": "https://localhost:8080/"
        },
        "id": "eWllvUMmbV1K",
        "outputId": "6d2f4122-3d83-47e0-ce91-5ecbd8286914"
      },
      "source": [
        "l1 = [1,5,4,3,7,9,8,2,6]\n",
        "\n",
        "l1.sort() # 오름차순 정렬\n",
        "l1"
      ],
      "execution_count": 12,
      "outputs": [
        {
          "output_type": "execute_result",
          "data": {
            "text/plain": [
              "[1, 2, 3, 4, 5, 6, 7, 8, 9]"
            ]
          },
          "metadata": {
            "tags": []
          },
          "execution_count": 12
        }
      ]
    },
    {
      "cell_type": "code",
      "metadata": {
        "colab": {
          "base_uri": "https://localhost:8080/"
        },
        "id": "kp1HsN9ebZYB",
        "outputId": "0b19f3f4-8888-45ed-eee0-6f11a45af035"
      },
      "source": [
        "l1.sort(reverse = True) # 내림차순 정렬\n",
        "l1"
      ],
      "execution_count": 13,
      "outputs": [
        {
          "output_type": "execute_result",
          "data": {
            "text/plain": [
              "[9, 8, 7, 6, 5, 4, 3, 2, 1]"
            ]
          },
          "metadata": {
            "tags": []
          },
          "execution_count": 13
        }
      ]
    },
    {
      "cell_type": "markdown",
      "metadata": {
        "id": "-NPftVWjbiWK"
      },
      "source": [
        "### 리스트 뒤집기 reverse()\n",
        "* 슬라이싱할 때 배웠던 [::-1]과 같은 효과"
      ]
    },
    {
      "cell_type": "code",
      "metadata": {
        "colab": {
          "base_uri": "https://localhost:8080/"
        },
        "id": "PnRm1pF_bvA9",
        "outputId": "b1600b17-1324-49fe-cece-d4916f855eac"
      },
      "source": [
        "l1 = [1,5,3,4,2,6]\n",
        "l1.reverse()\n",
        "l1"
      ],
      "execution_count": 14,
      "outputs": [
        {
          "output_type": "execute_result",
          "data": {
            "text/plain": [
              "[6, 2, 4, 3, 5, 1]"
            ]
          },
          "metadata": {
            "tags": []
          },
          "execution_count": 14
        }
      ]
    },
    {
      "cell_type": "code",
      "metadata": {
        "colab": {
          "base_uri": "https://localhost:8080/"
        },
        "id": "Fvc2j_kzb18M",
        "outputId": "6e078a8a-6ca5-45cc-eea5-c3ca0b2888bd"
      },
      "source": [
        "l1 = [1,5,3,4,2,6]\n",
        "l1[::-1]"
      ],
      "execution_count": 15,
      "outputs": [
        {
          "output_type": "execute_result",
          "data": {
            "text/plain": [
              "[6, 2, 4, 3, 5, 1]"
            ]
          },
          "metadata": {
            "tags": []
          },
          "execution_count": 15
        }
      ]
    },
    {
      "cell_type": "markdown",
      "metadata": {
        "id": "RZVoXSJ-cB6t"
      },
      "source": [
        "### 리스트에서 원소 제거하기 pop()\n",
        "* 잘 사용되진 않는다.\n",
        "* 개인적으로는 multiprocessing을 할 때 잘 사용하고 있다. (db 연결을 위해)"
      ]
    },
    {
      "cell_type": "code",
      "metadata": {
        "colab": {
          "base_uri": "https://localhost:8080/"
        },
        "id": "jecLAP7xcGMd",
        "outputId": "8133a7b9-5abb-48f9-c9bd-c4e479aaf8a5"
      },
      "source": [
        "l1 = [1,2,3]\n",
        "l1.pop() # 맨 뒤에 있는 원소 제거"
      ],
      "execution_count": 16,
      "outputs": [
        {
          "output_type": "execute_result",
          "data": {
            "text/plain": [
              "3"
            ]
          },
          "metadata": {
            "tags": []
          },
          "execution_count": 16
        }
      ]
    },
    {
      "cell_type": "code",
      "metadata": {
        "colab": {
          "base_uri": "https://localhost:8080/"
        },
        "id": "qpVtI1qycRhc",
        "outputId": "637eed2b-8d36-4713-bf2a-cb2e9ac60f10"
      },
      "source": [
        "l1"
      ],
      "execution_count": 17,
      "outputs": [
        {
          "output_type": "execute_result",
          "data": {
            "text/plain": [
              "[1, 2]"
            ]
          },
          "metadata": {
            "tags": []
          },
          "execution_count": 17
        }
      ]
    },
    {
      "cell_type": "code",
      "metadata": {
        "colab": {
          "base_uri": "https://localhost:8080/"
        },
        "id": "HK1DQGGYcSDQ",
        "outputId": "363fa529-e995-431c-9fd0-a77d3a9ac6ee"
      },
      "source": [
        "l1.pop(0) # 인덱스를 집어 넣고 삭제 가능"
      ],
      "execution_count": 18,
      "outputs": [
        {
          "output_type": "execute_result",
          "data": {
            "text/plain": [
              "1"
            ]
          },
          "metadata": {
            "tags": []
          },
          "execution_count": 18
        }
      ]
    },
    {
      "cell_type": "code",
      "metadata": {
        "colab": {
          "base_uri": "https://localhost:8080/"
        },
        "id": "EforyRgccY8m",
        "outputId": "eda73f64-dc6f-410a-dfae-2db583533cc8"
      },
      "source": [
        "l1"
      ],
      "execution_count": 19,
      "outputs": [
        {
          "output_type": "execute_result",
          "data": {
            "text/plain": [
              "[2]"
            ]
          },
          "metadata": {
            "tags": []
          },
          "execution_count": 19
        }
      ]
    },
    {
      "cell_type": "markdown",
      "metadata": {
        "id": "falWuUdYcZwo"
      },
      "source": [
        "### 리스트의 원소에 있는 문자열 이어주기 join()"
      ]
    },
    {
      "cell_type": "code",
      "metadata": {
        "colab": {
          "base_uri": "https://localhost:8080/",
          "height": 35
        },
        "id": "FDTn2TZBc35_",
        "outputId": "7e9fe5a4-a7df-4646-f9c9-4a3e88269dcb"
      },
      "source": [
        "l1 = ['hello', 'hi', 'buy', 'greeting']\n",
        "'＄'.join(l1) # join은 문자열의 기능이지만 리스트와 같이 잘 사용됨."
      ],
      "execution_count": 21,
      "outputs": [
        {
          "output_type": "execute_result",
          "data": {
            "application/vnd.google.colaboratory.intrinsic+json": {
              "type": "string"
            },
            "text/plain": [
              "'hello＄hi＄buy＄greeting'"
            ]
          },
          "metadata": {
            "tags": []
          },
          "execution_count": 21
        }
      ]
    },
    {
      "cell_type": "markdown",
      "metadata": {
        "id": "73R8s68Qc_bG"
      },
      "source": [
        "## 튜플(Tuple)\n",
        "* 튜플은 개발같은 것(대표적으로 웹) 할 때는 잘 사용 x\n",
        "* 데이터 분석에서는 리스트보다 튜플을 더 많이 사용"
      ]
    },
    {
      "cell_type": "markdown",
      "metadata": {
        "id": "gt9rQYMpeBhq"
      },
      "source": [
        "### 튜플의 특징\n",
        "* 튜플은 리스트와 거의 같다.\n",
        "> 인덱싱, 슬라이싱 모두 동일하게 사용이 가능하다. 원소들도 자유롭게 접근이 가능\n",
        "* 튜플은 리스트에 비해서 딱 2가지가 다르다.\n",
        "    1. 리스트는 `[]`를 사용하고, 튜플은 `()`을 사용한다.\n",
        "    2. 리스트는 **생성 후에 변경이 가능하고 (mutable)** **생성 후에 변경이 불가능(immutable)**\n",
        "    > mutable : 생성된 이후에 변경(update)이 자유롭게 가능한 데이터 타입 : `list, dict, set`\n",
        "\n",
        "    > immutable : 생성된 이후에 변경이 불가능한 데이터 타입 : `int, float, str, tuple, `\n",
        "\n",
        "* 성능적인 이슈 면에서 튜플이 리스트보다 더 빠르다.\n",
        "* 프로그래밍적인 이슈 면에서 데이터 수정 자체를 하지 말아야 하는 경우 실수를 방지 할 수 있다."
      ]
    },
    {
      "cell_type": "code",
      "metadata": {
        "colab": {
          "base_uri": "https://localhost:8080/"
        },
        "id": "vuWLqNYN1ROM",
        "outputId": "e21aa8a1-8ce2-49c5-bae1-b6f225476ada"
      },
      "source": [
        "# 1,2를 원소로 가지는 튜플 생성하기\n",
        "t1 = (1,2)\n",
        "type(t1)\n",
        "\n"
      ],
      "execution_count": 29,
      "outputs": [
        {
          "output_type": "execute_result",
          "data": {
            "text/plain": [
              "tuple"
            ]
          },
          "metadata": {
            "tags": []
          },
          "execution_count": 29
        }
      ]
    },
    {
      "cell_type": "code",
      "metadata": {
        "id": "QUzPi7W11qwc"
      },
      "source": [
        "#튜플 안에 튜플\n",
        "t2 = ('a','b',('c','d'))"
      ],
      "execution_count": 30,
      "outputs": []
    },
    {
      "cell_type": "code",
      "metadata": {
        "colab": {
          "base_uri": "https://localhost:8080/"
        },
        "id": "ztMlPSPR1w-8",
        "outputId": "d945faf7-172d-4bd2-c36d-c8d284aeea7d"
      },
      "source": [
        "# 리스트 안에 튜플\n",
        "l3 = [1,2,(3,4)]\n",
        "l3"
      ],
      "execution_count": 33,
      "outputs": [
        {
          "output_type": "execute_result",
          "data": {
            "text/plain": [
              "[1, 2, (3, 4)]"
            ]
          },
          "metadata": {
            "tags": []
          },
          "execution_count": 33
        }
      ]
    },
    {
      "cell_type": "code",
      "metadata": {
        "colab": {
          "base_uri": "https://localhost:8080/"
        },
        "id": "7BvvFug41x9_",
        "outputId": "b6a2d106-96b7-4d56-80f7-d658c8e006b1"
      },
      "source": [
        "# 튜플 안에 리스트 들어가기\n",
        "t3 = (1,2,[3,4]) # 이렇게는 안쓰는게 좋다\n",
        "t3"
      ],
      "execution_count": 34,
      "outputs": [
        {
          "output_type": "execute_result",
          "data": {
            "text/plain": [
              "(1, 2, [3, 4])"
            ]
          },
          "metadata": {
            "tags": []
          },
          "execution_count": 34
        }
      ]
    },
    {
      "cell_type": "code",
      "metadata": {
        "colab": {
          "base_uri": "https://localhost:8080/"
        },
        "id": "S9S8JZzP18s1",
        "outputId": "34bc939e-ec8d-4dec-9a13-6d207cb18fd8"
      },
      "source": [
        "t3[2]"
      ],
      "execution_count": 35,
      "outputs": [
        {
          "output_type": "execute_result",
          "data": {
            "text/plain": [
              "[3, 4]"
            ]
          },
          "metadata": {
            "tags": []
          },
          "execution_count": 35
        }
      ]
    },
    {
      "cell_type": "code",
      "metadata": {
        "colab": {
          "base_uri": "https://localhost:8080/"
        },
        "id": "lZsMgAxp2B0S",
        "outputId": "ec2d3818-a9ca-40b3-c6ac-c6d500ff02d9"
      },
      "source": [
        "t3[2][0] = 100\n",
        "t3"
      ],
      "execution_count": 36,
      "outputs": [
        {
          "output_type": "execute_result",
          "data": {
            "text/plain": [
              "(1, 2, [100, 4])"
            ]
          },
          "metadata": {
            "tags": []
          },
          "execution_count": 36
        }
      ]
    },
    {
      "cell_type": "markdown",
      "metadata": {
        "id": "o1nAWMtB2EI7"
      },
      "source": [
        "프로그래밍을 할 때 될거 같다고 코딩하지 말고\n",
        "누구나 알아보기 쉽고 공감할 수 있는 코드 작성하는게 중요"
      ]
    },
    {
      "cell_type": "code",
      "metadata": {
        "colab": {
          "base_uri": "https://localhost:8080/"
        },
        "id": "eVXSWmJ82LKp",
        "outputId": "1fc21206-cf50-478b-e2d9-ca96dd1f539c"
      },
      "source": [
        "t4 = (1,2,3)\n",
        "t4[0]"
      ],
      "execution_count": 37,
      "outputs": [
        {
          "output_type": "execute_result",
          "data": {
            "text/plain": [
              "1"
            ]
          },
          "metadata": {
            "tags": []
          },
          "execution_count": 37
        }
      ]
    },
    {
      "cell_type": "code",
      "metadata": {
        "colab": {
          "base_uri": "https://localhost:8080/"
        },
        "id": "8LioZWnf2YCK",
        "outputId": "21bb5953-b688-481c-ea4e-74f9f5ba5255"
      },
      "source": [
        "t4[-1]"
      ],
      "execution_count": 38,
      "outputs": [
        {
          "output_type": "execute_result",
          "data": {
            "text/plain": [
              "3"
            ]
          },
          "metadata": {
            "tags": []
          },
          "execution_count": 38
        }
      ]
    },
    {
      "cell_type": "code",
      "metadata": {
        "colab": {
          "base_uri": "https://localhost:8080/"
        },
        "id": "M_BJkvQa2ZPr",
        "outputId": "083cc055-5981-451a-ab58-af5ca9200de5"
      },
      "source": [
        "t4[0:2]"
      ],
      "execution_count": 39,
      "outputs": [
        {
          "output_type": "execute_result",
          "data": {
            "text/plain": [
              "(1, 2)"
            ]
          },
          "metadata": {
            "tags": []
          },
          "execution_count": 39
        }
      ]
    },
    {
      "cell_type": "code",
      "metadata": {
        "colab": {
          "base_uri": "https://localhost:8080/"
        },
        "id": "e-F_LC5A2eUz",
        "outputId": "fb8d3381-1bcc-4824-b31c-adfaf98035f2"
      },
      "source": [
        "t1 = (1,2)\n",
        "t2 = (3,4)\n",
        "t1 + t2"
      ],
      "execution_count": 40,
      "outputs": [
        {
          "output_type": "execute_result",
          "data": {
            "text/plain": [
              "(1, 2, 3, 4)"
            ]
          },
          "metadata": {
            "tags": []
          },
          "execution_count": 40
        }
      ]
    },
    {
      "cell_type": "code",
      "metadata": {
        "colab": {
          "base_uri": "https://localhost:8080/"
        },
        "id": "SWlUay4n2kUL",
        "outputId": "af8e8eaa-b1c4-45ab-8a66-0f2823a1fdf4"
      },
      "source": [
        "t1 * 3 "
      ],
      "execution_count": 41,
      "outputs": [
        {
          "output_type": "execute_result",
          "data": {
            "text/plain": [
              "(1, 2, 1, 2, 1, 2)"
            ]
          },
          "metadata": {
            "tags": []
          },
          "execution_count": 41
        }
      ]
    },
    {
      "cell_type": "markdown",
      "metadata": {
        "id": "ka4S76Ot2lbU"
      },
      "source": [
        "# 집합(set)\n",
        "* 집합 자료형은 말 그대로 수학에서 배우는 집합\n",
        "* 집합의 특징\n",
        "    * 각 집합은 자료를 중복해서 저장하지 않는다.\n",
        "    * 자료 입력의 순서를 유지 하지 않는다.\n",
        "* 수학 처럼 집합(set)도 `{}`로 표시를 하기는 하지만, 파이썬에서는 보통 `dict`를 만들기 위해서 사용한다.\n",
        "* 따라서 공집합을 만들때는 `set()`으로 만든다.\n",
        "> `{1,2,3}` set(집합), `{'a' : 1, 'b' : 2}` dictionary(사전 : Dict)\n",
        "* 집합의 연산인 교집합, 합집합, 차집합을 모두 지원\n",
        "1. 집합의 특징은 중복을 허용하지 않는다. -> **원소의 종류**를 나타낼 때 좋다. (중복 제거 용도)\n",
        "2. 입력 순서를 유지 하지 않는다. -> 원소의 index가 존재하지 않는다.\n"
      ]
    },
    {
      "cell_type": "code",
      "metadata": {
        "id": "ps50_JX54YMV"
      },
      "source": [
        "s1 = {1,2,3}"
      ],
      "execution_count": 49,
      "outputs": []
    },
    {
      "cell_type": "markdown",
      "metadata": {
        "id": "r85ZQSl_4cZq"
      },
      "source": [
        "set은 Sequnce가 아니다"
      ]
    },
    {
      "cell_type": "code",
      "metadata": {
        "colab": {
          "base_uri": "https://localhost:8080/"
        },
        "id": "j1j-ybze434K",
        "outputId": "20b4c2ce-1c50-4b65-87bf-532fde6723f0"
      },
      "source": [
        "# set을 list나 tuple로 만들 수 있다.\n",
        "l1 = list(s1)\n",
        "l1"
      ],
      "execution_count": 50,
      "outputs": [
        {
          "output_type": "execute_result",
          "data": {
            "text/plain": [
              "[1, 2, 3]"
            ]
          },
          "metadata": {
            "tags": []
          },
          "execution_count": 50
        }
      ]
    },
    {
      "cell_type": "code",
      "metadata": {
        "colab": {
          "base_uri": "https://localhost:8080/"
        },
        "id": "6dprXEGU475s",
        "outputId": "d88995c1-4f7f-4845-ee35-75062927d293"
      },
      "source": [
        "# list를 set으로 바꾸기\n",
        "l2 = [1,1,2,2,3,3]\n",
        "s2 = set(l2)\n",
        "s2"
      ],
      "execution_count": 53,
      "outputs": [
        {
          "output_type": "execute_result",
          "data": {
            "text/plain": [
              "{1, 2, 3}"
            ]
          },
          "metadata": {
            "tags": []
          },
          "execution_count": 53
        }
      ]
    },
    {
      "cell_type": "markdown",
      "metadata": {
        "id": "mP4H81FW4_NM"
      },
      "source": [
        "## 집합의 연산"
      ]
    },
    {
      "cell_type": "code",
      "metadata": {
        "colab": {
          "base_uri": "https://localhost:8080/"
        },
        "id": "S-KJ15QV5PDK",
        "outputId": "6a8047ba-d4ad-471f-9648-6f21171c289e"
      },
      "source": [
        "s1 = {1,2,3,4,5}\n",
        "s2 = {3,4,5,6,7}\n",
        "\n",
        "#교집합 - intersection\n",
        "s1.intersection(s2)"
      ],
      "execution_count": 54,
      "outputs": [
        {
          "output_type": "execute_result",
          "data": {
            "text/plain": [
              "{3, 4, 5}"
            ]
          },
          "metadata": {
            "tags": []
          },
          "execution_count": 54
        }
      ]
    },
    {
      "cell_type": "code",
      "metadata": {
        "colab": {
          "base_uri": "https://localhost:8080/"
        },
        "id": "ZRr0spfm5fn2",
        "outputId": "d991e8e9-7e42-49d6-b0cb-9b38b11b3691"
      },
      "source": [
        "# 합집합 - union\n",
        "s1.union(s2)"
      ],
      "execution_count": 55,
      "outputs": [
        {
          "output_type": "execute_result",
          "data": {
            "text/plain": [
              "{1, 2, 3, 4, 5, 6, 7}"
            ]
          },
          "metadata": {
            "tags": []
          },
          "execution_count": 55
        }
      ]
    },
    {
      "cell_type": "code",
      "metadata": {
        "colab": {
          "base_uri": "https://localhost:8080/",
          "height": 172
        },
        "id": "V2axhR-65iPR",
        "outputId": "b121f601-6511-4c22-c226-a1b68b9e3123"
      },
      "source": [
        "s1 + s2 # 오류 , 더하는게 아니다."
      ],
      "execution_count": 57,
      "outputs": [
        {
          "output_type": "error",
          "ename": "TypeError",
          "evalue": "ignored",
          "traceback": [
            "\u001b[0;31m---------------------------------------------------------------------------\u001b[0m",
            "\u001b[0;31mTypeError\u001b[0m                                 Traceback (most recent call last)",
            "\u001b[0;32m<ipython-input-57-10845c312b9a>\u001b[0m in \u001b[0;36m<module>\u001b[0;34m()\u001b[0m\n\u001b[0;32m----> 1\u001b[0;31m \u001b[0ms1\u001b[0m \u001b[0;34m+\u001b[0m \u001b[0ms2\u001b[0m \u001b[0;31m# 오류 , 더하는게 아니다.\u001b[0m\u001b[0;34m\u001b[0m\u001b[0;34m\u001b[0m\u001b[0m\n\u001b[0m",
            "\u001b[0;31mTypeError\u001b[0m: unsupported operand type(s) for +: 'set' and 'set'"
          ]
        }
      ]
    },
    {
      "cell_type": "code",
      "metadata": {
        "colab": {
          "base_uri": "https://localhost:8080/"
        },
        "id": "9SzEOBGJ5nTJ",
        "outputId": "5a33dcc1-5b09-4c97-be86-ca2c98997d01"
      },
      "source": [
        "# 차집합 - difference 또는 - 기호\n",
        "\n",
        "s1 - s2"
      ],
      "execution_count": 58,
      "outputs": [
        {
          "output_type": "execute_result",
          "data": {
            "text/plain": [
              "{1, 2}"
            ]
          },
          "metadata": {
            "tags": []
          },
          "execution_count": 58
        }
      ]
    },
    {
      "cell_type": "code",
      "metadata": {
        "colab": {
          "base_uri": "https://localhost:8080/"
        },
        "id": "J4EVxwYv50BK",
        "outputId": "2b552d40-9822-441f-c30b-e131eb80e4b9"
      },
      "source": [
        "s1.difference(s2) #유일한 값 찾기 위해 활용됨."
      ],
      "execution_count": 59,
      "outputs": [
        {
          "output_type": "execute_result",
          "data": {
            "text/plain": [
              "{1, 2}"
            ]
          },
          "metadata": {
            "tags": []
          },
          "execution_count": 59
        }
      ]
    },
    {
      "cell_type": "markdown",
      "metadata": {
        "id": "DbErKl7352PL"
      },
      "source": [
        "## set의 함수(기능)"
      ]
    },
    {
      "cell_type": "code",
      "metadata": {
        "colab": {
          "base_uri": "https://localhost:8080/"
        },
        "id": "xCrU8BRvPecy",
        "outputId": "25d3e67b-fd8e-4768-b3af-9155e899e45a"
      },
      "source": [
        "s1 = set()\n",
        "\n",
        "# 원소 하나 추가하기\n",
        "\n",
        "s1.add(1)\n",
        "s1.add(3)\n",
        "s1.add(2)\n",
        "\n",
        "s1"
      ],
      "execution_count": 60,
      "outputs": [
        {
          "output_type": "execute_result",
          "data": {
            "text/plain": [
              "{1, 2, 3}"
            ]
          },
          "metadata": {
            "tags": []
          },
          "execution_count": 60
        }
      ]
    },
    {
      "cell_type": "code",
      "metadata": {
        "colab": {
          "base_uri": "https://localhost:8080/"
        },
        "id": "i_BLg_4XPoyD",
        "outputId": "5f48cfab-bcfe-415d-d696-ea8f1c424d01"
      },
      "source": [
        "# 원소를 여러개 추가하기\n",
        "s1.update({4,5}) # union랑 비슷하지만 의미가 달라요.. 여러개 추가하기\n",
        "s1"
      ],
      "execution_count": 61,
      "outputs": [
        {
          "output_type": "execute_result",
          "data": {
            "text/plain": [
              "{1, 2, 3, 4, 5}"
            ]
          },
          "metadata": {
            "tags": []
          },
          "execution_count": 61
        }
      ]
    },
    {
      "cell_type": "markdown",
      "metadata": {
        "id": "Tp74UqOQP-fT"
      },
      "source": [
        "# 사전 (Dictionary)\n",
        "* key-value 자료구조\n",
        "\n",
        "| name(**key**) | code(**value**) |\n",
        "| ---  | ---  |\n",
        "| 'mhso'  | 34 |\n",
        "| 'minho' | 33 |\n",
        "\n",
        "* 리스트는 정수 인덱스를 이용해서 값에 접근(access)\n",
        "* 사전(dict)은 key를 사용해서 값(value)에 접근(access)\n",
        "    * 순서가 아닌, 의미가 있는 값을 통해서 데이터에 접근이 가능\n",
        "* 다른 말로 Hash Table이라고도 불리며, 데이터 관리에 있어서 굉장히 중요한 형식\n",
        "* `{}`를 활용해서 사전을 표현 하는데, set과의 차이점을 두기 위해서 `:`(콜론)으로 key, value를 구분\n",
        "* `dict`를 표현할 때는 `{'mhso' : 34, 'minho' : 33}`\n",
        "* `key`는 set으로 이루어져 있고, `value`는 리스트로 이루어져 있다.\n",
        "    * key는 중복을 허용하지 않고, 순서도 유지가 되지 않는다.\n",
        "    * value는 중복을 허용한다. (순서는 없다)\n"
      ]
    },
    {
      "cell_type": "code",
      "metadata": {
        "colab": {
          "base_uri": "https://localhost:8080/"
        },
        "id": "tJ_J2q1MRa6p",
        "outputId": "0bc9d0d9-5e8e-4f8a-c907-5fffef22071b"
      },
      "source": [
        "# 딕셔너리 만들기\n",
        "d2 = {\n",
        "    'name' : 'minho',\n",
        "    'age' : 34\n",
        "}\n",
        "\n",
        "d2"
      ],
      "execution_count": 62,
      "outputs": [
        {
          "output_type": "execute_result",
          "data": {
            "text/plain": [
              "{'age': 34, 'name': 'minho'}"
            ]
          },
          "metadata": {
            "tags": []
          },
          "execution_count": 62
        }
      ]
    },
    {
      "cell_type": "code",
      "metadata": {
        "colab": {
          "base_uri": "https://localhost:8080/",
          "height": 35
        },
        "id": "0vpuT1fRSiWt",
        "outputId": "46394930-f817-401c-973c-acd94858c78f"
      },
      "source": [
        "# 딕셔너리에서 데이터를 꺼내는 방법 : key를 입력하는 것\n",
        "d2['name']"
      ],
      "execution_count": 63,
      "outputs": [
        {
          "output_type": "execute_result",
          "data": {
            "application/vnd.google.colaboratory.intrinsic+json": {
              "type": "string"
            },
            "text/plain": [
              "'minho'"
            ]
          },
          "metadata": {
            "tags": []
          },
          "execution_count": 63
        }
      ]
    },
    {
      "cell_type": "code",
      "metadata": {
        "colab": {
          "base_uri": "https://localhost:8080/"
        },
        "id": "m3zetw6bSlvc",
        "outputId": "25075663-85da-428a-904a-46f37f341da1"
      },
      "source": [
        "d2['age']"
      ],
      "execution_count": 64,
      "outputs": [
        {
          "output_type": "execute_result",
          "data": {
            "text/plain": [
              "34"
            ]
          },
          "metadata": {
            "tags": []
          },
          "execution_count": 64
        }
      ]
    },
    {
      "cell_type": "code",
      "metadata": {
        "colab": {
          "base_uri": "https://localhost:8080/"
        },
        "id": "ZIvkOqvKSm0c",
        "outputId": "fd037255-5cd4-46ce-ed28-7ca93d0760dc"
      },
      "source": [
        "# 값 추가하기 - key와 value를 동시에 추가\n",
        "d2['job'] = 'teacher'\n",
        "d2"
      ],
      "execution_count": 65,
      "outputs": [
        {
          "output_type": "execute_result",
          "data": {
            "text/plain": [
              "{'age': 34, 'job': 'teacher', 'name': 'minho'}"
            ]
          },
          "metadata": {
            "tags": []
          },
          "execution_count": 65
        }
      ]
    },
    {
      "cell_type": "code",
      "metadata": {
        "colab": {
          "base_uri": "https://localhost:8080/"
        },
        "id": "nZnrkWHuS4me",
        "outputId": "c8388deb-7af9-4e9c-bd8b-aedab9d0a17e"
      },
      "source": [
        "# 값 수정하기 - 추가와 동일하지만, 중복 key값은 수정하게 됨.\n",
        "d2['job'] = 'student'\n",
        "d2"
      ],
      "execution_count": 68,
      "outputs": [
        {
          "output_type": "execute_result",
          "data": {
            "text/plain": [
              "{'age': 34, 'job': 'student', 'name': 'minho'}"
            ]
          },
          "metadata": {
            "tags": []
          },
          "execution_count": 68
        }
      ]
    },
    {
      "cell_type": "code",
      "metadata": {
        "colab": {
          "base_uri": "https://localhost:8080/",
          "height": 172
        },
        "id": "TKbenl6FS6v-",
        "outputId": "a7ebc5d9-8eb9-4638-d0a1-d5a8e1095d27"
      },
      "source": [
        "d2['kimchi'] # 'kimchi'라는 키 값은 없음!"
      ],
      "execution_count": 69,
      "outputs": [
        {
          "output_type": "error",
          "ename": "KeyError",
          "evalue": "ignored",
          "traceback": [
            "\u001b[0;31m---------------------------------------------------------------------------\u001b[0m",
            "\u001b[0;31mKeyError\u001b[0m                                  Traceback (most recent call last)",
            "\u001b[0;32m<ipython-input-69-4b3d3a2de7d5>\u001b[0m in \u001b[0;36m<module>\u001b[0;34m()\u001b[0m\n\u001b[0;32m----> 1\u001b[0;31m \u001b[0md2\u001b[0m\u001b[0;34m[\u001b[0m\u001b[0;34m'kimchi'\u001b[0m\u001b[0;34m]\u001b[0m\u001b[0;34m\u001b[0m\u001b[0;34m\u001b[0m\u001b[0m\n\u001b[0m",
            "\u001b[0;31mKeyError\u001b[0m: 'kimchi'"
          ]
        }
      ]
    },
    {
      "cell_type": "code",
      "metadata": {
        "colab": {
          "base_uri": "https://localhost:8080/"
        },
        "id": "LvNgsKLrTXdE",
        "outputId": "ccc6fd2b-bbd5-4254-bbc7-b5539d5a4e16"
      },
      "source": [
        "d3 = {\n",
        "    'a' : 1,\n",
        "    'b' : 2,\n",
        "    'a' : 3 # 키 값은 중복 허용 안됨 !\n",
        "}\n",
        "d3 # 뒤에 추가된 키 값만 살아남는다."
      ],
      "execution_count": 71,
      "outputs": [
        {
          "output_type": "execute_result",
          "data": {
            "text/plain": [
              "{'a': 3, 'b': 2}"
            ]
          },
          "metadata": {
            "tags": []
          },
          "execution_count": 71
        }
      ]
    },
    {
      "cell_type": "code",
      "metadata": {
        "colab": {
          "base_uri": "https://localhost:8080/"
        },
        "id": "VVqsRrTKUjCh",
        "outputId": "134f1411-b111-4056-e0d6-04c148071f9d"
      },
      "source": [
        "d4 = {\n",
        "    'a' : 1,\n",
        "    'b' : 2,\n",
        "    'd' : 3 \n",
        "}\n",
        "d4"
      ],
      "execution_count": 73,
      "outputs": [
        {
          "output_type": "execute_result",
          "data": {
            "text/plain": [
              "{'a': 1, 'b': 2, 'd': 3}"
            ]
          },
          "metadata": {
            "tags": []
          },
          "execution_count": 73
        }
      ]
    },
    {
      "cell_type": "markdown",
      "metadata": {
        "id": "2GYHM7oIT108"
      },
      "source": [
        "> TIP 딕셔너리를 생성할 때 key의 타입이 무조건 immutable만 가능하다\n",
        "\n",
        "> 튜플은 쓰지마라. 웬만하면 정수나 문자열로 키값을 설정하는 것을 추천"
      ]
    },
    {
      "cell_type": "code",
      "metadata": {
        "colab": {
          "base_uri": "https://localhost:8080/"
        },
        "id": "1K7PRinbUJWv",
        "outputId": "e90d761e-d5d7-4f47-e6a4-e46e4f05ac3e"
      },
      "source": [
        "# 삭제 1 - del  키워드 사용하기\n",
        "del d4['a'] # a키값에 등록된 데이터를 삭제\n",
        "d4"
      ],
      "execution_count": 74,
      "outputs": [
        {
          "output_type": "execute_result",
          "data": {
            "text/plain": [
              "{'b': 2, 'd': 3}"
            ]
          },
          "metadata": {
            "tags": []
          },
          "execution_count": 74
        }
      ]
    },
    {
      "cell_type": "code",
      "metadata": {
        "colab": {
          "base_uri": "https://localhost:8080/"
        },
        "id": "336KoDoCUgYE",
        "outputId": "f03bac1e-d207-4631-89b5-02004acbc787"
      },
      "source": [
        "d4"
      ],
      "execution_count": 75,
      "outputs": [
        {
          "output_type": "execute_result",
          "data": {
            "text/plain": [
              "{'b': 2, 'd': 3}"
            ]
          },
          "metadata": {
            "tags": []
          },
          "execution_count": 75
        }
      ]
    },
    {
      "cell_type": "code",
      "metadata": {
        "colab": {
          "base_uri": "https://localhost:8080/"
        },
        "id": "0hwIcQrQUsd1",
        "outputId": "aed0196b-84da-4de8-d3e5-9d31b83768e4"
      },
      "source": [
        "# 삭제 2 - pop 함수 알아보기\n",
        "s = d4.pop('b')\n",
        "\n",
        "print(s)\n",
        "print(d4)"
      ],
      "execution_count": 76,
      "outputs": [
        {
          "output_type": "stream",
          "text": [
            "2\n",
            "{'d': 3}\n"
          ],
          "name": "stdout"
        }
      ]
    },
    {
      "cell_type": "markdown",
      "metadata": {
        "id": "2enl2g03Uzrj"
      },
      "source": [
        "## 딕셔너리의 함수(기능)"
      ]
    },
    {
      "cell_type": "code",
      "metadata": {
        "id": "Mg02qTCaU-2K"
      },
      "source": [
        "d5 = {\n",
        "    'fist_name' : 'keesung',\n",
        "    'last_name' : 'lee',\n",
        "    'age' : 25,\n",
        "    'height' : 170\n",
        "}"
      ],
      "execution_count": 77,
      "outputs": []
    },
    {
      "cell_type": "code",
      "metadata": {
        "colab": {
          "base_uri": "https://localhost:8080/"
        },
        "id": "-0C0sdkhVKQX",
        "outputId": "2eedc423-f54f-4d67-eeb2-f6bdc068c2aa"
      },
      "source": [
        "# 키값 확인하기 - keys\n",
        "d5.keys()"
      ],
      "execution_count": 79,
      "outputs": [
        {
          "output_type": "execute_result",
          "data": {
            "text/plain": [
              "dict_keys(['fist_name', 'last_name', 'age', 'height'])"
            ]
          },
          "metadata": {
            "tags": []
          },
          "execution_count": 79
        }
      ]
    },
    {
      "cell_type": "code",
      "metadata": {
        "colab": {
          "base_uri": "https://localhost:8080/"
        },
        "id": "pCurKu_SVMdP",
        "outputId": "8bc5b160-c903-4a05-be41-e7653e7226ae"
      },
      "source": [
        "# value만 확이하기 - values()\n",
        "d5.values()"
      ],
      "execution_count": 81,
      "outputs": [
        {
          "output_type": "execute_result",
          "data": {
            "text/plain": [
              "dict_values(['keesung', 'lee', 25, 170])"
            ]
          },
          "metadata": {
            "tags": []
          },
          "execution_count": 81
        }
      ]
    },
    {
      "cell_type": "code",
      "metadata": {
        "colab": {
          "base_uri": "https://localhost:8080/"
        },
        "id": "4IcmMZgRVP0G",
        "outputId": "dbb55161-bdc5-4562-8853-6cbd833c560c"
      },
      "source": [
        "# key, value 쌍 보기 : items()\n",
        "d5.items() "
      ],
      "execution_count": 82,
      "outputs": [
        {
          "output_type": "execute_result",
          "data": {
            "text/plain": [
              "dict_items([('fist_name', 'keesung'), ('last_name', 'lee'), ('age', 25), ('height', 170)])"
            ]
          },
          "metadata": {
            "tags": []
          },
          "execution_count": 82
        }
      ]
    },
    {
      "cell_type": "markdown",
      "metadata": {
        "id": "c4DboE0BVT0X"
      },
      "source": [
        "## 사전에 key값이 존재하는지 확인\n",
        "* `in` 연산자는 dict 뿐만이 아니고 모든 연속형(iterable) 자료형(`list, tuple, set, dict, str)에 사용가능\n",
        "* 원소가 있는가 없는가를 판단\n",
        "    * 원소가 있으면 True\n",
        "    * 원소가 없으면 False"
      ]
    },
    {
      "cell_type": "code",
      "metadata": {
        "id": "bfVd8uGWVzSJ"
      },
      "source": [
        "l1 = [1,2,3]\n",
        "t1 = (1,2,3)\n",
        "s1 = {1,2,3}\n",
        "d1 = {'a' : 1 , 'b' : 2, 'c' : 3}"
      ],
      "execution_count": 83,
      "outputs": []
    },
    {
      "cell_type": "code",
      "metadata": {
        "colab": {
          "base_uri": "https://localhost:8080/"
        },
        "id": "g7aeGlddV6Zz",
        "outputId": "3b45961e-51c5-4e23-b75a-c8eebbf6faa9"
      },
      "source": [
        "print(1 in l1)\n",
        "print(2 in t1)\n",
        "print(4 in s1)\n",
        "print('a' in d1)\n",
        "print(1 in d1.values())"
      ],
      "execution_count": 88,
      "outputs": [
        {
          "output_type": "stream",
          "text": [
            "True\n",
            "True\n",
            "True\n",
            "True\n",
            "True\n"
          ],
          "name": "stdout"
        }
      ]
    },
    {
      "cell_type": "code",
      "metadata": {
        "colab": {
          "base_uri": "https://localhost:8080/"
        },
        "id": "Efjum-JDV8OC",
        "outputId": "c82697e0-701c-410b-b0c4-3adcdf7b5e60"
      },
      "source": [
        "a = [1,2]\n",
        "b = [1,2]\n",
        "c = [a, 3]\n",
        "\n",
        "print(b in c)"
      ],
      "execution_count": 89,
      "outputs": [
        {
          "output_type": "stream",
          "text": [
            "True\n"
          ],
          "name": "stdout"
        }
      ]
    },
    {
      "cell_type": "markdown",
      "metadata": {
        "id": "NynA5oQ0WQtm"
      },
      "source": [
        "# 문제 1\n",
        "자연수에서 10의 자리의 숫자를 출력하기\n",
        "```python\n",
        "예시\n",
        "number = 12354853451231534531523451234\n",
        "????\n",
        "출력 결과 : 3\n",
        "```"
      ]
    },
    {
      "cell_type": "code",
      "metadata": {
        "colab": {
          "base_uri": "https://localhost:8080/"
        },
        "id": "ZTsXmbLhXCvZ",
        "outputId": "7f9fbfe4-c8d3-44f0-a531-6871413a81a9"
      },
      "source": [
        "number = 45613256453142313\n",
        "remain = number // 10 % 10"
      ],
      "execution_count": 93,
      "outputs": [
        {
          "output_type": "execute_result",
          "data": {
            "text/plain": [
              "1"
            ]
          },
          "metadata": {
            "tags": []
          },
          "execution_count": 93
        }
      ]
    },
    {
      "cell_type": "markdown",
      "metadata": {
        "id": "gjrIi5UxXSP1"
      },
      "source": [
        "# 문제 2\n",
        "주민등록 번호 가리기\n",
        "```python\n",
        "jumin1 = '880129-1157615'\n",
        "jumin2 = '901215-2871523'\n",
        "????\n",
        "jumin1 -> 880120-1******\n",
        "jumin2 -> 901215-2******\n",
        "```"
      ]
    },
    {
      "cell_type": "code",
      "metadata": {
        "colab": {
          "base_uri": "https://localhost:8080/"
        },
        "id": "XlWGFPvLXyDC",
        "outputId": "db30c9e2-b0d5-4388-c18d-da13adf3db1c"
      },
      "source": [
        "jumin1 = '880129-1157615'\n",
        "jumin2 = '901215-2871523'\n",
        "\n",
        "print('jumin1 -> ' + jumin1[:-6] + '*'*6)\n",
        "print('jumin2 -> ' + jumin2[:-6] + '*'*6)"
      ],
      "execution_count": 95,
      "outputs": [
        {
          "output_type": "stream",
          "text": [
            "jumin1 -> 880129-1******\n",
            "jumin2 -> 901215-2******\n"
          ],
          "name": "stdout"
        }
      ]
    },
    {
      "cell_type": "markdown",
      "metadata": {
        "id": "9YzMI4yMXd3t"
      },
      "source": [
        "# 문제 3\n",
        "3-1 단어의 종류 파악하기\n",
        "```python\n",
        "\n",
        "sentence = '나는 어제 바나나 두개를 먹었다. 바나나 맛있다.'\n",
        "????\n",
        "\n",
        "출력 결과 : [나는, 어제, 바나나, 두개를, 먹었다., 맛있다.]\n",
        "```\n",
        "3-2 사용된 단어의 개수 파악하기\n",
        "```\n",
        "출력 결과 : 6\n",
        "```"
      ]
    },
    {
      "cell_type": "code",
      "metadata": {
        "colab": {
          "base_uri": "https://localhost:8080/"
        },
        "id": "spH0D-J9Y4-y",
        "outputId": "de644e30-5fea-469d-d6e7-6b975beaabfa"
      },
      "source": [
        "sentence = '나는 어제 바나나 두개를 먹었다. 바나나 맛있다.'\n",
        "\n",
        "print(set(sentence.split()))\n",
        "print(len(set(sentence.split())))"
      ],
      "execution_count": 96,
      "outputs": [
        {
          "output_type": "stream",
          "text": [
            "{'이제', '바나나', '맛있다.', '나는', '두개를', '먹었다.'}\n",
            "6\n"
          ],
          "name": "stdout"
        }
      ]
    }
  ]
}
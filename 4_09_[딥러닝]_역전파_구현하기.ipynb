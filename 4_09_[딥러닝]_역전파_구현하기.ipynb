{
  "nbformat": 4,
  "nbformat_minor": 0,
  "metadata": {
    "colab": {
      "name": "4 - 09 [딥러닝] 역전파 구현하기.ipynb",
      "provenance": [],
      "collapsed_sections": [],
      "authorship_tag": "ABX9TyObu6k/wObIHDufExUYfxk/",
      "include_colab_link": true
    },
    "kernelspec": {
      "name": "python3",
      "display_name": "Python 3"
    },
    "language_info": {
      "name": "python"
    }
  },
  "cells": [
    {
      "cell_type": "markdown",
      "metadata": {
        "id": "view-in-github",
        "colab_type": "text"
      },
      "source": [
        "<a href=\"https://colab.research.google.com/github/GNuSeekK/ICTCOG/blob/main/4_09_%5B%EB%94%A5%EB%9F%AC%EB%8B%9D%5D_%EC%97%AD%EC%A0%84%ED%8C%8C_%EA%B5%AC%ED%98%84%ED%95%98%EA%B8%B0.ipynb\" target=\"_parent\"><img src=\"https://colab.research.google.com/assets/colab-badge.svg\" alt=\"Open In Colab\"/></a>"
      ]
    },
    {
      "cell_type": "markdown",
      "metadata": {
        "id": "AEXDTfCyRjtF"
      },
      "source": [
        "# 계층 ( Layer )\n",
        "* 국소적 계산\n",
        "  * 내가 관심 있는 연산만 신경 쓰는 것\n",
        "  * **계층**별로 국소적 계산 일어 난다.\n",
        "    * 덧셈 계층에서는 덧셈만\n",
        "    * 곱셈 계층에서는 곱셈만\n",
        "    * ReLU 활성화 에서는 ReLU만\n",
        "  * 하나의 계층은 하나의 일만(**국소적**) 전문적으로 할 수 있어야 한다."
      ]
    },
    {
      "cell_type": "markdown",
      "metadata": {
        "id": "HZiCNV3JSlI5"
      },
      "source": [
        "# 1. 곱셈 계층 구현하기\n",
        "입력이 `x, y`일 때\n",
        "* `forward`(순전파) : `x * y`\n",
        "* `backward`(역전파) : `dx = 미분값 * y` `dy = 미분값 * x`"
      ]
    },
    {
      "cell_type": "code",
      "metadata": {
        "id": "93Evlj_0SoaL"
      },
      "source": [
        "class MulLayer:\n",
        "    # 생성자 ( 순전파 및 역전파, 필요에 따라 다른 여러 메소드에서 '같이' 사용할 변수를 생성 )\n",
        "    def __init__(self):\n",
        "        # 여기서는 변수만 만들어 놓기\n",
        "        self.x = None\n",
        "        self.y = None\n",
        "\n",
        "    # 순전파\n",
        "    def forward(self, x, y):\n",
        "        # 역전파 때 서로 반대방향으로 곱해주기 위해 x, y를 저장\n",
        "        self.x = x\n",
        "        self.y = y\n",
        "\n",
        "        # 순전파 연산\n",
        "        out = x * y\n",
        "        return out\n",
        "\n",
        "    # 역전파\n",
        "    def backward(self, dout):\n",
        "        # x 방향에 미분값(dout) * y\n",
        "        # y 방향에 미분값(dout) * x\n",
        "        dx = dout * self.y\n",
        "        dy = dout * self.x\n",
        "\n",
        "        # x가 먼저 들어오고 y가 나중에 들어왔으니 순서 맞춰주기\n",
        "        return dx, dy"
      ],
      "execution_count": null,
      "outputs": []
    },
    {
      "cell_type": "markdown",
      "metadata": {
        "id": "TJd4X2RUZjHE"
      },
      "source": [
        "곱셈 레이어 테스트"
      ]
    },
    {
      "cell_type": "code",
      "metadata": {
        "colab": {
          "base_uri": "https://localhost:8080/"
        },
        "id": "v390S5sGZkM7",
        "outputId": "e9ce5a17-91c6-40bd-c3e0-85c6490a3e99"
      },
      "source": [
        "# 순전파\n",
        "apple = 100     # 사과 한개당 가격\n",
        "apple_cnt = 2   # 사과 개수\n",
        "tax = 1.1       # 소비세\n",
        "\n",
        "# 계층은 2개\n",
        "#   (apple * apple_cnt) * tax\n",
        "\n",
        "mul_apple_layer = MulLayer() # 사과 전체 가격을 구할 레이어\n",
        "mul_tax_layer   = MulLayer() # 소비세 까지 적용시킨 가격을 구할 레이어\n",
        "\n",
        "# 순전파 수행\n",
        "# 순서 중요\n",
        "# 계획한 순서 그대로 레이어를 배치해서 연산해야함\n",
        "# 결과물은 제대로 나오지만 역전파 할 때 문제가 된다\n",
        "\n",
        "# 순전파 때 A-B-C 순으로 했으면\n",
        "# 역전파 때는 C-B-A 순으로 하기\n",
        "\n",
        "# 사과 전체 가격\n",
        "apple_price = mul_apple_layer.forward(apple, apple_cnt)\n",
        "\n",
        "# 소비세 적용 가격\n",
        "price = mul_tax_layer.forward(apple_price, tax)\n",
        "\n",
        "print(f'최종 사과의 가격 : {round(price)}')"
      ],
      "execution_count": null,
      "outputs": [
        {
          "output_type": "stream",
          "text": [
            "최종 사과의 가격 : 220\n"
          ],
          "name": "stdout"
        }
      ]
    },
    {
      "cell_type": "code",
      "metadata": {
        "colab": {
          "base_uri": "https://localhost:8080/"
        },
        "id": "DuM8FVozZ72c",
        "outputId": "a796ee55-abae-425a-9362-22cdee2d51dc"
      },
      "source": [
        "# 역전파 수행하기\n",
        "#   제일 마지막 값에 대한 미분값을 생각하기\n",
        "#   Δ돈통 / Δ포스기 = 1\n",
        "\n",
        "dprice = 1\n",
        "\n",
        "dapple_price, dtax = mul_tax_layer.backward(dprice)\n",
        "dapple, dapple_cnt = mul_apple_layer.backward(dapple_price)\n",
        "\n",
        "print(f'사과 전체 가격에 대한 미분값 - d돈통 / d사과전체가격 : {dapple_price}')\n",
        "print(f'사과 1개 가격에 대한 미분값 - d사과전체가격 / d사과1개가격 : {dapple}')\n",
        "print(f'사과 개수에 대한 미분값 - d돈통 / d사과개수 : {dapple_cnt}')\n",
        "print(f'소비세에 대한 미분값 - d돈통 / d소비세 : {dtax}')"
      ],
      "execution_count": null,
      "outputs": [
        {
          "output_type": "stream",
          "text": [
            "사과 전체 가격에 대한 미분값 - d돈통 / d사과전체가격 : 1.1\n",
            "사과 1개 가격에 대한 미분값 - d사과전체가격 / d사과1개가격 : 2.2\n",
            "사과 개수에 대한 미분값 - d돈통 / d사과개수 : 110.00000000000001\n",
            "소비세에 대한 미분값 - d돈통 / d소비세 : 200\n"
          ],
          "name": "stdout"
        }
      ]
    },
    {
      "cell_type": "markdown",
      "metadata": {
        "id": "KkD7q9hIciKj"
      },
      "source": [
        "# 2. 덧셈 계층 구현하기\n",
        "* `forward` : `x + y`\n",
        "* `backward` : 뒷층에서 보낸 미분값에 `* 1`만 하면 된다. `dx = dout * 1, dy = dout*1`"
      ]
    },
    {
      "cell_type": "code",
      "metadata": {
        "id": "b2sgTtkcdu3g"
      },
      "source": [
        "class AddLayer:\n",
        "    # 생성자 ( 순전파 및 역전파, 필요에 따라 다른 여러 메소드에서 '같이' 사용할 변수를 생성 )\n",
        "    def __init__(self):\n",
        "        # 할게 없다\n",
        "        pass\n",
        "\n",
        "    # 순전파\n",
        "    def forward(self, x, y):\n",
        "        # 순전파 연산\n",
        "        out = x + y\n",
        "        return out\n",
        "\n",
        "    # 역전파\n",
        "    def backward(self, dout):\n",
        "        # x 방향에 미분값(dout) * 1\n",
        "        # y 방향에 미분값(dout) * 1\n",
        "        dx = dout * 1\n",
        "        dy = dout * 1\n",
        "\n",
        "        # x가 먼저 들어오고 y가 나중에 들어왔으니 순서 맞춰주기\n",
        "        return dx, dy"
      ],
      "execution_count": null,
      "outputs": []
    },
    {
      "cell_type": "code",
      "metadata": {
        "id": "qalj52TbfgDH"
      },
      "source": [
        "apple = 100 # 사과 가격\n",
        "apple_cnt = 2 # 사과 갯수\n",
        "\n",
        "orange = 150\n",
        "orange_cnt = 3\n",
        "\n",
        "tax = 1.1"
      ],
      "execution_count": null,
      "outputs": []
    },
    {
      "cell_type": "code",
      "metadata": {
        "id": "2y4UAytif995"
      },
      "source": [
        "# 1 계층 - 사과와 오렌지 각각의 국소적 계산\n",
        "# ( 사과 1개 가격 * 사과 개수) (오렌지 1개 가격 * 오렌지 개수)\n",
        "mul_apple_layer = MulLayer()\n",
        "mul_orange_layer = MulLayer()\n",
        "\n",
        "# 2 계층 - 사과 전체 가격 + 오렌지 전체 가격\n",
        "add_apple_orange_layer = AddLayer()\n",
        "\n",
        "# 3 계층 - 소비세 적용\n",
        "mul_tax_layer = MulLayer()"
      ],
      "execution_count": null,
      "outputs": []
    },
    {
      "cell_type": "code",
      "metadata": {
        "id": "YWQjmZw_gPkB"
      },
      "source": [
        "# 순전파 계산\n",
        "# 1 계층 계산\n",
        "# 사과에 대한 국소적 계산\n",
        "apple_price = mul_apple_layer.forward(apple, apple_cnt)\n",
        "\n",
        "# 오렌지에 대한 국소적 계산\n",
        "orange_price = mul_orange_layer.forward(orange, orange_cnt)\n",
        "\n",
        "# 2계층 계산\n",
        "total_price = add_apple_orange_layer.forward(apple_price,orange_price)\n",
        "\n",
        "# 3계층 계산\n",
        "price = mul_tax_layer.forward(total_price, tax)"
      ],
      "execution_count": null,
      "outputs": []
    },
    {
      "cell_type": "code",
      "metadata": {
        "colab": {
          "base_uri": "https://localhost:8080/"
        },
        "id": "N3qUQVYemW4O",
        "outputId": "ce4f2107-e1f2-416b-d661-740574e22834"
      },
      "source": [
        "print(f'전체가격 : {price}')"
      ],
      "execution_count": null,
      "outputs": [
        {
          "output_type": "stream",
          "text": [
            "전체가격 : 715.0000000000001\n"
          ],
          "name": "stdout"
        }
      ]
    },
    {
      "cell_type": "code",
      "metadata": {
        "id": "n8-nDI--nJch"
      },
      "source": [
        "# 역전파\n",
        "dprice = 1 # d돈통 / d포스기\n",
        "\n",
        "# dprice / dtotal_price, dprice / dtax\n",
        "# d돈통 / d포스기 * d포스기 / d전체가격, d돈통 / d포스기 * d포스기 / d소비세\n",
        "dtotal_price, dtax = mul_tax_layer.backward(dprice)\n",
        "\n",
        "# d돈통 / dapple_price, d돈통 / dorange_price\n",
        "dapple_price, dorange_price = add_apple_orange_layer.backward(dtotal_price)\n",
        "\n",
        "# 사과와 오렌지에 대한 각각의 미분값 (국소적 미분)\n",
        "dapple, dapple_cnt = mul_apple_layer.backward(dapple_price)\n",
        "dorange, dorange_cnt = mul_orange_layer.backward(dorange_price)"
      ],
      "execution_count": null,
      "outputs": []
    },
    {
      "cell_type": "code",
      "metadata": {
        "colab": {
          "base_uri": "https://localhost:8080/"
        },
        "id": "a4VyNfpzn8bq",
        "outputId": "416733e7-ddf3-4ab3-dbde-d1e2b808d5c1"
      },
      "source": [
        "print(\"사과 2개, 오렌지 3개의 가격 (소비세 적용) : {}\".format(price))\n",
        "print('전체 가격에 대한 미분 : {}'.format(dtotal_price))\n",
        "\n",
        "print(\"사과 전체 가격 미분 : {}\".format(dapple_price))\n",
        "print(\"사과 개수 미분 : {}\".format(dapple_cnt))\n",
        "print(\"사과 가격 미분 : {}\".format(dapple))\n",
        "\n",
        "print(\"오렌지 전체 가격 미분 : {}\".format(dorange_price))\n",
        "print(\"오렌지 개수 미분 : {}\".format(dorange_cnt))\n",
        "print(\"오렌지 가격 미분 : {}\".format(dorange))\n",
        "\n",
        "print(\"소비세 미분 : {}\".format(dtax))"
      ],
      "execution_count": null,
      "outputs": [
        {
          "output_type": "stream",
          "text": [
            "사과 2개, 오렌지 3개의 가격 (소비세 적용) : 715.0000000000001\n",
            "전체 가격에 대한 미분 : 1.1\n",
            "사과 전체 가격 미분 : 1.1\n",
            "사과 개수 미분 : 110.00000000000001\n",
            "사과 가격 미분 : 2.2\n",
            "오렌지 전체 가격 미분 : 1.1\n",
            "오렌지 개수 미분 : 165.0\n",
            "오렌지 가격 미분 : 3.3000000000000003\n",
            "소비세 미분 : 650\n"
          ],
          "name": "stdout"
        }
      ]
    },
    {
      "cell_type": "markdown",
      "metadata": {
        "id": "uiA1U2Jvo8fd"
      },
      "source": [
        "# 신경망 레이어 구현"
      ]
    },
    {
      "cell_type": "markdown",
      "metadata": {
        "id": "DBGoWzWzqYd4"
      },
      "source": [
        "## ReLU 레이어\n",
        "\n",
        "relu의 순전파 수식\n",
        "$$\n",
        "y = \\begin{cases} \n",
        "x\\quad( x > 0 )\n",
        "\\\\ 0\\quad( x \\leq 0 )\n",
        "\\end{cases}\n",
        "$$\n",
        "\n",
        "relu의 역전파 수식\n",
        "\n",
        "$$\n",
        "\\frac{\\partial y}{\\partial x} = \\begin{cases} \n",
        "1\\quad( x > 0 )\n",
        "\\\\ 0\\quad( x \\leq 0 )\n",
        "\\end{cases}\n",
        "$$\n",
        "\n",
        "* `forward` : 입력값이 0보다 작으면 0으로, 0보다 크면 입력값을 그대로 출력\n",
        "* `backward` : `forward`시에 0보다 작았으면 해당 위치의 값을 0으로 설정, 0보다 컸으면 변화율이 1이기 때문에 미분값을 그대로 유지\n",
        "* 비고 : 어떤 인덱스의 값이 음수였는지는 지를 저장. (인덱스 x), `mask`로 저장\n",
        "\n"
      ]
    },
    {
      "cell_type": "code",
      "metadata": {
        "id": "ul5RA7Glqzza"
      },
      "source": [
        "class ReLU:\n",
        "  def __init__(self):\n",
        "    # 순전파 때 어느 부분이 음수였고, 양수 였는지를 판단하는 mask를 만들고,\n",
        "    # 역전파 때 이 mask를 이용해서 음수였던 부분의 기울기(미분값)를 0으로 만든다.\n",
        "    self.mask = None\n",
        "  \n",
        "  def forward(self, x):\n",
        "    self.mask = (x <= 0) # 음수면 True, 양수면 False\n",
        "\n",
        "    out = x.copy() # 원본 배열 복사\n",
        "    out[self.mask] = 0 # 음수였던 부분을 0으로 만든다.\n",
        "\n",
        "    return out\n",
        "\n",
        "  def backward(self, dout):\n",
        "    # 순전파 때 음수였던 부분을 0으로 만들었다.\n",
        "    #  음수였었던 부분을 기억하고 있다가.(self.mask) 미분값 전달 할 때 해당 인덱스를 0으로 만들어 주면 된다.\n",
        "    dout[self.mask] = 0\n",
        "    dx = dout\n",
        "\n",
        "    return dx"
      ],
      "execution_count": null,
      "outputs": []
    },
    {
      "cell_type": "code",
      "metadata": {
        "colab": {
          "base_uri": "https://localhost:8080/"
        },
        "id": "UbX0XhWtt3jD",
        "outputId": "e0cf8ce5-c596-406d-c8ae-ecfe3bf30831"
      },
      "source": [
        "import numpy as np\n",
        "\n",
        "x = np.array([[1.0, -0.5],\n",
        "              [-2.0, 3.0]])\n",
        "\n",
        "relu = ReLU()\n",
        "relu.forward(x) # 음수 였던 부분이 전부 0이 된다."
      ],
      "execution_count": null,
      "outputs": [
        {
          "output_type": "execute_result",
          "data": {
            "text/plain": [
              "array([[1., 0.],\n",
              "       [0., 3.]])"
            ]
          },
          "metadata": {
            "tags": []
          },
          "execution_count": 13
        }
      ]
    },
    {
      "cell_type": "code",
      "metadata": {
        "colab": {
          "base_uri": "https://localhost:8080/"
        },
        "id": "MNuI8yz4uFoT",
        "outputId": "5ad98e31-bfef-4418-dcd5-f6c3bf1f7cd5"
      },
      "source": [
        "relu.mask"
      ],
      "execution_count": null,
      "outputs": [
        {
          "output_type": "execute_result",
          "data": {
            "text/plain": [
              "array([[False,  True],\n",
              "       [ True, False]])"
            ]
          },
          "metadata": {
            "tags": []
          },
          "execution_count": 14
        }
      ]
    },
    {
      "cell_type": "code",
      "metadata": {
        "colab": {
          "base_uri": "https://localhost:8080/"
        },
        "id": "8bKEi834uJXS",
        "outputId": "7c0b45c3-2c58-4761-8509-069cbfaad7bd"
      },
      "source": [
        "dout = np.array([[-0.1, 3.0],\n",
        "                 [1.3, -1.1]]) # 양수였던 부분들의 미분값이 음수, 음수였던 부분들의 미분값이 양수\n",
        "\n",
        "relu.backward(dout)"
      ],
      "execution_count": null,
      "outputs": [
        {
          "output_type": "execute_result",
          "data": {
            "text/plain": [
              "array([[-0.1,  0. ],\n",
              "       [ 0. , -1.1]])"
            ]
          },
          "metadata": {
            "tags": []
          },
          "execution_count": 15
        }
      ]
    },
    {
      "cell_type": "markdown",
      "metadata": {
        "id": "sKwv19xJpMSq"
      },
      "source": [
        "## $\\sigma$(시그모이드) 함수 구현\n",
        "* 순전파\n",
        "\n",
        "  * $\n",
        "\\sigma(x) = \\frac{1}{1+e^{-x}}\n",
        "$\n",
        "\n",
        "  * $\n",
        "y = \\sigma(x)\n",
        "$\n",
        "---\n",
        "* 역전파\n",
        "\n",
        "  * $\n",
        "y^{\\prime} = \\sigma (x)(1-\\sigma(x))\n",
        "$\n",
        "\n",
        "  * $y^{\\prime} = y(1-y)\n",
        "$\n",
        "\n",
        "* 시그모이드 레이어에서 순전파 때 기억하고 있어야 할 값 : $y$\n",
        "\n"
      ]
    },
    {
      "cell_type": "code",
      "metadata": {
        "id": "CA5MySDLyu1z"
      },
      "source": [
        "class Sigmoid:\n",
        "\n",
        "    def __init__(self):\n",
        "        # y 를 out이라고 정의\n",
        "        self.out = None\n",
        "\n",
        "    def forward(sefl, x):\n",
        "        out = 1 / (1 + np.exp(-x)) # 시그모이드 계산\n",
        "        self.out = out # 역전파 때 사용하기 위함\n",
        "    \n",
        "    def backward(self,dout):\n",
        "        dx = dout * self.out * (1 - self.out) # 미분값 * y (1-y)"
      ],
      "execution_count": null,
      "outputs": []
    },
    {
      "cell_type": "markdown",
      "metadata": {
        "id": "9noyMH2dz1xO"
      },
      "source": [
        "## Affine 계층\n",
        "* `forward`\n",
        "  * 입력값 `x`와 가중치 `W`의 내적 + `b`( `XW + b` )\n",
        "  * **평탄화**\n",
        "    * 이미지가 들어 올 수도 있고( 2차원 이상의 배열 ), 일반적인 행렬이 들어올 수도 있다.\n",
        "    * XW+b형식의 내적을 하기 위해서는 어떠한 데이터든 평탄화가 필요할 것\n",
        "      * 평탄화가 진행 됐다는 이야기는 원래 데이터의 형상을 사용하지 않겠다는 뜻이 된다. - 원본 데이터의 형상이 무시됨\n",
        "  * 원본 데이터의 모양을 **저장**\n",
        "  * N차원 배열 형태로 입력이 되었으면 N차원 배열 형태로 미분값을 전달 해야 한다.\n",
        "    * 원본 입력 배열의 형상을 유지\n",
        "* `backward`\n",
        "  1. 미분값(`dout`)과 가중치의 전치행렬(`W.T`)의 내적 ( 입력값에 대한 미분값 )\n",
        "$ \\frac{\\partial L}{\\partial X} = \\frac{\\partial L}{\\partial Y} \\cdot W^{T} $\n",
        "  2. 입력값의 전치행렬(`X.T`)과 미분값(`dout`)의 내적 ( 가중치에 대한 미분값 ) $ \\frac{\\partial L}  {\\partial W} = X^{T}\\cdot\\frac{\\partial L}{\\partial Y} $\n",
        "  3. 편향은 배치를 축으로 해서 합을 구한다. (`axis = 0`)\n",
        "  4. 입력값의 형상으로 미분값(`dx`)의 형상을 바꿔준다.\n",
        "    * 예를 들어 N차원 입력을 받았으면, 미분값도 N차원 입력 배열의 형상이 되어야 한다.\n",
        "\n",
        "**저장해야 할 값**\n",
        "  1. 원본 `x`의 형상(shape) - 역전파 할 때 미분 값의 형상을 원본 입력 배열의 형상으로 재구성 할 것\n",
        "  2. 원본 `x`의 데이터 - W의 기울기를 구하기 위해 필요함(x.T을 사용하기 위함)\n",
        "  3. 가중치, 편향 (W, b)\n",
        "  4. `dW, db` : 가중치와 편향의 미분값\n",
        "    * 나중에 경사하강법 때 사용해야 하기 때문\n"
      ]
    },
    {
      "cell_type": "code",
      "metadata": {
        "id": "Vtu1Q3D8CPmF"
      },
      "source": [
        "class Affine:\n",
        "\n",
        "    # Affine 계충을 초기화 할 때는 이미 만들어진 가중치와 편향을 받아올 것\n",
        "    def __init__(self, W,b):\n",
        "        # 1. 가중치, 편향, 입력값 x도 정의만\n",
        "\n",
        "        # 전체적으로 사용할 변수들을 `정의`만\n",
        "        self.W = W\n",
        "        self.b = b\n",
        "\n",
        "        self.x = None\n",
        "        \n",
        "        # 2. x의 형상\n",
        "        # x에 대한 역전파를 수행할 때 모양(shape)이 바뀌어 버린x의 미분값의 형상을 원래대로 돌려놓기 위해 x의 형상을 저장할 예정\n",
        "        # 순전파 떄 (N, 28, 28, 1) -> 평탄화 -> (N,784)\n",
        "        # 역전파 때 (N, 784) -> 원본 모양으로 복구 -> (N, 28, 28, 1)의 모양으로 미분값 행렬을 구할 수 있다.\n",
        "        self.original_x_shape = None\n",
        "\n",
        "        # 3. W와 b의 기울기 배열\n",
        "        #  최적화(Optimization)을 위해 각 매개변수의 미분값을 가지고 있어야 한다.\n",
        "        #  추후에 경사하강법 등을 구현하기 위해서 사용\n",
        "        #  dW, db를 사용해서 W와 b를 갱신(update)하는 것을 <<학습>>이라고 한다.\n",
        "        self.dW = None\n",
        "        self.db = None\n",
        "\n",
        "    def forward(self,x):\n",
        "        # 텐서 대응을 위해 입력값 x의 형상을 저장\n",
        "        # ex) -> (3,2,2) - 3개의 데이터가 (2,2) 모양으로 들어있는 형태 / 평탄화 -> (3,4) -> 역전파 할 때는 (3,2,2)\n",
        "        self.original_x_shape = x.shape\n",
        "\n",
        "        # 평탄화 진행\n",
        "        DATA_SIZE = x.shape[0]\n",
        "\n",
        "        x = x.reshape(DATA_SIZE, -1) # 평탄화\n",
        "\n",
        "        self.x = x # 역전파 때 가중치에 곱하기 위해서 저장(x,T)\n",
        "\n",
        "        out = np.dot(self.x, self.W) + self.b\n",
        "\n",
        "        return out\n",
        "\n",
        "    def backward(self, dout):\n",
        "\n",
        "        # 입력값 x의 미분값\n",
        "        dx = np.dot(dout, self.W.T) # 미분값 * W의 전치행렬\n",
        "\n",
        "        # 가중치 W의 미분값\n",
        "        self.dW = np.dot(self.x.T, dout) # x의 전치행렬 * 미분값\n",
        "\n",
        "        # 편향 b의 미분값 ( 배치의 방향(N 방향 - axis=0) 으로 더해준다. )\n",
        "        self.db = np.sum(dout, axis=0)\n",
        "\n",
        "        dx = dx.reshape(*self.original_x_shape) # (12, 3) -> *(12, 3) -> 12, 3 으로 언패킹 된다.\n",
        "        \n",
        "        return dx"
      ],
      "execution_count": null,
      "outputs": []
    },
    {
      "cell_type": "markdown",
      "metadata": {
        "id": "AVA7LGZbNG89"
      },
      "source": [
        "softmax, loss를 구하기 위한 각종 함수"
      ]
    },
    {
      "cell_type": "code",
      "metadata": {
        "id": "564Lg9-HG1q2"
      },
      "source": [
        "def softmax(x):\n",
        "    if x.ndim == 2:\n",
        "        x = x.T\n",
        "        x = x - np.max(x, axis=0)\n",
        "        y = np.exp(x) / np.sum(np.exp(x), axis=0)\n",
        "        return y.T \n",
        "    x = x - np.max(x) # 오버플로 대책\n",
        "    return np.exp(x) / np.sum(np.exp(x))\n",
        "\n",
        "def cross_entropy_error(y, t):\n",
        "    if y.ndim == 1:\n",
        "        t = t.reshape(1, t.size)\n",
        "        y = y.reshape(1, y.size)\n",
        "    # 훈련 데이터가 원-핫 벡터라면 정답 레이블의 인덱스로 반환\n",
        "    if t.size == y.size:\n",
        "        t = t.argmax(axis=1)\n",
        "    batch_size = y.shape[0]\n",
        "    return -np.sum(np.log(y[np.arange(batch_size), t] + 1e-7)) / batch_size\n",
        "\n",
        "# 수치미분 함수\n",
        "def numerical_gradient(f, x):\n",
        "    h = 1e-4 # 0.0001\n",
        "    grad = np.zeros_like(x)\n",
        "    \n",
        "    it = np.nditer(x, flags=['multi_index'], op_flags=['readwrite'])\n",
        "    while not it.finished:\n",
        "        idx = it.multi_index\n",
        "        tmp_val = x[idx]\n",
        "        x[idx] = float(tmp_val) + h\n",
        "        fxh1 = f(x) # f(x+h)\n",
        "        \n",
        "        x[idx] = tmp_val - h \n",
        "        fxh2 = f(x) # f(x-h)\n",
        "        grad[idx] = (fxh1 - fxh2) / (2*h)\n",
        "        \n",
        "        x[idx] = tmp_val # 값 복원\n",
        "        it.iternext()   \n",
        "        \n",
        "    return grad"
      ],
      "execution_count": null,
      "outputs": []
    },
    {
      "cell_type": "markdown",
      "metadata": {
        "id": "sOzvdU88NKjR"
      },
      "source": [
        "## SoftmaxWithLoss 계층( 출력층 )\n",
        "* `softmax`에 의한 분류 및 `CEE`를 활용한 손실함수를 동시에 구현\n",
        "* `forward`\n",
        "  * softmax 적용 및 loss 구하기\n",
        "    * 정답 레이블(`t`)\n",
        "    * 예측값 ( 소프트맥스 결과물 )\n",
        "    * loss값 ( 기록용 )\n",
        "* `backward`\n",
        "  * 순수한 오차(`y-t`)를 구해서 이전층에 전달\n",
        "  * 주의사항 : `t`가 OHE이 되어 있는지, 안되어 있는지에 따라서 코드가 달라진다."
      ]
    },
    {
      "cell_type": "code",
      "metadata": {
        "id": "Aifq6USeOo1r"
      },
      "source": [
        "class SoftmaxWithLoss:\n",
        "\n",
        "    def __init__(self):\n",
        "        self.loss = None\n",
        "        self.y    = None # 소프트맥스 결과물 예측값 저장( 역전파 때 사용 )\n",
        "        self.t    = None # 정답 레이블 ( 역전파 때 사용 )\n",
        "\n",
        "    def forward(self, x, t):\n",
        "        self.t = t\n",
        "        self.y = softmax(x)\n",
        "\n",
        "        self.loss = cross_entropy_error(self.y, self.t)\n",
        "\n",
        "        return self.loss\n",
        "\n",
        "    def backward(self, dout=1): # dout이 1인 이유 : d돈통 / d포스기\n",
        "        # 배치 고려하기 ( 미분값 평균을 구하기 위해 )\n",
        "        batch_size = self.t.shape[0]\n",
        "\n",
        "        # t가 원-핫 인코딩이 되어있는지, 안되어있는지 고려\n",
        "        # 원소의 개수를 비교\n",
        "\n",
        "        #t가 원-핫 인코딩이 되어 있는 경우\n",
        "        # ex) t = [0, 1, 0, 0], y = [0.1, 0.7, 0.1, 0.1]\n",
        "        #     t.size = 4, y.size = 4\n",
        "\n",
        "        #t가 원-핫 인코딩이 안 되어 있는 경우\n",
        "        # ex) t = [2], y = [0.1, 0.7, 0.1, 0.1]\n",
        "        #     t.size = 1, y.size = 4\n",
        "        if self.t.size == self.y.size: # 출력층의 원소 개수를 비교하는 것은 원-핫 인코딩이 되어있는 t\n",
        "            dx = (self.y - self.t) / batch_size\n",
        "        else:\n",
        "            dx = self.y.copy()\n",
        "\n",
        "            # 원-핫 인코딩이 되어있지 않는 t는 정답 레이블의 인덱스로 생각할 수 있다.\n",
        "            # y = [[0.2, 0.1, 0.7]], t = 2\n",
        "            # dx[np.arange(batch_size), self.t] -> dx[0, 2] -> 0.7 -> 0.7-1 로 오차를 구함\n",
        "            dx[np.arange(batch_size), self.t] -= 1\n",
        "            dx = dx / batch_size\n",
        "        \n",
        "        return dx\n"
      ],
      "execution_count": null,
      "outputs": []
    },
    {
      "cell_type": "markdown",
      "metadata": {
        "id": "QW2TUUa0Q-Ru"
      },
      "source": [
        "# 신경망 레이어를 이용해서 MNIST 분류 네트워크를 구축"
      ]
    },
    {
      "cell_type": "code",
      "metadata": {
        "id": "F201_mzySar_"
      },
      "source": [
        "from collections import OrderedDict # 추가 순서가 유지되는 dict"
      ],
      "execution_count": null,
      "outputs": []
    },
    {
      "cell_type": "markdown",
      "metadata": {
        "id": "qksxjagnSeN_"
      },
      "source": [
        "* 일반 `dict`는 데이터 추가 순서 유지 x\n",
        "* OrderedDict는 데이터 추가 순서 유지 o"
      ]
    },
    {
      "cell_type": "code",
      "metadata": {
        "id": "d1BaF-QboalZ"
      },
      "source": [
        "class TwoLayerNet:\n",
        "\n",
        "    def __init__(self, input_size, hidden_size, output_size, weight_init_std=0.01):\n",
        "        # 매개변수 초기화(가중치, 편향)\n",
        "        self.params = {}\n",
        "\n",
        "        # 1층 은닉층을 위한 매개변수\n",
        "        self.params[\"W1\"] = weight_init_std * np.random.randn(input_size, hidden_size)\n",
        "        self.params['b1'] = np.zeros(hidden_size)\n",
        "\n",
        "        # 2층 출력층을 위한 매개변수\n",
        "        self.params['W2'] = weight_init_std * np.random.randn(hidden_size, output_size)\n",
        "        self.params['b2'] = np.zeros(output_size)\n",
        "\n",
        "        # 레이어 배치\n",
        "        self.layers = OrderedDict() # 레이어 추가의 순서가 유지되어야 하기 때문에 OrderedDict 생성\n",
        "\n",
        "        # Affine 1층 + 활성화 계층(Relu)\n",
        "        self.layers['Affine1'] = Affine(self.params['W1'], self.params['b1'])\n",
        "        self.layers['ReLu'] = ReLU()\n",
        "\n",
        "        # Affine 2층 + SoftmaxWithLoss(출력층)\n",
        "        self.layers['Affine2'] = Affine(self.params['W2'], self.params['b2'])\n",
        "\n",
        "        # 항상 마지막 층은 SoftmaxWithLoss가 되어야 한다.\n",
        "        self.lastLayer = SoftmaxWithLoss()\n",
        "\n",
        "    def predict(self,x):\n",
        "        # 순전파\n",
        "        # self.layers에 들어있는 레이어들을 순서대로 꺼내서 forward 해주면 된다.\n",
        "        for layer in self.layers.values():\n",
        "            x = layer.forward(x)\n",
        "\n",
        "        return x\n",
        "    \n",
        "    def loss(self, x, t):\n",
        "        # predict를 하고, predict에 대한 loss를 구하면 된다.\n",
        "\n",
        "        y = self.predict(x)\n",
        "        return self.lastLayer.forward(y, t)# softmax와 loss를 동시에 구했다!\n",
        "\n",
        "    def accuracy(self, x, t):\n",
        "        # 예측을 하고, 정답이랑 얼마나 틀렸는지를 계산\n",
        "        # 단, t가 원-핫 인코딩이 되어있는지, 안되어있는지가 중요!\n",
        "        y = self.predict(x)\n",
        "        y = np.argmax(y, axis=1) # 제일 큰 값 하나만 뽑자.( 제일 확률이 높은 곳에 위치한 인덱스를 갖는다. )\n",
        "\n",
        "        # 원-핫 인코딩 처리\n",
        "        # t.ndim != 1 --> t가 원핫 인코딩이 되어있는 상태라면\n",
        "        # t에서 제일 높은 인덱스를 찾겠다.\n",
        "        if t.ndim != 1 : t = np.argmax(t, axis=1)\n",
        "\n",
        "        accuracy = np.sum(y == t) / float(x.shape[0])\n",
        "\n",
        "        return accuracy  \n",
        "\n",
        "    # 역전파를 이용해서 기울기 구하기\n",
        "    def gradient(self, x, t):\n",
        "        # 역전파를 하기 위해 필요한 것\n",
        "        # 1. 오차를 먼저 구해야 한다.\n",
        "        # 오차를 구하려면? 예측(predict)를 통해서 loss를 계산 해야 오차를 구할 수 있다.\n",
        "\n",
        "        self.loss(x,t) # 오차 발생\n",
        "\n",
        "        # 역전파\n",
        "        dout = 1 # dLoss / dLoss (d돈통 / d포스기)\n",
        "\n",
        "        # SoftmaxWithLoss의 미분값 구하기\n",
        "        \n",
        "        dout = self.lastLayer.backward(dout) # 순수한 오차가 나온다\n",
        "\n",
        "        # 순전파 때 활용한 레이어 다 가지고 와서 거꾸로 역전파 하기\n",
        "        layers = list(self.layers.values()) #  레이어를 모두 가지고 와서\n",
        "        layers.reverse() # 순서를 거꾸로 뒤집어 준다.\n",
        "\n",
        "        for layer in layers:\n",
        "\n",
        "            # 미분값을 집어 넣어가면서 역전파!\n",
        "            dout = layer.backward(dout)\n",
        "        \n",
        "        # 구해진 미분값(기울기) 가중치, 편향의 미분값\n",
        "        grads = {}\n",
        "\n",
        "        grads['W1'], grads['b1'] = self.layers['Affine1'].dW, self.layers['Affine1'].db\n",
        "        grads['W2'], grads['b2'] = self.layers['Affine2'].dW, self.layers['Affine2'].db\n",
        "\n",
        "        return grads\n",
        "\n",
        "    # 구식 방법. 수치미분을 활용해서 기울기 구하기( 사용하지 않습니다. 왜? 느리니까..)\n",
        "    def numerical_gradient_params(self, x, t):\n",
        "        loss_W = lambda W: self.loss(x, t)\n",
        "            \n",
        "        grads = {}\n",
        "        grads['W1'] = numerical_gradient(loss_W, self.params['W1'])\n",
        "        grads['b1'] = numerical_gradient(loss_W, self.params['b1'])\n",
        "        grads['W2'] = numerical_gradient(loss_W, self.params['W2'])\n",
        "        grads['b2'] = numerical_gradient(loss_W, self.params['b2'])\n",
        "            \n",
        "        return grads\n"
      ],
      "execution_count": null,
      "outputs": []
    },
    {
      "cell_type": "markdown",
      "metadata": {
        "id": "tBR-mOabqbWt"
      },
      "source": [
        "수치 미분과 오차역전파를 했을 때의 기울기 비교"
      ]
    },
    {
      "cell_type": "code",
      "metadata": {
        "id": "nCIzAAp5us5W",
        "colab": {
          "base_uri": "https://localhost:8080/"
        },
        "outputId": "84d06816-cc13-4f43-e17e-1e0ae31bfc5c"
      },
      "source": [
        "from tensorflow.keras import datasets\n",
        "from sklearn.preprocessing import OneHotEncoder\n",
        "\n",
        "mnist = datasets.mnist\n",
        "\n",
        "(X_train, t_train), (X_test, t_test) = mnist.load_data()\n",
        "\n",
        "# t_train에 대한 OHE (여기서는 필요 없다)\n",
        "t_train_dummy = OneHotEncoder().fit_transform(t_train.reshape(-1,1)).toarray()\n",
        "t_test_dummy = OneHotEncoder().fit_transform(t_test.reshape(-1,1)).toarray()\n",
        "\n",
        "# feature 전처리\n",
        "X_train = X_train.reshape(X_train.shape[0], -1)\n",
        "X_train = X_train / 255.0\n",
        "\n",
        "X_test = X_test.reshape(X_test.shape[0], -1)\n",
        "X_test = X_test / 255.0\n"
      ],
      "execution_count": null,
      "outputs": [
        {
          "output_type": "stream",
          "text": [
            "Downloading data from https://storage.googleapis.com/tensorflow/tf-keras-datasets/mnist.npz\n",
            "11493376/11490434 [==============================] - 0s 0us/step\n"
          ],
          "name": "stdout"
        }
      ]
    },
    {
      "cell_type": "code",
      "metadata": {
        "colab": {
          "base_uri": "https://localhost:8080/"
        },
        "id": "2iB6WCUQvg1I",
        "outputId": "3b155b97-8dcf-434f-e9bf-d5edcb3a7619"
      },
      "source": [
        "network = TwoLayerNet(input_size = 28 * 28, hidden_size = 50, output_size = 10)\n",
        "\n",
        "X_batch = X_train[:3]\n",
        "t_batch = t_train[:3]\n",
        "\n",
        "# 수치 미분을 활용한 기울기 배열\n",
        "\n",
        "grads_numerical = network.numerical_gradient_params(X_batch, t_batch)\n",
        "\n",
        "# 오차 역전파를 이용한 기울기 배열\n",
        "grads_backprop = network.gradient(X_batch, t_batch)\n",
        "\n",
        "keys = ['W1', 'b1', 'W2', 'b2']\n",
        "for key in keys:\n",
        "    diff = np.average(np.abs(grads_backprop[key] - grads_numerical[key])) # 각각의 매개변수 별로 기울기의 절대값의 평균\n",
        "    print(f'key: {key} / Diff : {diff}')"
      ],
      "execution_count": null,
      "outputs": [
        {
          "output_type": "stream",
          "text": [
            "key: W1 / Diff : 3.8009959332780736e-10\n",
            "key: b1 / Diff : 2.1525495392783974e-09\n",
            "key: W2 / Diff : 6.2995674339205176e-09\n",
            "key: b2 / Diff : 1.3975686413286726e-07\n"
          ],
          "name": "stdout"
        }
      ]
    },
    {
      "cell_type": "markdown",
      "metadata": {
        "id": "Ea0dZHQgwfN4"
      },
      "source": [
        "오차 역전파로 기울기를 구했을 때랑, 수치미분으로 기울기를 구했을 때랑 차이가 거의 없다는 것을 알 수 있다."
      ]
    },
    {
      "cell_type": "markdown",
      "metadata": {
        "id": "OdXd_EVvwnH_"
      },
      "source": [
        "MNIST 최종 테스트 하기"
      ]
    },
    {
      "cell_type": "code",
      "metadata": {
        "id": "cPe-f8gE1lDA",
        "colab": {
          "base_uri": "https://localhost:8080/"
        },
        "outputId": "d934443b-241c-47df-ab83-0a6da509f4a9"
      },
      "source": [
        "network = TwoLayerNet(input_size=28*28, hidden_size=50, output_size=10)\n",
        "\n",
        "# 하이퍼 파라미터 설정\n",
        "iter_num = 10000 # 학습 반복 횟수\n",
        "learning_rate = 0.1 # 학습률\n",
        "batch_size = 100 # 배치 사이즈\n",
        "train_size = X_train.shape[0] # 훈련할 이미지의 개수\n",
        "\n",
        "# 훈련 과정을 1 에폭마다 기록( 시각화 )\n",
        "train_loss_list = []\n",
        "train_acc_list = []\n",
        "\n",
        "test_loss_list = []\n",
        "test_acc_list = []\n",
        "\n",
        "# 에폭 횟수 구하기\n",
        "#  BATCH를 이용해서 전체 데이터를 모두 사용하면 1에폭\n",
        "#   100개의 배치를 이용해서 600번의 훈련을 반복하면 총 60000개(전체 데이터의 개수)의 데이터로 훈련 하는 것\n",
        "#   이 때가 1 에폭\n",
        "\n",
        "iter_per_epoch = int(max(train_size / batch_size, 1)) # max를 한 이유 : 종종 train_size < batch_size 일 때는 한번만 학습\n",
        "\n",
        "for i in range(iter_num):\n",
        "  # 미니 배치 생성\n",
        "  batch_mask = np.random.choice(train_size, batch_size)\n",
        "  X_batch = X_train[batch_mask]\n",
        "  t_batch = t_train[batch_mask]\n",
        "\n",
        "  # 훈련 1 단계 - 기울기 계산\n",
        "  grads = network.gradient(X_batch, t_batch) # 역전파를 이용해 기울기를 계산\n",
        "\n",
        "  # 훈련 2 단계 - 경사하강법 수행(최적화 - Optimization)\n",
        "  for key in[\"W1\", \"b1\", \"W2\", \"b2\"]:\n",
        "    # network의 params에는 실제 가중치, 편향 - 얘들을 갱신\n",
        "    # grads에는 dL/W1, dL/W2, dL/b1, dL/b2\n",
        "\n",
        "    network.params[key] -= learning_rate * grads[key] # 매개변수 갱신\n",
        "  \n",
        "  # 1에폭 마다 정확도, loss 확인\n",
        "  if i % iter_per_epoch == 0:  # 600번 돌 때마다 기록( 1에폭 마다 기록 )\n",
        "    train_loss = network.loss(X_batch, t_batch)\n",
        "    train_acc = network.accuracy(X_train, t_train)\n",
        "\n",
        "    test_loss = network.loss(X_test, t_test)\n",
        "    test_acc  = network.accuracy(X_test, t_test)\n",
        "\n",
        "    train_loss_list.append(train_loss)\n",
        "    train_acc_list.append(train_acc)\n",
        "\n",
        "    test_loss_list.append(test_loss)\n",
        "    test_acc_list.append(test_acc)\n",
        "\n",
        "    print(\"Train Accuracy : {:.6f} / Test Accuracy : {:.6f} / Train Loss : {:.6f} / Test Loss : {:.6f}\".format(train_acc, test_acc, train_loss, test_loss))"
      ],
      "execution_count": null,
      "outputs": [
        {
          "output_type": "stream",
          "text": [
            "Train Accuracy : 0.137583 / Test Accuracy : 0.132000 / Train Loss : 2.300763 / Test Loss : 2.301617\n",
            "Train Accuracy : 0.906017 / Test Accuracy : 0.911000 / Train Loss : 0.252737 / Test Loss : 0.316519\n",
            "Train Accuracy : 0.924283 / Test Accuracy : 0.926600 / Train Loss : 0.134813 / Test Loss : 0.256342\n",
            "Train Accuracy : 0.937500 / Test Accuracy : 0.936900 / Train Loss : 0.158151 / Test Loss : 0.216291\n",
            "Train Accuracy : 0.945917 / Test Accuracy : 0.945700 / Train Loss : 0.193566 / Test Loss : 0.191408\n",
            "Train Accuracy : 0.948867 / Test Accuracy : 0.946900 / Train Loss : 0.069993 / Test Loss : 0.179771\n",
            "Train Accuracy : 0.956683 / Test Accuracy : 0.953200 / Train Loss : 0.053541 / Test Loss : 0.160669\n",
            "Train Accuracy : 0.960967 / Test Accuracy : 0.957500 / Train Loss : 0.106062 / Test Loss : 0.146151\n",
            "Train Accuracy : 0.964367 / Test Accuracy : 0.962400 / Train Loss : 0.116488 / Test Loss : 0.135771\n",
            "Train Accuracy : 0.966917 / Test Accuracy : 0.962100 / Train Loss : 0.085356 / Test Loss : 0.131629\n",
            "Train Accuracy : 0.969850 / Test Accuracy : 0.964500 / Train Loss : 0.072371 / Test Loss : 0.125100\n",
            "Train Accuracy : 0.971467 / Test Accuracy : 0.966500 / Train Loss : 0.057960 / Test Loss : 0.118323\n",
            "Train Accuracy : 0.972600 / Test Accuracy : 0.966200 / Train Loss : 0.061199 / Test Loss : 0.116283\n",
            "Train Accuracy : 0.975783 / Test Accuracy : 0.966800 / Train Loss : 0.030970 / Test Loss : 0.112388\n",
            "Train Accuracy : 0.975417 / Test Accuracy : 0.966200 / Train Loss : 0.042076 / Test Loss : 0.108597\n",
            "Train Accuracy : 0.977933 / Test Accuracy : 0.968300 / Train Loss : 0.029661 / Test Loss : 0.104582\n",
            "Train Accuracy : 0.977583 / Test Accuracy : 0.968800 / Train Loss : 0.102156 / Test Loss : 0.105619\n"
          ],
          "name": "stdout"
        }
      ]
    },
    {
      "cell_type": "code",
      "metadata": {
        "id": "J6-r8Mi94cJ-"
      },
      "source": [
        "import matplotlib .pyplot as plt\n",
        "%matplotlib inline"
      ],
      "execution_count": null,
      "outputs": []
    },
    {
      "cell_type": "code",
      "metadata": {
        "colab": {
          "base_uri": "https://localhost:8080/",
          "height": 334
        },
        "id": "DVlVP92P4zhB",
        "outputId": "2b0ea2be-6aa8-46ce-d41d-e78f37ec426f"
      },
      "source": [
        "plt.figure(figsize=(10, 5))\n",
        "plt.plot(np.arange(len(train_loss_list)), train_loss_list, label=\"train loss\")\n",
        "plt.plot(np.arange(len(test_loss_list)), test_loss_list, label=\"test loss\")\n",
        "plt.xlabel(\"epochs\")\n",
        "plt.ylabel(\"Loss\")\n",
        "plt.legend()\n",
        "plt.show()"
      ],
      "execution_count": null,
      "outputs": [
        {
          "output_type": "display_data",
          "data": {
            "image/png": "[encoded data removed]",
            "text/plain": [
              "<Figure size 720x360 with 1 Axes>"
            ]
          },
          "metadata": {
            "tags": [],
            "needs_background": "light"
          }
        }
      ]
    },
    {
      "cell_type": "code",
      "metadata": {
        "id": "EgX8xffl43Ke",
        "colab": {
          "base_uri": "https://localhost:8080/",
          "height": 334
        },
        "outputId": "99ff1390-e9ad-46bc-8e07-d75ca57923c2"
      },
      "source": [
        "plt.figure(figsize=(10, 5))\n",
        "plt.plot(np.arange(len(train_acc_list)), train_acc_list, label=\"Train Accuracy\")\n",
        "plt.plot(np.arange(len(test_acc_list)), test_acc_list, label=\"Test Accuracy\")\n",
        "plt.xlabel(\"epochs\")\n",
        "plt.ylabel(\"Accuracy\")\n",
        "plt.legend()\n",
        "plt.show()"
      ],
      "execution_count": null,
      "outputs": [
        {
          "output_type": "display_data",
          "data": {
            "image/png": "[encoded data removed]",
            "text/plain": [
              "<Figure size 720x360 with 1 Axes>"
            ]
          },
          "metadata": {
            "tags": [],
            "needs_background": "light"
          }
        }
      ]
    },
    {
      "cell_type": "markdown",
      "metadata": {
        "id": "tK0vLaZc4VB0"
      },
      "source": [
        "# 딥러닝을 공부하기 위한 준비\n",
        "1. 수학 - 선형 대수 공부\n",
        "    * 분류, 회귀 모델을 잘 이해하기 위함\n",
        "2. 수학 - 확률, 통계\n",
        "    * 생성 모델\n",
        "3. 파이썬만을 이용한 네트워크 구축 (간단하게 참고만)\n",
        "    * 코딩 못해도 좋음!\n",
        "    * 신경망 이라는 것이 어떻게 작동하는지는 파악하는 것이 좋다."
      ]
    }
  ]
}
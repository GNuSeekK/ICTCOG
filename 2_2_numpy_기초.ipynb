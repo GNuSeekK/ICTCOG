{
  "nbformat": 4,
  "nbformat_minor": 0,
  "metadata": {
    "colab": {
      "name": "2 - 2 numpy 기초.ipynb",
      "provenance": [],
      "collapsed_sections": [
        "jkk2je91rdpR",
        "jbcrdegbrnjJ"
      ],
      "authorship_tag": "ABX9TyNhF2GDsVdKCM0CNDpFcrCl",
      "include_colab_link": true
    },
    "kernelspec": {
      "name": "python3",
      "display_name": "Python 3"
    },
    "language_info": {
      "name": "python"
    }
  },
  "cells": [
    {
      "cell_type": "markdown",
      "metadata": {
        "id": "view-in-github",
        "colab_type": "text"
      },
      "source": [
        "<a href=\"https://colab.research.google.com/github/GNuSeekK/ICTCOG/blob/main/2_2_numpy_%EA%B8%B0%EC%B4%88.ipynb\" target=\"_parent\"><img src=\"https://colab.research.google.com/assets/colab-badge.svg\" alt=\"Open In Colab\"/></a>"
      ]
    },
    {
      "cell_type": "code",
      "metadata": {
        "id": "ccU9VEbnZbrT"
      },
      "source": [
        "# numpy 모듈 불러오기\n",
        "import numpy as np"
      ],
      "execution_count": null,
      "outputs": []
    },
    {
      "cell_type": "markdown",
      "metadata": {
        "id": "5NnbcEMAZYtm"
      },
      "source": [
        "# Numpy의 특징\n",
        "* numpy는 기본적으로 c언어로 구현되어 있다. - 속도가 빠르다.\n",
        "* 수치 연산에 관련된 방대한 라이브러리가 존재. ( with scipy )\n",
        "* 일반 파이썬을 이용한 수치 연산보다 훨씬 빠르다.\n",
        "* 특히 배열 병렬 연산에 특화 되어"
      ]
    },
    {
      "cell_type": "markdown",
      "metadata": {
        "id": "Q60Bi_0dZeQK"
      },
      "source": [
        "# 1. numpy의 배열 -> ndarray"
      ]
    },
    {
      "cell_type": "code",
      "metadata": {
        "colab": {
          "base_uri": "https://localhost:8080/"
        },
        "id": "h36JXS1JZ2n3",
        "outputId": "c1e1e5ea-970d-4d21-acc5-de7926b48685"
      },
      "source": [
        "# ndarray 만들기\n",
        "# 1. python의 list를 ndarray화 하기\n",
        "py_list = [1,2,3]\n",
        "arr1 = np.array(py_list) # np.array 함수를 이용해서 ndarray 생성 가능\n",
        "arr1"
      ],
      "execution_count": null,
      "outputs": [
        {
          "output_type": "execute_result",
          "data": {
            "text/plain": [
              "array([1, 2, 3])"
            ]
          },
          "metadata": {
            "tags": []
          },
          "execution_count": 2
        }
      ]
    },
    {
      "cell_type": "code",
      "metadata": {
        "colab": {
          "base_uri": "https://localhost:8080/"
        },
        "id": "yO1dj_z-aRxK",
        "outputId": "416b5184-a739-429e-ccd1-f9f29a0bd621"
      },
      "source": [
        "type(arr1)"
      ],
      "execution_count": null,
      "outputs": [
        {
          "output_type": "execute_result",
          "data": {
            "text/plain": [
              "numpy.ndarray"
            ]
          },
          "metadata": {
            "tags": []
          },
          "execution_count": 3
        }
      ]
    },
    {
      "cell_type": "code",
      "metadata": {
        "colab": {
          "base_uri": "https://localhost:8080/"
        },
        "id": "-2sbwRzlaTTy",
        "outputId": "6de97913-2e12-488e-a5c7-1d9e308cc2b0"
      },
      "source": [
        "arr1[0], arr1[2]"
      ],
      "execution_count": null,
      "outputs": [
        {
          "output_type": "execute_result",
          "data": {
            "text/plain": [
              "(1, 3)"
            ]
          },
          "metadata": {
            "tags": []
          },
          "execution_count": 4
        }
      ]
    },
    {
      "cell_type": "markdown",
      "metadata": {
        "id": "K3SLAKAgaVPK"
      },
      "source": [
        "## 배열의 종류\n",
        "1. 스칼라(scalar)\n",
        "    * 0차원 데이터\n",
        "    * 특정한 하나의 값\n",
        "        ```python\n",
        "        height = 170\n",
        "        weight = 65\n",
        "        age = 25\n",
        "        ```\n",
        "\n",
        "2. 벡터(vector)\n",
        "    * 1차원 배열\n",
        "    * **스칼라가 연속적으로 모여있는 것**\n",
        "    * 3명의 키를 하나의 배열로 모으기 가능\n",
        "        ```python\n",
        "        person_height = [180.1, 173.5, 177.8]\n",
        "        ```\n",
        "    * 벡터 내에 데이터가 N개가 있으면 **N차원 벡터**라고 한다.\n",
        "        * 수학적인 표현\n",
        "\n",
        "3. 행렬(matrix)\n",
        "    * 2차원 배열\n",
        "    * 1차원 배열인 벡터가 여러개 모여있는 것.\n",
        "        ```python\n",
        "        person_info = [[180, 25, 68],\n",
        "                        [170, 35, 70]]\n",
        "        ```\n",
        "\n",
        "4. 텐서(tensor)\n",
        "    * 3차원 이상의 배열\n",
        "    * 3차원 배열은 2차원 배열이 모여있는 것\n",
        "    * 4차원 배열은 3차원 배열이 모여있는 것\n",
        "    * **N차원 배열**을 텐서라고 한다. (N은 3부터는 아니고 0,1,2도 포함)\n",
        "        - `0 Rank Tensor` : 스칼라\n",
        "        - `1 Rank Tensor` : 벡터\n",
        "        - `2 Rank Tensor` : 행렬\n",
        "        - `3 Rank Tensor` : 3 Rank Tensor\n",
        "    * Tensorflow란?\n",
        "        - 구글에서 제공하는 딥러닝 프레임워크\n",
        "        - 미리 준비된 네트워크에 Tensor를 흘린다."
      ]
    },
    {
      "cell_type": "markdown",
      "metadata": {
        "id": "VWf3UcIPbBeo"
      },
      "source": [
        "### 번외 - 프레임워크, 라이브러리, 모듈\n",
        "프레임워크, 라이브러리, 모듈의 차이점\n",
        "* 모듈 == 라이브러리 (파이썬에서는 비슷한 개념)\n",
        "    - 모듈 : 프로그램의 작은 한 조각을 사용할 수 있게 해주는 것\n",
        "    > 직접 만든 경우 모듈이라고 함\n",
        "    - 라이브러리 : 이미 만들어진 기능들의 도구 모음\n",
        "    > 남이 만들면 라이브러리 라고 함.\n",
        "\n",
        "* 프레임워크\n",
        "    - 경기장 느낌\n",
        "    - Tensorflow라는 프레임워크\n",
        "        * 딥러닝을 손쉽게 구현하기 위한 환경"
      ]
    },
    {
      "cell_type": "markdown",
      "metadata": {
        "id": "U9BQKIsHgoTY"
      },
      "source": [
        "# numpy 함수 알아보기"
      ]
    },
    {
      "cell_type": "markdown",
      "metadata": {
        "id": "X2S6JgbZhQIk"
      },
      "source": [
        "## np.arange\n",
        "* 파이썬의 range함수와 매우 흡사"
      ]
    },
    {
      "cell_type": "code",
      "metadata": {
        "colab": {
          "base_uri": "https://localhost:8080/"
        },
        "id": "P7UHwMEEm1J1",
        "outputId": "b7f0ba68-226f-4423-a29d-b76cd6e68196"
      },
      "source": [
        "np.arange(10)"
      ],
      "execution_count": null,
      "outputs": [
        {
          "output_type": "execute_result",
          "data": {
            "text/plain": [
              "array([0, 1, 2, 3, 4, 5, 6, 7, 8, 9])"
            ]
          },
          "metadata": {
            "tags": []
          },
          "execution_count": 6
        }
      ]
    },
    {
      "cell_type": "code",
      "metadata": {
        "colab": {
          "base_uri": "https://localhost:8080/"
        },
        "id": "l6jcMCFfmaEh",
        "outputId": "ef83349f-6da7-481b-d115-cc5da3c48333"
      },
      "source": [
        "np.arange(1,10,2)"
      ],
      "execution_count": null,
      "outputs": [
        {
          "output_type": "execute_result",
          "data": {
            "text/plain": [
              "array([1, 3, 5, 7, 9])"
            ]
          },
          "metadata": {
            "tags": []
          },
          "execution_count": 5
        }
      ]
    },
    {
      "cell_type": "markdown",
      "metadata": {
        "id": "0R8opeydmvC2"
      },
      "source": [
        "리스트와 배열의 차이\n",
        "\n",
        "* 리스트는 파이썬에 존재하는 모든 것을 담아낼 수가 있다.\n",
        "    * list -> ['hello', 10, 10.3, True, 함수]\n"
      ]
    },
    {
      "cell_type": "markdown",
      "metadata": {
        "id": "7rmdVZBnm8wa"
      },
      "source": [
        "## 다차원 배열 만들기\n",
        "2차원 이상의 배열을 다차원 배열이라고 함.\n",
        "* `np.arange` : 1차원 정수 배열 만들 떄 사용\n",
        "* `np.zeros` : 0으로 채워진 0 벡터(zero-vector)를 만들 때 사용\n",
        "* `np.ones` : 1로 채워진 1 벡터(one_vector)를 만들 때 사용"
      ]
    },
    {
      "cell_type": "code",
      "metadata": {
        "colab": {
          "base_uri": "https://localhost:8080/"
        },
        "id": "4f7hOjHNnMI6",
        "outputId": "874dc016-465f-4580-94b2-085a686ebc17"
      },
      "source": [
        "np.zeros(5) # 5차원 벡터 (1차원 배열) 생성"
      ],
      "execution_count": null,
      "outputs": [
        {
          "output_type": "execute_result",
          "data": {
            "text/plain": [
              "array([0., 0., 0., 0., 0.])"
            ]
          },
          "metadata": {
            "tags": []
          },
          "execution_count": 7
        }
      ]
    },
    {
      "cell_type": "code",
      "metadata": {
        "colab": {
          "base_uri": "https://localhost:8080/"
        },
        "id": "0oM4nlVvni6T",
        "outputId": "540649d1-8f13-4bd4-bdf6-6d67ecfa0077"
      },
      "source": [
        "# zeros, ones의 매개변수는 텐서의 모양(형상정보 - shape)을 지침\n",
        "np.zeros((2,3))"
      ],
      "execution_count": null,
      "outputs": [
        {
          "output_type": "execute_result",
          "data": {
            "text/plain": [
              "array([[0., 0., 0.],\n",
              "       [0., 0., 0.]])"
            ]
          },
          "metadata": {
            "tags": []
          },
          "execution_count": 8
        }
      ]
    },
    {
      "cell_type": "code",
      "metadata": {
        "colab": {
          "base_uri": "https://localhost:8080/"
        },
        "id": "CdGhyP3un_ov",
        "outputId": "ca9e1acf-e48d-407e-cdcc-8de0809e467e"
      },
      "source": [
        "np.zeros((3,4,5)) # 3차원 배열 생성, 2차원 배열 3개, 1차원 배열 4개, 0차원 스칼라 5개"
      ],
      "execution_count": null,
      "outputs": [
        {
          "output_type": "execute_result",
          "data": {
            "text/plain": [
              "array([[[0., 0., 0., 0., 0.],\n",
              "        [0., 0., 0., 0., 0.],\n",
              "        [0., 0., 0., 0., 0.],\n",
              "        [0., 0., 0., 0., 0.]],\n",
              "\n",
              "       [[0., 0., 0., 0., 0.],\n",
              "        [0., 0., 0., 0., 0.],\n",
              "        [0., 0., 0., 0., 0.],\n",
              "        [0., 0., 0., 0., 0.]],\n",
              "\n",
              "       [[0., 0., 0., 0., 0.],\n",
              "        [0., 0., 0., 0., 0.],\n",
              "        [0., 0., 0., 0., 0.],\n",
              "        [0., 0., 0., 0., 0.]]])"
            ]
          },
          "metadata": {
            "tags": []
          },
          "execution_count": 9
        }
      ]
    },
    {
      "cell_type": "code",
      "metadata": {
        "colab": {
          "base_uri": "https://localhost:8080/"
        },
        "id": "ibh1ZG_Xo1Tp",
        "outputId": "e921e3bf-61a4-46b1-86b2-7168cd6ae7d5"
      },
      "source": [
        "np.ones(5)"
      ],
      "execution_count": null,
      "outputs": [
        {
          "output_type": "execute_result",
          "data": {
            "text/plain": [
              "array([1., 1., 1., 1., 1.])"
            ]
          },
          "metadata": {
            "tags": []
          },
          "execution_count": 10
        }
      ]
    },
    {
      "cell_type": "code",
      "metadata": {
        "colab": {
          "base_uri": "https://localhost:8080/"
        },
        "id": "Fg1GVJ2epMRC",
        "outputId": "ceb54956-cbe5-4046-c94f-ecb1d774733d"
      },
      "source": [
        "np.ones((2,3))"
      ],
      "execution_count": null,
      "outputs": [
        {
          "output_type": "execute_result",
          "data": {
            "text/plain": [
              "array([[1., 1., 1.],\n",
              "       [1., 1., 1.]])"
            ]
          },
          "metadata": {
            "tags": []
          },
          "execution_count": 11
        }
      ]
    },
    {
      "cell_type": "code",
      "metadata": {
        "colab": {
          "base_uri": "https://localhost:8080/"
        },
        "id": "KLWY-kpCpNf6",
        "outputId": "50a14d77-3801-4d87-fe45-f86542984c1c"
      },
      "source": [
        "np.ones(3) * 5"
      ],
      "execution_count": null,
      "outputs": [
        {
          "output_type": "execute_result",
          "data": {
            "text/plain": [
              "array([5., 5., 5.])"
            ]
          },
          "metadata": {
            "tags": []
          },
          "execution_count": 12
        }
      ]
    },
    {
      "cell_type": "code",
      "metadata": {
        "colab": {
          "base_uri": "https://localhost:8080/"
        },
        "id": "-zxo552Ypv1L",
        "outputId": "77a81b0a-e42b-4613-f8dc-855751a1d13a"
      },
      "source": [
        "np.full((2,3),7)"
      ],
      "execution_count": null,
      "outputs": [
        {
          "output_type": "execute_result",
          "data": {
            "text/plain": [
              "array([[7, 7, 7],\n",
              "       [7, 7, 7]])"
            ]
          },
          "metadata": {
            "tags": []
          },
          "execution_count": 14
        }
      ]
    },
    {
      "cell_type": "markdown",
      "metadata": {
        "id": "HIKKhRKCpyTb"
      },
      "source": [
        "## 단위 행렬 만들기\n",
        "* np.eye\n",
        "* 단위 행렬 : 대각선 방향의 원소가 1이고, 나머지는 0인 행렬"
      ]
    },
    {
      "cell_type": "code",
      "metadata": {
        "colab": {
          "base_uri": "https://localhost:8080/"
        },
        "id": "eKSjHonFqG_D",
        "outputId": "73d24df4-83e4-437d-e46c-ddf8c9764ad6"
      },
      "source": [
        "np.eye(3)"
      ],
      "execution_count": null,
      "outputs": [
        {
          "output_type": "execute_result",
          "data": {
            "text/plain": [
              "array([[1., 0., 0.],\n",
              "       [0., 1., 0.],\n",
              "       [0., 0., 1.]])"
            ]
          },
          "metadata": {
            "tags": []
          },
          "execution_count": 16
        }
      ]
    },
    {
      "cell_type": "code",
      "metadata": {
        "colab": {
          "base_uri": "https://localhost:8080/"
        },
        "id": "IHuSVfs6qH05",
        "outputId": "a1ca4608-3ea6-4f11-ce5c-7b469282fcb8"
      },
      "source": [
        "np.eye(3,4)"
      ],
      "execution_count": null,
      "outputs": [
        {
          "output_type": "execute_result",
          "data": {
            "text/plain": [
              "array([[1., 0., 0., 0.],\n",
              "       [0., 1., 0., 0.],\n",
              "       [0., 0., 1., 0.]])"
            ]
          },
          "metadata": {
            "tags": []
          },
          "execution_count": 17
        }
      ]
    },
    {
      "cell_type": "markdown",
      "metadata": {
        "id": "Fh7X2BzrqltO"
      },
      "source": [
        "## 점구간 만들기 (사잇값 만들기)\n",
        "* np.linspace"
      ]
    },
    {
      "cell_type": "code",
      "metadata": {
        "colab": {
          "base_uri": "https://localhost:8080/"
        },
        "id": "P9xL4kbOqpg1",
        "outputId": "07f06e5e-3faa-4b23-af45-90dd5cc8c29f"
      },
      "source": [
        "np.linspace(1, 10, 3)"
      ],
      "execution_count": null,
      "outputs": [
        {
          "output_type": "execute_result",
          "data": {
            "text/plain": [
              "array([ 1. ,  5.5, 10. ])"
            ]
          },
          "metadata": {
            "tags": []
          },
          "execution_count": 18
        }
      ]
    },
    {
      "cell_type": "code",
      "metadata": {
        "colab": {
          "base_uri": "https://localhost:8080/"
        },
        "id": "ULqWBhwSqq7t",
        "outputId": "57e84b79-7d53-42c0-baf6-41d6c9123143"
      },
      "source": [
        "np.linspace(1, 10, 4)"
      ],
      "execution_count": null,
      "outputs": [
        {
          "output_type": "execute_result",
          "data": {
            "text/plain": [
              "array([ 1.,  4.,  7., 10.])"
            ]
          },
          "metadata": {
            "tags": []
          },
          "execution_count": 19
        }
      ]
    },
    {
      "cell_type": "code",
      "metadata": {
        "colab": {
          "base_uri": "https://localhost:8080/"
        },
        "id": "_pODh0rbrE8h",
        "outputId": "ef8b3637-6f05-4122-f739-c68543d71316"
      },
      "source": [
        "np.linspace(1, 10, 5)"
      ],
      "execution_count": null,
      "outputs": [
        {
          "output_type": "execute_result",
          "data": {
            "text/plain": [
              "array([ 1.  ,  3.25,  5.5 ,  7.75, 10.  ])"
            ]
          },
          "metadata": {
            "tags": []
          },
          "execution_count": 20
        }
      ]
    },
    {
      "cell_type": "markdown",
      "metadata": {
        "id": "RQ47lKHUrFTG"
      },
      "source": [
        "## Random을 사용하기 위한 numpy\n",
        "* 랜덤 배열은 딥러닝에서 매개변수(가중치, 편형)를 초기화 하기 위해서 사용"
      ]
    },
    {
      "cell_type": "markdown",
      "metadata": {
        "id": "jkk2je91rdpR"
      },
      "source": [
        "### np.random.rand\n",
        "* 완전 랜덤 만들기(정규분포나 균등분포가 아닌 완벽한 랜덤)"
      ]
    },
    {
      "cell_type": "code",
      "metadata": {
        "colab": {
          "base_uri": "https://localhost:8080/"
        },
        "id": "FvXImWParjkZ",
        "outputId": "7fde54de-b5de-484c-93bf-49a99fc9e3fd"
      },
      "source": [
        "np.random.rand(2,3)"
      ],
      "execution_count": null,
      "outputs": [
        {
          "output_type": "execute_result",
          "data": {
            "text/plain": [
              "array([[0.04582198, 0.8760902 , 0.66341827],\n",
              "       [0.89434727, 0.49931583, 0.10240551]])"
            ]
          },
          "metadata": {
            "tags": []
          },
          "execution_count": 24
        }
      ]
    },
    {
      "cell_type": "code",
      "metadata": {
        "colab": {
          "base_uri": "https://localhost:8080/"
        },
        "id": "eTqFTyAUrk1x",
        "outputId": "11b4bcb3-0601-4378-ad7b-53c891aa5313"
      },
      "source": [
        "np.random.rand(2,3,4)"
      ],
      "execution_count": null,
      "outputs": [
        {
          "output_type": "execute_result",
          "data": {
            "text/plain": [
              "array([[[0.4961085 , 0.05896324, 0.41679924, 0.33558969],\n",
              "        [0.70237633, 0.64615608, 0.27208051, 0.74002041],\n",
              "        [0.56284275, 0.11670831, 0.04646711, 0.87105081]],\n",
              "\n",
              "       [[0.8794451 , 0.55390658, 0.90710564, 0.6265198 ],\n",
              "        [0.26771607, 0.76610895, 0.89495181, 0.72810533],\n",
              "        [0.3905728 , 0.31350595, 0.37301043, 0.33805597]]])"
            ]
          },
          "metadata": {
            "tags": []
          },
          "execution_count": 25
        }
      ]
    },
    {
      "cell_type": "markdown",
      "metadata": {
        "id": "jbcrdegbrnjJ"
      },
      "source": [
        "### np.random.randn\n",
        "* 정규분포 랜덤값 만들기"
      ]
    },
    {
      "cell_type": "code",
      "metadata": {
        "colab": {
          "base_uri": "https://localhost:8080/"
        },
        "id": "hwySHSvKr6yh",
        "outputId": "b58409d4-9b06-4b7f-e03f-7d438dbd3cf6"
      },
      "source": [
        "np.random.randn(16)"
      ],
      "execution_count": null,
      "outputs": [
        {
          "output_type": "execute_result",
          "data": {
            "text/plain": [
              "array([ 0.63487867,  0.01197029, -0.91025097, -1.89610885,  2.21625756,\n",
              "        0.86971511, -1.4156102 ,  0.38608401,  0.36776317, -1.11281666,\n",
              "       -1.51483357,  0.01034675,  0.19804315,  0.94628614,  0.29525439,\n",
              "       -1.12059777])"
            ]
          },
          "metadata": {
            "tags": []
          },
          "execution_count": 26
        }
      ]
    },
    {
      "cell_type": "markdown",
      "metadata": {
        "id": "sPkFsv3cr8DX"
      },
      "source": [
        "### np.random.uniform\n",
        "* 균등분포 랜덤값 만들기"
      ]
    },
    {
      "cell_type": "code",
      "metadata": {
        "colab": {
          "base_uri": "https://localhost:8080/"
        },
        "id": "QCf1PuB2sV4k",
        "outputId": "79fb8cbf-1ba1-41da-f4de-f371527fce98"
      },
      "source": [
        "np.random.uniform(1.0,3.0, size=(4,5))"
      ],
      "execution_count": null,
      "outputs": [
        {
          "output_type": "execute_result",
          "data": {
            "text/plain": [
              "array([[1.07988971, 1.61521916, 1.39243313, 2.64436102, 1.83119576],\n",
              "       [1.01899138, 1.3843657 , 1.30457838, 1.48070443, 2.87364989],\n",
              "       [1.3581892 , 1.34111961, 1.9444012 , 2.61119944, 2.61166932],\n",
              "       [2.03432603, 1.96397244, 1.19470333, 1.38182675, 2.75222661]])"
            ]
          },
          "metadata": {
            "tags": []
          },
          "execution_count": 27
        }
      ]
    },
    {
      "cell_type": "markdown",
      "metadata": {
        "id": "KypuEN7wsZab"
      },
      "source": [
        "## 정수 랜덤 샘플링 하기\n",
        "* np.random.choice\n",
        "* 샘플링 : 전체에서 표본을 추출하는 행위\n",
        "* 랜덤 샘플링 : 일정한 범위 내에서 필요한 정수를 랜덤으로 추출\n",
        "* 딥러닝에서는 `mini-batch`를 만들 때 사용"
      ]
    },
    {
      "cell_type": "code",
      "metadata": {
        "colab": {
          "base_uri": "https://localhost:8080/"
        },
        "id": "__mnxC5UuBj3",
        "outputId": "c8dfac83-55df-434e-f0e1-2384abb867f7"
      },
      "source": [
        "np.random.choice(10, size= (2,3))"
      ],
      "execution_count": null,
      "outputs": [
        {
          "output_type": "execute_result",
          "data": {
            "text/plain": [
              "array([[1, 7, 8],\n",
              "       [5, 2, 1]])"
            ]
          },
          "metadata": {
            "tags": []
          },
          "execution_count": 28
        }
      ]
    },
    {
      "cell_type": "code",
      "metadata": {
        "colab": {
          "base_uri": "https://localhost:8080/"
        },
        "id": "YhY0x-iLuFBv",
        "outputId": "e22ea0cb-19fb-4cd6-b99c-fc944c5b6c21"
      },
      "source": [
        "# 중복 추출 방지\n",
        "np.random.choice(10, size= (2,3), replace = False)"
      ],
      "execution_count": null,
      "outputs": [
        {
          "output_type": "execute_result",
          "data": {
            "text/plain": [
              "array([[7, 5, 6],\n",
              "       [3, 9, 0]])"
            ]
          },
          "metadata": {
            "tags": []
          },
          "execution_count": 30
        }
      ]
    },
    {
      "cell_type": "markdown",
      "metadata": {
        "id": "THRwNoQUuvTQ"
      },
      "source": [
        "## 랜덤 정수 배열 만들기\n",
        "* np.random.randint"
      ]
    },
    {
      "cell_type": "code",
      "metadata": {
        "colab": {
          "base_uri": "https://localhost:8080/"
        },
        "id": "cvmx2nHVu0rh",
        "outputId": "27502139-98d3-4d01-dde6-27ab10260be3"
      },
      "source": [
        "arr1 = np.random.randint(1,100, size= (5,))\n",
        "arr1"
      ],
      "execution_count": null,
      "outputs": [
        {
          "output_type": "execute_result",
          "data": {
            "text/plain": [
              "array([30, 49, 37, 51, 35])"
            ]
          },
          "metadata": {
            "tags": []
          },
          "execution_count": 33
        }
      ]
    },
    {
      "cell_type": "code",
      "metadata": {
        "colab": {
          "base_uri": "https://localhost:8080/"
        },
        "id": "HgQXOAzlu49i",
        "outputId": "845d991b-56c6-4c2e-f0b6-3783c53e7def"
      },
      "source": [
        "arr2 = np.random.randint(1,100, size= (5,1))\n",
        "arr2"
      ],
      "execution_count": null,
      "outputs": [
        {
          "output_type": "execute_result",
          "data": {
            "text/plain": [
              "array([[71],\n",
              "       [48],\n",
              "       [31],\n",
              "       [97],\n",
              "       [94]])"
            ]
          },
          "metadata": {
            "tags": []
          },
          "execution_count": 34
        }
      ]
    },
    {
      "cell_type": "markdown",
      "metadata": {
        "id": "EciCDkJ0u52w"
      },
      "source": [
        "arr1과 arr2는 같은 배열인가? False\n",
        "* arr1은 1차원 배열, arr2는 2차원 배열\n",
        "\n",
        "arr1과 arr2는 같은 **벡터**일까? True\n",
        "* arr1은 numpy에서는 행벡터의 모양을 하고 있지만, 실제로는 열 벡터이다.\n",
        "* arr2는 열의 수가 1개의 열벡터 모양을 하고 있다.\n",
        "\n",
        "대부분의 머신러닝 라이브러리는 기본적인 데이터 취급을 열벡터로 하기 때문에 2차원 배열 이상부터 취급이 가능"
      ]
    },
    {
      "cell_type": "markdown",
      "metadata": {
        "id": "-bMLLyuK0lKZ"
      },
      "source": [
        "# axis 이해하기\n",
        "axis : 축, 축이란? 데이터가 추가되는 방향의 **인덱스**\n",
        "\n",
        "예를 들어 3차원 배열 (3,4,5)\n",
        "* 3차원 배열에 추가되는 건 2차원 배열 -> axis : 0\n",
        "* 2차원 배열에 추가되는 건 1차원 배열 -> axis : 1\n",
        "* 1차원 배열에 추가되는 건 0차원 배열 -> axis : 2"
      ]
    },
    {
      "cell_type": "code",
      "metadata": {
        "colab": {
          "base_uri": "https://localhost:8080/"
        },
        "id": "l31awttR1AFW",
        "outputId": "42aa3429-ab50-4cd9-fed5-e15f0bc4840e"
      },
      "source": [
        "arr = np.arange(1,37).reshape(3,4,3)\n",
        "arr"
      ],
      "execution_count": null,
      "outputs": [
        {
          "output_type": "execute_result",
          "data": {
            "text/plain": [
              "array([[[ 1,  2,  3],\n",
              "        [ 4,  5,  6],\n",
              "        [ 7,  8,  9],\n",
              "        [10, 11, 12]],\n",
              "\n",
              "       [[13, 14, 15],\n",
              "        [16, 17, 18],\n",
              "        [19, 20, 21],\n",
              "        [22, 23, 24]],\n",
              "\n",
              "       [[25, 26, 27],\n",
              "        [28, 29, 30],\n",
              "        [31, 32, 33],\n",
              "        [34, 35, 36]]])"
            ]
          },
          "metadata": {
            "tags": []
          },
          "execution_count": 35
        }
      ]
    },
    {
      "cell_type": "code",
      "metadata": {
        "id": "xogQX1FM4KzT"
      },
      "source": [
        "np.max(arr, axis = 0)"
      ],
      "execution_count": null,
      "outputs": []
    },
    {
      "cell_type": "markdown",
      "metadata": {
        "id": "LS6DAUhZ4S3J"
      },
      "source": [
        "# 인덱스와 슬라이싱"
      ]
    },
    {
      "cell_type": "code",
      "metadata": {
        "colab": {
          "base_uri": "https://localhost:8080/"
        },
        "id": "tlG-xQJ44Ung",
        "outputId": "de5a4cff-658b-4280-b125-7ba61375abb3"
      },
      "source": [
        "arr = np.arange(1,11).reshape(2,5)\n",
        "arr"
      ],
      "execution_count": null,
      "outputs": [
        {
          "output_type": "execute_result",
          "data": {
            "text/plain": [
              "array([[ 1,  2,  3,  4,  5],\n",
              "       [ 6,  7,  8,  9, 10]])"
            ]
          },
          "metadata": {
            "tags": []
          },
          "execution_count": 42
        }
      ]
    },
    {
      "cell_type": "code",
      "metadata": {
        "colab": {
          "base_uri": "https://localhost:8080/"
        },
        "id": "c-ew0erm4X86",
        "outputId": "e14616ac-ada6-4644-8856-dba17dfe4dc0"
      },
      "source": [
        "arr[0]"
      ],
      "execution_count": null,
      "outputs": [
        {
          "output_type": "execute_result",
          "data": {
            "text/plain": [
              "array([1, 2, 3, 4, 5])"
            ]
          },
          "metadata": {
            "tags": []
          },
          "execution_count": 43
        }
      ]
    },
    {
      "cell_type": "code",
      "metadata": {
        "colab": {
          "base_uri": "https://localhost:8080/"
        },
        "id": "x5Lu_ASu4YaD",
        "outputId": "29f13327-7266-41d5-f5c0-b2837d5ae457"
      },
      "source": [
        "arr[0][3]"
      ],
      "execution_count": null,
      "outputs": [
        {
          "output_type": "execute_result",
          "data": {
            "text/plain": [
              "4"
            ]
          },
          "metadata": {
            "tags": []
          },
          "execution_count": 44
        }
      ]
    },
    {
      "cell_type": "code",
      "metadata": {
        "colab": {
          "base_uri": "https://localhost:8080/"
        },
        "id": "h-wEe48o4ZUh",
        "outputId": "715455f8-6b38-4b10-a26f-4308a59e11c6"
      },
      "source": [
        "arr[0,3]"
      ],
      "execution_count": null,
      "outputs": [
        {
          "output_type": "execute_result",
          "data": {
            "text/plain": [
              "4"
            ]
          },
          "metadata": {
            "tags": []
          },
          "execution_count": 45
        }
      ]
    },
    {
      "cell_type": "markdown",
      "metadata": {
        "id": "_U7EaHta4y6l"
      },
      "source": [
        "특정 차원의 배열을 전체 선택하기 위해서 쓰는 연산자 :"
      ]
    },
    {
      "cell_type": "code",
      "metadata": {
        "colab": {
          "base_uri": "https://localhost:8080/"
        },
        "id": "yjnSp5x841oI",
        "outputId": "594afad1-aa68-47be-b19f-44b0ccba42dc"
      },
      "source": [
        "arr"
      ],
      "execution_count": null,
      "outputs": [
        {
          "output_type": "execute_result",
          "data": {
            "text/plain": [
              "array([[ 1,  2,  3,  4,  5],\n",
              "       [ 6,  7,  8,  9, 10]])"
            ]
          },
          "metadata": {
            "tags": []
          },
          "execution_count": 47
        }
      ]
    },
    {
      "cell_type": "code",
      "metadata": {
        "colab": {
          "base_uri": "https://localhost:8080/"
        },
        "id": "YD4Mbm3i42Pc",
        "outputId": "13edfba0-389d-4795-9280-b2cbf81652cd"
      },
      "source": [
        "arr[:]"
      ],
      "execution_count": null,
      "outputs": [
        {
          "output_type": "execute_result",
          "data": {
            "text/plain": [
              "array([[ 1,  2,  3,  4,  5],\n",
              "       [ 6,  7,  8,  9, 10]])"
            ]
          },
          "metadata": {
            "tags": []
          },
          "execution_count": 48
        }
      ]
    },
    {
      "cell_type": "code",
      "metadata": {
        "colab": {
          "base_uri": "https://localhost:8080/"
        },
        "id": "STi9whir43BM",
        "outputId": "6c7ff3af-6f95-4b1f-ee99-cd275a0f7fa0"
      },
      "source": [
        "arr[:,2]"
      ],
      "execution_count": null,
      "outputs": [
        {
          "output_type": "execute_result",
          "data": {
            "text/plain": [
              "array([3, 8])"
            ]
          },
          "metadata": {
            "tags": []
          },
          "execution_count": 51
        }
      ]
    },
    {
      "cell_type": "code",
      "metadata": {
        "colab": {
          "base_uri": "https://localhost:8080/"
        },
        "id": "QmgGNr6b5D2Z",
        "outputId": "dc997aa0-5de6-40f1-9d21-c604b76c0570"
      },
      "source": [
        "# 3차원, 0차원 제외하고 1, 2차원 데이터 전체를 가지고 오고 싶다.\n",
        "# 스프레드 연산자( ... )\n",
        "arr = np.arange(1,37).reshape(3,2,2,3)\n",
        "arr[0, ... ,0] #3차원과 0차원 사이에 있는 모든 데이터를 선택"
      ],
      "execution_count": null,
      "outputs": [
        {
          "output_type": "execute_result",
          "data": {
            "text/plain": [
              "array([[ 1,  4],\n",
              "       [ 7, 10]])"
            ]
          },
          "metadata": {
            "tags": []
          },
          "execution_count": 55
        }
      ]
    },
    {
      "cell_type": "markdown",
      "metadata": {
        "id": "daf4nyoL8FWy"
      },
      "source": [
        "보통 이미지 데이터를 딥러닝에서 사용하고자 할 때 : `{N. W. H. C)`\n",
        "* `N` : 이미지의 개수\n",
        "* `H` : 세로 픽셀의 개수\n",
        "* `W` : 가로 픽셀의 개수\n",
        "* `C` : 채널수 (컬러 RGB : 3, 흑백 GrayScale :1)"
      ]
    },
    {
      "cell_type": "code",
      "metadata": {
        "id": "m48OOg8Q8hXf"
      },
      "source": [
        "# 예를 들어 가지고 온 이미지 데이터의 모양이 (60000,28,28,1)\n",
        "# 이미지가 60,000장\n",
        "# 이미지의 세로 크기는 28px\n",
        "# 이미지의 가로 크기는 28px\n",
        "# 이미지의 채널은 1채널이다.\n",
        "\n",
        "# 한장의 흑백 이미지를 그릴 때 필요한 정보는 단순하게 세로, 가로 픽셀의 정보만 있으면 된다.\n",
        "# images[0, ..., 0] -> (28,28)"
      ],
      "execution_count": null,
      "outputs": []
    },
    {
      "cell_type": "markdown",
      "metadata": {
        "id": "1tGS6xlZ9DkJ"
      },
      "source": [
        "# 차원수 확장하기\n",
        "* 보통 딥러닝에서 이미지 분석을 하기 위해 `CNN`알고리즘을 활용\n",
        "* `CNN`에 필요한 데이터의 형상이 따로 존재하는데, 이 알고리즘을 활용하기 위한 형상(shape)이 존재\n",
        "* (N, H, W, C)의 형식을 유지해야 한다.\n",
        "    * `N` : 이미지의 개수(Batch_size)\n",
        "    * `H` : 세로 픽셀의 개수\n",
        "    * `W` : 가로 픽셀의 개수\n",
        "    * `C` : 채널수 (컬러 RGB : 3, 흑백 GrayScale :1)\n",
        "---\n",
        "예를 들어 흑백 이미지를 수집 했는데, 이 이미지의 형상 정보(shape)를 확인해 보니 (28,28) 이라면, CNN 알고리즘에 이미지를 집어 넣기 위해서는 (1,28,28,1)의 형태로 만들어 줘야 한다.\n",
        "* numpy의 np.newaxis\n",
        "* tensorflow의 tf.newaxis"
      ]
    },
    {
      "cell_type": "code",
      "metadata": {
        "colab": {
          "base_uri": "https://localhost:8080/"
        },
        "id": "GIoaquX_Cvqb",
        "outputId": "14cc7a34-d889-4573-e4ed-0cd80c1f1d6f"
      },
      "source": [
        "arr = np.random.rand(28,28)\n",
        "arr"
      ],
      "execution_count": null,
      "outputs": [
        {
          "output_type": "execute_result",
          "data": {
            "text/plain": [
              "array([[4.71107503e-01, 3.50027630e-01, 2.87232838e-02, 4.57455416e-01,\n",
              "        3.01861193e-02, 7.67951350e-01, 9.54943725e-02, 3.04613233e-01,\n",
              "        4.48365995e-01, 4.27375201e-01, 4.18709979e-01, 6.55569058e-01,\n",
              "        4.57301813e-02, 2.64715121e-01, 2.66830959e-01, 4.92449255e-01,\n",
              "        9.13997044e-01, 3.94944069e-01, 2.94452162e-01, 9.38968605e-01,\n",
              "        8.92424953e-01, 6.08841606e-01, 7.83298405e-01, 6.17791937e-01,\n",
              "        8.44867165e-01, 9.57370206e-01, 4.73571730e-01, 7.60340846e-01],\n",
              "       [7.97111968e-01, 7.47858900e-01, 7.69487126e-01, 3.93184951e-01,\n",
              "        8.07815716e-01, 2.32723967e-01, 1.20815782e-01, 1.53220627e-02,\n",
              "        7.42776935e-01, 4.87636318e-01, 6.39353074e-01, 2.16187471e-01,\n",
              "        3.53912608e-01, 5.99518199e-02, 8.09516764e-01, 6.63062318e-01,\n",
              "        2.91972370e-01, 3.40123700e-01, 7.36610230e-01, 8.31007297e-01,\n",
              "        5.75996251e-01, 7.06219624e-01, 6.03857074e-01, 7.38787720e-01,\n",
              "        6.09149926e-01, 9.98927298e-01, 8.23137310e-01, 3.97438480e-01],\n",
              "       [3.24915111e-01, 2.86080974e-01, 9.51112445e-02, 1.21674635e-01,\n",
              "        4.67644870e-02, 9.68922668e-02, 8.81662799e-01, 7.54579998e-01,\n",
              "        1.16593398e-01, 4.32383604e-01, 4.35341231e-01, 1.21851970e-01,\n",
              "        5.24911712e-01, 1.87528152e-01, 3.51659189e-01, 9.69883026e-02,\n",
              "        6.99050109e-01, 8.54175410e-01, 6.48502187e-01, 4.51234713e-01,\n",
              "        9.78636936e-01, 7.14387896e-01, 5.12027122e-01, 8.12095884e-01,\n",
              "        8.35059750e-01, 1.00480387e-01, 6.81521196e-01, 3.03337203e-01],\n",
              "       [3.97877528e-01, 5.01770044e-01, 5.20226242e-01, 2.52717718e-02,\n",
              "        5.11532057e-01, 5.74235121e-01, 6.96801283e-01, 5.73873910e-01,\n",
              "        7.65432774e-01, 2.06497412e-01, 6.64168720e-01, 1.68535218e-01,\n",
              "        3.81963118e-01, 9.16293347e-01, 6.11446382e-01, 1.54697033e-01,\n",
              "        8.18984504e-01, 1.10096550e-01, 8.15864993e-01, 8.92576325e-01,\n",
              "        9.00889040e-01, 1.03140465e-01, 8.94221266e-01, 5.44086473e-01,\n",
              "        4.02071550e-01, 2.44232068e-01, 5.74874761e-01, 2.76156992e-01],\n",
              "       [2.09332530e-01, 4.89742104e-01, 8.34602881e-01, 6.31724162e-01,\n",
              "        3.71920702e-01, 8.33021005e-01, 3.89003036e-01, 1.38016797e-01,\n",
              "        3.47955505e-01, 9.59312979e-01, 3.79665190e-02, 3.73576675e-01,\n",
              "        4.87380214e-01, 8.10926843e-02, 1.39881033e-02, 3.67320008e-01,\n",
              "        4.74571401e-01, 4.81022967e-01, 4.98563719e-01, 4.05587759e-01,\n",
              "        8.91959061e-01, 6.27526751e-01, 6.84654673e-01, 2.19202898e-01,\n",
              "        1.97240433e-01, 1.89608759e-01, 6.97803279e-02, 9.79099051e-01],\n",
              "       [5.00347769e-03, 7.82857345e-01, 4.49095060e-02, 1.15198776e-01,\n",
              "        6.93656588e-01, 3.55504255e-01, 5.48981230e-01, 9.88093514e-01,\n",
              "        9.21891596e-01, 1.60477740e-01, 1.66029058e-01, 8.39474077e-01,\n",
              "        5.70234075e-01, 1.96277906e-01, 2.30478247e-01, 2.39920531e-01,\n",
              "        9.37890286e-02, 3.81967643e-01, 9.10652725e-01, 1.87155478e-02,\n",
              "        8.03471610e-01, 2.61533579e-01, 3.32941264e-01, 8.37775639e-01,\n",
              "        8.16266967e-01, 1.41298172e-01, 3.71348965e-01, 7.52356936e-01],\n",
              "       [3.08151825e-01, 5.07292627e-01, 1.86580094e-01, 1.87222123e-01,\n",
              "        3.12027031e-01, 4.47516537e-01, 7.69499089e-01, 4.78736470e-01,\n",
              "        4.55385404e-01, 2.43531721e-01, 2.64964964e-01, 6.49633516e-01,\n",
              "        8.32973801e-01, 2.61680231e-02, 7.99613045e-03, 2.88199233e-01,\n",
              "        6.01960485e-01, 6.62201027e-01, 6.82909514e-01, 3.17356790e-02,\n",
              "        6.62974901e-02, 2.36718283e-01, 5.29363178e-01, 6.93194666e-01,\n",
              "        4.84083197e-01, 7.37784292e-01, 8.65078538e-01, 8.27350426e-01],\n",
              "       [2.38288579e-02, 9.78155702e-01, 3.92612522e-01, 1.71396268e-01,\n",
              "        6.50413249e-01, 4.64334975e-02, 1.64940176e-02, 4.81184711e-01,\n",
              "        9.87666070e-01, 2.47360356e-01, 1.14867599e-01, 3.32607548e-01,\n",
              "        8.23475344e-01, 5.03926540e-01, 6.70189805e-01, 4.63870936e-01,\n",
              "        3.08292188e-03, 1.42651981e-01, 6.39228903e-01, 8.57692381e-01,\n",
              "        6.70976826e-02, 7.68305497e-01, 9.08847664e-01, 5.55664043e-01,\n",
              "        2.11222120e-01, 3.19657609e-01, 3.10362296e-01, 4.84703957e-01],\n",
              "       [3.32078280e-01, 5.01954001e-01, 5.15307617e-01, 3.94553219e-01,\n",
              "        7.26675863e-01, 7.11088589e-01, 8.92605399e-01, 3.24046521e-01,\n",
              "        5.66674655e-01, 5.10521014e-01, 9.51458265e-01, 7.04150129e-01,\n",
              "        9.68964134e-01, 7.39851688e-01, 2.06906906e-01, 5.76890495e-01,\n",
              "        3.39002560e-01, 7.93197367e-02, 1.82569894e-01, 5.14324463e-01,\n",
              "        9.09647187e-01, 5.65338403e-01, 4.73390275e-01, 5.97753757e-01,\n",
              "        4.02516392e-01, 5.15062471e-01, 9.47994460e-01, 2.85874123e-01],\n",
              "       [4.78410911e-01, 1.52476277e-01, 3.99086534e-01, 5.26345665e-02,\n",
              "        8.06834842e-01, 7.92455926e-01, 5.46061270e-01, 8.51251189e-01,\n",
              "        6.53933229e-01, 2.42297584e-01, 7.96966058e-01, 7.20618054e-01,\n",
              "        8.09331905e-01, 5.71692130e-01, 5.76815956e-01, 9.90307709e-01,\n",
              "        7.17253973e-01, 5.54517741e-01, 2.48570453e-01, 4.35638811e-01,\n",
              "        7.85738973e-01, 3.92816163e-02, 3.77509881e-01, 4.67523679e-01,\n",
              "        4.37116637e-01, 8.69253961e-01, 3.66869123e-01, 3.85207224e-01],\n",
              "       [3.32783212e-01, 4.24208387e-01, 4.13788173e-01, 3.01744853e-01,\n",
              "        5.04043328e-01, 7.57198155e-01, 3.31410348e-01, 3.55194349e-01,\n",
              "        7.15047917e-01, 9.64871583e-01, 2.47994496e-02, 2.43497358e-01,\n",
              "        4.30294754e-01, 5.85684403e-01, 6.41002093e-01, 1.06778015e-01,\n",
              "        5.43931481e-02, 4.99879680e-01, 8.30596706e-01, 2.51641647e-01,\n",
              "        9.94366567e-01, 6.71860460e-01, 5.87828120e-01, 5.33368360e-01,\n",
              "        7.70037767e-01, 5.15539950e-02, 4.31900834e-01, 9.18160503e-01],\n",
              "       [7.21237147e-02, 8.87386332e-01, 2.63022899e-01, 7.72999310e-01,\n",
              "        5.16282540e-01, 6.83952069e-01, 6.92881586e-01, 4.62805115e-01,\n",
              "        8.89751711e-01, 2.91615263e-01, 8.82953341e-01, 3.79841007e-01,\n",
              "        2.17503736e-01, 6.09749142e-01, 6.81064427e-01, 5.44412576e-01,\n",
              "        7.37742269e-01, 9.97748488e-01, 9.28331750e-01, 1.83208414e-01,\n",
              "        6.77793113e-01, 7.52734082e-01, 1.80518641e-01, 9.76037924e-02,\n",
              "        6.26292390e-01, 1.25285966e-01, 3.86856312e-01, 6.88238175e-02],\n",
              "       [6.05980536e-01, 3.03521027e-01, 6.60434895e-01, 6.37178989e-01,\n",
              "        5.96050166e-01, 6.84895404e-01, 4.48226903e-01, 7.84877300e-01,\n",
              "        9.17037655e-01, 3.81124996e-01, 1.71637358e-01, 6.54985398e-01,\n",
              "        5.25641679e-01, 7.24336824e-01, 6.56884262e-01, 5.81171643e-01,\n",
              "        8.33155466e-01, 5.58457134e-01, 2.06989835e-01, 4.30132898e-01,\n",
              "        8.44024406e-01, 1.75325209e-02, 2.25901904e-01, 1.36595595e-01,\n",
              "        2.56974769e-01, 6.58798270e-01, 9.07540853e-01, 2.15740854e-01],\n",
              "       [1.49020340e-01, 7.36519854e-01, 8.65696580e-01, 4.19700304e-01,\n",
              "        4.95488706e-01, 1.35223726e-02, 9.70573965e-01, 7.82525207e-01,\n",
              "        2.53988684e-01, 5.18021658e-01, 2.97079931e-01, 7.18865392e-01,\n",
              "        4.41438689e-01, 4.95146443e-01, 7.97467717e-01, 7.78147333e-01,\n",
              "        5.12858659e-01, 8.40375315e-01, 5.57283054e-01, 4.23032393e-01,\n",
              "        9.77451040e-01, 6.97606603e-01, 7.59164308e-01, 3.53806455e-01,\n",
              "        1.49717310e-01, 3.66363393e-01, 1.11240055e-01, 5.12907184e-01],\n",
              "       [8.10354255e-01, 8.78006101e-02, 6.47875736e-01, 8.37329846e-01,\n",
              "        1.89033554e-01, 4.65102299e-01, 7.09450458e-01, 3.21584456e-01,\n",
              "        9.04033848e-02, 4.67405158e-01, 9.63423913e-01, 8.27647074e-01,\n",
              "        8.18421223e-01, 8.22547350e-01, 2.47438923e-01, 5.18328548e-01,\n",
              "        3.96753687e-01, 1.10105731e-01, 8.70903514e-01, 4.98663488e-01,\n",
              "        6.34172315e-01, 2.04494972e-01, 9.77213419e-02, 4.74540612e-01,\n",
              "        1.25646156e-01, 5.02352431e-01, 7.45485886e-01, 3.01324400e-01],\n",
              "       [1.00595457e-02, 6.00762802e-01, 7.64456434e-01, 8.82729249e-01,\n",
              "        6.29501972e-01, 7.40307533e-01, 6.10648365e-02, 4.76721726e-01,\n",
              "        6.29011248e-01, 9.06785978e-01, 4.35021781e-01, 1.40959835e-01,\n",
              "        7.86386861e-01, 7.99146466e-01, 2.87902010e-01, 7.74385120e-01,\n",
              "        7.14878153e-01, 6.63018286e-01, 9.31911116e-01, 2.00125162e-01,\n",
              "        5.54384785e-02, 9.59945337e-01, 1.66847441e-01, 1.71999256e-03,\n",
              "        6.45342065e-01, 7.78597658e-01, 8.11014931e-01, 5.32476472e-02],\n",
              "       [1.83491192e-01, 3.59226542e-01, 1.89619749e-01, 7.23769155e-01,\n",
              "        4.18669214e-01, 5.66968696e-01, 3.72091362e-01, 6.40224464e-01,\n",
              "        6.66725253e-01, 1.24711367e-01, 8.95007889e-01, 2.78793435e-01,\n",
              "        8.90177168e-01, 7.33204691e-01, 8.60484871e-01, 8.54533213e-02,\n",
              "        3.14151195e-01, 2.03168748e-01, 5.39845126e-01, 6.61953016e-01,\n",
              "        6.05548911e-01, 4.75697202e-02, 4.40593675e-01, 9.31141231e-02,\n",
              "        1.89786347e-01, 1.95161532e-01, 5.51475624e-01, 1.89830094e-04],\n",
              "       [5.60102569e-01, 6.76131283e-02, 6.95778328e-01, 6.48787341e-01,\n",
              "        1.16910902e-01, 8.30510895e-01, 9.91878983e-01, 9.24258982e-01,\n",
              "        1.52348511e-01, 2.05684206e-01, 6.51322859e-01, 7.13592423e-01,\n",
              "        7.02796929e-01, 1.00207194e-01, 5.69833529e-01, 4.00603600e-01,\n",
              "        3.23162716e-01, 1.78267942e-01, 9.94564531e-01, 4.24689220e-01,\n",
              "        2.09383495e-02, 1.55472478e-01, 1.45326280e-02, 2.59168125e-01,\n",
              "        1.27798344e-01, 7.90759011e-01, 4.17032813e-01, 2.61385493e-01],\n",
              "       [3.10255768e-01, 4.36300646e-01, 7.50456864e-01, 8.68592177e-01,\n",
              "        9.59657401e-01, 9.86887821e-01, 6.25787466e-01, 9.26290055e-01,\n",
              "        3.58647020e-01, 4.57505797e-03, 1.80410009e-01, 3.36050783e-01,\n",
              "        7.02582671e-01, 2.77064661e-01, 2.88425525e-01, 6.33618217e-01,\n",
              "        2.10291476e-01, 1.45941677e-01, 2.98710049e-01, 4.39867274e-01,\n",
              "        9.31828510e-01, 3.10221412e-02, 1.35905932e-02, 9.43926314e-02,\n",
              "        2.91267012e-02, 4.76640062e-02, 8.59780613e-01, 8.48997299e-01],\n",
              "       [5.34694715e-01, 9.91869584e-01, 8.40313490e-01, 6.92585560e-01,\n",
              "        5.57023201e-01, 8.05958555e-01, 6.94816290e-01, 9.75363155e-01,\n",
              "        5.85074785e-01, 2.67401126e-01, 3.75766411e-01, 8.56506592e-01,\n",
              "        6.76807039e-01, 1.33417680e-01, 2.93182738e-01, 5.05238392e-01,\n",
              "        5.34964969e-01, 3.71345986e-01, 8.81862208e-01, 3.49038687e-01,\n",
              "        6.87801384e-01, 1.02791794e-01, 7.00973415e-01, 3.50313033e-01,\n",
              "        2.68431851e-01, 1.61785407e-01, 9.84463860e-01, 8.43993411e-01],\n",
              "       [5.53120763e-02, 8.41388593e-01, 4.63632267e-01, 6.65023164e-01,\n",
              "        6.02422805e-01, 4.58776217e-01, 5.96430942e-01, 5.29877471e-01,\n",
              "        4.32089653e-01, 7.28437760e-01, 4.70914822e-01, 7.25242479e-01,\n",
              "        9.94447228e-01, 5.21750560e-02, 5.99337928e-01, 5.87678958e-01,\n",
              "        2.03107741e-01, 7.19579572e-01, 3.22767961e-01, 9.91654935e-01,\n",
              "        5.39945426e-01, 8.22167637e-01, 9.89492745e-01, 7.25305411e-01,\n",
              "        5.54221132e-01, 3.01603742e-01, 6.31237138e-02, 5.54773176e-01],\n",
              "       [5.55136162e-01, 1.45414354e-01, 1.16503642e-01, 8.49795549e-01,\n",
              "        5.02184030e-01, 7.88781451e-01, 9.72854102e-01, 9.55156143e-01,\n",
              "        5.73567681e-01, 5.37999587e-01, 7.80155442e-03, 6.47049820e-01,\n",
              "        8.13677212e-01, 2.37306207e-01, 8.29669338e-01, 5.77493573e-01,\n",
              "        1.65499643e-01, 7.54357828e-01, 8.98794644e-02, 6.89793285e-02,\n",
              "        8.17405382e-01, 9.79778927e-01, 7.97812203e-02, 8.24018216e-01,\n",
              "        6.96064773e-01, 2.72462409e-01, 5.22615173e-01, 7.04196314e-01],\n",
              "       [5.17538436e-01, 1.62850943e-01, 2.84539497e-01, 4.70038086e-02,\n",
              "        4.12982325e-01, 9.20371170e-02, 3.66996326e-01, 1.58847423e-01,\n",
              "        8.89530801e-01, 5.57222248e-01, 3.36376471e-02, 7.84493176e-01,\n",
              "        7.40087761e-01, 7.59932278e-01, 1.92063807e-01, 3.36893299e-01,\n",
              "        4.41963443e-01, 9.00192224e-01, 9.45826292e-01, 8.86080632e-01,\n",
              "        8.19995326e-02, 4.99359101e-01, 6.55408035e-01, 1.66336346e-01,\n",
              "        7.80978243e-01, 9.50457985e-01, 3.64306909e-01, 8.40210880e-01],\n",
              "       [7.24953196e-03, 9.21370524e-01, 5.81414080e-01, 3.19230428e-01,\n",
              "        4.95501856e-01, 4.96867944e-01, 3.16261563e-01, 7.91400699e-01,\n",
              "        1.84033987e-01, 4.84348896e-02, 4.97478528e-01, 1.09363635e-01,\n",
              "        3.51167095e-02, 7.94901854e-03, 5.52826913e-01, 6.32267594e-01,\n",
              "        5.83774290e-01, 2.43364014e-01, 1.44109753e-01, 4.98969526e-01,\n",
              "        2.03727161e-01, 3.75242013e-01, 4.68416294e-01, 9.21371319e-01,\n",
              "        5.37210552e-01, 6.69085496e-01, 6.90379596e-01, 1.17744532e-01],\n",
              "       [4.91603232e-01, 7.54016101e-01, 7.80373841e-01, 7.19675609e-01,\n",
              "        6.88381722e-01, 7.52519543e-01, 7.35695127e-01, 4.51016251e-01,\n",
              "        9.54112826e-01, 6.83648214e-01, 5.04979539e-01, 9.68748402e-01,\n",
              "        6.52111988e-02, 2.09144249e-01, 6.84614639e-01, 7.41647878e-01,\n",
              "        4.60281552e-01, 4.85121358e-01, 3.33690355e-01, 3.79590286e-01,\n",
              "        2.84751348e-01, 3.12644247e-01, 4.25731487e-01, 6.35917107e-01,\n",
              "        1.58908913e-01, 4.35770561e-01, 1.97816436e-01, 4.27181067e-01],\n",
              "       [4.69987143e-01, 4.78117223e-01, 9.88680776e-01, 9.36278353e-01,\n",
              "        3.17124177e-01, 8.11414351e-01, 2.61206133e-01, 8.54278302e-01,\n",
              "        7.52897029e-01, 4.91441208e-01, 2.55894750e-02, 2.39618857e-01,\n",
              "        6.94031614e-01, 4.01878722e-01, 6.81113328e-01, 2.62914416e-01,\n",
              "        4.85816708e-01, 6.09415525e-01, 3.47846837e-01, 9.44358744e-01,\n",
              "        9.01592848e-01, 7.15879488e-01, 4.11208628e-01, 5.39477334e-02,\n",
              "        2.82081728e-01, 6.97534929e-01, 9.24244936e-01, 7.44128305e-01],\n",
              "       [8.15293207e-02, 3.73291099e-01, 7.70237593e-01, 2.79531485e-01,\n",
              "        1.39745583e-02, 1.53285089e-01, 2.22944601e-01, 4.92272335e-01,\n",
              "        3.46087307e-01, 4.25346626e-01, 9.44033800e-01, 6.80468060e-01,\n",
              "        2.13038432e-01, 2.50223745e-01, 7.46709706e-01, 4.79082577e-01,\n",
              "        4.01184496e-01, 6.00360807e-01, 8.70292121e-01, 4.73969409e-01,\n",
              "        9.00700418e-01, 9.07006332e-01, 3.71318686e-03, 3.60184602e-01,\n",
              "        2.08123649e-01, 5.84055081e-01, 2.25919817e-01, 2.76009634e-01],\n",
              "       [6.37500701e-01, 7.37948442e-01, 1.44465887e-01, 5.93441537e-01,\n",
              "        6.65492942e-01, 5.69322497e-01, 2.82831196e-01, 5.38385800e-01,\n",
              "        1.17402793e-02, 7.93070161e-01, 6.17051488e-01, 7.94504940e-01,\n",
              "        7.63917258e-01, 7.10907968e-01, 8.75143292e-01, 3.49996147e-01,\n",
              "        7.00467128e-01, 7.65366762e-01, 3.62794826e-01, 4.02361882e-01,\n",
              "        6.69521193e-01, 5.26613235e-01, 6.01287820e-01, 3.07668504e-01,\n",
              "        9.64176434e-01, 2.16818264e-01, 9.51471013e-01, 7.35455457e-01]])"
            ]
          },
          "metadata": {
            "tags": []
          },
          "execution_count": 61
        }
      ]
    },
    {
      "cell_type": "markdown",
      "metadata": {
        "id": "K4TPcyj0DNsg"
      },
      "source": [
        "`(28,28)` 형식의 배열은 `(H,W)`정보만 존재하고 있는 형태 -> '(1,28,28,1) 형태로 만들어 줘야 CNN 레이어에 입력이 가능하다."
      ]
    },
    {
      "cell_type": "code",
      "metadata": {
        "colab": {
          "base_uri": "https://localhost:8080/"
        },
        "id": "qqgTbPiODc5v",
        "outputId": "84c77447-cffe-4572-8fbf-8c67c79ff44b"
      },
      "source": [
        "temp_arr = arr[np.newaxis, :, :, np.newaxis]\n",
        "temp_arr.shape"
      ],
      "execution_count": null,
      "outputs": [
        {
          "output_type": "execute_result",
          "data": {
            "text/plain": [
              "(1, 28, 28, 1)"
            ]
          },
          "metadata": {
            "tags": []
          },
          "execution_count": 62
        }
      ]
    },
    {
      "cell_type": "code",
      "metadata": {
        "colab": {
          "base_uri": "https://localhost:8080/"
        },
        "id": "lnJCzp4XDwzM",
        "outputId": "a22f7306-7226-4915-c1cf-b38a973a596b"
      },
      "source": [
        "temp_arr = arr[np.newaxis, ..., np.newaxis]\n",
        "temp_arr.shape"
      ],
      "execution_count": null,
      "outputs": [
        {
          "output_type": "execute_result",
          "data": {
            "text/plain": [
              "(1, 28, 28, 1)"
            ]
          },
          "metadata": {
            "tags": []
          },
          "execution_count": 65
        }
      ]
    },
    {
      "cell_type": "markdown",
      "metadata": {
        "id": "QGi5XTArD0xw"
      },
      "source": [
        "# 차원 쥐어 짜기\n",
        "* `np.sqeeze`\n",
        "* 개수가 1인 차원의 내용을 없애는 기법"
      ]
    },
    {
      "cell_type": "code",
      "metadata": {
        "colab": {
          "base_uri": "https://localhost:8080/"
        },
        "id": "d0FUSHxKEPaK",
        "outputId": "21c2de9c-f549-4ffb-a8d9-402a0144d95e"
      },
      "source": [
        "temp_squeeze = np.squeeze(temp_arr)\n",
        "temp_squeeze.shape"
      ],
      "execution_count": null,
      "outputs": [
        {
          "output_type": "execute_result",
          "data": {
            "text/plain": [
              "(28, 28)"
            ]
          },
          "metadata": {
            "tags": []
          },
          "execution_count": 67
        }
      ]
    },
    {
      "cell_type": "markdown",
      "metadata": {
        "id": "SCLJwHZXEjlJ"
      },
      "source": [
        "# 배열의 형상 바꾸기\n",
        "* `np.newaxis`를 활용하면 축을 하나 추가하게 된다.(차원 수를 늘린다.)\n",
        "* `np.squeeze`를 활용하면 개수가 1인 차원의 데이터를 삭제(차원 수를 줄인다.)\n",
        "\n",
        "> 평탄화(flatten) : 2차원 이상의 배열을 1차원 배열로 평평하게 펴주는 역할\n",
        "* `ravel` : 원본 배열을 평탄화 시킨 **참조**배열을 만들어 낸다. (이를 View 또는 Reference라고 한다.)\n",
        "* `flatten` : 원본 배열을 평탄화 시킨 **복사된**배열을 만들어 낸다.\n",
        "\n",
        "ravel은 원본 배열에 수정이 가해질 가능성이 있고, flatten은 원본 배열에 영향을 미치지 않는다."
      ]
    },
    {
      "cell_type": "code",
      "metadata": {
        "colab": {
          "base_uri": "https://localhost:8080/"
        },
        "id": "w5dou_XZEzj1",
        "outputId": "1f0182eb-364b-4c32-efc9-731b9f9782fa"
      },
      "source": [
        "x = np.random.randint(15,size=(3,5))\n",
        "print(x.shape)\n",
        "print(x)"
      ],
      "execution_count": null,
      "outputs": [
        {
          "output_type": "stream",
          "text": [
            "(3, 5)\n",
            "[[ 0  7 10  8 13]\n",
            " [11  6 10  5  7]\n",
            " [ 5  2  7  8 14]]\n"
          ],
          "name": "stdout"
        }
      ]
    },
    {
      "cell_type": "markdown",
      "metadata": {
        "id": "FQ4gR--UFtHp"
      },
      "source": [
        "## ravel 사용"
      ]
    },
    {
      "cell_type": "code",
      "metadata": {
        "colab": {
          "base_uri": "https://localhost:8080/"
        },
        "id": "K5bsBHM_F05x",
        "outputId": "49c5365a-7663-48be-af6b-a66e126822b4"
      },
      "source": [
        "temp = np.ravel(x)\n",
        "temp.shape"
      ],
      "execution_count": null,
      "outputs": [
        {
          "output_type": "execute_result",
          "data": {
            "text/plain": [
              "(15,)"
            ]
          },
          "metadata": {
            "tags": []
          },
          "execution_count": 74
        }
      ]
    },
    {
      "cell_type": "markdown",
      "metadata": {
        "id": "M1ys_588F4O9"
      },
      "source": [
        "## flatten 사용"
      ]
    },
    {
      "cell_type": "code",
      "metadata": {
        "colab": {
          "base_uri": "https://localhost:8080/"
        },
        "id": "t8BbSt05JCmn",
        "outputId": "db222b00-9d0f-4c82-990c-470785ef4145"
      },
      "source": [
        "temp = np.ndarray.flatten(x)\n",
        "temp.shape"
      ],
      "execution_count": 77,
      "outputs": [
        {
          "output_type": "execute_result",
          "data": {
            "text/plain": [
              "(15,)"
            ]
          },
          "metadata": {
            "tags": []
          },
          "execution_count": 77
        }
      ]
    },
    {
      "cell_type": "markdown",
      "metadata": {
        "id": "te-unTL7JFNz"
      },
      "source": [
        "데이터를 안전하게 유지하기 위해 flatten사용"
      ]
    },
    {
      "cell_type": "markdown",
      "metadata": {
        "id": "gr19FItUJQ45"
      },
      "source": [
        "# reshape\n",
        "배열의 형상을 재구성하는 것"
      ]
    },
    {
      "cell_type": "code",
      "metadata": {
        "colab": {
          "base_uri": "https://localhost:8080/"
        },
        "id": "R40aRAyIJTw5",
        "outputId": "a054b3d9-536f-4f27-92a7-0b316816ee05"
      },
      "source": [
        "x = np.arange(20)\n",
        "x"
      ],
      "execution_count": 78,
      "outputs": [
        {
          "output_type": "execute_result",
          "data": {
            "text/plain": [
              "array([ 0,  1,  2,  3,  4,  5,  6,  7,  8,  9, 10, 11, 12, 13, 14, 15, 16,\n",
              "       17, 18, 19])"
            ]
          },
          "metadata": {
            "tags": []
          },
          "execution_count": 78
        }
      ]
    },
    {
      "cell_type": "markdown",
      "metadata": {
        "id": "VSiBZgvfKBOc"
      },
      "source": [
        "reshape 팁 : reshape 함수 내의 모든 숫자를 곱했을 때 스칼라 원소의 개수와 같아야 한다."
      ]
    },
    {
      "cell_type": "code",
      "metadata": {
        "colab": {
          "base_uri": "https://localhost:8080/"
        },
        "id": "D3_w6Cn4KEo8",
        "outputId": "4991be67-364e-4354-9f5c-4345dc8f8df5"
      },
      "source": [
        "x.reshape(2,5,2)"
      ],
      "execution_count": 79,
      "outputs": [
        {
          "output_type": "execute_result",
          "data": {
            "text/plain": [
              "array([[[ 0,  1],\n",
              "        [ 2,  3],\n",
              "        [ 4,  5],\n",
              "        [ 6,  7],\n",
              "        [ 8,  9]],\n",
              "\n",
              "       [[10, 11],\n",
              "        [12, 13],\n",
              "        [14, 15],\n",
              "        [16, 17],\n",
              "        [18, 19]]])"
            ]
          },
          "metadata": {
            "tags": []
          },
          "execution_count": 79
        }
      ]
    },
    {
      "cell_type": "markdown",
      "metadata": {
        "id": "gCTFaXUfJXdA"
      },
      "source": [
        "-1을 사용하면 남은 숫자를 자동으로 계산해 준다."
      ]
    },
    {
      "cell_type": "code",
      "metadata": {
        "colab": {
          "base_uri": "https://localhost:8080/"
        },
        "id": "bX7Fge7BKFzy",
        "outputId": "9652657b-af9e-4437-b2b1-8db6388ae33e"
      },
      "source": [
        "x.reshape(2, -1, 2) # -1 위치의 값이 알아서 계산된다. 즉 5로 자동 지정됨"
      ],
      "execution_count": 80,
      "outputs": [
        {
          "output_type": "execute_result",
          "data": {
            "text/plain": [
              "array([[[ 0,  1],\n",
              "        [ 2,  3],\n",
              "        [ 4,  5],\n",
              "        [ 6,  7],\n",
              "        [ 8,  9]],\n",
              "\n",
              "       [[10, 11],\n",
              "        [12, 13],\n",
              "        [14, 15],\n",
              "        [16, 17],\n",
              "        [18, 19]]])"
            ]
          },
          "metadata": {
            "tags": []
          },
          "execution_count": 80
        }
      ]
    },
    {
      "cell_type": "code",
      "metadata": {
        "colab": {
          "base_uri": "https://localhost:8080/"
        },
        "id": "eSxNjW2qKB_G",
        "outputId": "61b69da1-1b3f-42d7-90d3-978b3d997170"
      },
      "source": [
        "# 배열의 스칼라의 개수를 구할 때는 size를 활용\n",
        "x.size"
      ],
      "execution_count": 81,
      "outputs": [
        {
          "output_type": "execute_result",
          "data": {
            "text/plain": [
              "20"
            ]
          },
          "metadata": {
            "tags": []
          },
          "execution_count": 81
        }
      ]
    },
    {
      "cell_type": "markdown",
      "metadata": {
        "id": "jbeCCyGxKWbo"
      },
      "source": [
        "# 브로드캐스팅\n",
        "* 차언 수가 다른 배열끼리 연산\n",
        "* 차원이 달라도 0차원 스칼라의 개수가 똑같으면 연산이 가능\n",
        "* 저차원 배열을 고차원 배열로 **확장**\n",
        "* 수학적으로 따지게 되면, 고차원 배열의 shape과 똑같은 1벡터(ones)를 만들어서 저차원 배열과 곱한 배ㅕㄹ을 만들어서 계산"
      ]
    },
    {
      "cell_type": "code",
      "metadata": {
        "colab": {
          "base_uri": "https://localhost:8080/"
        },
        "id": "45RxtCCnKsO3",
        "outputId": "028e20e5-594a-44e4-fcea-8ce2d415a045"
      },
      "source": [
        "x = np.arange(20).reshape(4,5)\n",
        "y = np.arange(20,40).reshape(4,5)\n",
        "\n",
        "x.shape, y.shape"
      ],
      "execution_count": 82,
      "outputs": [
        {
          "output_type": "execute_result",
          "data": {
            "text/plain": [
              "((4, 5), (4, 5))"
            ]
          },
          "metadata": {
            "tags": []
          },
          "execution_count": 82
        }
      ]
    },
    {
      "cell_type": "code",
      "metadata": {
        "colab": {
          "base_uri": "https://localhost:8080/"
        },
        "id": "Kr36SU63Pqe_",
        "outputId": "7e7d4b55-affa-42fa-b426-fc1987e8289f"
      },
      "source": [
        "x + y"
      ],
      "execution_count": 84,
      "outputs": [
        {
          "output_type": "execute_result",
          "data": {
            "text/plain": [
              "array([[20, 22, 24, 26, 28],\n",
              "       [30, 32, 34, 36, 38],\n",
              "       [40, 42, 44, 46, 48],\n",
              "       [50, 52, 54, 56, 58]])"
            ]
          },
          "metadata": {
            "tags": []
          },
          "execution_count": 84
        }
      ]
    },
    {
      "cell_type": "code",
      "metadata": {
        "colab": {
          "base_uri": "https://localhost:8080/"
        },
        "id": "lr8QkcydPrET",
        "outputId": "ab21c754-3f5f-484a-9085-a4af1def9685"
      },
      "source": [
        "x * y"
      ],
      "execution_count": 85,
      "outputs": [
        {
          "output_type": "execute_result",
          "data": {
            "text/plain": [
              "array([[  0,  21,  44,  69,  96],\n",
              "       [125, 156, 189, 224, 261],\n",
              "       [300, 341, 384, 429, 476],\n",
              "       [525, 576, 629, 684, 741]])"
            ]
          },
          "metadata": {
            "tags": []
          },
          "execution_count": 85
        }
      ]
    },
    {
      "cell_type": "code",
      "metadata": {
        "id": "Bg2dg9OIPs3f"
      },
      "source": [
        "# shape이 다를 때의 연산\n",
        "a = np.arange(12).reshape(4,3) # (4,3)\n",
        "b = np.arange(100,103) #(3,)\n",
        "c = np.arange(1000,1004) #(4,)\n",
        "d = b.reshape(1,3) #(1,3)\n",
        "e = np.arange(0,4).reshape(4,1) # (4,1)\n"
      ],
      "execution_count": 87,
      "outputs": []
    },
    {
      "cell_type": "code",
      "metadata": {
        "colab": {
          "base_uri": "https://localhost:8080/"
        },
        "id": "c1RoMMwIP2It",
        "outputId": "229f1f2c-b11b-4944-ccd5-57f7b6309d18"
      },
      "source": [
        "a + b"
      ],
      "execution_count": 88,
      "outputs": [
        {
          "output_type": "execute_result",
          "data": {
            "text/plain": [
              "array([[100, 102, 104],\n",
              "       [103, 105, 107],\n",
              "       [106, 108, 110],\n",
              "       [109, 111, 113]])"
            ]
          },
          "metadata": {
            "tags": []
          },
          "execution_count": 88
        }
      ]
    },
    {
      "cell_type": "code",
      "metadata": {
        "colab": {
          "base_uri": "https://localhost:8080/"
        },
        "id": "g44X67ZHQn-8",
        "outputId": "9cfda308-8ffa-490b-e144-f252a5fdbc01"
      },
      "source": [
        "a + e"
      ],
      "execution_count": 90,
      "outputs": [
        {
          "output_type": "execute_result",
          "data": {
            "text/plain": [
              "array([[ 0,  1,  2],\n",
              "       [ 4,  5,  6],\n",
              "       [ 8,  9, 10],\n",
              "       [12, 13, 14]])"
            ]
          },
          "metadata": {
            "tags": []
          },
          "execution_count": 90
        }
      ]
    },
    {
      "cell_type": "markdown",
      "metadata": {
        "id": "Im_9vp88Q0MP"
      },
      "source": [
        "# 전치행렬 만들기\n",
        "* 행렬 $A$의 행과 열의 인덱스를 바꾼 것을 전치행렬이라고 한다.\n",
        "* $A_{(i,j)}$의 인덱스의 위치를$A_{(j,i)}$로 바꾼 것\n",
        "* Transpose 라고 한다."
      ]
    },
    {
      "cell_type": "code",
      "metadata": {
        "colab": {
          "base_uri": "https://localhost:8080/"
        },
        "id": "ZElJXUB3TRXM",
        "outputId": "c408ba59-5536-4fc8-a612-7906c35d4002"
      },
      "source": [
        "A = np.arange(6).reshape(2,3)\n",
        "A"
      ],
      "execution_count": 91,
      "outputs": [
        {
          "output_type": "execute_result",
          "data": {
            "text/plain": [
              "array([[0, 1, 2],\n",
              "       [3, 4, 5]])"
            ]
          },
          "metadata": {
            "tags": []
          },
          "execution_count": 91
        }
      ]
    },
    {
      "cell_type": "code",
      "metadata": {
        "colab": {
          "base_uri": "https://localhost:8080/"
        },
        "id": "wvCfa6wwTXd9",
        "outputId": "f1ffb5ec-f888-48c4-d65d-590f298f9839"
      },
      "source": [
        "# ndarray에서 .T만 사용하면 전치행렬을 만들 수 있다.\n",
        "A.T"
      ],
      "execution_count": 93,
      "outputs": [
        {
          "output_type": "execute_result",
          "data": {
            "text/plain": [
              "array([[0, 3],\n",
              "       [1, 4],\n",
              "       [2, 5]])"
            ]
          },
          "metadata": {
            "tags": []
          },
          "execution_count": 93
        }
      ]
    },
    {
      "cell_type": "code",
      "metadata": {
        "colab": {
          "base_uri": "https://localhost:8080/"
        },
        "id": "aIHIGaCATczd",
        "outputId": "f86b986a-c6ca-4505-e855-68fcb72c3fd7"
      },
      "source": [
        "# 벡터의 전치는 가능 할까?\n",
        "A = np.arange(6)\n",
        "A.T.shape\n",
        "# 1차원은 전치가 불가능 하다."
      ],
      "execution_count": 102,
      "outputs": [
        {
          "output_type": "execute_result",
          "data": {
            "text/plain": [
              "(6,)"
            ]
          },
          "metadata": {
            "tags": []
          },
          "execution_count": 102
        }
      ]
    },
    {
      "cell_type": "code",
      "metadata": {
        "colab": {
          "base_uri": "https://localhost:8080/"
        },
        "id": "8YXqsoeYToT0",
        "outputId": "e1608ba1-5db5-4a23-cd2d-d18f9d35b5cc"
      },
      "source": [
        "A = A[np.newaxis,:]\n",
        "A.T.shape"
      ],
      "execution_count": 103,
      "outputs": [
        {
          "output_type": "execute_result",
          "data": {
            "text/plain": [
              "(6, 1)"
            ]
          },
          "metadata": {
            "tags": []
          },
          "execution_count": 103
        }
      ]
    }
  ]
}
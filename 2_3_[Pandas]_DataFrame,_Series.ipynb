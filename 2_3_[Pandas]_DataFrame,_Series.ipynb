{
  "nbformat": 4,
  "nbformat_minor": 0,
  "metadata": {
    "colab": {
      "name": "2 - 3 [Pandas] DataFrame, Series.ipynb",
      "provenance": [],
      "collapsed_sections": [],
      "toc_visible": true,
      "authorship_tag": "ABX9TyNhpidgmSXeNeUuRlK14HIi",
      "include_colab_link": true
    },
    "kernelspec": {
      "name": "python3",
      "display_name": "Python 3"
    },
    "language_info": {
      "name": "python"
    }
  },
  "cells": [
    {
      "cell_type": "markdown",
      "metadata": {
        "id": "view-in-github",
        "colab_type": "text"
      },
      "source": [
        "<a href=\"https://colab.research.google.com/github/GNuSeekK/ICTCOG/blob/main/2_3_%5BPandas%5D_DataFrame%2C_Series.ipynb\" target=\"_parent\"><img src=\"https://colab.research.google.com/assets/colab-badge.svg\" alt=\"Open In Colab\"/></a>"
      ]
    },
    {
      "cell_type": "code",
      "metadata": {
        "id": "GIua31O-bpa2"
      },
      "source": [
        "import pandas as pd"
      ],
      "execution_count": null,
      "outputs": []
    },
    {
      "cell_type": "markdown",
      "metadata": {
        "id": "vjmk29rAdn5W"
      },
      "source": [
        "# Pandas의 Series, DataFrame\n",
        "* 한 종류의 데이터를 모아 놓은 것 - Series\n",
        "* Series가 여러 개 모이면 DataFrame이 된다."
      ]
    },
    {
      "cell_type": "markdown",
      "metadata": {
        "id": "5S7KV_8VelnQ"
      },
      "source": [
        "## Series"
      ]
    },
    {
      "cell_type": "code",
      "metadata": {
        "colab": {
          "base_uri": "https://localhost:8080/"
        },
        "id": "Y9EZbJvOeAfZ",
        "outputId": "c8072022-c78f-42a6-e57b-6939234c106c"
      },
      "source": [
        "pd.Series([1,2,3,4])"
      ],
      "execution_count": null,
      "outputs": [
        {
          "output_type": "execute_result",
          "data": {
            "text/plain": [
              "0    1\n",
              "1    2\n",
              "2    3\n",
              "3    4\n",
              "dtype: int64"
            ]
          },
          "metadata": {
            "tags": []
          },
          "execution_count": 2
        }
      ]
    },
    {
      "cell_type": "code",
      "metadata": {
        "colab": {
          "base_uri": "https://localhost:8080/"
        },
        "id": "6y1fLlKoeD0F",
        "outputId": "79366e11-1818-4e27-c993-7140992c7f1f"
      },
      "source": [
        "type(pd.Series([1,2,3,4]))"
      ],
      "execution_count": null,
      "outputs": [
        {
          "output_type": "execute_result",
          "data": {
            "text/plain": [
              "pandas.core.series.Series"
            ]
          },
          "metadata": {
            "tags": []
          },
          "execution_count": 3
        }
      ]
    },
    {
      "cell_type": "markdown",
      "metadata": {
        "id": "O72D409aeiSQ"
      },
      "source": [
        "## DataFrame\n",
        "* Series가 여러 개 모여서 하나의 데이터 시트를 표현하면 DataFrame이 된다."
      ]
    },
    {
      "cell_type": "markdown",
      "metadata": {
        "id": "n3zeYUYhesY-"
      },
      "source": [
        "### 방법 1 : list로만 만들기\n",
        "* 컬럼의 이름을 따로 지정해야 할 상황이 생김 -> 권장 x"
      ]
    },
    {
      "cell_type": "code",
      "metadata": {
        "colab": {
          "base_uri": "https://localhost:8080/",
          "height": 137
        },
        "id": "pljuLMLyfQTR",
        "outputId": "c925e4d6-b66a-4691-d1f9-ddddd35c6096"
      },
      "source": [
        "sample_data = [['소민호', 34, 180.0],\n",
        "               ['이기성', 25, 170.1],\n",
        "               ['박땡땡', 28, 183.2]]\n",
        "pd.DataFrame(sample_data)"
      ],
      "execution_count": null,
      "outputs": [
        {
          "output_type": "execute_result",
          "data": {
            "text/html": [
              "<div>\n",
              "<style scoped>\n",
              "    .dataframe tbody tr th:only-of-type {\n",
              "        vertical-align: middle;\n",
              "    }\n",
              "\n",
              "    .dataframe tbody tr th {\n",
              "        vertical-align: top;\n",
              "    }\n",
              "\n",
              "    .dataframe thead th {\n",
              "        text-align: right;\n",
              "    }\n",
              "</style>\n",
              "<table border=\"1\" class=\"dataframe\">\n",
              "  <thead>\n",
              "    <tr style=\"text-align: right;\">\n",
              "      <th></th>\n",
              "      <th>0</th>\n",
              "      <th>1</th>\n",
              "      <th>2</th>\n",
              "    </tr>\n",
              "  </thead>\n",
              "  <tbody>\n",
              "    <tr>\n",
              "      <th>0</th>\n",
              "      <td>소민호</td>\n",
              "      <td>34</td>\n",
              "      <td>180.0</td>\n",
              "    </tr>\n",
              "    <tr>\n",
              "      <th>1</th>\n",
              "      <td>이기성</td>\n",
              "      <td>25</td>\n",
              "      <td>170.1</td>\n",
              "    </tr>\n",
              "    <tr>\n",
              "      <th>2</th>\n",
              "      <td>박땡땡</td>\n",
              "      <td>28</td>\n",
              "      <td>183.2</td>\n",
              "    </tr>\n",
              "  </tbody>\n",
              "</table>\n",
              "</div>"
            ],
            "text/plain": [
              "     0   1      2\n",
              "0  소민호  34  180.0\n",
              "1  이기성  25  170.1\n",
              "2  박땡땡  28  183.2"
            ]
          },
          "metadata": {
            "tags": []
          },
          "execution_count": 5
        }
      ]
    },
    {
      "cell_type": "code",
      "metadata": {
        "colab": {
          "base_uri": "https://localhost:8080/",
          "height": 137
        },
        "id": "4D-jshiggMh5",
        "outputId": "d60ce181-5c7a-4b54-9ff2-d300489e4977"
      },
      "source": [
        "df1 = pd.DataFrame(sample_data)\n",
        "df1"
      ],
      "execution_count": null,
      "outputs": [
        {
          "output_type": "execute_result",
          "data": {
            "text/html": [
              "<div>\n",
              "<style scoped>\n",
              "    .dataframe tbody tr th:only-of-type {\n",
              "        vertical-align: middle;\n",
              "    }\n",
              "\n",
              "    .dataframe tbody tr th {\n",
              "        vertical-align: top;\n",
              "    }\n",
              "\n",
              "    .dataframe thead th {\n",
              "        text-align: right;\n",
              "    }\n",
              "</style>\n",
              "<table border=\"1\" class=\"dataframe\">\n",
              "  <thead>\n",
              "    <tr style=\"text-align: right;\">\n",
              "      <th></th>\n",
              "      <th>0</th>\n",
              "      <th>1</th>\n",
              "      <th>2</th>\n",
              "    </tr>\n",
              "  </thead>\n",
              "  <tbody>\n",
              "    <tr>\n",
              "      <th>0</th>\n",
              "      <td>소민호</td>\n",
              "      <td>34</td>\n",
              "      <td>180.0</td>\n",
              "    </tr>\n",
              "    <tr>\n",
              "      <th>1</th>\n",
              "      <td>이기성</td>\n",
              "      <td>25</td>\n",
              "      <td>170.1</td>\n",
              "    </tr>\n",
              "    <tr>\n",
              "      <th>2</th>\n",
              "      <td>박땡땡</td>\n",
              "      <td>28</td>\n",
              "      <td>183.2</td>\n",
              "    </tr>\n",
              "  </tbody>\n",
              "</table>\n",
              "</div>"
            ],
            "text/plain": [
              "     0   1      2\n",
              "0  소민호  34  180.0\n",
              "1  이기성  25  170.1\n",
              "2  박땡땡  28  183.2"
            ]
          },
          "metadata": {
            "tags": []
          },
          "execution_count": 6
        }
      ]
    },
    {
      "cell_type": "code",
      "metadata": {
        "colab": {
          "base_uri": "https://localhost:8080/",
          "height": 137
        },
        "id": "Kn8sPDtWgmTE",
        "outputId": "5ec664a6-a4b1-4de1-9a30-fe65e3e466e6"
      },
      "source": [
        "df1.columns = ['이름', '나이', '키']\n",
        "df1"
      ],
      "execution_count": null,
      "outputs": [
        {
          "output_type": "execute_result",
          "data": {
            "text/html": [
              "<div>\n",
              "<style scoped>\n",
              "    .dataframe tbody tr th:only-of-type {\n",
              "        vertical-align: middle;\n",
              "    }\n",
              "\n",
              "    .dataframe tbody tr th {\n",
              "        vertical-align: top;\n",
              "    }\n",
              "\n",
              "    .dataframe thead th {\n",
              "        text-align: right;\n",
              "    }\n",
              "</style>\n",
              "<table border=\"1\" class=\"dataframe\">\n",
              "  <thead>\n",
              "    <tr style=\"text-align: right;\">\n",
              "      <th></th>\n",
              "      <th>이름</th>\n",
              "      <th>나이</th>\n",
              "      <th>키</th>\n",
              "    </tr>\n",
              "  </thead>\n",
              "  <tbody>\n",
              "    <tr>\n",
              "      <th>0</th>\n",
              "      <td>소민호</td>\n",
              "      <td>34</td>\n",
              "      <td>180.0</td>\n",
              "    </tr>\n",
              "    <tr>\n",
              "      <th>1</th>\n",
              "      <td>이기성</td>\n",
              "      <td>25</td>\n",
              "      <td>170.1</td>\n",
              "    </tr>\n",
              "    <tr>\n",
              "      <th>2</th>\n",
              "      <td>박땡땡</td>\n",
              "      <td>28</td>\n",
              "      <td>183.2</td>\n",
              "    </tr>\n",
              "  </tbody>\n",
              "</table>\n",
              "</div>"
            ],
            "text/plain": [
              "    이름  나이      키\n",
              "0  소민호  34  180.0\n",
              "1  이기성  25  170.1\n",
              "2  박땡땡  28  183.2"
            ]
          },
          "metadata": {
            "tags": []
          },
          "execution_count": 7
        }
      ]
    },
    {
      "cell_type": "markdown",
      "metadata": {
        "id": "AtDW3EovhCw1"
      },
      "source": [
        "### 방법 2 : dict로 만들기 - ver 1\n",
        "* 자주 사용"
      ]
    },
    {
      "cell_type": "code",
      "metadata": {
        "id": "rVjN1wLGhUDI"
      },
      "source": [
        "# dict의 키 - 컬럼의 이름\n",
        "# dict의 value - '반드시' 리스트로 이루어져 있어야 한다.\n",
        "# 모든 value의 리스트는 반드시 길이가 맞아야 한다."
      ],
      "execution_count": null,
      "outputs": []
    },
    {
      "cell_type": "code",
      "metadata": {
        "colab": {
          "base_uri": "https://localhost:8080/",
          "height": 137
        },
        "id": "Ep265eU7hgOG",
        "outputId": "1af85589-205d-49d2-d718-082d8ee5a104"
      },
      "source": [
        "sample_data = {\n",
        "    '이름' : ['소민호','임땡땡','김땡땡'],\n",
        "    '나이' : [34,26,20],\n",
        "    '키' : [180.1,170.2,173.5]\n",
        "}\n",
        "pd.DataFrame(sample_data)"
      ],
      "execution_count": null,
      "outputs": [
        {
          "output_type": "execute_result",
          "data": {
            "text/html": [
              "<div>\n",
              "<style scoped>\n",
              "    .dataframe tbody tr th:only-of-type {\n",
              "        vertical-align: middle;\n",
              "    }\n",
              "\n",
              "    .dataframe tbody tr th {\n",
              "        vertical-align: top;\n",
              "    }\n",
              "\n",
              "    .dataframe thead th {\n",
              "        text-align: right;\n",
              "    }\n",
              "</style>\n",
              "<table border=\"1\" class=\"dataframe\">\n",
              "  <thead>\n",
              "    <tr style=\"text-align: right;\">\n",
              "      <th></th>\n",
              "      <th>이름</th>\n",
              "      <th>나이</th>\n",
              "      <th>키</th>\n",
              "    </tr>\n",
              "  </thead>\n",
              "  <tbody>\n",
              "    <tr>\n",
              "      <th>0</th>\n",
              "      <td>소민호</td>\n",
              "      <td>34</td>\n",
              "      <td>180.1</td>\n",
              "    </tr>\n",
              "    <tr>\n",
              "      <th>1</th>\n",
              "      <td>임땡땡</td>\n",
              "      <td>26</td>\n",
              "      <td>170.2</td>\n",
              "    </tr>\n",
              "    <tr>\n",
              "      <th>2</th>\n",
              "      <td>김땡땡</td>\n",
              "      <td>20</td>\n",
              "      <td>173.5</td>\n",
              "    </tr>\n",
              "  </tbody>\n",
              "</table>\n",
              "</div>"
            ],
            "text/plain": [
              "    이름  나이      키\n",
              "0  소민호  34  180.1\n",
              "1  임땡땡  26  170.2\n",
              "2  김땡땡  20  173.5"
            ]
          },
          "metadata": {
            "tags": []
          },
          "execution_count": 11
        }
      ]
    },
    {
      "cell_type": "markdown",
      "metadata": {
        "id": "ArtxHLHkiCyO"
      },
      "source": [
        "### 방법 2 : dict로 만들기 - ver 2\n",
        "* json 크롤링 했을 때, 데이터를 바로 DataFrame화 시키고 싶을 때 사용\n",
        "* json을 이용해 데이터를 가져올 때 일반적인 모습\n",
        "```javascript\n",
        "json_data = {\n",
        "            \"result\" : [\n",
        "                {\n",
        "                    '이름' : '소민호'\n",
        "                    '나이' : 34\n",
        "                    '키' : 180.1\n",
        "                },\n",
        "                {\n",
        "                    ...\n",
        "                },\n",
        "                {\n",
        "                    ...\n",
        "                }\n",
        "            ]\n",
        "            ...\n",
        "        }\n",
        "```\n",
        "___\n",
        "```python\n",
        "result = json_data['result']\n",
        "```"
      ]
    },
    {
      "cell_type": "code",
      "metadata": {
        "colab": {
          "base_uri": "https://localhost:8080/",
          "height": 137
        },
        "id": "N3IftFgNkIMN",
        "outputId": "de89635d-425a-4556-9afc-cd15bb220343"
      },
      "source": [
        "sample_data = [\n",
        "  {\n",
        "    \"이름\" : \"소민호\",\n",
        "    \"나이\" : 34,\n",
        "    \"키\": 180.1\n",
        "  },\n",
        "  {\n",
        "    \"이름\": \"김땡땡\",\n",
        "    \"나이\" : 33,\n",
        "    \"키\": 175.5\n",
        "  },\n",
        "  {\n",
        "    \"이름\" : \"박땡땡\",\n",
        "    \"나이\" : 28,\n",
        "    \"키\": 183.2\n",
        "  }\n",
        "]\n",
        "\n",
        "pd.DataFrame(sample_data)"
      ],
      "execution_count": null,
      "outputs": [
        {
          "output_type": "execute_result",
          "data": {
            "text/html": [
              "<div>\n",
              "<style scoped>\n",
              "    .dataframe tbody tr th:only-of-type {\n",
              "        vertical-align: middle;\n",
              "    }\n",
              "\n",
              "    .dataframe tbody tr th {\n",
              "        vertical-align: top;\n",
              "    }\n",
              "\n",
              "    .dataframe thead th {\n",
              "        text-align: right;\n",
              "    }\n",
              "</style>\n",
              "<table border=\"1\" class=\"dataframe\">\n",
              "  <thead>\n",
              "    <tr style=\"text-align: right;\">\n",
              "      <th></th>\n",
              "      <th>이름</th>\n",
              "      <th>나이</th>\n",
              "      <th>키</th>\n",
              "    </tr>\n",
              "  </thead>\n",
              "  <tbody>\n",
              "    <tr>\n",
              "      <th>0</th>\n",
              "      <td>소민호</td>\n",
              "      <td>34</td>\n",
              "      <td>180.1</td>\n",
              "    </tr>\n",
              "    <tr>\n",
              "      <th>1</th>\n",
              "      <td>김땡땡</td>\n",
              "      <td>33</td>\n",
              "      <td>175.5</td>\n",
              "    </tr>\n",
              "    <tr>\n",
              "      <th>2</th>\n",
              "      <td>박땡땡</td>\n",
              "      <td>28</td>\n",
              "      <td>183.2</td>\n",
              "    </tr>\n",
              "  </tbody>\n",
              "</table>\n",
              "</div>"
            ],
            "text/plain": [
              "    이름  나이      키\n",
              "0  소민호  34  180.1\n",
              "1  김땡땡  33  175.5\n",
              "2  박땡땡  28  183.2"
            ]
          },
          "metadata": {
            "tags": []
          },
          "execution_count": 12
        }
      ]
    },
    {
      "cell_type": "code",
      "metadata": {
        "id": "3h4HnLn_kQS4"
      },
      "source": [
        ""
      ],
      "execution_count": null,
      "outputs": []
    }
  ]
}